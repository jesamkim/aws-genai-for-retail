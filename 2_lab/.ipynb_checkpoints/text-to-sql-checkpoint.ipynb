{
 "cells": [
  {
   "cell_type": "markdown",
   "metadata": {},
   "source": [
    "# Amazon Bedrock과 LangChain을 이용한 \"비즈니스 데이터 분석을 위한 자연어 기반 BI\"\n",
    "\n",
    "---\n",
    "\n",
    "이 노트북에서는 비즈니스 데이터 분석을 위한 자연어 기반 BI 구현하기 위한 생성형 AI 기반의 Text-to-SQL 기능을 위해 [Amazon Bedrock](https://aws.amazon.com/bedrock/)과 [LangChain](https://www.langchain.com/)을 사용합니다.\n",
    "\n",
    "Text-to-SQL 기능을 이용한다면 자연어만을 사용해서 구조화된 정보를 보유하고 있는 SQL 데이터베이스에 LLM을 연결하여 특정 비즈니스 데이터에 대한 답을 얻을 수 있습니다. 이때 LLM은 질문에 대한 답을 추출을 위해 데이터베이스에 초점을 맞추게 되며 SQL을 통해 데이터베이스에서 제공하는 정확한 정보를 반환할 수 있습니다. LangChain은 LLM을 다른 데이터소스로 연결할 수 있도록 하는 기능을 제공하여 개발자는 복잡한 애플리케이션을 쉽게 만들 수 있습니다.\n",
    "\n",
    "이 노트북에서는 편의상 빠른 실습을 위해 로컬 데이터베이스로 Sqlite를 사용하며 데이터베이스로 연결하기 위해 LangChain을 사용합니다.\n",
    "노트북은 아래와 같은 구성으로 이루어져있습니다.\n",
    "1. Sqlite 데이터베이스의 데이터 확인\n",
    "2. LangChain의 SQLDatabaseChain 사용 \n",
    "\n",
    "본 노트북에서 사용되는 일반적인 리테일 회사에서 사용될 수 있는 가상의 데이터를 참고했습니다.\n",
    "- 주문 정보\n",
    "- 제품 정보\n",
    "- 제품 카테고리 정보\n",
    "- 고객 정보\n",
    "\n",
    "Amazon Bedrock과 LangChain을 이용한 Text-to-SQL 구조는 아래 다이어그램을 참조하세요.\n",
    "\n",
    "<img src=\"images/tts-architecture.png\" width=\"800\"/>\n",
    "\n",
    "Image credits: \n",
    "\n",
    "---"
   ]
  },
  {
   "cell_type": "code",
   "execution_count": 4,
   "metadata": {
    "tags": []
   },
   "outputs": [
    {
     "name": "stdout",
     "output_type": "stream",
     "text": [
      "Requirement already satisfied: pip in /opt/conda/lib/python3.10/site-packages (23.2.1)\n",
      "Collecting pip\n",
      "  Obtaining dependency information for pip from https://files.pythonhosted.org/packages/47/6a/453160888fab7c6a432a6e25f8afe6256d0d9f2cbd25971021da6491d899/pip-23.3.1-py3-none-any.whl.metadata\n",
      "  Downloading pip-23.3.1-py3-none-any.whl.metadata (3.5 kB)\n",
      "Downloading pip-23.3.1-py3-none-any.whl (2.1 MB)\n",
      "\u001b[2K   \u001b[90m━━━━━━━━━━━━━━━━━━━━━━━━━━━━━━━━━━━━━━━━\u001b[0m \u001b[32m2.1/2.1 MB\u001b[0m \u001b[31m16.8 MB/s\u001b[0m eta \u001b[36m0:00:00\u001b[0m00:01\u001b[0m00:01\u001b[0m\n",
      "\u001b[?25hInstalling collected packages: pip\n",
      "  Attempting uninstall: pip\n",
      "    Found existing installation: pip 23.2.1\n",
      "    Uninstalling pip-23.2.1:\n",
      "      Successfully uninstalled pip-23.2.1\n",
      "Successfully installed pip-23.3.1\n",
      "\u001b[33mWARNING: Running pip as the 'root' user can result in broken permissions and conflicting behaviour with the system package manager. It is recommended to use a virtual environment instead: https://pip.pypa.io/warnings/venv\u001b[0m\u001b[33m\n",
      "\u001b[0mNote: you may need to restart the kernel to use updated packages.\n",
      "\u001b[33mWARNING: Running pip as the 'root' user can result in broken permissions and conflicting behaviour with the system package manager. It is recommended to use a virtual environment instead: https://pip.pypa.io/warnings/venv\u001b[0m\u001b[33m\n",
      "\u001b[0mNote: you may need to restart the kernel to use updated packages.\n"
     ]
    }
   ],
   "source": [
    "%pip install --upgrade pip\n",
    "%pip install -U --quiet boto3 langchain langchain_experimental # --report -"
   ]
  },
  {
   "cell_type": "code",
   "execution_count": 5,
   "metadata": {
    "tags": []
   },
   "outputs": [],
   "source": [
    "from langchain import SQLDatabase\n",
    "from langchain_experimental.sql import SQLDatabaseChain\n",
    "\n",
    "import os\n",
    "import boto3"
   ]
  },
  {
   "cell_type": "code",
   "execution_count": 6,
   "metadata": {
    "tags": []
   },
   "outputs": [],
   "source": [
    "os.environ[\"AWS_DEFAULT_REGION\"] = \"us-east-1\"  # E.g. \"us-east-1\"\n",
    "os.environ[\"BEDROCK_ENDPOINT_URL\"] = \"https://bedrock-runtime.us-east-1.amazonaws.com\"  # E.g. \"https://...\""
   ]
  },
  {
   "cell_type": "code",
   "execution_count": 7,
   "metadata": {
    "tags": []
   },
   "outputs": [],
   "source": [
    "session = boto3.Session(\n",
    "    profile_name=os.environ.get(\"AWS_PROFILE\")\n",
    ") # sets the profile name to use for AWS credentials\n",
    "\n",
    "bedrock = session.client(\n",
    "    service_name='bedrock-runtime', # creates a Bedrock client\n",
    "    region_name=os.environ.get(\"AWS_DEFAULT_REGION\"),\n",
    "    endpoint_url=os.environ.get(\"BEDROCK_ENDPOINT_URL\")\n",
    ") "
   ]
  },
  {
   "cell_type": "code",
   "execution_count": 8,
   "metadata": {
    "tags": []
   },
   "outputs": [],
   "source": [
    "from langchain.llms.bedrock import Bedrock\n",
    "\n",
    "# - create the Anthropic Model\n",
    "llm = Bedrock(model_id=\"anthropic.claude-v2\", client=bedrock, model_kwargs={'max_tokens_to_sample':1000, 'temperature': 0})"
   ]
  },
  {
   "cell_type": "markdown",
   "metadata": {
    "tags": []
   },
   "source": [
    "## Sqlite 연결과 데이터베이스\n",
    "\n",
    "LangChain은 데이터베이스 연결을 위해 Python ORM 라이브러리인 SQLAlchemy를 이용합니다. 따라서 본 실습에 사용된 Sqlite 외에도 Amazon RDS, Amazon Redshift, MS SQL, MySQL, MariaDB, PostgreSQL, Oracle SQL, Databricks 등 다양한 데이터베이스를 이용할 수 있습니다."
   ]
  },
  {
   "cell_type": "code",
   "execution_count": 95,
   "metadata": {
    "tags": []
   },
   "outputs": [
    {
     "name": "stdout",
     "output_type": "stream",
     "text": [
      "\u001b[33mWARNING: Running pip as the 'root' user can result in broken permissions and conflicting behaviour with the system package manager. It is recommended to use a virtual environment instead: https://pip.pypa.io/warnings/venv\u001b[0m\u001b[33m\n",
      "\u001b[0mNote: you may need to restart the kernel to use updated packages.\n",
      "Collecting SQLAlchemy==1.*\n",
      "  Using cached SQLAlchemy-1.4.50-cp310-cp310-manylinux_2_5_x86_64.manylinux1_x86_64.manylinux_2_17_x86_64.manylinux2014_x86_64.whl.metadata (10.0 kB)\n",
      "Requirement already satisfied: greenlet!=0.4.17 in /opt/conda/lib/python3.10/site-packages (from SQLAlchemy==1.*) (1.1.1)\n",
      "Using cached SQLAlchemy-1.4.50-cp310-cp310-manylinux_2_5_x86_64.manylinux1_x86_64.manylinux_2_17_x86_64.manylinux2014_x86_64.whl (1.6 MB)\n",
      "Installing collected packages: SQLAlchemy\n",
      "  Attempting uninstall: SQLAlchemy\n",
      "    Found existing installation: SQLAlchemy 2.0.23\n",
      "    Uninstalling SQLAlchemy-2.0.23:\n",
      "      Successfully uninstalled SQLAlchemy-2.0.23\n",
      "\u001b[31mERROR: pip's dependency resolver does not currently take into account all the packages that are installed. This behaviour is the source of the following dependency conflicts.\n",
      "ipython-sql 0.5.0 requires sqlalchemy>=2.0, but you have sqlalchemy 1.4.50 which is incompatible.\u001b[0m\u001b[31m\n",
      "\u001b[0mSuccessfully installed SQLAlchemy-1.4.50\n",
      "\u001b[33mWARNING: Running pip as the 'root' user can result in broken permissions and conflicting behaviour with the system package manager. It is recommended to use a virtual environment instead: https://pip.pypa.io/warnings/venv\u001b[0m\u001b[33m\n",
      "\u001b[0mNote: you may need to restart the kernel to use updated packages.\n"
     ]
    },
    {
     "data": {
      "text/html": [
       "<div>\n",
       "<style scoped>\n",
       "    .dataframe tbody tr th:only-of-type {\n",
       "        vertical-align: middle;\n",
       "    }\n",
       "\n",
       "    .dataframe tbody tr th {\n",
       "        vertical-align: top;\n",
       "    }\n",
       "\n",
       "    .dataframe thead th {\n",
       "        text-align: right;\n",
       "    }\n",
       "</style>\n",
       "<table border=\"1\" class=\"dataframe\">\n",
       "  <thead>\n",
       "    <tr style=\"text-align: right;\">\n",
       "      <th></th>\n",
       "      <th>product_name</th>\n",
       "      <th>product_category</th>\n",
       "      <th>product_id</th>\n",
       "    </tr>\n",
       "  </thead>\n",
       "  <tbody>\n",
       "    <tr>\n",
       "      <th>0</th>\n",
       "      <td>chocolate sandwich cookies</td>\n",
       "      <td>cookies cakes</td>\n",
       "      <td>P1</td>\n",
       "    </tr>\n",
       "    <tr>\n",
       "      <th>1</th>\n",
       "      <td>all-seasons salt</td>\n",
       "      <td>spices seasonings</td>\n",
       "      <td>P2</td>\n",
       "    </tr>\n",
       "    <tr>\n",
       "      <th>2</th>\n",
       "      <td>robust golden unsweetened oolong tea</td>\n",
       "      <td>tea</td>\n",
       "      <td>P3</td>\n",
       "    </tr>\n",
       "    <tr>\n",
       "      <th>3</th>\n",
       "      <td>smart ones classic favorites mini rigatoni wit...</td>\n",
       "      <td>frozen meals</td>\n",
       "      <td>P4</td>\n",
       "    </tr>\n",
       "    <tr>\n",
       "      <th>4</th>\n",
       "      <td>pure coconut water with orange</td>\n",
       "      <td>juice nectars</td>\n",
       "      <td>P5</td>\n",
       "    </tr>\n",
       "  </tbody>\n",
       "</table>\n",
       "</div>"
      ],
      "text/plain": [
       "                                        product_name   product_category  \\\n",
       "0                         chocolate sandwich cookies      cookies cakes   \n",
       "1                                   all-seasons salt  spices seasonings   \n",
       "2               robust golden unsweetened oolong tea                tea   \n",
       "3  smart ones classic favorites mini rigatoni wit...       frozen meals   \n",
       "4                     pure coconut water with orange      juice nectars   \n",
       "\n",
       "  product_id  \n",
       "0         P1  \n",
       "1         P2  \n",
       "2         P3  \n",
       "3         P4  \n",
       "4         P5  "
      ]
     },
     "execution_count": 95,
     "metadata": {},
     "output_type": "execute_result"
    }
   ],
   "source": [
    "%pip install --quiet ipython-sql\n",
    "%pip install --quiet --upgrade SQLAlchemy==1.*\n",
    "\n",
    "import pandas as pd\n",
    "import sqlalchemy\n",
    "engine = sqlalchemy.create_engine('sqlite:///./RetailSampleDB.sqlite3')\n",
    "df = pd.read_sql('select * from orders limit 10', engine)\n",
    "df.head()"
   ]
  },
  {
   "cell_type": "code",
   "execution_count": 11,
   "metadata": {
    "tags": []
   },
   "outputs": [],
   "source": [
    "# SQLAlchemy: pg_uri = f\"postgresql+psycopg2://{username}:{password}@{host}:{port}/{mydatabase}\"\n",
    "\n",
    "db = SQLDatabase.from_uri(\"sqlite:///./RetailSampleDB.sqlite3\")"
   ]
  },
  {
   "cell_type": "markdown",
   "metadata": {
    "tags": []
   },
   "source": [
    "## 테이블 정보 확인\n",
    "\n",
    "- customers: customer_id, name, sex, state, age, is_married, active_since\n",
    "- orders: order_id, customer_id, product_id, purchase_amount, is_reordered, purchased_on\n",
    "- product_category_mapping: product_name, product_category, product_id\n",
    "- products: product_name, product_category, product_id"
   ]
  },
  {
   "cell_type": "code",
   "execution_count": 20,
   "metadata": {
    "tags": []
   },
   "outputs": [
    {
     "name": "stdout",
     "output_type": "stream",
     "text": [
      "['customers', 'orders', 'product_category_mapping', 'products']\n"
     ]
    }
   ],
   "source": [
    "print(db.get_usable_table_names())"
   ]
  },
  {
   "cell_type": "code",
   "execution_count": 21,
   "metadata": {
    "tags": []
   },
   "outputs": [
    {
     "name": "stdout",
     "output_type": "stream",
     "text": [
      "\n",
      "CREATE TABLE customers (\n",
      "\tcustomer_id VARCHAR, \n",
      "\tname VARCHAR, \n",
      "\tsex VARCHAR, \n",
      "\tstate VARCHAR, \n",
      "\tage INTEGER, \n",
      "\tis_married VARCHAR, \n",
      "\tactive_since DATETIME\n",
      ")\n",
      "\n",
      "/*\n",
      "3 rows from customers table:\n",
      "customer_id\tname\tsex\tstate\tage\tis_married\tactive_since\n",
      "C1\tmichelle miller\tF\ttennessee\t52\tFalse\t2019-11-23 16:21:48\n",
      "C2\tandrew mason\tM\tvirginia\t29\tFalse\t2019-09-09 01:45:28\n",
      "C3\talicia keller\tF\tkentucky\t70\tTrue\t2016-09-18 00:15:12\n",
      "*/\n",
      "\n",
      "\n",
      "CREATE TABLE orders (\n",
      "\torder_id VARCHAR, \n",
      "\tcustomer_id VARCHAR, \n",
      "\tproduct_id VARCHAR, \n",
      "\tpurchase_amount FLOAT, \n",
      "\tis_reordered INTEGER, \n",
      "\tpurchased_on DATETIME\n",
      ")\n",
      "\n",
      "/*\n",
      "3 rows from orders table:\n",
      "order_id\tcustomer_id\tproduct_id\tpurchase_amount\tis_reordered\tpurchased_on\n",
      "O1\tC5731\tP16\t93.26\t1\t2021-03-16 20:58:13\n",
      "O2\tC3541\tP12802\t67.98\t1\t2020-12-22 16:20:40\n",
      "O3\tC7402\tP8320\t64.59\t1\t2020-09-08 11:22:01\n",
      "*/\n",
      "\n",
      "\n",
      "CREATE TABLE product_category_mapping (\n",
      "\tproduct_name VARCHAR, \n",
      "\tproduct_category VARCHAR, \n",
      "\tproduct_id VARCHAR\n",
      ")\n",
      "\n",
      "/*\n",
      "3 rows from product_category_mapping table:\n",
      "product_name\tproduct_category\tproduct_id\n",
      "Chocolate Sandwich Cookies\tCookies Cakes\tP1\n",
      "All-Seasons Salt\tSpices Seasonings\tP2\n",
      "Robust Golden Unsweetened Oolong Tea\tTea\tP3\n",
      "*/\n",
      "\n",
      "\n",
      "CREATE TABLE products (\n",
      "\tproduct_name VARCHAR, \n",
      "\tproduct_category VARCHAR, \n",
      "\tproduct_id VARCHAR\n",
      ")\n",
      "\n",
      "/*\n",
      "3 rows from products table:\n",
      "product_name\tproduct_category\tproduct_id\n",
      "chocolate sandwich cookies\tcookies cakes\tP1\n",
      "all-seasons salt\tspices seasonings\tP2\n",
      "robust golden unsweetened oolong tea\ttea\tP3\n",
      "*/\n"
     ]
    }
   ],
   "source": [
    "print(db.table_info)"
   ]
  },
  {
   "cell_type": "code",
   "execution_count": 22,
   "metadata": {
    "tags": []
   },
   "outputs": [
    {
     "data": {
      "text/plain": [
       "SQLDatabaseChain(verbose=True, llm_chain=LLMChain(prompt=PromptTemplate(input_variables=['input', 'table_info', 'top_k'], template='You are a SQLite expert. Given an input question, first create a syntactically correct SQLite query to run, then look at the results of the query and return the answer to the input question.\\nUnless the user specifies in the question a specific number of examples to obtain, query for at most {top_k} results using the LIMIT clause as per SQLite. You can order the results to return the most informative data in the database.\\nNever query for all columns from a table. You must query only the columns that are needed to answer the question. Wrap each column name in double quotes (\") to denote them as delimited identifiers.\\nPay attention to use only the column names you can see in the tables below. Be careful to not query for columns that do not exist. Also, pay attention to which column is in which table.\\nPay attention to use date(\\'now\\') function to get the current date, if the question involves \"today\".\\n\\nUse the following format:\\n\\nQuestion: Question here\\nSQLQuery: SQL Query to run\\nSQLResult: Result of the SQLQuery\\nAnswer: Final answer here\\n\\nOnly use the following tables:\\n{table_info}\\n\\nQuestion: {input}'), llm=Bedrock(client=<botocore.client.BedrockRuntime object at 0x7f0c7c11cd00>, model_id='anthropic.claude-v2', model_kwargs={'max_tokens_to_sample': 1000, 'temperature': 0})), database=<langchain.utilities.sql_database.SQLDatabase object at 0x7f0c753da890>)"
      ]
     },
     "execution_count": 22,
     "metadata": {},
     "output_type": "execute_result"
    }
   ],
   "source": [
    "db_chain = SQLDatabaseChain.from_llm(llm=llm, db=db, verbose=True, prompt=None)\n",
    "\n",
    "db_chain"
   ]
  },
  {
   "cell_type": "markdown",
   "metadata": {},
   "source": [
    "## Prompt 정의\n",
    "영문으로 되어있는 SQLDatabaseChain의 Default Prompt를 한글로 변경하고 LLM이 데이터베이스의 데이터에 맞게 원하는 결과를 반환하도록 추가로 지정합니다."
   ]
  },
  {
   "cell_type": "code",
   "execution_count": 28,
   "metadata": {
    "tags": []
   },
   "outputs": [
    {
     "data": {
      "text/plain": [
       "'\\n당신은 SQLite 전문가입니다. 입력 질문이 주어지면 먼저 실행할 SQLite 쿼리를 구문적으로 올바르게 만든 다음 쿼리 실행 결과를 보고 입력 질문에 대한 자세한 답을 한글로 반환합니다.\\n사용자가 질문에서 얻을 수 있는 특정 수의 예제를 지정하지 않는 한, SQLite에 맞는 LIMIT 절을 사용하여 최대 {top_k}개 결과를 쿼리합니다. 데이터베이스에서 가장 유용한 데이터를 반환하도록 결과를 정렬할 수 있습니다.\\n테이블의 모든 열을 쿼리하지 마세요. 질문에 대답하는 데 필요한 열만 쿼리해야 합니다. 각 열 이름을 큰따옴표(\")로 묶어 구분 식별자로 표시합니다.\\n아래 표에 표시된 열 이름만 사용하도록 주의하세요. 존재하지 않는 열을 쿼리하지 않도록 주의하세요. 또한 어떤 테이블에 어떤 열이 있는지 주의하세요.\\n질문에 \"오늘\"이 포함된 경우 현재 날짜를 얻으려면 date(\\'now\\') 함수를 사용하세요. 분기는 01월, 02월, 03월 등으로 표시되고 통화단위는 달러이며 소수점 두자리까지 표시합니다. \\n\\n다음 형식을 사용하십시오:\\n\\nQuestion: Question here\\nSQLQuery: SQL Query to run\\nSQLResult: Result of the SQLQuery\\nAnswer: Final answer here\\n\\n다음 테이블만 사용하세요:\\n{table_info}\\n\\nQuestion: {input}\\n'"
      ]
     },
     "execution_count": 28,
     "metadata": {},
     "output_type": "execute_result"
    }
   ],
   "source": [
    "db_chain.llm_chain.prompt.template"
   ]
  },
  {
   "cell_type": "code",
   "execution_count": 29,
   "metadata": {
    "tags": []
   },
   "outputs": [],
   "source": [
    "db_chain.llm_chain.prompt.template = \"\"\"\n",
    "당신은 SQLite 전문가입니다. 입력 질문이 주어지면 먼저 실행할 SQLite 쿼리를 구문적으로 올바르게 만든 다음 쿼리 실행 결과를 보고 입력 질문에 대한 자세한 답을 한글로 반환합니다.\n",
    "사용자가 질문에서 얻을 수 있는 특정 수의 예제를 지정하지 않는 한, SQLite에 맞는 LIMIT 절을 사용하여 최대 {top_k}개 결과를 쿼리합니다. 데이터베이스에서 가장 유용한 데이터를 반환하도록 결과를 정렬할 수 있습니다.\n",
    "테이블의 모든 열을 쿼리하지 마세요. 질문에 대답하는 데 필요한 열만 쿼리해야 합니다. 각 열 이름을 큰따옴표(\")로 묶어 구분 식별자로 표시합니다.\n",
    "아래 표에 표시된 열 이름만 사용하도록 주의하세요. 존재하지 않는 열을 쿼리하지 않도록 주의하세요. 또한 어떤 테이블에 어떤 열이 있는지 주의하세요.\n",
    "질문에 \"오늘\"이 포함된 경우 현재 날짜를 얻으려면 date('now') 함수를 사용하세요. 분기는 01월, 02월, 03월 등으로 표시되고 통화단위는 달러이며 소수점 두자리까지 표시합니다. \n",
    "\n",
    "다음 형식을 사용하십시오:\n",
    "\n",
    "Question: Question here\n",
    "SQLQuery: SQL Query to run\n",
    "SQLResult: Result of the SQLQuery\n",
    "Answer: Final answer here\n",
    "\n",
    "다음 테이블만 사용하세요:\n",
    "{table_info}\n",
    "\n",
    "Question: {input}\n",
    "\"\"\""
   ]
  },
  {
   "cell_type": "code",
   "execution_count": 30,
   "metadata": {
    "tags": []
   },
   "outputs": [
    {
     "name": "stdout",
     "output_type": "stream",
     "text": [
      "\n",
      "당신은 SQLite 전문가입니다. 입력 질문이 주어지면 먼저 실행할 SQLite 쿼리를 구문적으로 올바르게 만든 다음 쿼리 실행 결과를 보고 입력 질문에 대한 자세한 답을 한글로 반환합니다.\n",
      "사용자가 질문에서 얻을 수 있는 특정 수의 예제를 지정하지 않는 한, SQLite에 맞는 LIMIT 절을 사용하여 최대 {top_k}개 결과를 쿼리합니다. 데이터베이스에서 가장 유용한 데이터를 반환하도록 결과를 정렬할 수 있습니다.\n",
      "테이블의 모든 열을 쿼리하지 마세요. 질문에 대답하는 데 필요한 열만 쿼리해야 합니다. 각 열 이름을 큰따옴표(\")로 묶어 구분 식별자로 표시합니다.\n",
      "아래 표에 표시된 열 이름만 사용하도록 주의하세요. 존재하지 않는 열을 쿼리하지 않도록 주의하세요. 또한 어떤 테이블에 어떤 열이 있는지 주의하세요.\n",
      "질문에 \"오늘\"이 포함된 경우 현재 날짜를 얻으려면 date('now') 함수를 사용하세요. 분기는 01월, 02월, 03월 등으로 표시되고 통화단위는 달러이며 소수점 두자리까지 표시합니다. \n",
      "\n",
      "다음 형식을 사용하십시오:\n",
      "\n",
      "Question: Question here\n",
      "SQLQuery: SQL Query to run\n",
      "SQLResult: Result of the SQLQuery\n",
      "Answer: Final answer here\n",
      "\n",
      "다음 테이블만 사용하세요:\n",
      "{table_info}\n",
      "\n",
      "Question: {input}\n",
      "\n"
     ]
    }
   ],
   "source": [
    "print(db_chain.llm_chain.prompt.template)"
   ]
  },
  {
   "cell_type": "markdown",
   "metadata": {
    "tags": []
   },
   "source": [
    "아래는 Claude 질의에 사용될 Prompt입니다. Human: Assistant: 포맷을 유지합니다."
   ]
  },
  {
   "cell_type": "code",
   "execution_count": 32,
   "metadata": {
    "tags": []
   },
   "outputs": [],
   "source": [
    "PROMPT = \"\"\" \n",
    "Human: Given an input question, create a syntactically correct sqlite query to run,\n",
    "then look at the results of the query and return only the answer.  \n",
    "The query: {question}\n",
    "\n",
    "Assistant:\"\"\""
   ]
  },
  {
   "cell_type": "markdown",
   "metadata": {},
   "source": [
    "사용될 데이터베이스에서 가능한 질의들은 아래와 같습니다.\n",
    "\n",
    "- 고객 분석:\n",
    "    - 성별에 따른 고객 수 및 구매량 비교: 성별에 따른 고객 수와 구매량 비교해줘\n",
    "    - 주별 또는 월별 신규 고객 등록 추이 분석: 주별로 신규 고객 등록 추이 분석해줘, 2019년 월별로 신규 고객 등록 추이 분석해줘\n",
    "    - 주요 주문 고객 식별: 우수 고객을 설명해줘, 주요 고객을 설명해줘, 나이가 50세 이상이고 기혼인 고객 보여줘\n",
    "\n",
    "- 주문 분석:\n",
    "    - 제품 카테고리별 주문량 및 매출 분석: 제품 카테고리별 주문량과 매출을 분석해줘, coffee 카테고리 주문량과 매출을 분석해줘\n",
    "    - 재주문 비율 분석: 전체 고객 중 재주문 비율을 분석해줘, 전체 제품 중 재주문 비율을 분석해줘, 전체 제품 중 재주문 비율 상위 20개 제품을 분석해줘\n",
    "    - 가장 많이 주문된 제품 식별: 가장 많이 주문된 제품 10개 분석해줘, 가장 많이 주문된 제품 카테고리 10개 분석해줘\n",
    "\n",
    "- 제품 분석:\n",
    "    - 제품 카테고리별 제품 수 분석: 제품 카테고리별 제품 수 분석해줘\n",
    "    - 가장 많이 팔린 제품 카테고리 식별: 가장 많이 팔린 제품 카테고리 알려줘\n",
    "    - 인기 있는 제품 식별: 인기 있는 제품 10개 분석해줘, 인기 있는 제품 카테고리 10개 알려줘\n",
    "\n",
    "- 매출 분석:\n",
    "    - 주간 또는 월간 매출 추이 분석: 2019년 주간 매출 추이 분석해줘\n",
    "    - 고객 나이대별 매출 분석: 고객 나이대별 매출 분석해줘, 고객 연령대별 매출을 10대, 20대 등 전체 나이대를 10년 단위로 분석해줘\n",
    "    - 주문 날짜와 매출의 상관 관계 분석: 주문 날짜와 매출의 상관 관계를 분석해줘, 1월의 주문 일자별 상관 관계를 일단위로 분석해줘"
   ]
  },
  {
   "cell_type": "code",
   "execution_count": 35,
   "metadata": {
    "tags": []
   },
   "outputs": [
    {
     "name": "stdout",
     "output_type": "stream",
     "text": [
      "\n",
      "\n",
      "\u001b[1m> Entering new SQLDatabaseChain chain...\u001b[0m\n",
      " \n",
      "Human: Given an input question, create a syntactically correct sqlite query to run,\n",
      "then look at the results of the query and return only the answer.  \n",
      "The query: 가장 많이 주문된 제품 10개 분석해줘\n",
      "\n",
      "Assistant:\n",
      "SQLQuery:\u001b[32;1m\u001b[1;3mSELECT product_name, COUNT(*) AS total_orders\n",
      "FROM orders o\n",
      "JOIN product_category_mapping pcm ON o.product_id = pcm.product_id\n",
      "GROUP BY product_name\n",
      "ORDER BY total_orders DESC\n",
      "LIMIT 10\u001b[0m\n",
      "SQLResult: \u001b[33;1m\u001b[1;3m[('Whole Pine Nut', 18), ('Zucchini Gingerbread Carrot Smart Cookies', 17), ('Original Orange Juice', 17), ('Organic White Cane Sugar', 17), ('Gluten free Dark Chocolate covered Creamy Banana Fruit Bars', 17), ('Vermont White Cheddar', 16), ('Unsweetened Whole Milk Strawberry Yogurt', 16), ('Organic Stage 4 Spinach Mango & Pear Baby Food', 16), ('Whole Milk Cherry Organic Yogurt', 15), ('Tub & Tile Natural Cleaner Emerald Cypress & Fir', 15)]\u001b[0m\n",
      "Answer:\u001b[32;1m\u001b[1;3m가장 많이 주문된 제품 10개는 다음과 같습니다:\n",
      "1. Whole Pine Nut (18회)\n",
      "2. Zucchini Gingerbread Carrot Smart Cookies (17회)  \n",
      "3. Original Orange Juice (17회)\n",
      "4. Organic White Cane Sugar (17회)\n",
      "5. Gluten free Dark Chocolate covered Creamy Banana Fruit Bars (17회)\n",
      "6. Vermont White Cheddar (16회)\n",
      "7. Unsweetened Whole Milk Strawberry Yogurt (16회)  \n",
      "8. Organic Stage 4 Spinach Mango & Pear Baby Food (16회)\n",
      "9. Whole Milk Cherry Organic Yogurt (15회)\n",
      "10. Tub & Tile Natural Cleaner Emerald Cypress & Fir (15회)\u001b[0m\n",
      "\u001b[1m> Finished chain.\u001b[0m\n",
      "가장 많이 주문된 제품 10개는 다음과 같습니다:\n",
      "1. Whole Pine Nut (18회)\n",
      "2. Zucchini Gingerbread Carrot Smart Cookies (17회)  \n",
      "3. Original Orange Juice (17회)\n",
      "4. Organic White Cane Sugar (17회)\n",
      "5. Gluten free Dark Chocolate covered Creamy Banana Fruit Bars (17회)\n",
      "6. Vermont White Cheddar (16회)\n",
      "7. Unsweetened Whole Milk Strawberry Yogurt (16회)  \n",
      "8. Organic Stage 4 Spinach Mango & Pear Baby Food (16회)\n",
      "9. Whole Milk Cherry Organic Yogurt (15회)\n",
      "10. Tub & Tile Natural Cleaner Emerald Cypress & Fir (15회)\n"
     ]
    }
   ],
   "source": [
    "question = \"가장 많이 주문된 제품 10개 분석해줘\"\n",
    "\n",
    "final_answer = db_chain.run(PROMPT.format(question=question))\n",
    "print(final_answer)"
   ]
  },
  {
   "cell_type": "code",
   "execution_count": 36,
   "metadata": {
    "tags": []
   },
   "outputs": [
    {
     "name": "stdout",
     "output_type": "stream",
     "text": [
      "\n",
      "\n",
      "\u001b[1m> Entering new SQLDatabaseChain chain...\u001b[0m\n",
      " \n",
      "Human: Given an input question, create a syntactically correct sqlite query to run,\n",
      "then look at the results of the query and return only the answer.  \n",
      "The query: 전체 고객 중 재주문 비율을 분석해줘\n",
      "\n",
      "Assistant:\n",
      "SQLQuery:\u001b[32;1m\u001b[1;3mSELECT round(count(distinct CASE WHEN is_reordered = 1 THEN customer_id END) * 100.0 / count(distinct customer_id), 2) as reorder_rate\n",
      "FROM orders;\u001b[0m\n",
      "SQLResult: \u001b[33;1m\u001b[1;3m[(99.85,)]\u001b[0m\n",
      "Answer:\u001b[32;1m\u001b[1;3m전체 고객 중 재주문 비율은 99.85%입니다.\u001b[0m\n",
      "\u001b[1m> Finished chain.\u001b[0m\n",
      "전체 고객 중 재주문 비율은 99.85%입니다.\n"
     ]
    }
   ],
   "source": [
    "question = \"전체 고객 중 재주문 비율을 분석해줘\"\n",
    "\n",
    "final_answer = db_chain.run(PROMPT.format(question=question))\n",
    "print(final_answer)"
   ]
  },
  {
   "cell_type": "code",
   "execution_count": 37,
   "metadata": {
    "tags": []
   },
   "outputs": [
    {
     "name": "stdout",
     "output_type": "stream",
     "text": [
      "\n",
      "\n",
      "\u001b[1m> Entering new SQLDatabaseChain chain...\u001b[0m\n",
      " \n",
      "Human: Given an input question, create a syntactically correct sqlite query to run,\n",
      "then look at the results of the query and return only the answer.  \n",
      "The query: coffee 카테고리 주문량과 매출을 분석해줘\n",
      "\n",
      "Assistant:\n",
      "SQLQuery:\u001b[32;1m\u001b[1;3mSELECT \"product_category\", SUM(\"purchase_amount\") AS \"total_sales\", COUNT(\"order_id\") AS \"total_orders\"\n",
      "FROM orders o\n",
      "JOIN product_category_mapping pcm ON o.\"product_id\" = pcm.\"product_id\"  \n",
      "WHERE \"product_category\" = 'coffee'\n",
      "GROUP BY \"product_category\"\u001b[0m\n",
      "SQLResult: \u001b[33;1m\u001b[1;3m\u001b[0m\n",
      "Answer:\u001b[32;1m\u001b[1;3mcoffee 카테고리의 총 주문 건수는 total_orders건이고, 총 매출액은 total_sales달러입니다.\u001b[0m\n",
      "\u001b[1m> Finished chain.\u001b[0m\n",
      "coffee 카테고리의 총 주문 건수는 total_orders건이고, 총 매출액은 total_sales달러입니다.\n"
     ]
    }
   ],
   "source": [
    "question = \"coffee 카테고리 주문량과 매출을 분석해줘\"\n",
    "\n",
    "final_answer = db_chain.run(PROMPT.format(question=question))\n",
    "print(final_answer)"
   ]
  },
  {
   "cell_type": "code",
   "execution_count": 38,
   "metadata": {
    "tags": []
   },
   "outputs": [
    {
     "name": "stdout",
     "output_type": "stream",
     "text": [
      "\n",
      "\n",
      "\u001b[1m> Entering new SQLDatabaseChain chain...\u001b[0m\n",
      " \n",
      "Human: Given an input question, create a syntactically correct sqlite query to run,\n",
      "then look at the results of the query and return only the answer.  \n",
      "The query: 전체 제품 중 재주문 비율 상위 20개 제품을 분석해줘\n",
      "\n",
      "Assistant:\n",
      "SQLQuery:\u001b[32;1m\u001b[1;3mSELECT p.product_name, COUNT(o.order_id) AS total_orders, SUM(o.is_reordered) AS reordered_orders, ROUND(SUM(o.is_reordered) * 100.0 / COUNT(o.order_id), 2) AS reorder_rate\n",
      "FROM orders o\n",
      "JOIN product_category_mapping pcm ON o.product_id = pcm.product_id  \n",
      "JOIN products p ON pcm.product_id = p.product_id\n",
      "GROUP BY p.product_name\n",
      "ORDER BY reorder_rate DESC\n",
      "LIMIT 20\u001b[0m\n",
      "SQLResult: \u001b[33;1m\u001b[1;3m[('zyflamend whole body liquid vcaps', 4, 4, 100.0), ('zinc picolinate', 2, 2, 100.0), ('zero calorie lemonade organic lemonade', 1, 1, 100.0), ('zero calorie arnold palmer half iced tea & half lemonade', 3, 3, 100.0), ('zbar protein chocolate mint protein bar', 1, 1, 100.0), (\"yum-a-roo's organic toddler snacks banana, mango & pineapple\", 2, 2, 100.0), ('yotoddler organic pear spinach mango yogurt', 3, 3, 100.0), ('yorkshire gold black tea', 6, 6, 100.0), ('york miniatures dark chocolate covered peppermint patties', 3, 3, 100.0), ('yogurt, greek, nonfat, strained, blended with strawberry', 3, 3, 100.0), ('yogurt pretzels', 3, 3, 100.0), ('yogurt drink, original', 3, 3, 100.0), ('yo baby organic whole milk banana mango yogurt', 4, 4, 100.0), ('yerba mate, unsmoked green energy', 2, 2, 100.0), ('yellow tortilla chips', 5, 5, 100.0), ('yellow rice & chicken with vegetables in sauce with green beans & carrots', 5, 5, 100.0), ('yellow mustard seed', 5, 5, 100.0), ('yellow corn triangles tortilla chips', 3, 3, 100.0), (\"xxtra flamin' hot crunchy cheese flavored snacks\", 2, 2, 100.0), ('wood for good almond scented polish', 4, 4, 100.0)]\u001b[0m\n",
      "Answer:\u001b[32;1m\u001b[1;3m재주문 비율 상위 20개 제품은 zyflamend whole body liquid vcaps, zinc picolinate, zero calorie lemonade organic lemonade 등으로, 모두 재주문 비율이 100%입니다.\u001b[0m\n",
      "\u001b[1m> Finished chain.\u001b[0m\n",
      "재주문 비율 상위 20개 제품은 zyflamend whole body liquid vcaps, zinc picolinate, zero calorie lemonade organic lemonade 등으로, 모두 재주문 비율이 100%입니다.\n"
     ]
    }
   ],
   "source": [
    "question = \"전체 제품 중 재주문 비율 상위 20개 제품을 분석해줘\"\n",
    "\n",
    "final_answer = db_chain.run(PROMPT.format(question=question))\n",
    "print(final_answer)"
   ]
  },
  {
   "cell_type": "code",
   "execution_count": 39,
   "metadata": {
    "tags": []
   },
   "outputs": [
    {
     "name": "stdout",
     "output_type": "stream",
     "text": [
      "\n",
      "\n",
      "\u001b[1m> Entering new SQLDatabaseChain chain...\u001b[0m\n",
      " \n",
      "Human: Given an input question, create a syntactically correct sqlite query to run,\n",
      "then look at the results of the query and return only the answer.  \n",
      "The query: 가장 많이 주문된 제품 카테고리 10개 분석해줘\n",
      "\n",
      "Assistant:\n",
      "SQLQuery:\u001b[32;1m\u001b[1;3mSELECT product_category, COUNT(*) AS count \n",
      "FROM product_category_mapping\n",
      "GROUP BY product_category\n",
      "ORDER BY count DESC\n",
      "LIMIT 10\u001b[0m\n",
      "SQLResult: \u001b[33;1m\u001b[1;3m[('Candy Chocolate', 1246), ('Ice Cream Ice', 1091), ('Vitamins Supplements', 1038), ('Yogurt', 1026), ('Chips Pretzels', 989), ('Tea', 894), ('Packaged Cheese', 891), ('Frozen Meals', 880), ('Cookies Cakes', 874), ('Energy Granola Bars', 832)]\u001b[0m\n",
      "Answer:\u001b[32;1m\u001b[1;3m가장 많이 주문된 제품 카테고리 10개는 다음과 같습니다:\n",
      "1. Candy Chocolate (1246회)\n",
      "2. Ice Cream Ice (1091회)  \n",
      "3. Vitamins Supplements (1038회)\n",
      "4. Yogurt (1026회)\n",
      "5. Chips Pretzels (989회)\n",
      "6. Tea (894회)\n",
      "7. Packaged Cheese (891회)\n",
      "8. Frozen Meals (880회)\n",
      "9. Cookies Cakes (874회)\n",
      "10. Energy Granola Bars (832회)\u001b[0m\n",
      "\u001b[1m> Finished chain.\u001b[0m\n",
      "가장 많이 주문된 제품 카테고리 10개는 다음과 같습니다:\n",
      "1. Candy Chocolate (1246회)\n",
      "2. Ice Cream Ice (1091회)  \n",
      "3. Vitamins Supplements (1038회)\n",
      "4. Yogurt (1026회)\n",
      "5. Chips Pretzels (989회)\n",
      "6. Tea (894회)\n",
      "7. Packaged Cheese (891회)\n",
      "8. Frozen Meals (880회)\n",
      "9. Cookies Cakes (874회)\n",
      "10. Energy Granola Bars (832회)\n"
     ]
    }
   ],
   "source": [
    "question = \"가장 많이 주문된 제품 카테고리 10개 분석해줘\"\n",
    "\n",
    "final_answer = db_chain.run(PROMPT.format(question=question))\n",
    "print(final_answer)"
   ]
  },
  {
   "cell_type": "code",
   "execution_count": 40,
   "metadata": {
    "tags": []
   },
   "outputs": [
    {
     "name": "stdout",
     "output_type": "stream",
     "text": [
      "\n",
      "\n",
      "\u001b[1m> Entering new SQLDatabaseChain chain...\u001b[0m\n",
      " \n",
      "Human: Given an input question, create a syntactically correct sqlite query to run,\n",
      "then look at the results of the query and return only the answer.  \n",
      "The query: 제품 카테고리별 제품 수 분석해줘\n",
      "\n",
      "Assistant:\n",
      "SQLQuery:\u001b[32;1m\u001b[1;3mSELECT product_category, COUNT(product_id) AS product_count \n",
      "FROM products\n",
      "GROUP BY product_category\u001b[0m\n",
      "SQLResult: \u001b[33;1m\u001b[1;3m[('baby food formula', 718), ('baking ingredients', 623), ('candy chocolate', 1246), ('chips pretzels', 989), ('cleaning products', 655), ('coffee', 680), ('cookies cakes', 874), ('crackers', 747), ('energy granola bars', 832), ('frozen meals', 880), ('hair care', 816), ('ice cream ice', 1091), ('juice nectars', 792), ('packaged cheese', 891), ('refrigerated', 675), ('soup broth bouillon', 737), ('spices seasonings', 797), ('tea', 894), ('vitamins supplements', 1038), ('yogurt', 1026)]\u001b[0m\n",
      "Answer:\u001b[32;1m\u001b[1;3m제품 카테고리별로 가장 많은 제품 수를 가진 카테고리 상위 5개는 다음과 같습니다: \n",
      "1. vitamins supplements (1038개)\n",
      "2. ice cream ice (1091개) \n",
      "3. yogurt (1026개)\n",
      "4. candy chocolate (1246개)\n",
      "5. cookies cakes (874개)\u001b[0m\n",
      "\u001b[1m> Finished chain.\u001b[0m\n",
      "제품 카테고리별로 가장 많은 제품 수를 가진 카테고리 상위 5개는 다음과 같습니다: \n",
      "1. vitamins supplements (1038개)\n",
      "2. ice cream ice (1091개) \n",
      "3. yogurt (1026개)\n",
      "4. candy chocolate (1246개)\n",
      "5. cookies cakes (874개)\n"
     ]
    }
   ],
   "source": [
    "question = \"제품 카테고리별 제품 수 분석해줘\"\n",
    "\n",
    "final_answer = db_chain.run(PROMPT.format(question=question))\n",
    "print(final_answer)"
   ]
  },
  {
   "cell_type": "code",
   "execution_count": 41,
   "metadata": {
    "tags": []
   },
   "outputs": [
    {
     "name": "stdout",
     "output_type": "stream",
     "text": [
      "\n",
      "\n",
      "\u001b[1m> Entering new SQLDatabaseChain chain...\u001b[0m\n",
      " \n",
      "Human: Given an input question, create a syntactically correct sqlite query to run,\n",
      "then look at the results of the query and return only the answer.  \n",
      "The query: 가장 많이 팔린 제품 카테고리 알려주고 분석해줘\n",
      "\n",
      "Assistant:\n",
      "SQLQuery:\u001b[32;1m\u001b[1;3mSELECT product_category, COUNT(*) AS count \n",
      "FROM orders o\n",
      "JOIN product_category_mapping pcm ON o.product_id = pcm.product_id\n",
      "GROUP BY product_category\n",
      "ORDER BY count DESC\n",
      "LIMIT 5\u001b[0m\n",
      "SQLResult: \u001b[33;1m\u001b[1;3m[('Candy Chocolate', 7338), ('Ice Cream Ice', 6559), ('Yogurt', 6175), ('Vitamins Supplements', 6097), ('Chips Pretzels', 5881)]\u001b[0m\n",
      "Answer:\u001b[32;1m\u001b[1;3m가장 많이 팔린 제품 카테고리는 Candy Chocolate로 7338건의 판매량을 기록했습니다. 그 다음으로 Ice Cream Ice 6559건, Yogurt 6175건, Vitamins Supplements 6097건, Chips Pretzels 5881건 순으로 나타났습니다. Candy Chocolate 카테고리 제품이 가장 인기가 높다는 것을 알 수 있습니다. 제품 개발 시 이 카테고리에 집중할 필요가 있겠습니다.\u001b[0m\n",
      "\u001b[1m> Finished chain.\u001b[0m\n",
      "가장 많이 팔린 제품 카테고리는 Candy Chocolate로 7338건의 판매량을 기록했습니다. 그 다음으로 Ice Cream Ice 6559건, Yogurt 6175건, Vitamins Supplements 6097건, Chips Pretzels 5881건 순으로 나타났습니다. Candy Chocolate 카테고리 제품이 가장 인기가 높다는 것을 알 수 있습니다. 제품 개발 시 이 카테고리에 집중할 필요가 있겠습니다.\n"
     ]
    }
   ],
   "source": [
    "question = \"가장 많이 팔린 제품 카테고리 알려주고 분석해줘\"\n",
    "\n",
    "final_answer = db_chain.run(PROMPT.format(question=question))\n",
    "print(final_answer)"
   ]
  },
  {
   "cell_type": "code",
   "execution_count": 42,
   "metadata": {
    "tags": []
   },
   "outputs": [
    {
     "name": "stdout",
     "output_type": "stream",
     "text": [
      "\n",
      "\n",
      "\u001b[1m> Entering new SQLDatabaseChain chain...\u001b[0m\n",
      " \n",
      "Human: Given an input question, create a syntactically correct sqlite query to run,\n",
      "then look at the results of the query and return only the answer.  \n",
      "The query: 제품 수가 많은 카테고리 10개 분석해줘\n",
      "\n",
      "Assistant:\n",
      "SQLQuery:\u001b[32;1m\u001b[1;3mSELECT product_category, COUNT(product_id) AS product_count\n",
      "FROM products\n",
      "GROUP BY product_category\n",
      "ORDER BY product_count DESC\n",
      "LIMIT 10\u001b[0m\n",
      "SQLResult: \u001b[33;1m\u001b[1;3m[('candy chocolate', 1246), ('ice cream ice', 1091), ('vitamins supplements', 1038), ('yogurt', 1026), ('chips pretzels', 989), ('tea', 894), ('packaged cheese', 891), ('frozen meals', 880), ('cookies cakes', 874), ('energy granola bars', 832)]\u001b[0m\n",
      "Answer:\u001b[32;1m\u001b[1;3m제품 수가 가장 많은 상위 10개 카테고리는 다음과 같습니다:\n",
      "1. candy chocolate (1246개 제품)  \n",
      "2. ice cream ice (1091개 제품)\n",
      "3. vitamins supplements (1038개 제품) \n",
      "4. yogurt (1026개 제품)\n",
      "5. chips pretzels (989개 제품)\n",
      "6. tea (894개 제품)\n",
      "7. packaged cheese (891개 제품)\n",
      "8. frozen meals (880개 제품)\n",
      "9. cookies cakes (874개 제품)\n",
      "10. energy granola bars (832개 제품)\u001b[0m\n",
      "\u001b[1m> Finished chain.\u001b[0m\n",
      "제품 수가 가장 많은 상위 10개 카테고리는 다음과 같습니다:\n",
      "1. candy chocolate (1246개 제품)  \n",
      "2. ice cream ice (1091개 제품)\n",
      "3. vitamins supplements (1038개 제품) \n",
      "4. yogurt (1026개 제품)\n",
      "5. chips pretzels (989개 제품)\n",
      "6. tea (894개 제품)\n",
      "7. packaged cheese (891개 제품)\n",
      "8. frozen meals (880개 제품)\n",
      "9. cookies cakes (874개 제품)\n",
      "10. energy granola bars (832개 제품)\n"
     ]
    }
   ],
   "source": [
    "question = \"제품 수가 많은 카테고리 10개 분석해줘\"\n",
    "\n",
    "final_answer = db_chain.run(PROMPT.format(question=question))\n",
    "print(final_answer)"
   ]
  },
  {
   "cell_type": "code",
   "execution_count": 43,
   "metadata": {
    "tags": []
   },
   "outputs": [
    {
     "name": "stdout",
     "output_type": "stream",
     "text": [
      "\n",
      "\n",
      "\u001b[1m> Entering new SQLDatabaseChain chain...\u001b[0m\n",
      " \n",
      "Human: Given an input question, create a syntactically correct sqlite query to run,\n",
      "then look at the results of the query and return only the answer.  \n",
      "The query: 2020년 월별 매출 추이 분석해줘\n",
      "\n",
      "Assistant:\n",
      "SQLQuery:\u001b[32;1m\u001b[1;3mSELECT strftime('%m', purchased_on) AS month, \n",
      "       SUM(purchase_amount) AS total_sales\n",
      "FROM orders \n",
      "WHERE strftime('%Y', purchased_on) = '2020'\n",
      "GROUP BY month\n",
      "ORDER BY month;\u001b[0m\n",
      "SQLResult: \u001b[33;1m\u001b[1;3m[('01', 309438.06000000006), ('02', 279561.71000000037), ('03', 304050.23000000045), ('04', 304042.3699999985), ('05', 310085.22000000026), ('06', 296325.8599999998), ('07', 316441.4), ('08', 309195.1499999995), ('09', 300003.7299999992), ('10', 309685.5399999997), ('11', 293867.71999999974), ('12', 315186.23000000056)]\u001b[0m\n",
      "Answer:\u001b[32;1m\u001b[1;3m2020년 1월 매출은 309,438달러, \n",
      "2월 매출은 279,562달러,\n",
      "3월 매출은 304,050달러,\n",
      "4월 매출은 304,042달러,\n",
      "5월 매출은 310,085달러,\n",
      "6월 매출은 296,326달러,\n",
      "7월 매출은 316,441달러,\n",
      "8월 매출은 309,195달러,\n",
      "9월 매출은 300,004달러,\n",
      "10월 매출은 309,686달러,\n",
      "11월 매출은 293,868달러,\n",
      "12월 매출은 315,186달러였습니다.\u001b[0m\n",
      "\u001b[1m> Finished chain.\u001b[0m\n",
      "2020년 1월 매출은 309,438달러, \n",
      "2월 매출은 279,562달러,\n",
      "3월 매출은 304,050달러,\n",
      "4월 매출은 304,042달러,\n",
      "5월 매출은 310,085달러,\n",
      "6월 매출은 296,326달러,\n",
      "7월 매출은 316,441달러,\n",
      "8월 매출은 309,195달러,\n",
      "9월 매출은 300,004달러,\n",
      "10월 매출은 309,686달러,\n",
      "11월 매출은 293,868달러,\n",
      "12월 매출은 315,186달러였습니다.\n"
     ]
    }
   ],
   "source": [
    "question = \"2020년 월별 매출 추이 분석해줘\"\n",
    "\n",
    "final_answer = db_chain.run(PROMPT.format(question=question))\n",
    "print(final_answer)"
   ]
  },
  {
   "cell_type": "code",
   "execution_count": 44,
   "metadata": {
    "tags": []
   },
   "outputs": [
    {
     "name": "stdout",
     "output_type": "stream",
     "text": [
      "\n",
      "\n",
      "\u001b[1m> Entering new SQLDatabaseChain chain...\u001b[0m\n",
      " \n",
      "Human: Given an input question, create a syntactically correct sqlite query to run,\n",
      "then look at the results of the query and return only the answer.  \n",
      "The query: 월별 매출 추이 분석해줘\n",
      "\n",
      "Assistant:\n",
      "SQLQuery:\u001b[32;1m\u001b[1;3mSELECT strftime('%m', purchased_on) AS month, \n",
      "       round(sum(purchase_amount), 2) AS total_sales\n",
      "FROM orders \n",
      "GROUP BY month\n",
      "ORDER BY month;\u001b[0m\n",
      "SQLResult: \u001b[33;1m\u001b[1;3m[('01', 613216.99), ('02', 564051.01), ('03', 600233.79), ('04', 606040.94), ('05', 619447.79), ('06', 296325.86), ('07', 316441.4), ('08', 309195.15), ('09', 300003.73), ('10', 309685.54), ('11', 293867.72), ('12', 315186.23)]\u001b[0m\n",
      "Answer:\u001b[32;1m\u001b[1;3m월별 매출 추이는 다음과 같습니다:\n",
      "1월: 613,217달러\n",
      "2월: 564,051달러  \n",
      "3월: 600,234달러\n",
      "4월: 606,041달러\n",
      "5월: 619,448달러\n",
      "6월: 296,326달러\n",
      "7월: 316,441달러\n",
      "8월: 309,195달러\n",
      "9월: 300,004달러\n",
      "10월: 309,686달러\n",
      "11월: 293,868달러\n",
      "12월: 315,186달러\n",
      "\n",
      "매출이 가장 높았던 달은 5월이고, 가장 낮았던 달은 6월입니다.\u001b[0m\n",
      "\u001b[1m> Finished chain.\u001b[0m\n",
      "월별 매출 추이는 다음과 같습니다:\n",
      "1월: 613,217달러\n",
      "2월: 564,051달러  \n",
      "3월: 600,234달러\n",
      "4월: 606,041달러\n",
      "5월: 619,448달러\n",
      "6월: 296,326달러\n",
      "7월: 316,441달러\n",
      "8월: 309,195달러\n",
      "9월: 300,004달러\n",
      "10월: 309,686달러\n",
      "11월: 293,868달러\n",
      "12월: 315,186달러\n",
      "\n",
      "매출이 가장 높았던 달은 5월이고, 가장 낮았던 달은 6월입니다.\n"
     ]
    }
   ],
   "source": [
    "question = \"월별 매출 추이 분석해줘\"\n",
    "\n",
    "final_answer = db_chain.run(PROMPT.format(question=question))\n",
    "print(final_answer)"
   ]
  },
  {
   "cell_type": "code",
   "execution_count": 99,
   "metadata": {
    "tags": []
   },
   "outputs": [
    {
     "name": "stdout",
     "output_type": "stream",
     "text": [
      "\n",
      "\n",
      "\u001b[1m> Entering new SQLDatabaseChain chain...\u001b[0m\n",
      " \n",
      "Human: Given an input question, create a syntactically correct sqlite query to run,\n",
      "then look at the results of the query and return only the answer.  \n",
      "The query: 2021년 1분기 매출 추이 분석해줘\n",
      "\n",
      "Assistant:\n",
      "SQLQuery:\u001b[32;1m\u001b[1;3mSELECT strftime('%m', purchased_on) AS month, \n",
      "       round(sum(purchase_amount), 2) AS total_sales\n",
      "FROM orders\n",
      "WHERE strftime('%Y', purchased_on) = '2021'\n",
      "  AND strftime('%m', purchased_on) IN ('01', '02', '03')  \n",
      "GROUP BY month\n",
      "ORDER BY month\u001b[0m\n",
      "SQLResult: \u001b[33;1m\u001b[1;3m[('01', 303778.93), ('02', 284489.3), ('03', 296183.56)]\u001b[0m\n",
      "Answer:\u001b[32;1m\u001b[1;3m2021년 1분기 매출 추이는 다음과 같습니다.\n",
      "1월: 303,778.93달러 \n",
      "2월: 284,489.30달러\n",
      "3월: 296,183.56달러\u001b[0m\n",
      "\u001b[1m> Finished chain.\u001b[0m\n",
      "2021년 1분기 매출 추이는 다음과 같습니다.\n",
      "1월: 303,778.93달러 \n",
      "2월: 284,489.30달러\n",
      "3월: 296,183.56달러\n"
     ]
    }
   ],
   "source": [
    "question = \"2021년 1분기 매출 추이 분석해줘\"\n",
    "\n",
    "final_answer = db_chain.run(PROMPT.format(question=question))\n",
    "print(final_answer)"
   ]
  },
  {
   "cell_type": "code",
   "execution_count": 101,
   "metadata": {
    "tags": []
   },
   "outputs": [
    {
     "data": {
      "text/html": [
       "<div>\n",
       "<style scoped>\n",
       "    .dataframe tbody tr th:only-of-type {\n",
       "        vertical-align: middle;\n",
       "    }\n",
       "\n",
       "    .dataframe tbody tr th {\n",
       "        vertical-align: top;\n",
       "    }\n",
       "\n",
       "    .dataframe thead th {\n",
       "        text-align: right;\n",
       "    }\n",
       "</style>\n",
       "<table border=\"1\" class=\"dataframe\">\n",
       "  <thead>\n",
       "    <tr style=\"text-align: right;\">\n",
       "      <th></th>\n",
       "      <th>month</th>\n",
       "      <th>total_sales</th>\n",
       "    </tr>\n",
       "  </thead>\n",
       "  <tbody>\n",
       "    <tr>\n",
       "      <th>0</th>\n",
       "      <td>01</td>\n",
       "      <td>303778.93</td>\n",
       "    </tr>\n",
       "    <tr>\n",
       "      <th>1</th>\n",
       "      <td>02</td>\n",
       "      <td>284489.30</td>\n",
       "    </tr>\n",
       "    <tr>\n",
       "      <th>2</th>\n",
       "      <td>03</td>\n",
       "      <td>296183.56</td>\n",
       "    </tr>\n",
       "  </tbody>\n",
       "</table>\n",
       "</div>"
      ],
      "text/plain": [
       "  month  total_sales\n",
       "0    01    303778.93\n",
       "1    02    284489.30\n",
       "2    03    296183.56"
      ]
     },
     "execution_count": 101,
     "metadata": {},
     "output_type": "execute_result"
    }
   ],
   "source": [
    "query = \"\"\"\n",
    "SELECT strftime('%m', purchased_on) AS month, \n",
    "       round(sum(purchase_amount), 2) AS total_sales\n",
    "FROM orders\n",
    "WHERE strftime('%Y', purchased_on) = '2021'\n",
    "  AND month IN ('01', '02', '03')\n",
    "GROUP BY month\n",
    "ORDER BY month\n",
    "\"\"\"\n",
    "df = pd.read_sql(query, engine)\n",
    "df.head()"
   ]
  },
  {
   "cell_type": "code",
   "execution_count": 46,
   "metadata": {
    "tags": []
   },
   "outputs": [
    {
     "name": "stdout",
     "output_type": "stream",
     "text": [
      "\n",
      "\n",
      "\u001b[1m> Entering new SQLDatabaseChain chain...\u001b[0m\n",
      " \n",
      "Human: Given an input question, create a syntactically correct sqlite query to run,\n",
      "then look at the results of the query and return only the answer.  \n",
      "The query: 연간 매출 추이 분석해줘\n",
      "\n",
      "Assistant:\n",
      "SQLQuery:\u001b[32;1m\u001b[1;3mSELECT strftime('%Y', purchased_on) AS year, \n",
      "       round(sum(purchase_amount), 2) AS total_sales\n",
      "FROM orders\n",
      "GROUP BY year\n",
      "ORDER BY year;\u001b[0m\n",
      "SQLResult: \u001b[33;1m\u001b[1;3m[('2020', 3647883.22), ('2021', 1495812.93)]\u001b[0m\n",
      "Answer:\u001b[32;1m\u001b[1;3m연간 매출 추이는 다음과 같습니다:\n",
      "2020년: 3,647,883.22달러 \n",
      "2021년: 1,495,812.93달러\n",
      "\n",
      "따라서 2020년 매출이 2021년보다 높았습니다.\u001b[0m\n",
      "\u001b[1m> Finished chain.\u001b[0m\n",
      "연간 매출 추이는 다음과 같습니다:\n",
      "2020년: 3,647,883.22달러 \n",
      "2021년: 1,495,812.93달러\n",
      "\n",
      "따라서 2020년 매출이 2021년보다 높았습니다.\n"
     ]
    }
   ],
   "source": [
    "question = \"연간 매출 추이 분석해줘\"\n",
    "\n",
    "final_answer = db_chain.run(PROMPT.format(question=question))\n",
    "print(final_answer)"
   ]
  },
  {
   "cell_type": "code",
   "execution_count": 47,
   "metadata": {
    "tags": []
   },
   "outputs": [
    {
     "name": "stdout",
     "output_type": "stream",
     "text": [
      "\n",
      "\n",
      "\u001b[1m> Entering new SQLDatabaseChain chain...\u001b[0m\n",
      " \n",
      "Human: Given an input question, create a syntactically correct sqlite query to run,\n",
      "then look at the results of the query and return only the answer.  \n",
      "The query: 고객 나이대별 매출 분석해줘\n",
      "\n",
      "Assistant:\n",
      "SQLQuery:\u001b[32;1m\u001b[1;3mSELECT customers.age, SUM(orders.purchase_amount) AS total_sales\n",
      "FROM customers \n",
      "JOIN orders ON customers.customer_id = orders.customer_id\n",
      "GROUP BY customers.age\n",
      "ORDER BY total_sales DESC\n",
      "LIMIT 5\u001b[0m\n",
      "SQLResult: \u001b[33;1m\u001b[1;3m[(20, 83186.9200000001), (66, 81146.22999999991), (61, 79868.48), (27, 79744.3799999999), (30, 79731.0900000002)]\u001b[0m\n",
      "Answer:\u001b[32;1m\u001b[1;3m고객 나이대별로 20세가 가장 많은 매출을 기록했습니다. \n",
      "그 다음으로는 66세, 61세, 27세, 30세 순으로 매출이 많았습니다.\u001b[0m\n",
      "\u001b[1m> Finished chain.\u001b[0m\n",
      "고객 나이대별로 20세가 가장 많은 매출을 기록했습니다. \n",
      "그 다음으로는 66세, 61세, 27세, 30세 순으로 매출이 많았습니다.\n"
     ]
    }
   ],
   "source": [
    "question = \"고객 나이대별 매출 분석해줘\"\n",
    "\n",
    "final_answer = db_chain.run(PROMPT.format(question=question))\n",
    "print(final_answer)"
   ]
  },
  {
   "cell_type": "code",
   "execution_count": 103,
   "metadata": {
    "tags": []
   },
   "outputs": [
    {
     "name": "stdout",
     "output_type": "stream",
     "text": [
      "\n",
      "\n",
      "\u001b[1m> Entering new SQLDatabaseChain chain...\u001b[0m\n",
      " \n",
      "Human: Given an input question, create a syntactically correct sqlite query to run,\n",
      "then look at the results of the query and return only the answer.  \n",
      "The query: 고객 연령대별 매출을 10대, 20대 등 전체 나이대를 10년 단위로 알려줘\n",
      "\n",
      "Assistant:\n",
      "SQLQuery:\u001b[32;1m\u001b[1;3mSELECT \n",
      "  CASE\n",
      "    WHEN age BETWEEN 10 AND 19 THEN '10대'\n",
      "    WHEN age BETWEEN 20 AND 29 THEN '20대'\n",
      "    WHEN age BETWEEN 30 AND 39 THEN '30대'\n",
      "    WHEN age BETWEEN 40 AND 49 THEN '40대'\n",
      "    WHEN age BETWEEN 50 AND 59 THEN '50대'\n",
      "    WHEN age BETWEEN 60 AND 69 THEN '60대'\n",
      "    WHEN age >= 70 THEN '70대 이상'\n",
      "  END AS age_group,\n",
      "  SUM(purchase_amount) AS total_sales\n",
      "FROM customers c\n",
      "JOIN orders o ON c.customer_id = o.customer_id\n",
      "GROUP BY age_group\u001b[0m\n",
      "SQLResult: \u001b[33;1m\u001b[1;3m[('10대', 151545.4600000001), ('20대', 703994.3399999954), ('30대', 708672.6899999948), ('40대', 672972.3300000002), ('50대', 700136.9300000018), ('60대', 699919.1500000022), ('70대 이상', 1506455.2499999977)]\u001b[0m\n",
      "Answer:\u001b[32;1m\u001b[1;3m고객 연령대별 매출은 다음과 같습니다:\n",
      "10대 - 151545.46달러 \n",
      "20대 - 703994.34달러\n",
      "30대 - 708672.69달러  \n",
      "40대 - 672972.33달러\n",
      "50대 - 700136.93달러\n",
      "60대 - 699919.15달러\n",
      "70대 이상 - 1506455.25달러\u001b[0m\n",
      "\u001b[1m> Finished chain.\u001b[0m\n",
      "고객 연령대별 매출은 다음과 같습니다:\n",
      "10대 - 151545.46달러 \n",
      "20대 - 703994.34달러\n",
      "30대 - 708672.69달러  \n",
      "40대 - 672972.33달러\n",
      "50대 - 700136.93달러\n",
      "60대 - 699919.15달러\n",
      "70대 이상 - 1506455.25달러\n"
     ]
    }
   ],
   "source": [
    "question = \"고객 연령대별 매출을 10대, 20대 등 전체 나이대를 10년 단위로 알려줘\"\n",
    "\n",
    "final_answer = db_chain.run(PROMPT.format(question=question))\n",
    "print(final_answer)"
   ]
  },
  {
   "cell_type": "code",
   "execution_count": 102,
   "metadata": {
    "tags": []
   },
   "outputs": [
    {
     "data": {
      "text/html": [
       "<div>\n",
       "<style scoped>\n",
       "    .dataframe tbody tr th:only-of-type {\n",
       "        vertical-align: middle;\n",
       "    }\n",
       "\n",
       "    .dataframe tbody tr th {\n",
       "        vertical-align: top;\n",
       "    }\n",
       "\n",
       "    .dataframe thead th {\n",
       "        text-align: right;\n",
       "    }\n",
       "</style>\n",
       "<table border=\"1\" class=\"dataframe\">\n",
       "  <thead>\n",
       "    <tr style=\"text-align: right;\">\n",
       "      <th></th>\n",
       "      <th>age_group</th>\n",
       "      <th>total_sales</th>\n",
       "    </tr>\n",
       "  </thead>\n",
       "  <tbody>\n",
       "    <tr>\n",
       "      <th>0</th>\n",
       "      <td>60대 이상</td>\n",
       "      <td>2206374.40</td>\n",
       "    </tr>\n",
       "    <tr>\n",
       "      <th>1</th>\n",
       "      <td>30대</td>\n",
       "      <td>708672.69</td>\n",
       "    </tr>\n",
       "    <tr>\n",
       "      <th>2</th>\n",
       "      <td>20대</td>\n",
       "      <td>703994.34</td>\n",
       "    </tr>\n",
       "    <tr>\n",
       "      <th>3</th>\n",
       "      <td>50대</td>\n",
       "      <td>700136.93</td>\n",
       "    </tr>\n",
       "    <tr>\n",
       "      <th>4</th>\n",
       "      <td>40대</td>\n",
       "      <td>672972.33</td>\n",
       "    </tr>\n",
       "  </tbody>\n",
       "</table>\n",
       "</div>"
      ],
      "text/plain": [
       "  age_group  total_sales\n",
       "0    60대 이상   2206374.40\n",
       "1       30대    708672.69\n",
       "2       20대    703994.34\n",
       "3       50대    700136.93\n",
       "4       40대    672972.33"
      ]
     },
     "execution_count": 102,
     "metadata": {},
     "output_type": "execute_result"
    }
   ],
   "source": [
    "query = \"\"\"\n",
    "SELECT \n",
    "  CASE\n",
    "    WHEN age BETWEEN 10 AND 19 THEN '10대'\n",
    "    WHEN age BETWEEN 20 AND 29 THEN '20대'\n",
    "    WHEN age BETWEEN 30 AND 39 THEN '30대'\n",
    "    WHEN age BETWEEN 40 AND 49 THEN '40대'\n",
    "    WHEN age BETWEEN 50 AND 59 THEN '50대'\n",
    "    WHEN age >= 60 THEN '60대 이상'\n",
    "  END AS age_group,\n",
    "  SUM(purchase_amount) AS total_sales\n",
    "FROM customers c\n",
    "JOIN orders o ON c.customer_id = o.customer_id\n",
    "GROUP BY age_group\n",
    "ORDER BY total_sales DESC\n",
    "\"\"\"\n",
    "df = pd.read_sql(query, engine)\n",
    "df.head()"
   ]
  },
  {
   "cell_type": "code",
   "execution_count": 104,
   "metadata": {
    "tags": []
   },
   "outputs": [
    {
     "name": "stdout",
     "output_type": "stream",
     "text": [
      "\n",
      "\n",
      "\u001b[1m> Entering new SQLDatabaseChain chain...\u001b[0m\n",
      " \n",
      "Human: Given an input question, create a syntactically correct sqlite query to run,\n",
      "then look at the results of the query and return only the answer.  \n",
      "The query: 2021년 1월의 주문 일자별 상관 관계를 일단위로 분석해줘\n",
      "\n",
      "Assistant:\n",
      "SQLQuery:\u001b[32;1m\u001b[1;3mSELECT purchased_on, COUNT(*) as count \n",
      "FROM orders\n",
      "WHERE purchased_on BETWEEN '2021-01-01' AND '2021-01-31'\n",
      "GROUP BY DATE(purchased_on)\n",
      "ORDER BY purchased_on\u001b[0m\n",
      "SQLResult: \u001b[33;1m\u001b[1;3m[('2021-01-01 11:19:14', 209), ('2021-01-02 03:13:16', 191), ('2021-01-03 06:05:47', 186), ('2021-01-04 13:55:16', 206), ('2021-01-05 08:32:00', 182), ('2021-01-06 05:56:56', 194), ('2021-01-07 08:32:18', 188), ('2021-01-08 00:22:21', 201), ('2021-01-09 17:27:24', 153), ('2021-01-10 14:34:23', 192), ('2021-01-11 21:26:18', 220), ('2021-01-12 15:23:46', 198), ('2021-01-13 03:34:22', 189), ('2021-01-14 21:59:06', 203), ('2021-01-15 11:22:18', 167), ('2021-01-16 21:50:24', 176), ('2021-01-17 10:23:24', 194), ('2021-01-18 00:39:44', 199), ('2021-01-19 20:48:38', 199), ('2021-01-20 08:00:56', 175), ('2021-01-21 08:24:04', 169), ('2021-01-22 03:07:26', 198), ('2021-01-23 07:15:38', 172), ('2021-01-24 12:36:39', 192), ('2021-01-25 02:18:38', 205), ('2021-01-26 05:46:59', 179), ('2021-01-27 00:15:58', 203), ('2021-01-28 11:29:40', 186), ('2021-01-29 02:33:34', 209), ('2021-01-30 08:21:49', 215)]\u001b[0m\n",
      "Answer:\u001b[32;1m\u001b[1;3m2021년 1월의 주문 일자별 상관 관계를 분석한 결과, 주문 건수는 일자별로 다르며 1월 11일에 가장 많은 220건의 주문이 있었고, 1월 15일에 가장 적은 167건의 주문이 있었습니다. 전체적으로 주문 건수는 150-220건 사이에서 변동을 보이는 것으로 분석됩니다.\u001b[0m\n",
      "\u001b[1m> Finished chain.\u001b[0m\n",
      "2021년 1월의 주문 일자별 상관 관계를 분석한 결과, 주문 건수는 일자별로 다르며 1월 11일에 가장 많은 220건의 주문이 있었고, 1월 15일에 가장 적은 167건의 주문이 있었습니다. 전체적으로 주문 건수는 150-220건 사이에서 변동을 보이는 것으로 분석됩니다.\n"
     ]
    }
   ],
   "source": [
    "question = \"2021년 1월의 주문 일자별 상관 관계를 일단위로 분석해줘\"\n",
    "\n",
    "final_answer = db_chain.run(PROMPT.format(question=question))\n",
    "print(final_answer)"
   ]
  },
  {
   "cell_type": "code",
   "execution_count": null,
   "metadata": {},
   "outputs": [],
   "source": []
  }
 ],
 "metadata": {
  "availableInstances": [
   {
    "_defaultOrder": 0,
    "_isFastLaunch": true,
    "category": "General purpose",
    "gpuNum": 0,
    "hideHardwareSpecs": false,
    "memoryGiB": 4,
    "name": "ml.t3.medium",
    "vcpuNum": 2
   },
   {
    "_defaultOrder": 1,
    "_isFastLaunch": false,
    "category": "General purpose",
    "gpuNum": 0,
    "hideHardwareSpecs": false,
    "memoryGiB": 8,
    "name": "ml.t3.large",
    "vcpuNum": 2
   },
   {
    "_defaultOrder": 2,
    "_isFastLaunch": false,
    "category": "General purpose",
    "gpuNum": 0,
    "hideHardwareSpecs": false,
    "memoryGiB": 16,
    "name": "ml.t3.xlarge",
    "vcpuNum": 4
   },
   {
    "_defaultOrder": 3,
    "_isFastLaunch": false,
    "category": "General purpose",
    "gpuNum": 0,
    "hideHardwareSpecs": false,
    "memoryGiB": 32,
    "name": "ml.t3.2xlarge",
    "vcpuNum": 8
   },
   {
    "_defaultOrder": 4,
    "_isFastLaunch": true,
    "category": "General purpose",
    "gpuNum": 0,
    "hideHardwareSpecs": false,
    "memoryGiB": 8,
    "name": "ml.m5.large",
    "vcpuNum": 2
   },
   {
    "_defaultOrder": 5,
    "_isFastLaunch": false,
    "category": "General purpose",
    "gpuNum": 0,
    "hideHardwareSpecs": false,
    "memoryGiB": 16,
    "name": "ml.m5.xlarge",
    "vcpuNum": 4
   },
   {
    "_defaultOrder": 6,
    "_isFastLaunch": false,
    "category": "General purpose",
    "gpuNum": 0,
    "hideHardwareSpecs": false,
    "memoryGiB": 32,
    "name": "ml.m5.2xlarge",
    "vcpuNum": 8
   },
   {
    "_defaultOrder": 7,
    "_isFastLaunch": false,
    "category": "General purpose",
    "gpuNum": 0,
    "hideHardwareSpecs": false,
    "memoryGiB": 64,
    "name": "ml.m5.4xlarge",
    "vcpuNum": 16
   },
   {
    "_defaultOrder": 8,
    "_isFastLaunch": false,
    "category": "General purpose",
    "gpuNum": 0,
    "hideHardwareSpecs": false,
    "memoryGiB": 128,
    "name": "ml.m5.8xlarge",
    "vcpuNum": 32
   },
   {
    "_defaultOrder": 9,
    "_isFastLaunch": false,
    "category": "General purpose",
    "gpuNum": 0,
    "hideHardwareSpecs": false,
    "memoryGiB": 192,
    "name": "ml.m5.12xlarge",
    "vcpuNum": 48
   },
   {
    "_defaultOrder": 10,
    "_isFastLaunch": false,
    "category": "General purpose",
    "gpuNum": 0,
    "hideHardwareSpecs": false,
    "memoryGiB": 256,
    "name": "ml.m5.16xlarge",
    "vcpuNum": 64
   },
   {
    "_defaultOrder": 11,
    "_isFastLaunch": false,
    "category": "General purpose",
    "gpuNum": 0,
    "hideHardwareSpecs": false,
    "memoryGiB": 384,
    "name": "ml.m5.24xlarge",
    "vcpuNum": 96
   },
   {
    "_defaultOrder": 12,
    "_isFastLaunch": false,
    "category": "General purpose",
    "gpuNum": 0,
    "hideHardwareSpecs": false,
    "memoryGiB": 8,
    "name": "ml.m5d.large",
    "vcpuNum": 2
   },
   {
    "_defaultOrder": 13,
    "_isFastLaunch": false,
    "category": "General purpose",
    "gpuNum": 0,
    "hideHardwareSpecs": false,
    "memoryGiB": 16,
    "name": "ml.m5d.xlarge",
    "vcpuNum": 4
   },
   {
    "_defaultOrder": 14,
    "_isFastLaunch": false,
    "category": "General purpose",
    "gpuNum": 0,
    "hideHardwareSpecs": false,
    "memoryGiB": 32,
    "name": "ml.m5d.2xlarge",
    "vcpuNum": 8
   },
   {
    "_defaultOrder": 15,
    "_isFastLaunch": false,
    "category": "General purpose",
    "gpuNum": 0,
    "hideHardwareSpecs": false,
    "memoryGiB": 64,
    "name": "ml.m5d.4xlarge",
    "vcpuNum": 16
   },
   {
    "_defaultOrder": 16,
    "_isFastLaunch": false,
    "category": "General purpose",
    "gpuNum": 0,
    "hideHardwareSpecs": false,
    "memoryGiB": 128,
    "name": "ml.m5d.8xlarge",
    "vcpuNum": 32
   },
   {
    "_defaultOrder": 17,
    "_isFastLaunch": false,
    "category": "General purpose",
    "gpuNum": 0,
    "hideHardwareSpecs": false,
    "memoryGiB": 192,
    "name": "ml.m5d.12xlarge",
    "vcpuNum": 48
   },
   {
    "_defaultOrder": 18,
    "_isFastLaunch": false,
    "category": "General purpose",
    "gpuNum": 0,
    "hideHardwareSpecs": false,
    "memoryGiB": 256,
    "name": "ml.m5d.16xlarge",
    "vcpuNum": 64
   },
   {
    "_defaultOrder": 19,
    "_isFastLaunch": false,
    "category": "General purpose",
    "gpuNum": 0,
    "hideHardwareSpecs": false,
    "memoryGiB": 384,
    "name": "ml.m5d.24xlarge",
    "vcpuNum": 96
   },
   {
    "_defaultOrder": 20,
    "_isFastLaunch": false,
    "category": "General purpose",
    "gpuNum": 0,
    "hideHardwareSpecs": true,
    "memoryGiB": 0,
    "name": "ml.geospatial.interactive",
    "supportedImageNames": [
     "sagemaker-geospatial-v1-0"
    ],
    "vcpuNum": 0
   },
   {
    "_defaultOrder": 21,
    "_isFastLaunch": true,
    "category": "Compute optimized",
    "gpuNum": 0,
    "hideHardwareSpecs": false,
    "memoryGiB": 4,
    "name": "ml.c5.large",
    "vcpuNum": 2
   },
   {
    "_defaultOrder": 22,
    "_isFastLaunch": false,
    "category": "Compute optimized",
    "gpuNum": 0,
    "hideHardwareSpecs": false,
    "memoryGiB": 8,
    "name": "ml.c5.xlarge",
    "vcpuNum": 4
   },
   {
    "_defaultOrder": 23,
    "_isFastLaunch": false,
    "category": "Compute optimized",
    "gpuNum": 0,
    "hideHardwareSpecs": false,
    "memoryGiB": 16,
    "name": "ml.c5.2xlarge",
    "vcpuNum": 8
   },
   {
    "_defaultOrder": 24,
    "_isFastLaunch": false,
    "category": "Compute optimized",
    "gpuNum": 0,
    "hideHardwareSpecs": false,
    "memoryGiB": 32,
    "name": "ml.c5.4xlarge",
    "vcpuNum": 16
   },
   {
    "_defaultOrder": 25,
    "_isFastLaunch": false,
    "category": "Compute optimized",
    "gpuNum": 0,
    "hideHardwareSpecs": false,
    "memoryGiB": 72,
    "name": "ml.c5.9xlarge",
    "vcpuNum": 36
   },
   {
    "_defaultOrder": 26,
    "_isFastLaunch": false,
    "category": "Compute optimized",
    "gpuNum": 0,
    "hideHardwareSpecs": false,
    "memoryGiB": 96,
    "name": "ml.c5.12xlarge",
    "vcpuNum": 48
   },
   {
    "_defaultOrder": 27,
    "_isFastLaunch": false,
    "category": "Compute optimized",
    "gpuNum": 0,
    "hideHardwareSpecs": false,
    "memoryGiB": 144,
    "name": "ml.c5.18xlarge",
    "vcpuNum": 72
   },
   {
    "_defaultOrder": 28,
    "_isFastLaunch": false,
    "category": "Compute optimized",
    "gpuNum": 0,
    "hideHardwareSpecs": false,
    "memoryGiB": 192,
    "name": "ml.c5.24xlarge",
    "vcpuNum": 96
   },
   {
    "_defaultOrder": 29,
    "_isFastLaunch": true,
    "category": "Accelerated computing",
    "gpuNum": 1,
    "hideHardwareSpecs": false,
    "memoryGiB": 16,
    "name": "ml.g4dn.xlarge",
    "vcpuNum": 4
   },
   {
    "_defaultOrder": 30,
    "_isFastLaunch": false,
    "category": "Accelerated computing",
    "gpuNum": 1,
    "hideHardwareSpecs": false,
    "memoryGiB": 32,
    "name": "ml.g4dn.2xlarge",
    "vcpuNum": 8
   },
   {
    "_defaultOrder": 31,
    "_isFastLaunch": false,
    "category": "Accelerated computing",
    "gpuNum": 1,
    "hideHardwareSpecs": false,
    "memoryGiB": 64,
    "name": "ml.g4dn.4xlarge",
    "vcpuNum": 16
   },
   {
    "_defaultOrder": 32,
    "_isFastLaunch": false,
    "category": "Accelerated computing",
    "gpuNum": 1,
    "hideHardwareSpecs": false,
    "memoryGiB": 128,
    "name": "ml.g4dn.8xlarge",
    "vcpuNum": 32
   },
   {
    "_defaultOrder": 33,
    "_isFastLaunch": false,
    "category": "Accelerated computing",
    "gpuNum": 4,
    "hideHardwareSpecs": false,
    "memoryGiB": 192,
    "name": "ml.g4dn.12xlarge",
    "vcpuNum": 48
   },
   {
    "_defaultOrder": 34,
    "_isFastLaunch": false,
    "category": "Accelerated computing",
    "gpuNum": 1,
    "hideHardwareSpecs": false,
    "memoryGiB": 256,
    "name": "ml.g4dn.16xlarge",
    "vcpuNum": 64
   },
   {
    "_defaultOrder": 35,
    "_isFastLaunch": false,
    "category": "Accelerated computing",
    "gpuNum": 1,
    "hideHardwareSpecs": false,
    "memoryGiB": 61,
    "name": "ml.p3.2xlarge",
    "vcpuNum": 8
   },
   {
    "_defaultOrder": 36,
    "_isFastLaunch": false,
    "category": "Accelerated computing",
    "gpuNum": 4,
    "hideHardwareSpecs": false,
    "memoryGiB": 244,
    "name": "ml.p3.8xlarge",
    "vcpuNum": 32
   },
   {
    "_defaultOrder": 37,
    "_isFastLaunch": false,
    "category": "Accelerated computing",
    "gpuNum": 8,
    "hideHardwareSpecs": false,
    "memoryGiB": 488,
    "name": "ml.p3.16xlarge",
    "vcpuNum": 64
   },
   {
    "_defaultOrder": 38,
    "_isFastLaunch": false,
    "category": "Accelerated computing",
    "gpuNum": 8,
    "hideHardwareSpecs": false,
    "memoryGiB": 768,
    "name": "ml.p3dn.24xlarge",
    "vcpuNum": 96
   },
   {
    "_defaultOrder": 39,
    "_isFastLaunch": false,
    "category": "Memory Optimized",
    "gpuNum": 0,
    "hideHardwareSpecs": false,
    "memoryGiB": 16,
    "name": "ml.r5.large",
    "vcpuNum": 2
   },
   {
    "_defaultOrder": 40,
    "_isFastLaunch": false,
    "category": "Memory Optimized",
    "gpuNum": 0,
    "hideHardwareSpecs": false,
    "memoryGiB": 32,
    "name": "ml.r5.xlarge",
    "vcpuNum": 4
   },
   {
    "_defaultOrder": 41,
    "_isFastLaunch": false,
    "category": "Memory Optimized",
    "gpuNum": 0,
    "hideHardwareSpecs": false,
    "memoryGiB": 64,
    "name": "ml.r5.2xlarge",
    "vcpuNum": 8
   },
   {
    "_defaultOrder": 42,
    "_isFastLaunch": false,
    "category": "Memory Optimized",
    "gpuNum": 0,
    "hideHardwareSpecs": false,
    "memoryGiB": 128,
    "name": "ml.r5.4xlarge",
    "vcpuNum": 16
   },
   {
    "_defaultOrder": 43,
    "_isFastLaunch": false,
    "category": "Memory Optimized",
    "gpuNum": 0,
    "hideHardwareSpecs": false,
    "memoryGiB": 256,
    "name": "ml.r5.8xlarge",
    "vcpuNum": 32
   },
   {
    "_defaultOrder": 44,
    "_isFastLaunch": false,
    "category": "Memory Optimized",
    "gpuNum": 0,
    "hideHardwareSpecs": false,
    "memoryGiB": 384,
    "name": "ml.r5.12xlarge",
    "vcpuNum": 48
   },
   {
    "_defaultOrder": 45,
    "_isFastLaunch": false,
    "category": "Memory Optimized",
    "gpuNum": 0,
    "hideHardwareSpecs": false,
    "memoryGiB": 512,
    "name": "ml.r5.16xlarge",
    "vcpuNum": 64
   },
   {
    "_defaultOrder": 46,
    "_isFastLaunch": false,
    "category": "Memory Optimized",
    "gpuNum": 0,
    "hideHardwareSpecs": false,
    "memoryGiB": 768,
    "name": "ml.r5.24xlarge",
    "vcpuNum": 96
   },
   {
    "_defaultOrder": 47,
    "_isFastLaunch": false,
    "category": "Accelerated computing",
    "gpuNum": 1,
    "hideHardwareSpecs": false,
    "memoryGiB": 16,
    "name": "ml.g5.xlarge",
    "vcpuNum": 4
   },
   {
    "_defaultOrder": 48,
    "_isFastLaunch": false,
    "category": "Accelerated computing",
    "gpuNum": 1,
    "hideHardwareSpecs": false,
    "memoryGiB": 32,
    "name": "ml.g5.2xlarge",
    "vcpuNum": 8
   },
   {
    "_defaultOrder": 49,
    "_isFastLaunch": false,
    "category": "Accelerated computing",
    "gpuNum": 1,
    "hideHardwareSpecs": false,
    "memoryGiB": 64,
    "name": "ml.g5.4xlarge",
    "vcpuNum": 16
   },
   {
    "_defaultOrder": 50,
    "_isFastLaunch": false,
    "category": "Accelerated computing",
    "gpuNum": 1,
    "hideHardwareSpecs": false,
    "memoryGiB": 128,
    "name": "ml.g5.8xlarge",
    "vcpuNum": 32
   },
   {
    "_defaultOrder": 51,
    "_isFastLaunch": false,
    "category": "Accelerated computing",
    "gpuNum": 1,
    "hideHardwareSpecs": false,
    "memoryGiB": 256,
    "name": "ml.g5.16xlarge",
    "vcpuNum": 64
   },
   {
    "_defaultOrder": 52,
    "_isFastLaunch": false,
    "category": "Accelerated computing",
    "gpuNum": 4,
    "hideHardwareSpecs": false,
    "memoryGiB": 192,
    "name": "ml.g5.12xlarge",
    "vcpuNum": 48
   },
   {
    "_defaultOrder": 53,
    "_isFastLaunch": false,
    "category": "Accelerated computing",
    "gpuNum": 4,
    "hideHardwareSpecs": false,
    "memoryGiB": 384,
    "name": "ml.g5.24xlarge",
    "vcpuNum": 96
   },
   {
    "_defaultOrder": 54,
    "_isFastLaunch": false,
    "category": "Accelerated computing",
    "gpuNum": 8,
    "hideHardwareSpecs": false,
    "memoryGiB": 768,
    "name": "ml.g5.48xlarge",
    "vcpuNum": 192
   },
   {
    "_defaultOrder": 55,
    "_isFastLaunch": false,
    "category": "Accelerated computing",
    "gpuNum": 8,
    "hideHardwareSpecs": false,
    "memoryGiB": 1152,
    "name": "ml.p4d.24xlarge",
    "vcpuNum": 96
   },
   {
    "_defaultOrder": 56,
    "_isFastLaunch": false,
    "category": "Accelerated computing",
    "gpuNum": 8,
    "hideHardwareSpecs": false,
    "memoryGiB": 1152,
    "name": "ml.p4de.24xlarge",
    "vcpuNum": 96
   }
  ],
  "instance_type": "ml.t3.medium",
  "kernelspec": {
   "display_name": "Python 3 (Data Science 3.0)",
   "language": "python",
   "name": "python3__SAGEMAKER_INTERNAL__arn:aws:sagemaker:us-east-1:081325390199:image/sagemaker-data-science-310-v1"
  },
  "language_info": {
   "codemirror_mode": {
    "name": "ipython",
    "version": 3
   },
   "file_extension": ".py",
   "mimetype": "text/x-python",
   "name": "python",
   "nbconvert_exporter": "python",
   "pygments_lexer": "ipython3",
   "version": "3.10.6"
  }
 },
 "nbformat": 4,
 "nbformat_minor": 4
}
