{
 "cells": [
  {
   "cell_type": "markdown",
   "id": "b621dd57-4f83-438e-8c0d-1f93362798fc",
   "metadata": {
    "tags": []
   },
   "source": [
    "# Amazon Bedrock과 LangChain을 이용한 \"비즈니스 데이터 분석을 위한 자연어 기반 BI\"\n",
    "\n",
    "---\n",
    "\n",
    "노트북 실행을 위해서 아래와 같이 노트북 환경을 Data Science 3.0, Python 3, ml.t3.medium로 지정합니다.\n",
    "<img src=\"images/nb-env.png\" width=\"600\"/>\n",
    "\n",
    "---\n",
    "\n",
    "이 노트북에서는 비즈니스 데이터 분석을 위한 자연어 기반 BI 구현하기 위한 생성형 AI 기반의 Text-to-SQL 기능을 위해 [Amazon Bedrock](https://aws.amazon.com/bedrock/)과 [LangChain](https://www.langchain.com/)을 사용합니다.\n",
    "\n",
    "Text-to-SQL 기능을 이용한다면 자연어만을 사용해서 구조화된 정보를 보유하고 있는 SQL 데이터베이스에 LLM을 연결하여 특정 비즈니스 데이터에 대한 답을 얻을 수 있습니다. 이때 LLM은 질문에 대한 답을 추출을 위해 데이터베이스에 초점을 맞추게 되며 SQL을 통해 데이터베이스에서 제공하는 정확한 정보를 반환할 수 있습니다. LangChain은 LLM을 다른 데이터소스로 연결할 수 있도록 하는 기능을 제공하여 개발자는 복잡한 애플리케이션을 쉽게 만들 수 있습니다.\n",
    "\n",
    "<img src=\"images/sql-agent.png\" width=\"800\"/>\n",
    "Image credits: https://www.langchain.com/\n",
    "\n",
    "### Text-to-SQL를 이용하여 아래와 같은 사례에 적용할 수 있습니다.\n",
    "* 데이터베이스 데이터를 기반으로 질문에 답할 수 있는 챗봇 만들기\n",
    "* 자연어 기반의 복잡한 쿼리 생성\n",
    "* 비기술 인력 및 이해관계자에 대한 데이터베이스 접근성 확대\n",
    "\n",
    "이 노트북에서는 사전에 생성된 Amazon Redshift Serverless를 사용하며 데이터베이스와 LLM 연결을 위해 LangChain을 사용합니다.\n",
    "노트북은 아래와 같은 구성으로 이루어져있습니다.\n",
    "1. Amazon Redshift Serverless 접속과 데이터 확인\n",
    "2. LangChain의 SQLDatabaseChain 사용 \n",
    "\n",
    "Amazon Bedrock과 LangChain을 이용한 Text-to-SQL 구조는 아래 다이어그램을 참조하세요.\n",
    "\n",
    "<img src=\"images/rs-architecture.png\" width=\"800\"/>\n",
    "\n",
    "데이터에 대한 질문을 위한 SQL 쿼리를 작성하기 위해서는 원하는 데이터와 조건 등을 지정하는 명령문을 전달합니다. 명령문은 프롬프트와 함께 전달되고 해당되는 데이터베이스에 맞는 SQL 문으로 변환됩니다. SQL문이 실행된 결과 데이터는 다시 LLM에 전달되고 프롬프트에 따라 LLM은 자연어로 결과를 제공해줍니다. 이때 자연어를 이용한 질의를 통해 복잡한 조인까지도 생성할 수 있어 SQL 쿼리를 생성하고 그 결과를 분석하는 것이 정말 쉬워집니다.\n",
    "\n",
    "---"
   ]
  },
  {
   "cell_type": "code",
   "execution_count": 2,
   "id": "7a907808-c748-4ef3-b68e-65a57e7d933e",
   "metadata": {
    "tags": []
   },
   "outputs": [
    {
     "name": "stdout",
     "output_type": "stream",
     "text": [
      "Requirement already satisfied: pip in /opt/conda/lib/python3.10/site-packages (23.2.1)\n",
      "Collecting pip\n",
      "  Obtaining dependency information for pip from https://files.pythonhosted.org/packages/47/6a/453160888fab7c6a432a6e25f8afe6256d0d9f2cbd25971021da6491d899/pip-23.3.1-py3-none-any.whl.metadata\n",
      "  Downloading pip-23.3.1-py3-none-any.whl.metadata (3.5 kB)\n",
      "Downloading pip-23.3.1-py3-none-any.whl (2.1 MB)\n",
      "\u001b[2K   \u001b[90m━━━━━━━━━━━━━━━━━━━━━━━━━━━━━━━━━━━━━━━━\u001b[0m \u001b[32m2.1/2.1 MB\u001b[0m \u001b[31m19.1 MB/s\u001b[0m eta \u001b[36m0:00:00\u001b[0m00:01\u001b[0m\n",
      "\u001b[?25hInstalling collected packages: pip\n",
      "  Attempting uninstall: pip\n",
      "    Found existing installation: pip 23.2.1\n",
      "    Uninstalling pip-23.2.1:\n",
      "      Successfully uninstalled pip-23.2.1\n",
      "Successfully installed pip-23.3.1\n",
      "\u001b[33mWARNING: Running pip as the 'root' user can result in broken permissions and conflicting behaviour with the system package manager. It is recommended to use a virtual environment instead: https://pip.pypa.io/warnings/venv\u001b[0m\u001b[33m\n",
      "\u001b[0mNote: you may need to restart the kernel to use updated packages.\n",
      "\u001b[33mWARNING: Running pip as the 'root' user can result in broken permissions and conflicting behaviour with the system package manager. It is recommended to use a virtual environment instead: https://pip.pypa.io/warnings/venv\u001b[0m\u001b[33m\n",
      "\u001b[0mNote: you may need to restart the kernel to use updated packages.\n"
     ]
    }
   ],
   "source": [
    "%pip install --upgrade pip\n",
    "%pip install -qU redshift_connector sqlalchemy-redshift\n",
    "# %pip install -qU 'sagemaker>=2.15.0' 'PyAthena==1.10.7' 'SQLAlchemy==1.3.13'"
   ]
  },
  {
   "cell_type": "code",
   "execution_count": 3,
   "id": "93261784-2bed-4b75-aaee-f23fe58b4c53",
   "metadata": {
    "tags": []
   },
   "outputs": [],
   "source": [
    "import os\n",
    "import boto3"
   ]
  },
  {
   "cell_type": "code",
   "execution_count": 4,
   "id": "69923d27-7563-4fdd-8785-7f6e19e654b6",
   "metadata": {
    "tags": []
   },
   "outputs": [],
   "source": [
    "my_region = os.environ[\"AWS_DEFAULT_REGION\"]   # E.g. \"us-east-1\"\n",
    "os.environ[\"BEDROCK_ENDPOINT_URL\"] = f\"https://bedrock-runtime.{my_region}.amazonaws.com\"  # E.g. \"https://...\"\n",
    "\n",
    "STACK_NAME = 'genai-workshop' # Cloudformation의 Stack Name을 입력합니다."
   ]
  },
  {
   "cell_type": "code",
   "execution_count": 5,
   "id": "e4a4d752-5c74-4f54-b5f4-d8aaf964d933",
   "metadata": {
    "tags": []
   },
   "outputs": [
    {
     "data": {
      "text/plain": [
       "'workshop-workgroup.847828727744.us-east-1.redshift-serverless.amazonaws.com'"
      ]
     },
     "execution_count": 5,
     "metadata": {},
     "output_type": "execute_result"
    }
   ],
   "source": [
    "# Redshift Serverless로 연결을 위한 Endpoint를 Cloudformation에서 읽어옵니다.\n",
    "\n",
    "cf_client = boto3.client('cloudformation')\n",
    "response = cf_client.describe_stacks()\n",
    "\n",
    "for output in response[\"Stacks\"]:\n",
    "    stackName = output[\"StackName\"]\n",
    "    if stackName.find('Redshift') > 0:\n",
    "        response = cf_client.describe_stacks(StackName=stackName)\n",
    "        for output in response[\"Stacks\"][0][\"Outputs\"]:\n",
    "            keyName = output[\"OutputKey\"]\n",
    "            if keyName == \"ServerlessWorkgroup\":\n",
    "                WORK_GROUP = output[\"OutputValue\"]\n",
    "            if keyName == \"ServerlessNamespace\":\n",
    "                NAME_SPACE = output[\"OutputValue\"]\n",
    "\n",
    "rs_client = boto3.client('redshift-serverless')\n",
    "response = rs_client.get_workgroup(\n",
    "    workgroupName=WORK_GROUP\n",
    ")\n",
    "\n",
    "redshift_endpoint = response['workgroup']['endpoint']['address']\n",
    "\n",
    "redshift_endpoint"
   ]
  },
  {
   "cell_type": "markdown",
   "id": "7228a434-1f78-451e-afde-2e1014e973a1",
   "metadata": {},
   "source": [
    "# Redshift Serverless 테이블 생성과 데이터 로딩\n",
    "\n",
    "### 본 노트북에서 사용되는 일반적인 기업에서 사용될 수 있는 가상의 데이터를 참고했습니다.\n",
    "- region (P: R_REGIONKEY): 지역 정보; 지역 이름과 설명\n",
    "- nation (P: N_NATIONKEY): 국가 정보; 국가 이름, 지역 키, 설명\n",
    "- customer (P: C_CUSTKEY): 고객 정보; 고객의 이름, 주소, 국가 키, 전화번호, 계정 잔액 \n",
    "- orders (P: O_ORDERKEY): 주문 정보; 주문 상태, 총 가격, 주문일자, 우선 순위; 주문키(distkey), 주문일자(sortkey)\n",
    "- part (P: P_PARTKEY): 제품 정보; 제품 이름, 제조사, 브랜드, 유형, 크기, 가격\n",
    "- supplier (P: S_SUPPKEY): 공급업체 정보; 업체 이름, 주소, 국가 키, 전화번호, 계정 잔액\n",
    "- lineitem (P: L_ORDERKEY): 주문 라인 항목 정보; 주문 제품, 공급업체, 라인 번호, 수량, 확장 가격, 할인, 세금; 주문키(distkey), 수령 일자(sortkey)\n",
    "- partsupp (P: PS_PARTKEY, PS_SUPPKEY): 제품-공급업체 관계 정보; 제품의 가용 수량, 공급 비용, 설명"
   ]
  },
  {
   "cell_type": "markdown",
   "id": "23485f95-057d-4aee-91c1-69565aef38cb",
   "metadata": {},
   "source": [
    "## 중요!: 본 실습에 필요한 Redshift Serverless 권한 적용을 위해서는 사용할 IAM Role을 Default Type으로 지정해야합니다.\n",
    "\n",
    "#### AWS 콘솔에서 Redshift 메뉴로 이동합니다. 그리고 아래와 같이 Redshift Serverless의 Namespace중 `workshop-namespace`를 클릭합니다. 그리고 `Security and encryption`탭에서 실습에 사용할 Role인 `SageMakerUserExecutionRole`을 Default Role Type으로 만들기 위해서 `Manage IAM Role`을 클릭합니다.\n",
    "\n",
    "<img src=\"images/namespace.png\" width=\"800\"/>\n",
    "\n",
    "#### `SageMakerUserExecutionRole`을 선택하고 상단의 `Set default`에서 `Make default`를 클릭하여 Role Type을 Default로 만듭니다. 그리고 `반드시` `Save changes`를 클릭합니다.\n",
    "\n",
    "<img src=\"images/make-default.png\" width=\"800\"/>"
   ]
  },
  {
   "cell_type": "code",
   "execution_count": 6,
   "id": "3d9873b2-1d4a-467e-a334-c5f88d7f4e47",
   "metadata": {
    "tags": []
   },
   "outputs": [],
   "source": [
    "import redshift_connector\n",
    "\n",
    "conn = redshift_connector.connect(\n",
    "     host=redshift_endpoint,\n",
    "     database='dev',\n",
    "     port=5439,\n",
    "     user=\"admin\",\n",
    "     password=\"Admin1234!\"\n",
    ")\n",
    "\n",
    "conn.autocommit = True\n",
    "cursor = conn.cursor()"
   ]
  },
  {
   "cell_type": "markdown",
   "id": "a7cd8cdd-9a08-4b7a-91ff-2613342a35e1",
   "metadata": {
    "tags": []
   },
   "source": [
    "## Redshift Serverless에 테이블 생성"
   ]
  },
  {
   "cell_type": "code",
   "execution_count": 7,
   "id": "f4b2a219-fca3-4213-8da5-fae2b9916ca8",
   "metadata": {
    "tags": []
   },
   "outputs": [
    {
     "data": {
      "text/plain": [
       "<redshift_connector.cursor.Cursor at 0x7fb1e6f9b940>"
      ]
     },
     "execution_count": 7,
     "metadata": {},
     "output_type": "execute_result"
    }
   ],
   "source": [
    "cursor.execute(\"DROP TABLE IF EXISTS region\")\n",
    "\n",
    "create_statement = \"\"\"\n",
    "CREATE TABLE region (\n",
    "  R_REGIONKEY bigint NOT NULL,\n",
    "  R_NAME varchar(25),\n",
    "  R_COMMENT varchar(152))\n",
    "diststyle all;\n",
    "\"\"\"\n",
    "cursor.execute(create_statement)\n"
   ]
  },
  {
   "cell_type": "code",
   "execution_count": 8,
   "id": "29957b65-8ed7-4db4-adf3-7cd7e1edaaaf",
   "metadata": {
    "tags": []
   },
   "outputs": [
    {
     "data": {
      "text/plain": [
       "<redshift_connector.cursor.Cursor at 0x7fb1e6f9b940>"
      ]
     },
     "execution_count": 8,
     "metadata": {},
     "output_type": "execute_result"
    }
   ],
   "source": [
    "cursor.execute(\"DROP TABLE IF EXISTS nation\")\n",
    "\n",
    "create_statement = \"\"\"\n",
    "CREATE TABLE nation (\n",
    "  N_NATIONKEY bigint NOT NULL,\n",
    "  N_NAME varchar(25),\n",
    "  N_REGIONKEY bigint,\n",
    "  N_COMMENT varchar(152))\n",
    "diststyle all;\n",
    "\"\"\"\n",
    "cursor.execute(create_statement)"
   ]
  },
  {
   "cell_type": "code",
   "execution_count": 9,
   "id": "981fb907-48ea-4d5a-9443-f06f08f1f18c",
   "metadata": {
    "tags": []
   },
   "outputs": [
    {
     "data": {
      "text/plain": [
       "<redshift_connector.cursor.Cursor at 0x7fb1e6f9b940>"
      ]
     },
     "execution_count": 9,
     "metadata": {},
     "output_type": "execute_result"
    }
   ],
   "source": [
    "cursor.execute(\"DROP TABLE IF EXISTS customer\")\n",
    "\n",
    "create_statement = \"\"\"\n",
    "create table customer (\n",
    "  C_CUSTKEY bigint NOT NULL,\n",
    "  C_NAME varchar(25),\n",
    "  C_ADDRESS varchar(40),\n",
    "  C_NATIONKEY bigint,\n",
    "  C_PHONE varchar(15),\n",
    "  C_ACCTBAL decimal(18,4),\n",
    "  C_MKTSEGMENT varchar(10),\n",
    "  C_COMMENT varchar(117))\n",
    "diststyle all;\n",
    "\"\"\"\n",
    "cursor.execute(create_statement)"
   ]
  },
  {
   "cell_type": "code",
   "execution_count": 10,
   "id": "c37e90f0-bc42-4626-8931-1e00a2415caa",
   "metadata": {
    "tags": []
   },
   "outputs": [
    {
     "data": {
      "text/plain": [
       "<redshift_connector.cursor.Cursor at 0x7fb1e6f9b940>"
      ]
     },
     "execution_count": 10,
     "metadata": {},
     "output_type": "execute_result"
    }
   ],
   "source": [
    "cursor.execute(\"DROP TABLE IF EXISTS orders\")\n",
    "\n",
    "create_statement = \"\"\"\n",
    "create table orders (\n",
    "  O_ORDERKEY bigint NOT NULL,\n",
    "  O_CUSTKEY bigint,\n",
    "  O_ORDERSTATUS varchar(1),\n",
    "  O_TOTALPRICE decimal(18,4),\n",
    "  O_ORDERDATE Date,\n",
    "  O_ORDERPRIORITY varchar(15),\n",
    "  O_CLERK varchar(15),\n",
    "  O_SHIPPRIORITY Integer,\n",
    "  O_COMMENT varchar(79))\n",
    "distkey (O_ORDERKEY)\n",
    "sortkey (O_ORDERDATE);\n",
    "\"\"\"\n",
    "cursor.execute(create_statement)"
   ]
  },
  {
   "cell_type": "code",
   "execution_count": 11,
   "id": "27f82b1f-63d5-4d63-ac78-d957a8b9d78d",
   "metadata": {
    "tags": []
   },
   "outputs": [
    {
     "data": {
      "text/plain": [
       "<redshift_connector.cursor.Cursor at 0x7fb1e6f9b940>"
      ]
     },
     "execution_count": 11,
     "metadata": {},
     "output_type": "execute_result"
    }
   ],
   "source": [
    "cursor.execute(\"DROP TABLE IF EXISTS part\")\n",
    "\n",
    "create_statement = \"\"\"\n",
    "create table part (\n",
    "  P_PARTKEY bigint NOT NULL,\n",
    "  P_NAME varchar(55),\n",
    "  P_MFGR  varchar(25),\n",
    "  P_BRAND varchar(10),\n",
    "  P_TYPE varchar(25),\n",
    "  P_SIZE integer,\n",
    "  P_CONTAINER varchar(10),\n",
    "  P_RETAILPRICE decimal(18,4),\n",
    "  P_COMMENT varchar(23))\n",
    "diststyle all;\n",
    "\"\"\"\n",
    "cursor.execute(create_statement)"
   ]
  },
  {
   "cell_type": "code",
   "execution_count": 12,
   "id": "017611ef-9a55-483b-a92b-454964694b1c",
   "metadata": {
    "tags": []
   },
   "outputs": [
    {
     "data": {
      "text/plain": [
       "<redshift_connector.cursor.Cursor at 0x7fb1e6f9b940>"
      ]
     },
     "execution_count": 12,
     "metadata": {},
     "output_type": "execute_result"
    }
   ],
   "source": [
    "cursor.execute(\"DROP TABLE IF EXISTS supplier\")\n",
    "\n",
    "create_statement = \"\"\"\n",
    "create table supplier (\n",
    "  S_SUPPKEY bigint NOT NULL,\n",
    "  S_NAME varchar(25),\n",
    "  S_ADDRESS varchar(40),\n",
    "  S_NATIONKEY bigint,\n",
    "  S_PHONE varchar(15),\n",
    "  S_ACCTBAL decimal(18,4),\n",
    "  S_COMMENT varchar(101))\n",
    "diststyle all;                                                              \n",
    "\"\"\"\n",
    "cursor.execute(create_statement)"
   ]
  },
  {
   "cell_type": "code",
   "execution_count": 13,
   "id": "29abf3b3-4dd2-413e-a553-6bbb5bb7cd30",
   "metadata": {
    "tags": []
   },
   "outputs": [
    {
     "data": {
      "text/plain": [
       "<redshift_connector.cursor.Cursor at 0x7fb1e6f9b940>"
      ]
     },
     "execution_count": 13,
     "metadata": {},
     "output_type": "execute_result"
    }
   ],
   "source": [
    "cursor.execute(\"DROP TABLE IF EXISTS lineitem\")\n",
    "\n",
    "create_statement = \"\"\"\n",
    "create table lineitem (\n",
    "  L_ORDERKEY bigint NOT NULL,\n",
    "  L_PARTKEY bigint,\n",
    "  L_SUPPKEY bigint,\n",
    "  L_LINENUMBER integer NOT NULL,\n",
    "  L_QUANTITY decimal(18,4),\n",
    "  L_EXTENDEDPRICE decimal(18,4),\n",
    "  L_DISCOUNT decimal(18,4),\n",
    "  L_TAX decimal(18,4),\n",
    "  L_RETURNFLAG varchar(1),\n",
    "  L_LINESTATUS varchar(1),\n",
    "  L_SHIPDATE date,\n",
    "  L_COMMITDATE date,\n",
    "  L_RECEIPTDATE date,\n",
    "  L_SHIPINSTRUCT varchar(25),\n",
    "  L_SHIPMODE varchar(10),\n",
    "  L_COMMENT varchar(44))\n",
    "distkey (L_ORDERKEY)\n",
    "sortkey (L_RECEIPTDATE);\n",
    "\"\"\"\n",
    "cursor.execute(create_statement)"
   ]
  },
  {
   "cell_type": "code",
   "execution_count": 14,
   "id": "63a8ae9c-1d25-4583-a007-8ba00a3bb5b4",
   "metadata": {
    "tags": []
   },
   "outputs": [
    {
     "data": {
      "text/plain": [
       "<redshift_connector.cursor.Cursor at 0x7fb1e6f9b940>"
      ]
     },
     "execution_count": 14,
     "metadata": {},
     "output_type": "execute_result"
    }
   ],
   "source": [
    "cursor.execute(\"DROP TABLE IF EXISTS partsupp\")\n",
    "\n",
    "create_statement = \"\"\"\n",
    "create table partsupp (\n",
    "  PS_PARTKEY bigint NOT NULL,\n",
    "  PS_SUPPKEY bigint NOT NULL,\n",
    "  PS_AVAILQTY integer,\n",
    "  PS_SUPPLYCOST decimal(18,4),\n",
    "  PS_COMMENT varchar(199))\n",
    "diststyle even;\n",
    "\"\"\"\n",
    "cursor.execute(create_statement)"
   ]
  },
  {
   "cell_type": "markdown",
   "id": "b4a387fe-4886-42a7-9493-788cca41e144",
   "metadata": {},
   "source": [
    "## Redshift Serverless에 데이터 로딩"
   ]
  },
  {
   "cell_type": "markdown",
   "id": "848bc7a6-8a3e-4cec-a0bf-a0f50e8b2ee7",
   "metadata": {},
   "source": [
    "### Note: S3부터 데이터 Copy를 위해서는 반드시 앞에서 설명한 Set Default IAM Role in Redshift Serverless을 수행해야합니다."
   ]
  },
  {
   "cell_type": "code",
   "execution_count": 16,
   "id": "58d6a645-9329-41dc-8fa9-8f7103e65505",
   "metadata": {
    "tags": []
   },
   "outputs": [
    {
     "data": {
      "text/plain": [
       "<redshift_connector.cursor.Cursor at 0x7fb1e6f9b940>"
      ]
     },
     "execution_count": 16,
     "metadata": {},
     "output_type": "execute_result"
    }
   ],
   "source": [
    "load_data_statement = \"\"\"\n",
    "COPY region FROM 's3://redshift-immersionday-labs/data/region/region.tbl.lzo'\n",
    "iam_role default\n",
    "region 'us-west-2' lzop delimiter '|' COMPUPDATE PRESET;\n",
    "\"\"\"\n",
    "cursor.execute(load_data_statement)"
   ]
  },
  {
   "cell_type": "code",
   "execution_count": 17,
   "id": "6f20c289-17ef-4a01-a91c-e8dd5fe09852",
   "metadata": {
    "tags": []
   },
   "outputs": [
    {
     "data": {
      "text/plain": [
       "<redshift_connector.cursor.Cursor at 0x7fb1e6f9b940>"
      ]
     },
     "execution_count": 17,
     "metadata": {},
     "output_type": "execute_result"
    }
   ],
   "source": [
    "load_data_statement = \"\"\"\n",
    "COPY nation FROM 's3://redshift-immersionday-labs/data/nation/nation.tbl.'\n",
    "iam_role default\n",
    "region 'us-west-2' lzop delimiter '|' COMPUPDATE PRESET;\n",
    "\"\"\"\n",
    "cursor.execute(load_data_statement)"
   ]
  },
  {
   "cell_type": "code",
   "execution_count": 18,
   "id": "f1d2da10-d40d-4c51-8ddc-f2d5227930f9",
   "metadata": {
    "tags": []
   },
   "outputs": [
    {
     "data": {
      "text/plain": [
       "<redshift_connector.cursor.Cursor at 0x7fb1e6f9b940>"
      ]
     },
     "execution_count": 18,
     "metadata": {},
     "output_type": "execute_result"
    }
   ],
   "source": [
    "load_data_statement = \"\"\"\n",
    "copy customer from 's3://redshift-immersionday-labs/data/customer/customer.tbl.'\n",
    "iam_role default\n",
    "region 'us-west-2' lzop delimiter '|' COMPUPDATE PRESET;\n",
    "\"\"\"\n",
    "cursor.execute(load_data_statement)"
   ]
  },
  {
   "cell_type": "code",
   "execution_count": 19,
   "id": "46de3ec0-e546-4c08-b60e-7946feef42ef",
   "metadata": {
    "tags": []
   },
   "outputs": [
    {
     "data": {
      "text/plain": [
       "<redshift_connector.cursor.Cursor at 0x7fb1e6f9b940>"
      ]
     },
     "execution_count": 19,
     "metadata": {},
     "output_type": "execute_result"
    }
   ],
   "source": [
    "load_data_statement = \"\"\"\n",
    "copy orders from 's3://redshift-immersionday-labs/data/orders/orders.tbl.'\n",
    "iam_role default\n",
    "region 'us-west-2' lzop delimiter '|' COMPUPDATE PRESET;\n",
    "\"\"\"\n",
    "cursor.execute(load_data_statement)"
   ]
  },
  {
   "cell_type": "code",
   "execution_count": 20,
   "id": "ca37abc4-65c6-46a7-a2b9-a82a1ef5a568",
   "metadata": {
    "tags": []
   },
   "outputs": [
    {
     "data": {
      "text/plain": [
       "<redshift_connector.cursor.Cursor at 0x7fb1e6f9b940>"
      ]
     },
     "execution_count": 20,
     "metadata": {},
     "output_type": "execute_result"
    }
   ],
   "source": [
    "load_data_statement = \"\"\"\n",
    "copy part from 's3://redshift-immersionday-labs/data/part/part.tbl.'\n",
    "iam_role default\n",
    "region 'us-west-2' lzop delimiter '|' COMPUPDATE PRESET;\n",
    "\"\"\"\n",
    "cursor.execute(load_data_statement)"
   ]
  },
  {
   "cell_type": "code",
   "execution_count": 21,
   "id": "ff29fc5a-26c0-4798-a830-adf096e047b2",
   "metadata": {
    "tags": []
   },
   "outputs": [
    {
     "data": {
      "text/plain": [
       "<redshift_connector.cursor.Cursor at 0x7fb1e6f9b940>"
      ]
     },
     "execution_count": 21,
     "metadata": {},
     "output_type": "execute_result"
    }
   ],
   "source": [
    "load_data_statement = \"\"\"\n",
    "copy supplier from 's3://redshift-immersionday-labs/data/supplier/supplier.json' manifest\n",
    "iam_role default\n",
    "region 'us-west-2' lzop delimiter '|' COMPUPDATE PRESET;\n",
    "\"\"\"\n",
    "cursor.execute(load_data_statement)"
   ]
  },
  {
   "cell_type": "code",
   "execution_count": 22,
   "id": "922998c8-d598-4d6f-af82-395c894d2f96",
   "metadata": {
    "tags": []
   },
   "outputs": [
    {
     "data": {
      "text/plain": [
       "<redshift_connector.cursor.Cursor at 0x7fb1e6f9b940>"
      ]
     },
     "execution_count": 22,
     "metadata": {},
     "output_type": "execute_result"
    }
   ],
   "source": [
    "load_data_statement = \"\"\"\n",
    "copy lineitem from 's3://redshift-immersionday-labs/data/lineitem-part/'\n",
    "iam_role default\n",
    "region 'us-west-2' gzip delimiter '|' COMPUPDATE PRESET;\n",
    "\"\"\"\n",
    "cursor.execute(load_data_statement)"
   ]
  },
  {
   "cell_type": "code",
   "execution_count": 23,
   "id": "a32515f6-6f6e-4718-8d18-83bff70a8f29",
   "metadata": {
    "tags": []
   },
   "outputs": [
    {
     "data": {
      "text/plain": [
       "<redshift_connector.cursor.Cursor at 0x7fb1e6f9b940>"
      ]
     },
     "execution_count": 23,
     "metadata": {},
     "output_type": "execute_result"
    }
   ],
   "source": [
    "load_data_statement = \"\"\"\n",
    "copy partsupp from 's3://redshift-immersionday-labs/data/partsupp/partsupp.tbl.'\n",
    "iam_role default\n",
    "region 'us-west-2' lzop delimiter '|' COMPUPDATE PRESET;\n",
    "\"\"\"\n",
    "cursor.execute(load_data_statement)"
   ]
  },
  {
   "cell_type": "markdown",
   "id": "a9db72bf-42b0-4a17-a4e1-36755f93e278",
   "metadata": {},
   "source": [
    "Redshift Serverless 데이터 로딩 확인"
   ]
  },
  {
   "cell_type": "code",
   "execution_count": 24,
   "id": "bc7b227a-7fa8-471d-bd97-dc804ed7913c",
   "metadata": {
    "tags": []
   },
   "outputs": [
    {
     "name": "stdout",
     "output_type": "stream",
     "text": [
      "\u001b[31mERROR: pip's dependency resolver does not currently take into account all the packages that are installed. This behaviour is the source of the following dependency conflicts.\n",
      "sqlalchemy-redshift 0.8.14 requires SQLAlchemy<2.0.0,>=0.9.2, but you have sqlalchemy 2.0.23 which is incompatible.\u001b[0m\u001b[31m\n",
      "\u001b[0m\u001b[33mWARNING: Running pip as the 'root' user can result in broken permissions and conflicting behaviour with the system package manager. It is recommended to use a virtual environment instead: https://pip.pypa.io/warnings/venv\u001b[0m\u001b[33m\n",
      "\u001b[0mNote: you may need to restart the kernel to use updated packages.\n",
      "\u001b[31mERROR: pip's dependency resolver does not currently take into account all the packages that are installed. This behaviour is the source of the following dependency conflicts.\n",
      "ipython-sql 0.5.0 requires sqlalchemy>=2.0, but you have sqlalchemy 1.4.50 which is incompatible.\u001b[0m\u001b[31m\n",
      "\u001b[0m\u001b[33mWARNING: Running pip as the 'root' user can result in broken permissions and conflicting behaviour with the system package manager. It is recommended to use a virtual environment instead: https://pip.pypa.io/warnings/venv\u001b[0m\u001b[33m\n",
      "\u001b[0mNote: you may need to restart the kernel to use updated packages.\n",
      "\u001b[33mWARNING: Running pip as the 'root' user can result in broken permissions and conflicting behaviour with the system package manager. It is recommended to use a virtual environment instead: https://pip.pypa.io/warnings/venv\u001b[0m\u001b[33m\n",
      "\u001b[0mNote: you may need to restart the kernel to use updated packages.\n"
     ]
    },
    {
     "data": {
      "text/html": [
       "<div>\n",
       "<style scoped>\n",
       "    .dataframe tbody tr th:only-of-type {\n",
       "        vertical-align: middle;\n",
       "    }\n",
       "\n",
       "    .dataframe tbody tr th {\n",
       "        vertical-align: top;\n",
       "    }\n",
       "\n",
       "    .dataframe thead th {\n",
       "        text-align: right;\n",
       "    }\n",
       "</style>\n",
       "<table border=\"1\" class=\"dataframe\">\n",
       "  <thead>\n",
       "    <tr style=\"text-align: right;\">\n",
       "      <th></th>\n",
       "      <th>o_orderkey</th>\n",
       "      <th>o_custkey</th>\n",
       "      <th>o_orderstatus</th>\n",
       "      <th>o_totalprice</th>\n",
       "      <th>o_orderdate</th>\n",
       "      <th>o_orderpriority</th>\n",
       "      <th>o_clerk</th>\n",
       "      <th>o_shippriority</th>\n",
       "      <th>o_comment</th>\n",
       "    </tr>\n",
       "  </thead>\n",
       "  <tbody>\n",
       "    <tr>\n",
       "      <th>0</th>\n",
       "      <td>28016384</td>\n",
       "      <td>7237831</td>\n",
       "      <td>F</td>\n",
       "      <td>171117.57</td>\n",
       "      <td>1992-01-01</td>\n",
       "      <td>1-URGENT</td>\n",
       "      <td>Clerk#000085613</td>\n",
       "      <td>0</td>\n",
       "      <td>ly across the furiou</td>\n",
       "    </tr>\n",
       "    <tr>\n",
       "      <th>1</th>\n",
       "      <td>232003557</td>\n",
       "      <td>8482363</td>\n",
       "      <td>F</td>\n",
       "      <td>41783.04</td>\n",
       "      <td>1992-01-01</td>\n",
       "      <td>2-HIGH</td>\n",
       "      <td>Clerk#000018568</td>\n",
       "      <td>0</td>\n",
       "      <td>along the thinly bold platelets. carefully bol...</td>\n",
       "    </tr>\n",
       "    <tr>\n",
       "      <th>2</th>\n",
       "      <td>260044870</td>\n",
       "      <td>7861456</td>\n",
       "      <td>F</td>\n",
       "      <td>77431.78</td>\n",
       "      <td>1992-01-01</td>\n",
       "      <td>3-MEDIUM</td>\n",
       "      <td>Clerk#000099484</td>\n",
       "      <td>0</td>\n",
       "      <td>he epitaphs. doggedly e</td>\n",
       "    </tr>\n",
       "    <tr>\n",
       "      <th>3</th>\n",
       "      <td>16079264</td>\n",
       "      <td>5626421</td>\n",
       "      <td>F</td>\n",
       "      <td>233083.65</td>\n",
       "      <td>1992-01-01</td>\n",
       "      <td>5-LOW</td>\n",
       "      <td>Clerk#000016663</td>\n",
       "      <td>0</td>\n",
       "      <td>ing instructions haggl</td>\n",
       "    </tr>\n",
       "    <tr>\n",
       "      <th>4</th>\n",
       "      <td>252058753</td>\n",
       "      <td>9113686</td>\n",
       "      <td>F</td>\n",
       "      <td>81319.30</td>\n",
       "      <td>1992-01-01</td>\n",
       "      <td>1-URGENT</td>\n",
       "      <td>Clerk#000098592</td>\n",
       "      <td>0</td>\n",
       "      <td>ly special ideas do are. blithely ironic instr...</td>\n",
       "    </tr>\n",
       "  </tbody>\n",
       "</table>\n",
       "</div>"
      ],
      "text/plain": [
       "   o_orderkey  o_custkey o_orderstatus  o_totalprice o_orderdate  \\\n",
       "0    28016384    7237831             F     171117.57  1992-01-01   \n",
       "1   232003557    8482363             F      41783.04  1992-01-01   \n",
       "2   260044870    7861456             F      77431.78  1992-01-01   \n",
       "3    16079264    5626421             F     233083.65  1992-01-01   \n",
       "4   252058753    9113686             F      81319.30  1992-01-01   \n",
       "\n",
       "  o_orderpriority          o_clerk  o_shippriority  \\\n",
       "0        1-URGENT  Clerk#000085613               0   \n",
       "1          2-HIGH  Clerk#000018568               0   \n",
       "2        3-MEDIUM  Clerk#000099484               0   \n",
       "3           5-LOW  Clerk#000016663               0   \n",
       "4        1-URGENT  Clerk#000098592               0   \n",
       "\n",
       "                                           o_comment  \n",
       "0                               ly across the furiou  \n",
       "1  along the thinly bold platelets. carefully bol...  \n",
       "2                            he epitaphs. doggedly e  \n",
       "3                             ing instructions haggl  \n",
       "4  ly special ideas do are. blithely ironic instr...  "
      ]
     },
     "execution_count": 24,
     "metadata": {},
     "output_type": "execute_result"
    }
   ],
   "source": [
    "%pip install --quiet ipython-sql\n",
    "%pip install --quiet --upgrade SQLAlchemy==1.*\n",
    "%pip install -qU psycopg2-binary\n",
    "\n",
    "import pandas as pd\n",
    "import sqlalchemy\n",
    "\n",
    "username = \"admin\" \n",
    "password = \"Admin1234!\" \n",
    "host = redshift_endpoint \n",
    "port = \"5439\"\n",
    "mydatabase = \"dev\"\n",
    "\n",
    "redshift_uri = f\"postgresql+psycopg2://{username}:{password}@{host}:{port}/{mydatabase}\"\n",
    "\n",
    "engine = sqlalchemy.create_engine(redshift_uri)\n",
    "df = pd.read_sql('select * from orders limit 10', engine)\n",
    "df.head()"
   ]
  },
  {
   "cell_type": "markdown",
   "id": "a182a758-cfeb-47e0-b405-12427b5c4c91",
   "metadata": {},
   "source": [
    "# LangChain SQLDatabase 설정"
   ]
  },
  {
   "cell_type": "code",
   "execution_count": 25,
   "id": "868c6cef-dcd5-40b2-bda9-85876f4ab9bb",
   "metadata": {
    "tags": []
   },
   "outputs": [
    {
     "name": "stdout",
     "output_type": "stream",
     "text": [
      "\u001b[33mWARNING: Running pip as the 'root' user can result in broken permissions and conflicting behaviour with the system package manager. It is recommended to use a virtual environment instead: https://pip.pypa.io/warnings/venv\u001b[0m\u001b[33m\n",
      "\u001b[0mNote: you may need to restart the kernel to use updated packages.\n"
     ]
    }
   ],
   "source": [
    "%pip install -qU langchain langchain-experimental"
   ]
  },
  {
   "cell_type": "code",
   "execution_count": 26,
   "id": "89ec28e2-3f32-4ecd-a790-9b51319ee881",
   "metadata": {
    "tags": []
   },
   "outputs": [],
   "source": [
    "import os\n",
    "import sys\n",
    "import boto3\n",
    "\n",
    "from langchain.llms.bedrock import Bedrock\n",
    "\n",
    "BEDROCK_ENDPOINT_URL = os.environ[\"BEDROCK_ENDPOINT_URL\"] \n",
    "\n",
    "session = boto3.Session(\n",
    "    profile_name=os.environ.get(\"AWS_PROFILE\")\n",
    ") \n",
    "\n",
    "bedrock = session.client(\n",
    "    service_name='bedrock-runtime', \n",
    "    region_name=os.environ.get(\"AWS_DEFAULT_REGION\"),\n",
    "    endpoint_url=BEDROCK_ENDPOINT_URL\n",
    ") \n",
    "\n",
    "# - create the Anthropic Model\n",
    "llm = Bedrock(model_id=\"anthropic.claude-v2\", client=bedrock, model_kwargs={'max_tokens_to_sample':1000, 'temperature':0})"
   ]
  },
  {
   "cell_type": "code",
   "execution_count": 27,
   "id": "55b9b089-7305-40f8-9508-5cb8ad0d3573",
   "metadata": {
    "tags": []
   },
   "outputs": [],
   "source": [
    "from langchain import SQLDatabase\n",
    "from langchain_experimental.sql import SQLDatabaseChain\n",
    "\n",
    "db = SQLDatabase.from_uri(redshift_uri)"
   ]
  },
  {
   "cell_type": "code",
   "execution_count": 28,
   "id": "490dd9f7-14bf-4d1d-a9e0-0341b47bcddb",
   "metadata": {
    "tags": []
   },
   "outputs": [
    {
     "name": "stdout",
     "output_type": "stream",
     "text": [
      "\n",
      "CREATE TABLE customer (\n",
      "\tc_custkey BIGINT NOT NULL, \n",
      "\tc_name VARCHAR(25), \n",
      "\tc_address VARCHAR(40), \n",
      "\tc_nationkey BIGINT, \n",
      "\tc_phone VARCHAR(15), \n",
      "\tc_acctbal NUMERIC(18, 4), \n",
      "\tc_mktsegment VARCHAR(10), \n",
      "\tc_comment VARCHAR(117)\n",
      ")\n",
      "\n",
      "/*\n",
      "3 rows from customer table:\n",
      "c_custkey\tc_name\tc_address\tc_nationkey\tc_phone\tc_acctbal\tc_mktsegment\tc_comment\n",
      "8800001\tCustomer#008800001\t,n5cfgYrnJAgM\t24\t34-779-857-3540\t1155.3000\tAUTOMOBILE\tng the special asymptotes. regular, fina\n",
      "8800002\tCustomer#008800002\t21hl3MSzC5NE5YnkStnGSVCzvZ\t22\t32-216-210-6287\t127.8100\tAUTOMOBILE\ts nag blithely upon the blithely express i\n",
      "8800003\tCustomer#008800003\t9dPGJFf qPQ6b HswIw\t6\t16-129-808-5102\t1089.7800\tBUILDING\tinal deposits sleep fluffily sometimes final reques\n",
      "*/\n",
      "\n",
      "\n",
      "CREATE TABLE lineitem (\n",
      "\tl_orderkey BIGINT NOT NULL, \n",
      "\tl_partkey BIGINT, \n",
      "\tl_suppkey BIGINT, \n",
      "\tl_linenumber INTEGER NOT NULL, \n",
      "\tl_quantity NUMERIC(18, 4), \n",
      "\tl_extendedprice NUMERIC(18, 4), \n",
      "\tl_discount NUMERIC(18, 4), \n",
      "\tl_tax NUMERIC(18, 4), \n",
      "\tl_returnflag VARCHAR(1), \n",
      "\tl_linestatus VARCHAR(1), \n",
      "\tl_shipdate DATE, \n",
      "\tl_commitdate DATE, \n",
      "\tl_receiptdate DATE, \n",
      "\tl_shipinstruct VARCHAR(25), \n",
      "\tl_shipmode VARCHAR(10), \n",
      "\tl_comment VARCHAR(44)\n",
      ")\n",
      "\n",
      "/*\n",
      "3 rows from lineitem table:\n",
      "l_orderkey\tl_partkey\tl_suppkey\tl_linenumber\tl_quantity\tl_extendedprice\tl_discount\tl_tax\tl_returnflag\tl_linestatus\tl_shipdate\tl_commitdate\tl_receiptdate\tl_shipinstruct\tl_shipmode\tl_comment\n",
      "303433344\t1126462\t626465\t7\t35.0000\t52094.3500\t0.0000\t0.0600\tA\tF\t1992-01-04\t1992-02-24\t1992-01-05\tTAKE BACK RETURN\tRAIL\trefully regular depend\n",
      "142087011\t12375624\t625637\t4\t48.0000\t81552.4800\t0.0900\t0.0200\tR\tF\t1992-01-04\t1992-03-19\t1992-01-05\tNONE\tSHIP\tluffily. quickly \n",
      "135244741\t18299520\t49575\t5\t27.0000\t41002.4700\t0.0800\t0.0600\tR\tF\t1992-01-03\t1992-02-21\t1992-01-06\tCOLLECT COD\tMAIL\tpending instructions agai\n",
      "*/\n",
      "\n",
      "\n",
      "CREATE TABLE nation (\n",
      "\tn_nationkey BIGINT NOT NULL, \n",
      "\tn_name VARCHAR(25), \n",
      "\tn_regionkey BIGINT, \n",
      "\tn_comment VARCHAR(152)\n",
      ")\n",
      "\n",
      "/*\n",
      "3 rows from nation table:\n",
      "n_nationkey\tn_name\tn_regionkey\tn_comment\n",
      "0\tALGERIA\t0\t haggle. carefully final deposits detect slyly agai\n",
      "1\tARGENTINA\t1\tal foxes promise slyly according to the regular accounts. bold requests alon\n",
      "2\tBRAZIL\t1\ty alongside of the pending deposits. carefully special packages are about the ironic forges. slyly s\n",
      "*/\n",
      "\n",
      "\n",
      "CREATE TABLE orders (\n",
      "\to_orderkey BIGINT NOT NULL, \n",
      "\to_custkey BIGINT, \n",
      "\to_orderstatus VARCHAR(1), \n",
      "\to_totalprice NUMERIC(18, 4), \n",
      "\to_orderdate DATE, \n",
      "\to_orderpriority VARCHAR(15), \n",
      "\to_clerk VARCHAR(15), \n",
      "\to_shippriority INTEGER, \n",
      "\to_comment VARCHAR(79)\n",
      ")\n",
      "\n",
      "/*\n",
      "3 rows from orders table:\n",
      "o_orderkey\to_custkey\to_orderstatus\to_totalprice\to_orderdate\to_orderpriority\to_clerk\to_shippriority\to_comment\n",
      "64011430\t6061663\tF\t88446.2400\t1992-01-01\t3-MEDIUM\tClerk#000088995\t0\tnstructions; regular dolph\n",
      "64031431\t2564128\tF\t135650.9300\t1992-01-01\t1-URGENT\tClerk#000091046\t0\tnts wake slyly. fina\n",
      "176066437\t3938854\tF\t57955.2500\t1992-01-01\t4-NOT SPECIFIED\tClerk#000043452\t0\tes are accounts. slyly even pinto beans solve. pen\n",
      "*/\n",
      "\n",
      "\n",
      "CREATE TABLE part (\n",
      "\tp_partkey BIGINT NOT NULL, \n",
      "\tp_name VARCHAR(55), \n",
      "\tp_mfgr VARCHAR(25), \n",
      "\tp_brand VARCHAR(10), \n",
      "\tp_type VARCHAR(25), \n",
      "\tp_size INTEGER, \n",
      "\tp_container VARCHAR(10), \n",
      "\tp_retailprice NUMERIC(18, 4), \n",
      "\tp_comment VARCHAR(23)\n",
      ")\n",
      "\n",
      "/*\n",
      "3 rows from part table:\n",
      "p_partkey\tp_name\tp_mfgr\tp_brand\tp_type\tp_size\tp_container\tp_retailprice\tp_comment\n",
      "7500001\tlinen midnight mint lavender navy\tManufacturer#3\tBrand#33\tPROMO PLATED BRASS\t49\tLG BOX\t1000.6300\thinly bold e\n",
      "7500002\tsienna chartreuse linen salmon floral\tManufacturer#5\tBrand#51\tSTANDARD POLISHED NICKEL\t21\tLG BAG\t1001.6300\tpackages-- \n",
      "7500003\tblanched green dark puff burlywood\tManufacturer#5\tBrand#55\tSMALL ANODIZED NICKEL\t43\tMED DRUM\t1002.6300\t. slyly special accou\n",
      "*/\n",
      "\n",
      "\n",
      "CREATE TABLE partsupp (\n",
      "\tps_partkey BIGINT NOT NULL, \n",
      "\tps_suppkey BIGINT NOT NULL, \n",
      "\tps_availqty INTEGER, \n",
      "\tps_supplycost NUMERIC(18, 4), \n",
      "\tps_comment VARCHAR(199)\n",
      ")\n",
      "\n",
      "/*\n",
      "3 rows from partsupp table:\n",
      "ps_partkey\tps_suppkey\tps_availqty\tps_supplycost\tps_comment\n",
      "15251976\t251977\t9805\t665.4100\tnic foxes hinder furiously-- furiously express ideas \n",
      "15251976\t501992\t5617\t944.1000\tent theodolites boost. carefully pending pains boost across the blithely final in\n",
      "15251976\t752007\t3019\t483.3700\t accounts? carefully special waters across the slyly final packages are quickly blithely final p\n",
      "*/\n",
      "\n",
      "\n",
      "CREATE TABLE region (\n",
      "\tr_regionkey BIGINT NOT NULL, \n",
      "\tr_name VARCHAR(25), \n",
      "\tr_comment VARCHAR(152)\n",
      ")\n",
      "\n",
      "/*\n",
      "3 rows from region table:\n",
      "r_regionkey\tr_name\tr_comment\n",
      "0\tAFRICA\tlar deposits. blithely final packages cajole. regular waters are final requests. regular accounts ar\n",
      "1\tAMERICA\ths use ironic, even requests. s\n",
      "2\tASIA\tges. thinly even pinto beans ca\n",
      "*/\n",
      "\n",
      "\n",
      "CREATE TABLE supplier (\n",
      "\ts_suppkey BIGINT NOT NULL, \n",
      "\ts_name VARCHAR(25), \n",
      "\ts_address VARCHAR(40), \n",
      "\ts_nationkey BIGINT, \n",
      "\ts_phone VARCHAR(15), \n",
      "\ts_acctbal NUMERIC(18, 4), \n",
      "\ts_comment VARCHAR(101)\n",
      ")\n",
      "\n",
      "/*\n",
      "3 rows from supplier table:\n",
      "s_suppkey\ts_name\ts_address\ts_nationkey\ts_phone\ts_acctbal\ts_comment\n",
      "790001\tSupplier#000790001\tW7VhdBGNRpVUkS3ZN\t5\t15-645-756-2119\t3050.2700\ts within the final depths are furiously packages. carefully regular patterns detect slyly pending,\n",
      "790002\tSupplier#000790002\tCoVOA3PjEzn26iQKcjKykbNqO5kRJZaCgU\t4\t14-942-729-3588\t3860.9800\tounts sleep theodolites. ideas mold furiously according to the carefull\n",
      "790003\tSupplier#000790003\tyt654vdMznW\t10\t20-892-820-4721\t417.3700\te above the regular packages. blithely ironic packages alongside of \n",
      "*/\n"
     ]
    }
   ],
   "source": [
    "print(db.table_info)"
   ]
  },
  {
   "cell_type": "markdown",
   "id": "8b9c3dd6-ef58-453c-ac66-c4bfcaf3a5ad",
   "metadata": {},
   "source": [
    "## 프롬프트에 따라 사용자 질문을 기반으로 SQL 쿼리를 작성하고 실행하는 체인을 생성하는 코드 블록"
   ]
  },
  {
   "cell_type": "code",
   "execution_count": 29,
   "id": "f68033f9-d08d-4a4a-ad05-531b4b7940b0",
   "metadata": {
    "tags": []
   },
   "outputs": [
    {
     "name": "stdout",
     "output_type": "stream",
     "text": [
      "\n",
      "\n",
      "\u001b[1m> Entering new SQLDatabaseChain chain...\u001b[0m\n",
      " \n",
      "Human: Given an input question, create a syntactically correct postgresql query to run,\n",
      "then look at the results of the query execution and return only the answer.  \n",
      "The query: 공급업체의 평균 계정 잔액은 어떻게 돼?\n",
      "\n",
      "Assistant:\n",
      "SQLQuery:\u001b[32;1m\u001b[1;3mSELECT AVG(s_acctbal) AS avg_acctbal\n",
      "FROM supplier;\u001b[0m\n",
      "SQLResult: \u001b[33;1m\u001b[1;3m[(Decimal('4500.0568'),)]\u001b[0m\n",
      "Answer:\u001b[32;1m\u001b[1;3m공급업체의 평균 계정 잔액은 4500.0568입니다.\u001b[0m\n",
      "\u001b[1m> Finished chain.\u001b[0m\n"
     ]
    },
    {
     "data": {
      "text/plain": [
       "'공급업체의 평균 계정 잔액은 4500.0568입니다.'"
      ]
     },
     "execution_count": 29,
     "metadata": {},
     "output_type": "execute_result"
    }
   ],
   "source": [
    "PROMPT = \"\"\" \n",
    "Human: Given an input question, create a syntactically correct postgresql query to run,\n",
    "then look at the results of the query execution and return only the answer.  \n",
    "The query: {question}\n",
    "\n",
    "Assistant:\"\"\"\n",
    "\n",
    "db_chain = SQLDatabaseChain.from_llm(llm=llm, db=db, verbose=True) # verbose=True로 실행되는 SQL을 상세하게 보여줍니다.\n",
    "\n",
    "question = \"공급업체의 평균 계정 잔액은 어떻게 돼?\"\n",
    "\n",
    "db_chain.run(PROMPT.format(question=question))"
   ]
  },
  {
   "cell_type": "markdown",
   "id": "64ae47c2-85ae-45cf-a56c-757e87573e25",
   "metadata": {},
   "source": [
    "#### 쿼리 실행없이 SQL문 확인"
   ]
  },
  {
   "cell_type": "code",
   "execution_count": 30,
   "id": "888c1345-8bb2-47ce-9b60-66cb1134c7f0",
   "metadata": {
    "tags": []
   },
   "outputs": [
    {
     "name": "stdout",
     "output_type": "stream",
     "text": [
      "공급업체의 평균 계정 잔액을 구하기 위해 다음과 같은 SQL 쿼리를 사용할 수 있습니다:\n",
      "\n",
      "```sql\n",
      "SELECT AVG(\"s_acctbal\") AS \"avg_acctbal\"\n",
      "FROM supplier;\n",
      "```\n",
      "\n",
      "이 쿼리는 supplier 테이블에서 s_acctbal 컬럼의 평균값을 계산합니다.\n",
      "\n",
      "SQLQuery:\n",
      "SELECT AVG(\"s_acctbal\") AS \"avg_acctbal\"\n",
      "FROM supplier;\n"
     ]
    }
   ],
   "source": [
    "from langchain.chains import create_sql_query_chain\n",
    "\n",
    "chain = create_sql_query_chain(llm, db)\n",
    "response = chain.invoke({\"question\":\"공급업체의 평균 계정 잔액은 어떻게 돼?\"})\n",
    "\n",
    "print(response)"
   ]
  },
  {
   "cell_type": "markdown",
   "id": "f07a876c-9cd1-4333-8a2a-e4b94ae7efdf",
   "metadata": {},
   "source": [
    "#### 데이터베이스에서 SQL문 실행"
   ]
  },
  {
   "cell_type": "code",
   "execution_count": 31,
   "id": "ef7708fb-8374-4938-bf72-40b85612b577",
   "metadata": {
    "tags": []
   },
   "outputs": [
    {
     "data": {
      "text/html": [
       "<div>\n",
       "<style scoped>\n",
       "    .dataframe tbody tr th:only-of-type {\n",
       "        vertical-align: middle;\n",
       "    }\n",
       "\n",
       "    .dataframe tbody tr th {\n",
       "        vertical-align: top;\n",
       "    }\n",
       "\n",
       "    .dataframe thead th {\n",
       "        text-align: right;\n",
       "    }\n",
       "</style>\n",
       "<table border=\"1\" class=\"dataframe\">\n",
       "  <thead>\n",
       "    <tr style=\"text-align: right;\">\n",
       "      <th></th>\n",
       "      <th>avg_acct_balance</th>\n",
       "    </tr>\n",
       "  </thead>\n",
       "  <tbody>\n",
       "    <tr>\n",
       "      <th>0</th>\n",
       "      <td>4500.0568</td>\n",
       "    </tr>\n",
       "  </tbody>\n",
       "</table>\n",
       "</div>"
      ],
      "text/plain": [
       "   avg_acct_balance\n",
       "0         4500.0568"
      ]
     },
     "execution_count": 31,
     "metadata": {},
     "output_type": "execute_result"
    }
   ],
   "source": [
    "sql_statement = \"SELECT AVG(s_acctbal) AS avg_acct_balance FROM supplier\"\n",
    "df = pd.read_sql(sql_statement, engine)\n",
    "df.head()"
   ]
  },
  {
   "cell_type": "code",
   "execution_count": 32,
   "id": "76454e31-e3e4-41f7-bb5d-eb2b3ffc6bac",
   "metadata": {
    "tags": []
   },
   "outputs": [
    {
     "name": "stdout",
     "output_type": "stream",
     "text": [
      "\n",
      "\n",
      "\u001b[1m> Entering new SQLDatabaseChain chain...\u001b[0m\n",
      " \n",
      "Human: Given an input question, create a syntactically correct postgresql query to run,\n",
      "then look at the results of the query execution and return only the answer.  \n",
      "The query: 어떤 국가의 고객이 가장 많이 주문했나요?\n",
      "\n",
      "Assistant:\n",
      "SQLQuery:\u001b[32;1m\u001b[1;3mSELECT n.n_name, COUNT(o.o_orderkey) AS order_count\n",
      "FROM orders o\n",
      "JOIN customer c ON o.o_custkey = c.c_custkey\n",
      "JOIN nation n ON c.c_nationkey = n.n_nationkey\n",
      "GROUP BY n.n_name\n",
      "ORDER BY order_count DESC\n",
      "LIMIT 1;\u001b[0m\n",
      "SQLResult: \u001b[33;1m\u001b[1;3m[('INDONESIA', 3049795)]\u001b[0m\n",
      "Answer:\u001b[32;1m\u001b[1;3m인도네시아\u001b[0m\n",
      "\u001b[1m> Finished chain.\u001b[0m\n"
     ]
    },
    {
     "data": {
      "text/plain": [
       "'인도네시아'"
      ]
     },
     "execution_count": 32,
     "metadata": {},
     "output_type": "execute_result"
    }
   ],
   "source": [
    "question = \"어떤 국가의 고객이 가장 많이 주문했나요?\"\n",
    "\n",
    "db_chain.run(PROMPT.format(question=question))"
   ]
  },
  {
   "cell_type": "code",
   "execution_count": 33,
   "id": "2290406b-8428-43b1-bfbf-24f5d115b491",
   "metadata": {
    "tags": []
   },
   "outputs": [
    {
     "name": "stdout",
     "output_type": "stream",
     "text": [
      "\n",
      "\n",
      "\u001b[1m> Entering new SQLDatabaseChain chain...\u001b[0m\n",
      " \n",
      "Human: Given an input question, create a syntactically correct postgresql query to run,\n",
      "then look at the results of the query execution and return only the answer.  \n",
      "The query: 주문 수가 가장 많은 국가는 어디인가요?\n",
      "\n",
      "Assistant:\n",
      "SQLQuery:\u001b[32;1m\u001b[1;3mSELECT n_name\n",
      "FROM nation \n",
      "JOIN customer ON nation.n_nationkey = customer.c_nationkey\n",
      "JOIN orders ON customer.c_custkey = orders.o_custkey\n",
      "GROUP BY n_name\n",
      "ORDER BY COUNT(o_orderkey) DESC\n",
      "LIMIT 1\u001b[0m\n",
      "SQLResult: \u001b[33;1m\u001b[1;3m[('INDONESIA',)]\u001b[0m\n",
      "Answer:\u001b[32;1m\u001b[1;3m인도네시아\u001b[0m\n",
      "\u001b[1m> Finished chain.\u001b[0m\n"
     ]
    },
    {
     "data": {
      "text/plain": [
       "'인도네시아'"
      ]
     },
     "execution_count": 33,
     "metadata": {},
     "output_type": "execute_result"
    }
   ],
   "source": [
    "question = \"주문 수가 가장 많은 국가는 어디인가요?\"\n",
    "\n",
    "db_chain.run(PROMPT.format(question=question))"
   ]
  },
  {
   "cell_type": "code",
   "execution_count": 34,
   "id": "d7015086-2a17-49f9-a0fe-a6896110ff55",
   "metadata": {
    "tags": []
   },
   "outputs": [
    {
     "name": "stdout",
     "output_type": "stream",
     "text": [
      "\n",
      "\n",
      "\u001b[1m> Entering new SQLDatabaseChain chain...\u001b[0m\n",
      " \n",
      "Human: Given an input question, create a syntactically correct postgresql query to run,\n",
      "then look at the results of the query execution and return only the answer.  \n",
      "The query: 고객의 평균 계정 잔액은 어떻게 되나요?\n",
      "\n",
      "Assistant:\n",
      "SQLQuery:\u001b[32;1m\u001b[1;3mSELECT AVG(c_acctbal) AS avg_acct_bal\n",
      "FROM customer;\u001b[0m\n",
      "SQLResult: \u001b[33;1m\u001b[1;3m[(Decimal('4498.5519'),)]\u001b[0m\n",
      "Answer:\u001b[32;1m\u001b[1;3m고객의 평균 계정 잔액은 4498.5519입니다.\u001b[0m\n",
      "\u001b[1m> Finished chain.\u001b[0m\n"
     ]
    },
    {
     "data": {
      "text/plain": [
       "'고객의 평균 계정 잔액은 4498.5519입니다.'"
      ]
     },
     "execution_count": 34,
     "metadata": {},
     "output_type": "execute_result"
    }
   ],
   "source": [
    "question = \"고객의 평균 계정 잔액은 어떻게 되나요?\"\n",
    "\n",
    "db_chain.run(PROMPT.format(question=question))"
   ]
  },
  {
   "cell_type": "code",
   "execution_count": 35,
   "id": "eaf781ba-8ab6-4dab-a632-f188df613fda",
   "metadata": {
    "tags": []
   },
   "outputs": [
    {
     "name": "stdout",
     "output_type": "stream",
     "text": [
      "\n",
      "\n",
      "\u001b[1m> Entering new SQLDatabaseChain chain...\u001b[0m\n",
      " \n",
      "Human: Given an input question, create a syntactically correct postgresql query to run,\n",
      "then look at the results of the query execution and return only the answer.  \n",
      "The query: 어떤 고객이 가장 많은 주문을 했나요?\n",
      "\n",
      "Assistant:\n",
      "SQLQuery:\u001b[32;1m\u001b[1;3mSELECT c_name, COUNT(*) AS num_orders\n",
      "FROM customer c JOIN orders o ON c.c_custkey = o.o_custkey\n",
      "GROUP BY c_name\n",
      "ORDER BY num_orders DESC\n",
      "LIMIT 1\u001b[0m\n",
      "SQLResult: \u001b[33;1m\u001b[1;3m[('Customer#012340771', 29)]\u001b[0m\n",
      "Answer:\u001b[32;1m\u001b[1;3mCustomer#012340771\u001b[0m\n",
      "\u001b[1m> Finished chain.\u001b[0m\n"
     ]
    },
    {
     "data": {
      "text/plain": [
       "'Customer#012340771'"
      ]
     },
     "execution_count": 35,
     "metadata": {},
     "output_type": "execute_result"
    }
   ],
   "source": [
    "question = \"어떤 고객이 가장 많은 주문을 했나요?\"\n",
    "\n",
    "db_chain.run(PROMPT.format(question=question))"
   ]
  },
  {
   "cell_type": "code",
   "execution_count": 36,
   "id": "92febc0e-4ff5-4b57-b643-bea7e2f4ec81",
   "metadata": {
    "tags": []
   },
   "outputs": [
    {
     "data": {
      "text/html": [
       "<div>\n",
       "<style scoped>\n",
       "    .dataframe tbody tr th:only-of-type {\n",
       "        vertical-align: middle;\n",
       "    }\n",
       "\n",
       "    .dataframe tbody tr th {\n",
       "        vertical-align: top;\n",
       "    }\n",
       "\n",
       "    .dataframe thead th {\n",
       "        text-align: right;\n",
       "    }\n",
       "</style>\n",
       "<table border=\"1\" class=\"dataframe\">\n",
       "  <thead>\n",
       "    <tr style=\"text-align: right;\">\n",
       "      <th></th>\n",
       "      <th>c_custkey</th>\n",
       "      <th>c_name</th>\n",
       "      <th>c_address</th>\n",
       "      <th>c_nationkey</th>\n",
       "      <th>c_phone</th>\n",
       "      <th>c_acctbal</th>\n",
       "      <th>c_mktsegment</th>\n",
       "      <th>c_comment</th>\n",
       "    </tr>\n",
       "  </thead>\n",
       "  <tbody>\n",
       "    <tr>\n",
       "      <th>0</th>\n",
       "      <td>9100001</td>\n",
       "      <td>Customer#009100001</td>\n",
       "      <td>IIGY3g9IyWC,nYmA60Df0T</td>\n",
       "      <td>0</td>\n",
       "      <td>10-520-278-2536</td>\n",
       "      <td>8143.07</td>\n",
       "      <td>HOUSEHOLD</td>\n",
       "      <td>to the express requests wake regular, f</td>\n",
       "    </tr>\n",
       "  </tbody>\n",
       "</table>\n",
       "</div>"
      ],
      "text/plain": [
       "   c_custkey              c_name               c_address  c_nationkey  \\\n",
       "0    9100001  Customer#009100001  IIGY3g9IyWC,nYmA60Df0T            0   \n",
       "\n",
       "           c_phone  c_acctbal c_mktsegment  \\\n",
       "0  10-520-278-2536    8143.07    HOUSEHOLD   \n",
       "\n",
       "                                 c_comment  \n",
       "0  to the express requests wake regular, f  "
      ]
     },
     "execution_count": 36,
     "metadata": {},
     "output_type": "execute_result"
    }
   ],
   "source": [
    "sql_statement = \"select * from customer  where c_name like 'Customer#009100001'\"\n",
    "df = pd.read_sql(sql_statement, engine)\n",
    "df.head()"
   ]
  },
  {
   "cell_type": "code",
   "execution_count": 37,
   "id": "e5848579-3897-41d5-b0ca-b77b01894b09",
   "metadata": {
    "tags": []
   },
   "outputs": [
    {
     "data": {
      "text/html": [
       "<div>\n",
       "<style scoped>\n",
       "    .dataframe tbody tr th:only-of-type {\n",
       "        vertical-align: middle;\n",
       "    }\n",
       "\n",
       "    .dataframe tbody tr th {\n",
       "        vertical-align: top;\n",
       "    }\n",
       "\n",
       "    .dataframe thead th {\n",
       "        text-align: right;\n",
       "    }\n",
       "</style>\n",
       "<table border=\"1\" class=\"dataframe\">\n",
       "  <thead>\n",
       "    <tr style=\"text-align: right;\">\n",
       "      <th></th>\n",
       "      <th>c_name</th>\n",
       "    </tr>\n",
       "  </thead>\n",
       "  <tbody>\n",
       "    <tr>\n",
       "      <th>0</th>\n",
       "      <td>Customer#012340771</td>\n",
       "    </tr>\n",
       "  </tbody>\n",
       "</table>\n",
       "</div>"
      ],
      "text/plain": [
       "               c_name\n",
       "0  Customer#012340771"
      ]
     },
     "execution_count": 37,
     "metadata": {},
     "output_type": "execute_result"
    }
   ],
   "source": [
    "query_statement = \"\"\"\n",
    "SELECT c_name \n",
    "FROM customer JOIN orders ON o_custkey = c_custkey\n",
    "GROUP BY c_name\n",
    "ORDER BY COUNT(*) DESC\n",
    "LIMIT 1\n",
    "\"\"\"\n",
    "df = pd.read_sql(query_statement, engine)\n",
    "df.head()"
   ]
  },
  {
   "cell_type": "code",
   "execution_count": 38,
   "id": "de3c97de-bdac-4b86-a520-24219620e816",
   "metadata": {
    "tags": []
   },
   "outputs": [
    {
     "name": "stdout",
     "output_type": "stream",
     "text": [
      "\n",
      "\n",
      "\u001b[1m> Entering new SQLDatabaseChain chain...\u001b[0m\n",
      " \n",
      "Human: Given an input question, create a syntactically correct postgresql query to run,\n",
      "then look at the results of the query execution and return only the answer.  \n",
      "The query: 마케팅 세그먼트별 고객이 주문하는 양은 어떻게 다른가요? \n",
      "\n",
      "Assistant:\n",
      "SQLQuery:\u001b[32;1m\u001b[1;3mSELECT c_mktsegment, AVG(o_totalprice) AS avg_order_price\n",
      "FROM customer c JOIN orders o ON c.c_custkey = o.o_custkey\n",
      "GROUP BY c_mktsegment\n",
      "ORDER BY avg_order_price DESC;\u001b[0m\n",
      "SQLResult: \u001b[33;1m\u001b[1;3m[('HOUSEHOLD', Decimal('151137.2177')), ('AUTOMOBILE', Decimal('151127.8061')), ('FURNITURE', Decimal('151127.1636')), ('BUILDING', Decimal('151116.9967')), ('MACHINERY', Decimal('151071.5871'))]\u001b[0m\n",
      "Answer:\u001b[32;1m\u001b[1;3m마케팅 세그먼트별로 보면 HOUSEHOLD 세그먼트의 고객이 주문 금액이 가장 높고, BUILDING 세그먼트의 고객이 가장 적습니다.\u001b[0m\n",
      "\u001b[1m> Finished chain.\u001b[0m\n"
     ]
    },
    {
     "data": {
      "text/plain": [
       "'마케팅 세그먼트별로 보면 HOUSEHOLD 세그먼트의 고객이 주문 금액이 가장 높고, BUILDING 세그먼트의 고객이 가장 적습니다.'"
      ]
     },
     "execution_count": 38,
     "metadata": {},
     "output_type": "execute_result"
    }
   ],
   "source": [
    "question = \"마케팅 세그먼트별 고객이 주문하는 양은 어떻게 다른가요? \"\n",
    "\n",
    "db_chain.run(PROMPT.format(question=question))"
   ]
  },
  {
   "cell_type": "code",
   "execution_count": 39,
   "id": "43a34ab6-93e4-4830-9eb3-85d1a99cba64",
   "metadata": {
    "tags": []
   },
   "outputs": [
    {
     "name": "stdout",
     "output_type": "stream",
     "text": [
      "\n",
      "\n",
      "\u001b[1m> Entering new SQLDatabaseChain chain...\u001b[0m\n",
      " \n",
      "Human: Given an input question, create a syntactically correct postgresql query to run,\n",
      "then look at the results of the query execution and return only the answer.  \n",
      "The query: 마케팅 세그먼트별 고객이 주문하는 양을 알려주세요\n",
      "\n",
      "Assistant:\n",
      "SQLQuery:\u001b[32;1m\u001b[1;3mSELECT c_mktsegment, SUM(l_quantity) AS total_quantity\n",
      "FROM customer c JOIN orders o ON c.c_custkey = o.o_custkey\n",
      "             JOIN lineitem l ON o.o_orderkey = l.l_orderkey\n",
      "GROUP BY c_mktsegment\n",
      "ORDER BY total_quantity DESC;\u001b[0m\n",
      "SQLResult: \u001b[33;1m\u001b[1;3m[('FURNITURE', Decimal('1546275558.0000')), ('AUTOMOBILE', Decimal('1545790383.0000')), ('HOUSEHOLD', Decimal('1545155899.0000')), ('BUILDING', Decimal('1544821487.0000')), ('MACHINERY', Decimal('1544594058.0000'))]\u001b[0m\n",
      "Answer:\u001b[32;1m\u001b[1;3m마케팅 세그먼트별로 FURNITURE 세그먼트의 고객이 가장 많은 양을 주문하고, BUILDING 세그먼트의 고객이 가장 적은 양을 주문합니다.\u001b[0m\n",
      "\u001b[1m> Finished chain.\u001b[0m\n"
     ]
    },
    {
     "data": {
      "text/plain": [
       "'마케팅 세그먼트별로 FURNITURE 세그먼트의 고객이 가장 많은 양을 주문하고, BUILDING 세그먼트의 고객이 가장 적은 양을 주문합니다.'"
      ]
     },
     "execution_count": 39,
     "metadata": {},
     "output_type": "execute_result"
    }
   ],
   "source": [
    "question = \"마케팅 세그먼트별 고객이 주문하는 양을 알려주세요\"\n",
    "\n",
    "db_chain.run(PROMPT.format(question=question))"
   ]
  },
  {
   "cell_type": "code",
   "execution_count": 40,
   "id": "a09b8dd5-376f-40ea-a0c3-ed211c4d2504",
   "metadata": {
    "tags": []
   },
   "outputs": [
    {
     "name": "stdout",
     "output_type": "stream",
     "text": [
      "\n",
      "\n",
      "\u001b[1m> Entering new SQLDatabaseChain chain...\u001b[0m\n",
      " \n",
      "Human: Given an input question, create a syntactically correct postgresql query to run,\n",
      "then look at the results of the query execution and return only the answer.  \n",
      "The query: 주문 상태별 주문 수와 총 매출은 어떻게 되나요?\n",
      "\n",
      "Assistant:\n",
      "SQLQuery:\u001b[32;1m\u001b[1;3mSELECT o_orderstatus, COUNT(*) AS order_count, SUM(o_totalprice) AS total_price\n",
      "FROM orders\n",
      "GROUP BY o_orderstatus\u001b[0m\n",
      "SQLResult: \u001b[33;1m\u001b[1;3m[('O', 37030175, Decimal('5563129791682.3000')), ('P', 1945703, Decimal('359572088111.3400')), ('F', 37024122, Decimal('5562126040598.7000'))]\u001b[0m\n",
      "Answer:\u001b[32;1m\u001b[1;3m주문 상태가 'O'인 주문 수는 37030175개이고 총 매출은 5563129791682.3000입니다. 주문 상태가 'P'인 주문 수는 1945703개이고 총 매출은 359572088111.3400입니다. 주문 상태가 'F'인 주문 수는 37024122개이고 총 매출은 5562126040598.7000입니다.\u001b[0m\n",
      "\u001b[1m> Finished chain.\u001b[0m\n"
     ]
    },
    {
     "data": {
      "text/plain": [
       "\"주문 상태가 'O'인 주문 수는 37030175개이고 총 매출은 5563129791682.3000입니다. 주문 상태가 'P'인 주문 수는 1945703개이고 총 매출은 359572088111.3400입니다. 주문 상태가 'F'인 주문 수는 37024122개이고 총 매출은 5562126040598.7000입니다.\""
      ]
     },
     "execution_count": 40,
     "metadata": {},
     "output_type": "execute_result"
    }
   ],
   "source": [
    "question = \"주문 상태별 주문 수와 총 매출은 어떻게 되나요?\"\n",
    "\n",
    "db_chain.run(PROMPT.format(question=question))"
   ]
  },
  {
   "cell_type": "code",
   "execution_count": 41,
   "id": "a4000e67-bc5d-4b9d-98c5-84cc4ab4e865",
   "metadata": {
    "tags": []
   },
   "outputs": [
    {
     "data": {
      "text/html": [
       "<div>\n",
       "<style scoped>\n",
       "    .dataframe tbody tr th:only-of-type {\n",
       "        vertical-align: middle;\n",
       "    }\n",
       "\n",
       "    .dataframe tbody tr th {\n",
       "        vertical-align: top;\n",
       "    }\n",
       "\n",
       "    .dataframe thead th {\n",
       "        text-align: right;\n",
       "    }\n",
       "</style>\n",
       "<table border=\"1\" class=\"dataframe\">\n",
       "  <thead>\n",
       "    <tr style=\"text-align: right;\">\n",
       "      <th></th>\n",
       "      <th>o_orderstatus</th>\n",
       "      <th>order_count</th>\n",
       "      <th>total_price</th>\n",
       "    </tr>\n",
       "  </thead>\n",
       "  <tbody>\n",
       "    <tr>\n",
       "      <th>0</th>\n",
       "      <td>O</td>\n",
       "      <td>37030175</td>\n",
       "      <td>5.563130e+12</td>\n",
       "    </tr>\n",
       "    <tr>\n",
       "      <th>1</th>\n",
       "      <td>P</td>\n",
       "      <td>1945703</td>\n",
       "      <td>3.595721e+11</td>\n",
       "    </tr>\n",
       "    <tr>\n",
       "      <th>2</th>\n",
       "      <td>F</td>\n",
       "      <td>37024122</td>\n",
       "      <td>5.562126e+12</td>\n",
       "    </tr>\n",
       "  </tbody>\n",
       "</table>\n",
       "</div>"
      ],
      "text/plain": [
       "  o_orderstatus  order_count   total_price\n",
       "0             O     37030175  5.563130e+12\n",
       "1             P      1945703  3.595721e+11\n",
       "2             F     37024122  5.562126e+12"
      ]
     },
     "execution_count": 41,
     "metadata": {},
     "output_type": "execute_result"
    }
   ],
   "source": [
    "query_statement = \"\"\"\n",
    "SELECT o_orderstatus, COUNT(*) AS order_count, SUM(o_totalprice) AS total_price\n",
    "FROM orders \n",
    "GROUP BY o_orderstatus;\n",
    "\"\"\"\n",
    "df = pd.read_sql(query_statement, engine)\n",
    "df.head()"
   ]
  },
  {
   "cell_type": "code",
   "execution_count": 42,
   "id": "cfc2b4cd-d503-43f5-a54a-bf0db166ac45",
   "metadata": {
    "tags": []
   },
   "outputs": [
    {
     "name": "stdout",
     "output_type": "stream",
     "text": [
      "\n",
      "\n",
      "\u001b[1m> Entering new SQLDatabaseChain chain...\u001b[0m\n",
      " \n",
      "Human: Given an input question, create a syntactically correct postgresql query to run,\n",
      "then look at the results of the query execution and return only the answer.  \n",
      "The query: 주문 금액이 가장 큰 주문 금액과 주문 정보 알려주세요\n",
      "\n",
      "Assistant:\n",
      "SQLQuery:\u001b[32;1m\u001b[1;3mSELECT o_orderkey, o_totalprice, o_orderdate, o_orderpriority \n",
      "FROM orders\n",
      "ORDER BY o_totalprice DESC\n",
      "LIMIT 1;\u001b[0m\n",
      "SQLResult: \u001b[33;1m\u001b[1;3m[(84927619, Decimal('571417.4800'), datetime.date(1997, 6, 29), '1-URGENT')]\u001b[0m\n",
      "Answer:\u001b[32;1m\u001b[1;3m주문 금액이 가장 큰 주문은 주문 번호 84927619이며, 주문 금액은 571417.4800이고, 주문일자는 1997년 6월 29일이고, 주문 우선순위는 1-URGENT입니다.\u001b[0m\n",
      "\u001b[1m> Finished chain.\u001b[0m\n"
     ]
    },
    {
     "data": {
      "text/plain": [
       "'주문 금액이 가장 큰 주문은 주문 번호 84927619이며, 주문 금액은 571417.4800이고, 주문일자는 1997년 6월 29일이고, 주문 우선순위는 1-URGENT입니다.'"
      ]
     },
     "execution_count": 42,
     "metadata": {},
     "output_type": "execute_result"
    }
   ],
   "source": [
    "question = \"주문 금액이 가장 큰 주문 금액과 주문 정보 알려주세요\"\n",
    "\n",
    "db_chain.run(PROMPT.format(question=question))"
   ]
  },
  {
   "cell_type": "code",
   "execution_count": 43,
   "id": "f8fee027-fc2f-4344-aa89-b211d333ed7f",
   "metadata": {
    "tags": []
   },
   "outputs": [
    {
     "data": {
      "text/html": [
       "<div>\n",
       "<style scoped>\n",
       "    .dataframe tbody tr th:only-of-type {\n",
       "        vertical-align: middle;\n",
       "    }\n",
       "\n",
       "    .dataframe tbody tr th {\n",
       "        vertical-align: top;\n",
       "    }\n",
       "\n",
       "    .dataframe thead th {\n",
       "        text-align: right;\n",
       "    }\n",
       "</style>\n",
       "<table border=\"1\" class=\"dataframe\">\n",
       "  <thead>\n",
       "    <tr style=\"text-align: right;\">\n",
       "      <th></th>\n",
       "      <th>o_orderkey</th>\n",
       "      <th>o_totalprice</th>\n",
       "      <th>o_orderdate</th>\n",
       "      <th>o_orderpriority</th>\n",
       "    </tr>\n",
       "  </thead>\n",
       "  <tbody>\n",
       "    <tr>\n",
       "      <th>0</th>\n",
       "      <td>84927619</td>\n",
       "      <td>571417.48</td>\n",
       "      <td>1997-06-29</td>\n",
       "      <td>1-URGENT</td>\n",
       "    </tr>\n",
       "  </tbody>\n",
       "</table>\n",
       "</div>"
      ],
      "text/plain": [
       "   o_orderkey  o_totalprice o_orderdate o_orderpriority\n",
       "0    84927619     571417.48  1997-06-29        1-URGENT"
      ]
     },
     "execution_count": 43,
     "metadata": {},
     "output_type": "execute_result"
    }
   ],
   "source": [
    "query_statement = \"\"\"\n",
    "SELECT o_orderkey, o_totalprice, o_orderdate, o_orderpriority \n",
    "FROM orders\n",
    "ORDER BY o_totalprice DESC\n",
    "LIMIT 1;\n",
    "\"\"\"\n",
    "df = pd.read_sql(query_statement, engine)\n",
    "df.head()"
   ]
  },
  {
   "cell_type": "code",
   "execution_count": 44,
   "id": "9f1f6a35-d670-40fa-aae0-3fd0a10212ca",
   "metadata": {
    "tags": []
   },
   "outputs": [
    {
     "name": "stdout",
     "output_type": "stream",
     "text": [
      "\n",
      "\n",
      "\u001b[1m> Entering new SQLDatabaseChain chain...\u001b[0m\n",
      " \n",
      "Human: Given an input question, create a syntactically correct postgresql query to run,\n",
      "then look at the results of the query execution and return only the answer.  \n",
      "The query: 주문일자에 따른 주문량 및 매출의 월별 추이는 어떻게 되나요?\n",
      "\n",
      "Assistant:\n",
      "SQLQuery:\u001b[32;1m\u001b[1;3mSELECT\n",
      "  EXTRACT(MONTH FROM o_orderdate) AS month,\n",
      "  COUNT(o_orderkey) AS order_count,\n",
      "  SUM(o_totalprice) AS total_sales\n",
      "FROM orders\n",
      "GROUP BY month\n",
      "ORDER BY month;\u001b[0m\n",
      "SQLResult: \u001b[33;1m\u001b[1;3m[(1, 6856959, Decimal('1036467248055.6500')), (2, 6255596, Decimal('945436144634.3200')), (3, 6850479, Decimal('1035315348683.2600')), (4, 6634534, Decimal('1002441086160.0600')), (5, 6854279, Decimal('1035868054397.9200')), (6, 6636732, Decimal('1002912586468.2100')), (7, 6854575, Decimal('1035944617076.3000')), (8, 5941716, Decimal('897766325078.8900')), (9, 5682312, Decimal('858369771126.2900')), (10, 5873571, Decimal('887654174837.7700')), (11, 5684890, Decimal('858824611503.3500')), (12, 5874357, Decimal('887827952370.3200'))]\u001b[0m\n",
      "Answer:\u001b[32;1m\u001b[1;3m주문일자에 따른 주문량과 매출은 1월에 6856959건, 1036467248055.65원이었고, 2월에 6255596건, 945436144634.32원, 3월에 6850479건, 1035315348683.26원, 4월에 6634534건, 1002441086160.06원, 5월에 6854279건, 1035868054397.92원, 6월에 6636732건, 1002912586468.21원, 7월에 6854575건, 1035944617076.30원, 8월에 5941716건, 897766325078.89원, 9월에 5682312건, 858369771126.29원, 10월에 5873571건, 887654174837.77원, 11월에 5684890건, 858824611503.35원, 12월에 5874357건, 887827952370.32원으로 집계됩니다.\u001b[0m\n",
      "\u001b[1m> Finished chain.\u001b[0m\n"
     ]
    },
    {
     "data": {
      "text/plain": [
       "'주문일자에 따른 주문량과 매출은 1월에 6856959건, 1036467248055.65원이었고, 2월에 6255596건, 945436144634.32원, 3월에 6850479건, 1035315348683.26원, 4월에 6634534건, 1002441086160.06원, 5월에 6854279건, 1035868054397.92원, 6월에 6636732건, 1002912586468.21원, 7월에 6854575건, 1035944617076.30원, 8월에 5941716건, 897766325078.89원, 9월에 5682312건, 858369771126.29원, 10월에 5873571건, 887654174837.77원, 11월에 5684890건, 858824611503.35원, 12월에 5874357건, 887827952370.32원으로 집계됩니다.'"
      ]
     },
     "execution_count": 44,
     "metadata": {},
     "output_type": "execute_result"
    }
   ],
   "source": [
    "question = \"주문일자에 따른 주문량 및 매출의 월별 추이는 어떻게 되나요?\"\n",
    "\n",
    "db_chain.run(PROMPT.format(question=question))"
   ]
  },
  {
   "cell_type": "code",
   "execution_count": 45,
   "id": "422e4695-ef48-4d98-91ab-1767f019cfdf",
   "metadata": {
    "tags": []
   },
   "outputs": [
    {
     "data": {
      "text/html": [
       "<div>\n",
       "<style scoped>\n",
       "    .dataframe tbody tr th:only-of-type {\n",
       "        vertical-align: middle;\n",
       "    }\n",
       "\n",
       "    .dataframe tbody tr th {\n",
       "        vertical-align: top;\n",
       "    }\n",
       "\n",
       "    .dataframe thead th {\n",
       "        text-align: right;\n",
       "    }\n",
       "</style>\n",
       "<table border=\"1\" class=\"dataframe\">\n",
       "  <thead>\n",
       "    <tr style=\"text-align: right;\">\n",
       "      <th></th>\n",
       "      <th>month</th>\n",
       "      <th>total_qty</th>\n",
       "      <th>total_amount</th>\n",
       "    </tr>\n",
       "  </thead>\n",
       "  <tbody>\n",
       "    <tr>\n",
       "      <th>0</th>\n",
       "      <td>1992-01-01</td>\n",
       "      <td>99663205.0</td>\n",
       "      <td>1.419620e+11</td>\n",
       "    </tr>\n",
       "    <tr>\n",
       "      <th>1</th>\n",
       "      <td>1992-02-01</td>\n",
       "      <td>93107547.0</td>\n",
       "      <td>1.326408e+11</td>\n",
       "    </tr>\n",
       "    <tr>\n",
       "      <th>2</th>\n",
       "      <td>1992-03-01</td>\n",
       "      <td>99238813.0</td>\n",
       "      <td>1.413739e+11</td>\n",
       "    </tr>\n",
       "    <tr>\n",
       "      <th>3</th>\n",
       "      <td>1992-04-01</td>\n",
       "      <td>96293391.0</td>\n",
       "      <td>1.371863e+11</td>\n",
       "    </tr>\n",
       "    <tr>\n",
       "      <th>4</th>\n",
       "      <td>1992-05-01</td>\n",
       "      <td>99497085.0</td>\n",
       "      <td>1.417110e+11</td>\n",
       "    </tr>\n",
       "    <tr>\n",
       "      <th>...</th>\n",
       "      <td>...</td>\n",
       "      <td>...</td>\n",
       "      <td>...</td>\n",
       "    </tr>\n",
       "    <tr>\n",
       "      <th>75</th>\n",
       "      <td>1998-04-01</td>\n",
       "      <td>96304953.0</td>\n",
       "      <td>1.371860e+11</td>\n",
       "    </tr>\n",
       "    <tr>\n",
       "      <th>76</th>\n",
       "      <td>1998-05-01</td>\n",
       "      <td>99702770.0</td>\n",
       "      <td>1.420418e+11</td>\n",
       "    </tr>\n",
       "    <tr>\n",
       "      <th>77</th>\n",
       "      <td>1998-06-01</td>\n",
       "      <td>96278050.0</td>\n",
       "      <td>1.371642e+11</td>\n",
       "    </tr>\n",
       "    <tr>\n",
       "      <th>78</th>\n",
       "      <td>1998-07-01</td>\n",
       "      <td>99558670.0</td>\n",
       "      <td>1.418191e+11</td>\n",
       "    </tr>\n",
       "    <tr>\n",
       "      <th>79</th>\n",
       "      <td>1998-08-01</td>\n",
       "      <td>6426132.0</td>\n",
       "      <td>9.148543e+09</td>\n",
       "    </tr>\n",
       "  </tbody>\n",
       "</table>\n",
       "<p>80 rows × 3 columns</p>\n",
       "</div>"
      ],
      "text/plain": [
       "        month   total_qty  total_amount\n",
       "0  1992-01-01  99663205.0  1.419620e+11\n",
       "1  1992-02-01  93107547.0  1.326408e+11\n",
       "2  1992-03-01  99238813.0  1.413739e+11\n",
       "3  1992-04-01  96293391.0  1.371863e+11\n",
       "4  1992-05-01  99497085.0  1.417110e+11\n",
       "..        ...         ...           ...\n",
       "75 1998-04-01  96304953.0  1.371860e+11\n",
       "76 1998-05-01  99702770.0  1.420418e+11\n",
       "77 1998-06-01  96278050.0  1.371642e+11\n",
       "78 1998-07-01  99558670.0  1.418191e+11\n",
       "79 1998-08-01   6426132.0  9.148543e+09\n",
       "\n",
       "[80 rows x 3 columns]"
      ]
     },
     "execution_count": 45,
     "metadata": {},
     "output_type": "execute_result"
    }
   ],
   "source": [
    "query_statement = \"\"\"\n",
    "SELECT\n",
    "  DATE_TRUNC('month', o_orderdate) AS month,\n",
    "  SUM(l_quantity) AS total_qty,\n",
    "  SUM(l_extendedprice * (1 - l_discount)) AS total_amount\n",
    "FROM orders o\n",
    "JOIN lineitem l ON o.o_orderkey = l.l_orderkey  \n",
    "GROUP BY 1\n",
    "ORDER BY 1;\n",
    "\"\"\"\n",
    "df = pd.read_sql(query_statement, engine)\n",
    "df.head(100)"
   ]
  },
  {
   "cell_type": "code",
   "execution_count": 46,
   "id": "7a0d5ac7-5cb1-4ff7-b747-81b397422831",
   "metadata": {
    "tags": []
   },
   "outputs": [
    {
     "name": "stdout",
     "output_type": "stream",
     "text": [
      "\n",
      "\n",
      "\u001b[1m> Entering new SQLDatabaseChain chain...\u001b[0m\n",
      " \n",
      "Human: Given an input question, create a syntactically correct postgresql query to run,\n",
      "then look at the results of the query execution and return only the answer.  \n",
      "The query: 주문일자에 따른 주문량 및 매출의 월별 추이는 어떻게 되나요?\n",
      "\n",
      "Assistant:\n",
      "SQLQuery:\u001b[32;1m\u001b[1;3mSELECT\n",
      "  EXTRACT(MONTH FROM o_orderdate) AS month,\n",
      "  COUNT(o_orderkey) AS order_count,\n",
      "  SUM(o_totalprice) AS total_sales\n",
      "FROM orders\n",
      "GROUP BY month\n",
      "ORDER BY month;\u001b[0m\n",
      "SQLResult: \u001b[33;1m\u001b[1;3m[(1, 6856959, Decimal('1036467248055.6500')), (2, 6255596, Decimal('945436144634.3200')), (3, 6850479, Decimal('1035315348683.2600')), (4, 6634534, Decimal('1002441086160.0600')), (5, 6854279, Decimal('1035868054397.9200')), (6, 6636732, Decimal('1002912586468.2100')), (7, 6854575, Decimal('1035944617076.3000')), (8, 5941716, Decimal('897766325078.8900')), (9, 5682312, Decimal('858369771126.2900')), (10, 5873571, Decimal('887654174837.7700')), (11, 5684890, Decimal('858824611503.3500')), (12, 5874357, Decimal('887827952370.3200'))]\u001b[0m\n",
      "Answer:\u001b[32;1m\u001b[1;3m주문일자에 따른 주문량과 매출은 1월에 6856959건, 1036467248055.65원이었고, 2월에 6255596건, 945436144634.32원, 3월에 6850479건, 1035315348683.26원, 4월에 6634534건, 1002441086160.06원, 5월에 6854279건, 1035868054397.92원, 6월에 6636732건, 1002912586468.21원, 7월에 6854575건, 1035944617076.30원, 8월에 5941716건, 897766325078.89원, 9월에 5682312건, 858369771126.29원, 10월에 5873571건, 887654174837.77원, 11월에 5684890건, 858824611503.35원, 12월에 5874357건, 887827952370.32원으로 집계됩니다.\u001b[0m\n",
      "\u001b[1m> Finished chain.\u001b[0m\n"
     ]
    },
    {
     "data": {
      "text/plain": [
       "'주문일자에 따른 주문량과 매출은 1월에 6856959건, 1036467248055.65원이었고, 2월에 6255596건, 945436144634.32원, 3월에 6850479건, 1035315348683.26원, 4월에 6634534건, 1002441086160.06원, 5월에 6854279건, 1035868054397.92원, 6월에 6636732건, 1002912586468.21원, 7월에 6854575건, 1035944617076.30원, 8월에 5941716건, 897766325078.89원, 9월에 5682312건, 858369771126.29원, 10월에 5873571건, 887654174837.77원, 11월에 5684890건, 858824611503.35원, 12월에 5874357건, 887827952370.32원으로 집계됩니다.'"
      ]
     },
     "execution_count": 46,
     "metadata": {},
     "output_type": "execute_result"
    }
   ],
   "source": [
    "db_chain.run(PROMPT.format(question=\"주문일자에 따른 주문량 및 매출의 월별 추이는 어떻게 되나요?\"))"
   ]
  },
  {
   "cell_type": "code",
   "execution_count": 47,
   "id": "a82440fb-4f74-42a4-9e1e-5cadc9b9016d",
   "metadata": {
    "tags": []
   },
   "outputs": [
    {
     "data": {
      "text/html": [
       "<div>\n",
       "<style scoped>\n",
       "    .dataframe tbody tr th:only-of-type {\n",
       "        vertical-align: middle;\n",
       "    }\n",
       "\n",
       "    .dataframe tbody tr th {\n",
       "        vertical-align: top;\n",
       "    }\n",
       "\n",
       "    .dataframe thead th {\n",
       "        text-align: right;\n",
       "    }\n",
       "</style>\n",
       "<table border=\"1\" class=\"dataframe\">\n",
       "  <thead>\n",
       "    <tr style=\"text-align: right;\">\n",
       "      <th></th>\n",
       "      <th>order_month</th>\n",
       "      <th>revenue</th>\n",
       "      <th>order_count</th>\n",
       "    </tr>\n",
       "  </thead>\n",
       "  <tbody>\n",
       "    <tr>\n",
       "      <th>0</th>\n",
       "      <td>1</td>\n",
       "      <td>9.933161e+11</td>\n",
       "      <td>27344530</td>\n",
       "    </tr>\n",
       "    <tr>\n",
       "      <th>1</th>\n",
       "      <td>2</td>\n",
       "      <td>9.060703e+11</td>\n",
       "      <td>24944177</td>\n",
       "    </tr>\n",
       "    <tr>\n",
       "      <th>2</th>\n",
       "      <td>3</td>\n",
       "      <td>9.922287e+11</td>\n",
       "      <td>27314034</td>\n",
       "    </tr>\n",
       "    <tr>\n",
       "      <th>3</th>\n",
       "      <td>4</td>\n",
       "      <td>9.607262e+11</td>\n",
       "      <td>26450594</td>\n",
       "    </tr>\n",
       "    <tr>\n",
       "      <th>4</th>\n",
       "      <td>5</td>\n",
       "      <td>9.927521e+11</td>\n",
       "      <td>27330612</td>\n",
       "    </tr>\n",
       "    <tr>\n",
       "      <th>5</th>\n",
       "      <td>6</td>\n",
       "      <td>9.611474e+11</td>\n",
       "      <td>26460707</td>\n",
       "    </tr>\n",
       "    <tr>\n",
       "      <th>6</th>\n",
       "      <td>7</td>\n",
       "      <td>9.928100e+11</td>\n",
       "      <td>27330157</td>\n",
       "    </tr>\n",
       "    <tr>\n",
       "      <th>7</th>\n",
       "      <td>8</td>\n",
       "      <td>8.604046e+11</td>\n",
       "      <td>23687868</td>\n",
       "    </tr>\n",
       "    <tr>\n",
       "      <th>8</th>\n",
       "      <td>9</td>\n",
       "      <td>8.226558e+11</td>\n",
       "      <td>22650852</td>\n",
       "    </tr>\n",
       "    <tr>\n",
       "      <th>9</th>\n",
       "      <td>10</td>\n",
       "      <td>8.506984e+11</td>\n",
       "      <td>23415496</td>\n",
       "    </tr>\n",
       "    <tr>\n",
       "      <th>10</th>\n",
       "      <td>11</td>\n",
       "      <td>8.230891e+11</td>\n",
       "      <td>22656168</td>\n",
       "    </tr>\n",
       "    <tr>\n",
       "      <th>11</th>\n",
       "      <td>12</td>\n",
       "      <td>8.508717e+11</td>\n",
       "      <td>23423022</td>\n",
       "    </tr>\n",
       "  </tbody>\n",
       "</table>\n",
       "</div>"
      ],
      "text/plain": [
       "    order_month       revenue  order_count\n",
       "0             1  9.933161e+11     27344530\n",
       "1             2  9.060703e+11     24944177\n",
       "2             3  9.922287e+11     27314034\n",
       "3             4  9.607262e+11     26450594\n",
       "4             5  9.927521e+11     27330612\n",
       "5             6  9.611474e+11     26460707\n",
       "6             7  9.928100e+11     27330157\n",
       "7             8  8.604046e+11     23687868\n",
       "8             9  8.226558e+11     22650852\n",
       "9            10  8.506984e+11     23415496\n",
       "10           11  8.230891e+11     22656168\n",
       "11           12  8.508717e+11     23423022"
      ]
     },
     "execution_count": 47,
     "metadata": {},
     "output_type": "execute_result"
    }
   ],
   "source": [
    "query_statement = \"\"\"\n",
    "SELECT EXTRACT(MONTH FROM o_orderdate) AS order_month, \n",
    "       SUM(l_extendedprice * (1 - l_discount)) AS revenue,\n",
    "       COUNT(o_orderkey) AS order_count\n",
    "FROM orders o\n",
    "JOIN lineitem l ON o.o_orderkey = l.l_orderkey\n",
    "GROUP BY order_month\n",
    "ORDER BY order_month;\n",
    "\"\"\"\n",
    "df = pd.read_sql(query_statement, engine)\n",
    "df.head(12)"
   ]
  },
  {
   "cell_type": "code",
   "execution_count": 48,
   "id": "10d51766-584b-4458-8a89-96bf8bec2f01",
   "metadata": {
    "tags": []
   },
   "outputs": [
    {
     "name": "stdout",
     "output_type": "stream",
     "text": [
      "\n",
      "\n",
      "\u001b[1m> Entering new SQLDatabaseChain chain...\u001b[0m\n",
      " \n",
      "Human: Given an input question, create a syntactically correct postgresql query to run,\n",
      "then look at the results of the query execution and return only the answer.  \n",
      "The query: 어떤 주문 우선 순위가 가장 일반적인가요?\n",
      "\n",
      "Assistant:\n",
      "SQLQuery:\u001b[32;1m\u001b[1;3mSELECT o_orderpriority, COUNT(*) AS order_count\n",
      "FROM orders \n",
      "GROUP BY o_orderpriority\n",
      "ORDER BY order_count DESC\n",
      "LIMIT 1\u001b[0m\n",
      "SQLResult: \u001b[33;1m\u001b[1;3m[('4-NOT SPECIFIED', 15202181)]\u001b[0m\n",
      "Answer:\u001b[32;1m\u001b[1;3m4-NOT SPECIFIED\u001b[0m\n",
      "\u001b[1m> Finished chain.\u001b[0m\n"
     ]
    },
    {
     "data": {
      "text/plain": [
       "'4-NOT SPECIFIED'"
      ]
     },
     "execution_count": 48,
     "metadata": {},
     "output_type": "execute_result"
    }
   ],
   "source": [
    "db_chain.run(PROMPT.format(question=\"어떤 주문 우선 순위가 가장 일반적인가요?\"))"
   ]
  },
  {
   "cell_type": "code",
   "execution_count": 49,
   "id": "63165393-9d65-4a0d-bfb8-b5b9618c9b18",
   "metadata": {
    "tags": []
   },
   "outputs": [
    {
     "name": "stdout",
     "output_type": "stream",
     "text": [
      "\n",
      "\n",
      "\u001b[1m> Entering new SQLDatabaseChain chain...\u001b[0m\n",
      " \n",
      "Human: Given an input question, create a syntactically correct postgresql query to run,\n",
      "then look at the results of the query execution and return only the answer.  \n",
      "The query: 주문 수가 가장 많은 점원은 어떻게 되나요?\n",
      "\n",
      "Assistant:\n",
      "SQLQuery:\u001b[32;1m\u001b[1;3mSELECT o_clerk, COUNT(*) AS order_count\n",
      "FROM orders\n",
      "GROUP BY o_clerk\n",
      "ORDER BY order_count DESC\n",
      "LIMIT 1\u001b[0m\n",
      "SQLResult: \u001b[33;1m\u001b[1;3m[('Clerk#000049229', 872)]\u001b[0m\n",
      "Answer:\u001b[32;1m\u001b[1;3mClerk#000049229\u001b[0m\n",
      "\u001b[1m> Finished chain.\u001b[0m\n"
     ]
    },
    {
     "data": {
      "text/plain": [
       "'Clerk#000049229'"
      ]
     },
     "execution_count": 49,
     "metadata": {},
     "output_type": "execute_result"
    }
   ],
   "source": [
    "db_chain.run(PROMPT.format(question=\"주문 수가 가장 많은 점원은 어떻게 되나요?\"))"
   ]
  },
  {
   "cell_type": "code",
   "execution_count": 50,
   "id": "f07f6754-b5f8-475d-a408-8657d263eb20",
   "metadata": {
    "tags": []
   },
   "outputs": [
    {
     "name": "stdout",
     "output_type": "stream",
     "text": [
      "\n",
      "\n",
      "\u001b[1m> Entering new SQLDatabaseChain chain...\u001b[0m\n",
      " \n",
      "Human: Given an input question, create a syntactically correct postgresql query to run,\n",
      "then look at the results of the query execution and return only the answer.  \n",
      "The query: 어떤 제품 카테고리가 가장 많이 주문되었나요?\n",
      "\n",
      "Assistant:\n",
      "SQLQuery:\u001b[32;1m\u001b[1;3mSELECT p_type, COUNT(*) AS num_orders\n",
      "FROM lineitem l JOIN part p ON l.l_partkey = p.p_partkey\n",
      "GROUP BY p_type\n",
      "ORDER BY num_orders DESC\n",
      "LIMIT 1;\u001b[0m\n",
      "SQLResult: \u001b[33;1m\u001b[1;3m[('SMALL ANODIZED TIN', 2035649)]\u001b[0m\n",
      "Answer:\u001b[32;1m\u001b[1;3mSMALL ANODIZED TIN\u001b[0m\n",
      "\u001b[1m> Finished chain.\u001b[0m\n"
     ]
    },
    {
     "data": {
      "text/plain": [
       "'SMALL ANODIZED TIN'"
      ]
     },
     "execution_count": 50,
     "metadata": {},
     "output_type": "execute_result"
    }
   ],
   "source": [
    "db_chain.run(PROMPT.format(question=\"어떤 제품 카테고리가 가장 많이 주문되었나요?\"))"
   ]
  },
  {
   "cell_type": "code",
   "execution_count": 51,
   "id": "cda45220-a71c-4b53-b1f6-ae9777392570",
   "metadata": {
    "tags": []
   },
   "outputs": [
    {
     "name": "stdout",
     "output_type": "stream",
     "text": [
      "\n",
      "\n",
      "\u001b[1m> Entering new SQLDatabaseChain chain...\u001b[0m\n",
      " \n",
      "Human: Given an input question, create a syntactically correct postgresql query to run,\n",
      "then look at the results of the query execution and return only the answer.  \n",
      "The query: 가장 비싼 제품은 무엇이며, 어떤 주문에서 판매되었나요? \n",
      "\n",
      "Assistant:\n",
      "SQLQuery:\u001b[32;1m\u001b[1;3mSELECT l.l_orderkey, p.p_name, p.p_retailprice\n",
      "FROM lineitem l\n",
      "JOIN part p ON l.l_partkey = p.p_partkey\n",
      "ORDER BY p.p_retailprice DESC\n",
      "LIMIT 1;\u001b[0m\n",
      "SQLResult: \u001b[33;1m\u001b[1;3m[(35754244, 'goldenrod drab brown salmon mint', Decimal('2098.9900'))]\u001b[0m\n",
      "Answer:\u001b[32;1m\u001b[1;3m가장 비싼 제품은 goldenrod drab brown salmon mint이며, 35754244번 주문에서 판매되었습니다.\u001b[0m\n",
      "\u001b[1m> Finished chain.\u001b[0m\n"
     ]
    },
    {
     "data": {
      "text/plain": [
       "'가장 비싼 제품은 goldenrod drab brown salmon mint이며, 35754244번 주문에서 판매되었습니다.'"
      ]
     },
     "execution_count": 51,
     "metadata": {},
     "output_type": "execute_result"
    }
   ],
   "source": [
    "db_chain.run(PROMPT.format(question=\"가장 비싼 제품은 무엇이며, 어떤 주문에서 판매되었나요? \"))"
   ]
  },
  {
   "cell_type": "code",
   "execution_count": 52,
   "id": "5943680d-16a5-4908-858b-8f8410e69522",
   "metadata": {
    "tags": []
   },
   "outputs": [
    {
     "name": "stdout",
     "output_type": "stream",
     "text": [
      "\n",
      "\n",
      "\u001b[1m> Entering new SQLDatabaseChain chain...\u001b[0m\n",
      " \n",
      "Human: Given an input question, create a syntactically correct postgresql query to run,\n",
      "then look at the results of the query execution and return only the answer.  \n",
      "The query: 제품 크기에 따른 주문량은 어떻게 다른가요?\n",
      "\n",
      "Assistant:\n",
      "SQLQuery:\u001b[32;1m\u001b[1;3mSELECT p_size, COUNT(l_orderkey) AS order_count\n",
      "FROM part p JOIN lineitem l ON p.p_partkey = l.l_partkey\n",
      "GROUP BY p_size\n",
      "ORDER BY p_size;\u001b[0m\n",
      "SQLResult: \u001b[33;1m\u001b[1;3m[(1, 6062773), (2, 6043286), (3, 6065119), (4, 6061562), (5, 6063176), (6, 6049574), (7, 6069786), (8, 6070453), (9, 6072133), (10, 6068272), (11, 6063010), (12, 6057022), (13, 6072878), (14, 6055116), (15, 6059402), (16, 6061363), (17, 6048716), (18, 6050287), (19, 6071033), (20, 6063818), (21, 6045115), (22, 6070893), (23, 6073164), (24, 6063351), (25, 6065164), (26, 6049634), (27, 6060175), (28, 6064904), (29, 6066592), (30, 6042047), (31, 6057695), (32, 6052386), (33, 6059987), (34, 6054078), (35, 6075823), (36, 6059881), (37, 6050385), (38, 6071890), (39, 6062866), (40, 6055941), (41, 6068905), (42, 6062437), (43, 6059014), (44, 6063874), (45, 6046138), (46, 6054675), (47, 6052090), (48, 6056316), (49, 6065380), (50, 6048638)]\u001b[0m\n",
      "Answer:\u001b[32;1m\u001b[1;3m제품 크기가 작을수록 주문량이 많고, 제품 크기가 커질수록 주문량이 점차 감소하는 경향이 있습니다.\u001b[0m\n",
      "\u001b[1m> Finished chain.\u001b[0m\n"
     ]
    },
    {
     "data": {
      "text/plain": [
       "'제품 크기가 작을수록 주문량이 많고, 제품 크기가 커질수록 주문량이 점차 감소하는 경향이 있습니다.'"
      ]
     },
     "execution_count": 52,
     "metadata": {},
     "output_type": "execute_result"
    }
   ],
   "source": [
    "db_chain.run(PROMPT.format(question=\"제품 크기에 따른 주문량은 어떻게 다른가요?\"))"
   ]
  },
  {
   "cell_type": "code",
   "execution_count": 53,
   "id": "0cef9698-2195-45c5-a3b9-06656fa91f91",
   "metadata": {
    "tags": []
   },
   "outputs": [
    {
     "name": "stdout",
     "output_type": "stream",
     "text": [
      "\n",
      "\n",
      "\u001b[1m> Entering new SQLDatabaseChain chain...\u001b[0m\n",
      " \n",
      "Human: Given an input question, create a syntactically correct postgresql query to run,\n",
      "then look at the results of the query execution and return only the answer.  \n",
      "The query: 가장 많이 재주문된 제품은?\n",
      "\n",
      "Assistant:\n",
      "SQLQuery:\u001b[32;1m\u001b[1;3mSELECT p_name\n",
      "FROM part\n",
      "WHERE p_partkey = (\n",
      "  SELECT l_partkey\n",
      "  FROM lineitem\n",
      "  GROUP BY l_partkey\n",
      "  ORDER BY COUNT(*) DESC\n",
      "  LIMIT 1\n",
      ");\u001b[0m\n",
      "SQLResult: \u001b[33;1m\u001b[1;3m[('dim spring sandy brown slate',)]\u001b[0m\n",
      "Answer:\u001b[32;1m\u001b[1;3mdim spring sandy brown slate\u001b[0m\n",
      "\u001b[1m> Finished chain.\u001b[0m\n"
     ]
    },
    {
     "data": {
      "text/plain": [
       "'dim spring sandy brown slate'"
      ]
     },
     "execution_count": 53,
     "metadata": {},
     "output_type": "execute_result"
    }
   ],
   "source": [
    "db_chain.run(PROMPT.format(question=\"가장 많이 재주문된 제품은?\"))"
   ]
  },
  {
   "cell_type": "code",
   "execution_count": 54,
   "id": "4cf176cc-125f-473b-a8d8-705df3b579cf",
   "metadata": {
    "tags": []
   },
   "outputs": [
    {
     "name": "stdout",
     "output_type": "stream",
     "text": [
      "\n",
      "\n",
      "\u001b[1m> Entering new SQLDatabaseChain chain...\u001b[0m\n",
      " \n",
      "Human: Given an input question, create a syntactically correct postgresql query to run,\n",
      "then look at the results of the query execution and return only the answer.  \n",
      "The query: 어떤 공급업체가 가장 많은 제품을 공급하였나요?\n",
      "\n",
      "Assistant:\n",
      "SQLQuery:\u001b[32;1m\u001b[1;3mSELECT s.s_name, COUNT(*) AS num_products\n",
      "FROM supplier s JOIN partsupp ps ON s.s_suppkey = ps.ps_suppkey\n",
      "GROUP BY s.s_name\n",
      "ORDER BY num_products DESC\n",
      "LIMIT 1;\u001b[0m\n",
      "SQLResult: \u001b[33;1m\u001b[1;3m[('Supplier#000800767', 160)]\u001b[0m\n",
      "Answer:\u001b[32;1m\u001b[1;3mSupplier#000800767\u001b[0m\n",
      "\u001b[1m> Finished chain.\u001b[0m\n"
     ]
    },
    {
     "data": {
      "text/plain": [
       "'Supplier#000800767'"
      ]
     },
     "execution_count": 54,
     "metadata": {},
     "output_type": "execute_result"
    }
   ],
   "source": [
    "db_chain.run(PROMPT.format(question=\"어떤 공급업체가 가장 많은 제품을 공급하였나요?\"))"
   ]
  },
  {
   "cell_type": "code",
   "execution_count": 55,
   "id": "68f658cf-6f80-4da5-9e99-539e9f164c7f",
   "metadata": {
    "tags": []
   },
   "outputs": [
    {
     "name": "stdout",
     "output_type": "stream",
     "text": [
      "\n",
      "\n",
      "\u001b[1m> Entering new SQLDatabaseChain chain...\u001b[0m\n",
      " \n",
      "Human: Given an input question, create a syntactically correct postgresql query to run,\n",
      "then look at the results of the query execution and return only the answer.  \n",
      "The query: 공급업체의 평균 계정 잔액은 어떻게 되나요?\n",
      "\n",
      "Assistant:\n",
      "SQLQuery:\u001b[32;1m\u001b[1;3mSELECT AVG(s_acctbal) AS avg_acct_bal\n",
      "FROM supplier;\u001b[0m\n",
      "SQLResult: \u001b[33;1m\u001b[1;3m[(Decimal('4500.0568'),)]\u001b[0m\n",
      "Answer:\u001b[32;1m\u001b[1;3m공급업체의 평균 계정 잔액은 4500.0568입니다.\u001b[0m\n",
      "\u001b[1m> Finished chain.\u001b[0m\n"
     ]
    },
    {
     "data": {
      "text/plain": [
       "'공급업체의 평균 계정 잔액은 4500.0568입니다.'"
      ]
     },
     "execution_count": 55,
     "metadata": {},
     "output_type": "execute_result"
    }
   ],
   "source": [
    "db_chain.run(PROMPT.format(question=\"공급업체의 평균 계정 잔액은 어떻게 되나요?\"))"
   ]
  },
  {
   "cell_type": "code",
   "execution_count": 56,
   "id": "b7d92f6b-5f85-4b33-8075-d48a41ce865f",
   "metadata": {
    "tags": []
   },
   "outputs": [
    {
     "name": "stdout",
     "output_type": "stream",
     "text": [
      "\n",
      "\n",
      "\u001b[1m> Entering new SQLDatabaseChain chain...\u001b[0m\n",
      " \n",
      "Human: Given an input question, create a syntactically correct postgresql query to run,\n",
      "then look at the results of the query execution and return only the answer.  \n",
      "The query: 공급업체의 평균 공급 비용은 어떻게 되나요?\n",
      "\n",
      "Assistant:\n",
      "SQLQuery:\u001b[32;1m\u001b[1;3mSELECT AVG(ps_supplycost) AS avg_supplycost\n",
      "FROM partsupp;\u001b[0m\n",
      "SQLResult: \u001b[33;1m\u001b[1;3m[(Decimal('500.4743'),)]\u001b[0m\n",
      "Answer:\u001b[32;1m\u001b[1;3m평균 공급 비용은 500.4743입니다.\u001b[0m\n",
      "\u001b[1m> Finished chain.\u001b[0m\n"
     ]
    },
    {
     "data": {
      "text/plain": [
       "'평균 공급 비용은 500.4743입니다.'"
      ]
     },
     "execution_count": 56,
     "metadata": {},
     "output_type": "execute_result"
    }
   ],
   "source": [
    "db_chain.run(PROMPT.format(question=\"공급업체의 평균 공급 비용은 어떻게 되나요?\"))"
   ]
  },
  {
   "cell_type": "code",
   "execution_count": 57,
   "id": "435789b0-e72d-4ff1-8de7-ff2c2b4c91ba",
   "metadata": {
    "tags": []
   },
   "outputs": [
    {
     "name": "stdout",
     "output_type": "stream",
     "text": [
      "\n",
      "\n",
      "\u001b[1m> Entering new SQLDatabaseChain chain...\u001b[0m\n",
      " \n",
      "Human: Given an input question, create a syntactically correct postgresql query to run,\n",
      "then look at the results of the query execution and return only the answer.  \n",
      "The query: 어떤 주문 라인 항목이 가장 높은 할인을 받았나요?\n",
      "\n",
      "Assistant:\n",
      "SQLQuery:\u001b[32;1m\u001b[1;3mSELECT l_orderkey, l_discount\n",
      "FROM lineitem\n",
      "ORDER BY l_discount DESC\n",
      "LIMIT 1;\u001b[0m\n",
      "SQLResult: \u001b[33;1m\u001b[1;3m[(241309445, Decimal('0.1000'))]\u001b[0m\n",
      "Answer:\u001b[32;1m\u001b[1;3m주문 라인 항목 241309445이 가장 높은 할인율 0.1000을 받았습니다.\u001b[0m\n",
      "\u001b[1m> Finished chain.\u001b[0m\n"
     ]
    },
    {
     "data": {
      "text/plain": [
       "'주문 라인 항목 241309445이 가장 높은 할인율 0.1000을 받았습니다.'"
      ]
     },
     "execution_count": 57,
     "metadata": {},
     "output_type": "execute_result"
    }
   ],
   "source": [
    "db_chain.run(PROMPT.format(question=\"어떤 주문 라인 항목이 가장 높은 할인을 받았나요?\"))"
   ]
  },
  {
   "cell_type": "code",
   "execution_count": 58,
   "id": "326faf4c-53a0-4e96-8e79-15e012ef8b16",
   "metadata": {
    "tags": []
   },
   "outputs": [
    {
     "name": "stdout",
     "output_type": "stream",
     "text": [
      "\n",
      "\n",
      "\u001b[1m> Entering new SQLDatabaseChain chain...\u001b[0m\n",
      " \n",
      "Human: Given an input question, create a syntactically correct postgresql query to run,\n",
      "then look at the results of the query execution and return only the answer.  \n",
      "The query: 주문 라인 항목의 평균 수량은 어떻게 되나요?\n",
      "\n",
      "Assistant:\n",
      "SQLQuery:\u001b[32;1m\u001b[1;3mSELECT AVG(l_quantity) AS avg_quantity\n",
      "FROM lineitem;\u001b[0m\n",
      "SQLResult: \u001b[33;1m\u001b[1;3m[(Decimal('25.4997'),)]\u001b[0m\n",
      "Answer:\u001b[32;1m\u001b[1;3m주문 라인 항목의 평균 수량은 25.4997입니다.\u001b[0m\n",
      "\u001b[1m> Finished chain.\u001b[0m\n"
     ]
    },
    {
     "data": {
      "text/plain": [
       "'주문 라인 항목의 평균 수량은 25.4997입니다.'"
      ]
     },
     "execution_count": 58,
     "metadata": {},
     "output_type": "execute_result"
    }
   ],
   "source": [
    "db_chain.run(PROMPT.format(question=\"주문 라인 항목의 평균 수량은 어떻게 되나요?\"))"
   ]
  },
  {
   "cell_type": "code",
   "execution_count": 59,
   "id": "1341e33c-bd51-449b-a0b5-9deda9e68ff6",
   "metadata": {
    "tags": []
   },
   "outputs": [
    {
     "name": "stdout",
     "output_type": "stream",
     "text": [
      "\n",
      "\n",
      "\u001b[1m> Entering new SQLDatabaseChain chain...\u001b[0m\n",
      " \n",
      "Human: Given an input question, create a syntactically correct postgresql query to run,\n",
      "then look at the results of the query execution and return only the answer.  \n",
      "The query: 어떤 배송 방법이 가장 많이 사용되었나요?\n",
      "\n",
      "Assistant:\n",
      "SQLQuery:\u001b[32;1m\u001b[1;3mSELECT l_shipmode, COUNT(*) AS num_orders\n",
      "FROM lineitem \n",
      "GROUP BY l_shipmode\n",
      "ORDER BY num_orders DESC\n",
      "LIMIT 1;\u001b[0m\n",
      "SQLResult: \u001b[33;1m\u001b[1;3m[('RAIL', 43294267)]\u001b[0m\n",
      "Answer:\u001b[32;1m\u001b[1;3mRAIL\u001b[0m\n",
      "\u001b[1m> Finished chain.\u001b[0m\n"
     ]
    },
    {
     "data": {
      "text/plain": [
       "'RAIL'"
      ]
     },
     "execution_count": 59,
     "metadata": {},
     "output_type": "execute_result"
    }
   ],
   "source": [
    "db_chain.run(PROMPT.format(question=\"어떤 배송 방법이 가장 많이 사용되었나요?\"))"
   ]
  },
  {
   "cell_type": "code",
   "execution_count": 60,
   "id": "7df2c4b8-ce26-457d-9444-361426450094",
   "metadata": {
    "tags": []
   },
   "outputs": [],
   "source": [
    "PROMPT = \"\"\" \n",
    "Human: Given an input question, create a syntactically correct postgresql query to run,\n",
    "then look at the results of the query and return the detailed answer in Korean.  \n",
    "The query: {question}\n",
    "\n",
    "Assistant:\"\"\""
   ]
  },
  {
   "cell_type": "code",
   "execution_count": 61,
   "id": "cb11af58-95f3-4a6d-a80b-569bffd99c23",
   "metadata": {
    "tags": []
   },
   "outputs": [
    {
     "name": "stdout",
     "output_type": "stream",
     "text": [
      "\n",
      "\n",
      "\u001b[1m> Entering new SQLDatabaseChain chain...\u001b[0m\n",
      " \n",
      "Human: Given an input question, create a syntactically correct postgresql query to run,\n",
      "then look at the results of the query and return the detailed answer in Korean.  \n",
      "The query: 어떤 배송 방법이 가장 많이 사용되었나요?\n",
      "\n",
      "Assistant:\n",
      "SQLQuery:\u001b[32;1m\u001b[1;3mSELECT l_shipmode, COUNT(*) AS count\n",
      "FROM lineitem \n",
      "GROUP BY l_shipmode\n",
      "ORDER BY count DESC\n",
      "LIMIT 1;\u001b[0m\n",
      "SQLResult: \u001b[33;1m\u001b[1;3m[('RAIL', 43294267)]\u001b[0m\n",
      "Answer:\u001b[32;1m\u001b[1;3mRAIL 배송 방법이 가장 많이 사용되었습니다.\u001b[0m\n",
      "\u001b[1m> Finished chain.\u001b[0m\n"
     ]
    },
    {
     "data": {
      "text/plain": [
       "'RAIL 배송 방법이 가장 많이 사용되었습니다.'"
      ]
     },
     "execution_count": 61,
     "metadata": {},
     "output_type": "execute_result"
    }
   ],
   "source": [
    "db_chain.run(PROMPT.format(question=\"어떤 배송 방법이 가장 많이 사용되었나요?\"))"
   ]
  },
  {
   "cell_type": "code",
   "execution_count": 62,
   "id": "8f1643cf-2bed-447d-a648-e2125076de0a",
   "metadata": {
    "tags": []
   },
   "outputs": [
    {
     "name": "stdout",
     "output_type": "stream",
     "text": [
      "\n",
      "\n",
      "\u001b[1m> Entering new SQLDatabaseChain chain...\u001b[0m\n",
      " \n",
      "Human: Given an input question, create a syntactically correct postgresql query to run,\n",
      "then look at the results of the query and return the detailed answer as much as possible based on the result.  \n",
      "The query: 어떤 배송 방법이 가장 많이 사용되었나요?\n",
      "\n",
      "Assistant:\n",
      "SQLQuery:\u001b[32;1m\u001b[1;3mSELECT l_shipmode, COUNT(*) AS num_orders\n",
      "FROM lineitem \n",
      "GROUP BY l_shipmode\n",
      "ORDER BY num_orders DESC\n",
      "LIMIT 1;\u001b[0m\n",
      "SQLResult: \u001b[33;1m\u001b[1;3m[('RAIL', 43294267)]\u001b[0m\n",
      "Answer:\u001b[32;1m\u001b[1;3m가장 많이 사용된 배송 방법은 'RAIL'입니다.\u001b[0m\n",
      "\u001b[1m> Finished chain.\u001b[0m\n"
     ]
    },
    {
     "data": {
      "text/plain": [
       "\"가장 많이 사용된 배송 방법은 'RAIL'입니다.\""
      ]
     },
     "execution_count": 62,
     "metadata": {},
     "output_type": "execute_result"
    }
   ],
   "source": [
    "PROMPT = \"\"\" \n",
    "Human: Given an input question, create a syntactically correct postgresql query to run,\n",
    "then look at the results of the query and return the detailed answer as much as possible based on the result.  \n",
    "The query: {question}\n",
    "\n",
    "Assistant:\"\"\"\n",
    "\n",
    "db_chain.run(PROMPT.format(question=\"어떤 배송 방법이 가장 많이 사용되었나요?\"))"
   ]
  },
  {
   "cell_type": "markdown",
   "id": "8ba72d41-2162-4926-913c-b589d0f80fba",
   "metadata": {
    "tags": []
   },
   "source": [
    "***\n",
    "#Clean Up\n",
    "***\n",
    "## Option 1\n",
    "\n",
    "### 아래와 같이 Cloudformation에서 genai-workshop-Redshift-*** 스택을 삭제합니다. "
   ]
  },
  {
   "cell_type": "code",
   "execution_count": 63,
   "id": "db7c3c4d-988f-4e26-8df9-fc5172915899",
   "metadata": {},
   "outputs": [
    {
     "data": {
      "text/plain": [
       "{'ResponseMetadata': {'RequestId': '23b6bef3-b7b1-44e1-a334-7f1635f16494',\n",
       "  'HTTPStatusCode': 200,\n",
       "  'HTTPHeaders': {'x-amzn-requestid': '23b6bef3-b7b1-44e1-a334-7f1635f16494',\n",
       "   'date': 'Thu, 16 Nov 2023 15:35:53 GMT',\n",
       "   'content-type': 'text/xml',\n",
       "   'content-length': '212',\n",
       "   'connection': 'keep-alive'},\n",
       "  'RetryAttempts': 0}}"
      ]
     },
     "execution_count": 63,
     "metadata": {},
     "output_type": "execute_result"
    }
   ],
   "source": [
    "cf_client = boto3.client('cloudformation')\n",
    "response = cf_client.describe_stacks()\n",
    "\n",
    "for output in response[\"Stacks\"]:\n",
    "    stackName = output[\"StackName\"]\n",
    "    if stackName.find('Redshift') > 0:\n",
    "        response = cf_client.delete_stack(StackName=stackName)\n",
    "\n",
    "response"
   ]
  },
  {
   "cell_type": "markdown",
   "id": "60f62275-b1aa-4ee1-8803-63b0e23b7921",
   "metadata": {},
   "source": [
    "***\n",
    "## Option 2\n",
    "\n",
    "### 아래와 같이 Cloudformation에서 상단의 \"View nested\"를 선택하고 삭제할 genai-workshop-Redshift-*** 스택을 선택합니다. 그리고 우측 스택 상세화면에서 \"Delete\"를 선택합니다.   \n",
    "<img src=\"images/cf-d-1.png\" width=\"600\"/>\n",
    "\n",
    "### 아래와 같이 \"De \"Delete\"를 선택합니다.   \n",
    "<img src=\"images/cf-d-2.png\" width=\"600\"/>"
   ]
  },
  {
   "cell_type": "code",
   "execution_count": null,
   "id": "a2c5b657-077c-4e37-b76b-42ed5223e057",
   "metadata": {},
   "outputs": [],
   "source": []
  }
 ],
 "metadata": {
  "availableInstances": [
   {
    "_defaultOrder": 0,
    "_isFastLaunch": true,
    "category": "General purpose",
    "gpuNum": 0,
    "hideHardwareSpecs": false,
    "memoryGiB": 4,
    "name": "ml.t3.medium",
    "vcpuNum": 2
   },
   {
    "_defaultOrder": 1,
    "_isFastLaunch": false,
    "category": "General purpose",
    "gpuNum": 0,
    "hideHardwareSpecs": false,
    "memoryGiB": 8,
    "name": "ml.t3.large",
    "vcpuNum": 2
   },
   {
    "_defaultOrder": 2,
    "_isFastLaunch": false,
    "category": "General purpose",
    "gpuNum": 0,
    "hideHardwareSpecs": false,
    "memoryGiB": 16,
    "name": "ml.t3.xlarge",
    "vcpuNum": 4
   },
   {
    "_defaultOrder": 3,
    "_isFastLaunch": false,
    "category": "General purpose",
    "gpuNum": 0,
    "hideHardwareSpecs": false,
    "memoryGiB": 32,
    "name": "ml.t3.2xlarge",
    "vcpuNum": 8
   },
   {
    "_defaultOrder": 4,
    "_isFastLaunch": true,
    "category": "General purpose",
    "gpuNum": 0,
    "hideHardwareSpecs": false,
    "memoryGiB": 8,
    "name": "ml.m5.large",
    "vcpuNum": 2
   },
   {
    "_defaultOrder": 5,
    "_isFastLaunch": false,
    "category": "General purpose",
    "gpuNum": 0,
    "hideHardwareSpecs": false,
    "memoryGiB": 16,
    "name": "ml.m5.xlarge",
    "vcpuNum": 4
   },
   {
    "_defaultOrder": 6,
    "_isFastLaunch": false,
    "category": "General purpose",
    "gpuNum": 0,
    "hideHardwareSpecs": false,
    "memoryGiB": 32,
    "name": "ml.m5.2xlarge",
    "vcpuNum": 8
   },
   {
    "_defaultOrder": 7,
    "_isFastLaunch": false,
    "category": "General purpose",
    "gpuNum": 0,
    "hideHardwareSpecs": false,
    "memoryGiB": 64,
    "name": "ml.m5.4xlarge",
    "vcpuNum": 16
   },
   {
    "_defaultOrder": 8,
    "_isFastLaunch": false,
    "category": "General purpose",
    "gpuNum": 0,
    "hideHardwareSpecs": false,
    "memoryGiB": 128,
    "name": "ml.m5.8xlarge",
    "vcpuNum": 32
   },
   {
    "_defaultOrder": 9,
    "_isFastLaunch": false,
    "category": "General purpose",
    "gpuNum": 0,
    "hideHardwareSpecs": false,
    "memoryGiB": 192,
    "name": "ml.m5.12xlarge",
    "vcpuNum": 48
   },
   {
    "_defaultOrder": 10,
    "_isFastLaunch": false,
    "category": "General purpose",
    "gpuNum": 0,
    "hideHardwareSpecs": false,
    "memoryGiB": 256,
    "name": "ml.m5.16xlarge",
    "vcpuNum": 64
   },
   {
    "_defaultOrder": 11,
    "_isFastLaunch": false,
    "category": "General purpose",
    "gpuNum": 0,
    "hideHardwareSpecs": false,
    "memoryGiB": 384,
    "name": "ml.m5.24xlarge",
    "vcpuNum": 96
   },
   {
    "_defaultOrder": 12,
    "_isFastLaunch": false,
    "category": "General purpose",
    "gpuNum": 0,
    "hideHardwareSpecs": false,
    "memoryGiB": 8,
    "name": "ml.m5d.large",
    "vcpuNum": 2
   },
   {
    "_defaultOrder": 13,
    "_isFastLaunch": false,
    "category": "General purpose",
    "gpuNum": 0,
    "hideHardwareSpecs": false,
    "memoryGiB": 16,
    "name": "ml.m5d.xlarge",
    "vcpuNum": 4
   },
   {
    "_defaultOrder": 14,
    "_isFastLaunch": false,
    "category": "General purpose",
    "gpuNum": 0,
    "hideHardwareSpecs": false,
    "memoryGiB": 32,
    "name": "ml.m5d.2xlarge",
    "vcpuNum": 8
   },
   {
    "_defaultOrder": 15,
    "_isFastLaunch": false,
    "category": "General purpose",
    "gpuNum": 0,
    "hideHardwareSpecs": false,
    "memoryGiB": 64,
    "name": "ml.m5d.4xlarge",
    "vcpuNum": 16
   },
   {
    "_defaultOrder": 16,
    "_isFastLaunch": false,
    "category": "General purpose",
    "gpuNum": 0,
    "hideHardwareSpecs": false,
    "memoryGiB": 128,
    "name": "ml.m5d.8xlarge",
    "vcpuNum": 32
   },
   {
    "_defaultOrder": 17,
    "_isFastLaunch": false,
    "category": "General purpose",
    "gpuNum": 0,
    "hideHardwareSpecs": false,
    "memoryGiB": 192,
    "name": "ml.m5d.12xlarge",
    "vcpuNum": 48
   },
   {
    "_defaultOrder": 18,
    "_isFastLaunch": false,
    "category": "General purpose",
    "gpuNum": 0,
    "hideHardwareSpecs": false,
    "memoryGiB": 256,
    "name": "ml.m5d.16xlarge",
    "vcpuNum": 64
   },
   {
    "_defaultOrder": 19,
    "_isFastLaunch": false,
    "category": "General purpose",
    "gpuNum": 0,
    "hideHardwareSpecs": false,
    "memoryGiB": 384,
    "name": "ml.m5d.24xlarge",
    "vcpuNum": 96
   },
   {
    "_defaultOrder": 20,
    "_isFastLaunch": false,
    "category": "General purpose",
    "gpuNum": 0,
    "hideHardwareSpecs": true,
    "memoryGiB": 0,
    "name": "ml.geospatial.interactive",
    "supportedImageNames": [
     "sagemaker-geospatial-v1-0"
    ],
    "vcpuNum": 0
   },
   {
    "_defaultOrder": 21,
    "_isFastLaunch": true,
    "category": "Compute optimized",
    "gpuNum": 0,
    "hideHardwareSpecs": false,
    "memoryGiB": 4,
    "name": "ml.c5.large",
    "vcpuNum": 2
   },
   {
    "_defaultOrder": 22,
    "_isFastLaunch": false,
    "category": "Compute optimized",
    "gpuNum": 0,
    "hideHardwareSpecs": false,
    "memoryGiB": 8,
    "name": "ml.c5.xlarge",
    "vcpuNum": 4
   },
   {
    "_defaultOrder": 23,
    "_isFastLaunch": false,
    "category": "Compute optimized",
    "gpuNum": 0,
    "hideHardwareSpecs": false,
    "memoryGiB": 16,
    "name": "ml.c5.2xlarge",
    "vcpuNum": 8
   },
   {
    "_defaultOrder": 24,
    "_isFastLaunch": false,
    "category": "Compute optimized",
    "gpuNum": 0,
    "hideHardwareSpecs": false,
    "memoryGiB": 32,
    "name": "ml.c5.4xlarge",
    "vcpuNum": 16
   },
   {
    "_defaultOrder": 25,
    "_isFastLaunch": false,
    "category": "Compute optimized",
    "gpuNum": 0,
    "hideHardwareSpecs": false,
    "memoryGiB": 72,
    "name": "ml.c5.9xlarge",
    "vcpuNum": 36
   },
   {
    "_defaultOrder": 26,
    "_isFastLaunch": false,
    "category": "Compute optimized",
    "gpuNum": 0,
    "hideHardwareSpecs": false,
    "memoryGiB": 96,
    "name": "ml.c5.12xlarge",
    "vcpuNum": 48
   },
   {
    "_defaultOrder": 27,
    "_isFastLaunch": false,
    "category": "Compute optimized",
    "gpuNum": 0,
    "hideHardwareSpecs": false,
    "memoryGiB": 144,
    "name": "ml.c5.18xlarge",
    "vcpuNum": 72
   },
   {
    "_defaultOrder": 28,
    "_isFastLaunch": false,
    "category": "Compute optimized",
    "gpuNum": 0,
    "hideHardwareSpecs": false,
    "memoryGiB": 192,
    "name": "ml.c5.24xlarge",
    "vcpuNum": 96
   },
   {
    "_defaultOrder": 29,
    "_isFastLaunch": true,
    "category": "Accelerated computing",
    "gpuNum": 1,
    "hideHardwareSpecs": false,
    "memoryGiB": 16,
    "name": "ml.g4dn.xlarge",
    "vcpuNum": 4
   },
   {
    "_defaultOrder": 30,
    "_isFastLaunch": false,
    "category": "Accelerated computing",
    "gpuNum": 1,
    "hideHardwareSpecs": false,
    "memoryGiB": 32,
    "name": "ml.g4dn.2xlarge",
    "vcpuNum": 8
   },
   {
    "_defaultOrder": 31,
    "_isFastLaunch": false,
    "category": "Accelerated computing",
    "gpuNum": 1,
    "hideHardwareSpecs": false,
    "memoryGiB": 64,
    "name": "ml.g4dn.4xlarge",
    "vcpuNum": 16
   },
   {
    "_defaultOrder": 32,
    "_isFastLaunch": false,
    "category": "Accelerated computing",
    "gpuNum": 1,
    "hideHardwareSpecs": false,
    "memoryGiB": 128,
    "name": "ml.g4dn.8xlarge",
    "vcpuNum": 32
   },
   {
    "_defaultOrder": 33,
    "_isFastLaunch": false,
    "category": "Accelerated computing",
    "gpuNum": 4,
    "hideHardwareSpecs": false,
    "memoryGiB": 192,
    "name": "ml.g4dn.12xlarge",
    "vcpuNum": 48
   },
   {
    "_defaultOrder": 34,
    "_isFastLaunch": false,
    "category": "Accelerated computing",
    "gpuNum": 1,
    "hideHardwareSpecs": false,
    "memoryGiB": 256,
    "name": "ml.g4dn.16xlarge",
    "vcpuNum": 64
   },
   {
    "_defaultOrder": 35,
    "_isFastLaunch": false,
    "category": "Accelerated computing",
    "gpuNum": 1,
    "hideHardwareSpecs": false,
    "memoryGiB": 61,
    "name": "ml.p3.2xlarge",
    "vcpuNum": 8
   },
   {
    "_defaultOrder": 36,
    "_isFastLaunch": false,
    "category": "Accelerated computing",
    "gpuNum": 4,
    "hideHardwareSpecs": false,
    "memoryGiB": 244,
    "name": "ml.p3.8xlarge",
    "vcpuNum": 32
   },
   {
    "_defaultOrder": 37,
    "_isFastLaunch": false,
    "category": "Accelerated computing",
    "gpuNum": 8,
    "hideHardwareSpecs": false,
    "memoryGiB": 488,
    "name": "ml.p3.16xlarge",
    "vcpuNum": 64
   },
   {
    "_defaultOrder": 38,
    "_isFastLaunch": false,
    "category": "Accelerated computing",
    "gpuNum": 8,
    "hideHardwareSpecs": false,
    "memoryGiB": 768,
    "name": "ml.p3dn.24xlarge",
    "vcpuNum": 96
   },
   {
    "_defaultOrder": 39,
    "_isFastLaunch": false,
    "category": "Memory Optimized",
    "gpuNum": 0,
    "hideHardwareSpecs": false,
    "memoryGiB": 16,
    "name": "ml.r5.large",
    "vcpuNum": 2
   },
   {
    "_defaultOrder": 40,
    "_isFastLaunch": false,
    "category": "Memory Optimized",
    "gpuNum": 0,
    "hideHardwareSpecs": false,
    "memoryGiB": 32,
    "name": "ml.r5.xlarge",
    "vcpuNum": 4
   },
   {
    "_defaultOrder": 41,
    "_isFastLaunch": false,
    "category": "Memory Optimized",
    "gpuNum": 0,
    "hideHardwareSpecs": false,
    "memoryGiB": 64,
    "name": "ml.r5.2xlarge",
    "vcpuNum": 8
   },
   {
    "_defaultOrder": 42,
    "_isFastLaunch": false,
    "category": "Memory Optimized",
    "gpuNum": 0,
    "hideHardwareSpecs": false,
    "memoryGiB": 128,
    "name": "ml.r5.4xlarge",
    "vcpuNum": 16
   },
   {
    "_defaultOrder": 43,
    "_isFastLaunch": false,
    "category": "Memory Optimized",
    "gpuNum": 0,
    "hideHardwareSpecs": false,
    "memoryGiB": 256,
    "name": "ml.r5.8xlarge",
    "vcpuNum": 32
   },
   {
    "_defaultOrder": 44,
    "_isFastLaunch": false,
    "category": "Memory Optimized",
    "gpuNum": 0,
    "hideHardwareSpecs": false,
    "memoryGiB": 384,
    "name": "ml.r5.12xlarge",
    "vcpuNum": 48
   },
   {
    "_defaultOrder": 45,
    "_isFastLaunch": false,
    "category": "Memory Optimized",
    "gpuNum": 0,
    "hideHardwareSpecs": false,
    "memoryGiB": 512,
    "name": "ml.r5.16xlarge",
    "vcpuNum": 64
   },
   {
    "_defaultOrder": 46,
    "_isFastLaunch": false,
    "category": "Memory Optimized",
    "gpuNum": 0,
    "hideHardwareSpecs": false,
    "memoryGiB": 768,
    "name": "ml.r5.24xlarge",
    "vcpuNum": 96
   },
   {
    "_defaultOrder": 47,
    "_isFastLaunch": false,
    "category": "Accelerated computing",
    "gpuNum": 1,
    "hideHardwareSpecs": false,
    "memoryGiB": 16,
    "name": "ml.g5.xlarge",
    "vcpuNum": 4
   },
   {
    "_defaultOrder": 48,
    "_isFastLaunch": false,
    "category": "Accelerated computing",
    "gpuNum": 1,
    "hideHardwareSpecs": false,
    "memoryGiB": 32,
    "name": "ml.g5.2xlarge",
    "vcpuNum": 8
   },
   {
    "_defaultOrder": 49,
    "_isFastLaunch": false,
    "category": "Accelerated computing",
    "gpuNum": 1,
    "hideHardwareSpecs": false,
    "memoryGiB": 64,
    "name": "ml.g5.4xlarge",
    "vcpuNum": 16
   },
   {
    "_defaultOrder": 50,
    "_isFastLaunch": false,
    "category": "Accelerated computing",
    "gpuNum": 1,
    "hideHardwareSpecs": false,
    "memoryGiB": 128,
    "name": "ml.g5.8xlarge",
    "vcpuNum": 32
   },
   {
    "_defaultOrder": 51,
    "_isFastLaunch": false,
    "category": "Accelerated computing",
    "gpuNum": 1,
    "hideHardwareSpecs": false,
    "memoryGiB": 256,
    "name": "ml.g5.16xlarge",
    "vcpuNum": 64
   },
   {
    "_defaultOrder": 52,
    "_isFastLaunch": false,
    "category": "Accelerated computing",
    "gpuNum": 4,
    "hideHardwareSpecs": false,
    "memoryGiB": 192,
    "name": "ml.g5.12xlarge",
    "vcpuNum": 48
   },
   {
    "_defaultOrder": 53,
    "_isFastLaunch": false,
    "category": "Accelerated computing",
    "gpuNum": 4,
    "hideHardwareSpecs": false,
    "memoryGiB": 384,
    "name": "ml.g5.24xlarge",
    "vcpuNum": 96
   },
   {
    "_defaultOrder": 54,
    "_isFastLaunch": false,
    "category": "Accelerated computing",
    "gpuNum": 8,
    "hideHardwareSpecs": false,
    "memoryGiB": 768,
    "name": "ml.g5.48xlarge",
    "vcpuNum": 192
   },
   {
    "_defaultOrder": 55,
    "_isFastLaunch": false,
    "category": "Accelerated computing",
    "gpuNum": 8,
    "hideHardwareSpecs": false,
    "memoryGiB": 1152,
    "name": "ml.p4d.24xlarge",
    "vcpuNum": 96
   },
   {
    "_defaultOrder": 56,
    "_isFastLaunch": false,
    "category": "Accelerated computing",
    "gpuNum": 8,
    "hideHardwareSpecs": false,
    "memoryGiB": 1152,
    "name": "ml.p4de.24xlarge",
    "vcpuNum": 96
   },
   {
    "_defaultOrder": 57,
    "_isFastLaunch": false,
    "category": "Accelerated computing",
    "gpuNum": 0,
    "hideHardwareSpecs": false,
    "memoryGiB": 32,
    "name": "ml.trn1.2xlarge",
    "vcpuNum": 8
   },
   {
    "_defaultOrder": 58,
    "_isFastLaunch": false,
    "category": "Accelerated computing",
    "gpuNum": 0,
    "hideHardwareSpecs": false,
    "memoryGiB": 512,
    "name": "ml.trn1.32xlarge",
    "vcpuNum": 128
   },
   {
    "_defaultOrder": 59,
    "_isFastLaunch": false,
    "category": "Accelerated computing",
    "gpuNum": 0,
    "hideHardwareSpecs": false,
    "memoryGiB": 512,
    "name": "ml.trn1n.32xlarge",
    "vcpuNum": 128
   }
  ],
  "instance_type": "ml.t3.medium",
  "kernelspec": {
   "display_name": "Python 3 (Data Science 3.0)",
   "language": "python",
   "name": "python3__SAGEMAKER_INTERNAL__arn:aws:sagemaker:us-east-1:081325390199:image/sagemaker-data-science-310-v1"
  },
  "language_info": {
   "codemirror_mode": {
    "name": "ipython",
    "version": 3
   },
   "file_extension": ".py",
   "mimetype": "text/x-python",
   "name": "python",
   "nbconvert_exporter": "python",
   "pygments_lexer": "ipython3",
   "version": "3.10.6"
  }
 },
 "nbformat": 4,
 "nbformat_minor": 5
}
