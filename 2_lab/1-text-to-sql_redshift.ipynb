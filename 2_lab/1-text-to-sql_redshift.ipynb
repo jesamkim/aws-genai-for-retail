{
 "cells": [
  {
   "cell_type": "markdown",
   "id": "b621dd57-4f83-438e-8c0d-1f93362798fc",
   "metadata": {
    "tags": []
   },
   "source": [
    "# Amazon Bedrock과 LangChain을 이용한 \"비즈니스 데이터 분석을 위한 자연어 기반 BI\"\n",
    "\n",
    "---\n",
    "\n",
    "이 노트북에서는 비즈니스 데이터 분석을 위한 자연어 기반 BI 구현하기 위한 생성형 AI 기반의 Text-to-SQL 기능을 위해 [Amazon Bedrock](https://aws.amazon.com/bedrock/)과 [LangChain](https://www.langchain.com/)을 사용합니다.\n",
    "\n",
    "Text-to-SQL 기능을 이용한다면 자연어만을 사용해서 구조화된 정보를 보유하고 있는 SQL 데이터베이스에 LLM을 연결하여 특정 비즈니스 데이터에 대한 답을 얻을 수 있습니다. 이때 LLM은 질문에 대한 답을 추출을 위해 데이터베이스에 초점을 맞추게 되며 SQL을 통해 데이터베이스에서 제공하는 정확한 정보를 반환할 수 있습니다. LangChain은 LLM을 다른 데이터소스로 연결할 수 있도록 하는 기능을 제공하여 개발자는 복잡한 애플리케이션을 쉽게 만들 수 있습니다.\n",
    "\n",
    "<img src=\"images/sql-agent.png\" width=\"800\"/>\n",
    "\n",
    "### Text-to-SQL를 이용하여 아래와 같은 사례에 적용할 수 있습니다.\n",
    "* 데이터베이스 데이터를 기반으로 질문에 답할 수 있는 챗봇 만들기\n",
    "* 자연어 기반의 복잡한 쿼리 생성\n",
    "* 비기술 인력 및 이해관계자에 대한 데이터베이스 접근성 확대\n",
    "\n",
    "이 노트북에서는 사전에 생성된 Amazon Redshift Serverless를 사용하며 데이터베이스와 LLM 연결을 위해 LangChain을 사용합니다.\n",
    "노트북은 아래와 같은 구성으로 이루어져있습니다.\n",
    "1. Amazon Redshift Serverless 접속과 데이터 확인\n",
    "2. LangChain의 SQLDatabaseChain 사용 \n",
    "\n",
    "Amazon Bedrock과 LangChain을 이용한 Text-to-SQL 구조는 아래 다이어그램을 참조하세요.\n",
    "\n",
    "<img src=\"images/rs-architecture.png\" width=\"800\"/>\n",
    "\n",
    "데이터에 대한 질문을 위한 SQL 쿼리를 작성하기 위해서는 원하는 데이터와 조건 등을 지정하는 명령문을 전달합니다. 명령문은 프롬프트와 함께 전달되고 해당되는 데이터베이스에 맞는 SQL 문으로 변환됩니다. SQL문이 실행된 결과 데이터는 다시 LLM에 전달되고 프롬프트에 따라 LLM은 자연어로 결과를 제공해줍니다. 이때 자연어를 이용한 질의를 통해 복잡한 조인까지도 생성할 수 있어 SQL 쿼리를 생성하고 그 결과를 분석하는 것이 정말 쉬워집니다.\n",
    "\n",
    "Image credits: \n",
    "\n",
    "---"
   ]
  },
  {
   "cell_type": "code",
   "execution_count": null,
   "id": "7a907808-c748-4ef3-b68e-65a57e7d933e",
   "metadata": {
    "tags": []
   },
   "outputs": [],
   "source": [
    "%pip install --upgrade pip\n",
    "%pip install -qU redshift_connector sqlalchemy-redshift\n",
    "# %pip install -qU 'sagemaker>=2.15.0' 'PyAthena==1.10.7' 'SQLAlchemy==1.3.13'"
   ]
  },
  {
   "cell_type": "code",
   "execution_count": null,
   "id": "93261784-2bed-4b75-aaee-f23fe58b4c53",
   "metadata": {
    "tags": []
   },
   "outputs": [],
   "source": [
    "import os\n",
    "import boto3"
   ]
  },
  {
   "cell_type": "code",
   "execution_count": null,
   "id": "69923d27-7563-4fdd-8785-7f6e19e654b6",
   "metadata": {
    "tags": []
   },
   "outputs": [],
   "source": [
    "my_region = os.environ[\"AWS_DEFAULT_REGION\"]   # E.g. \"us-east-1\"\n",
    "os.environ[\"BEDROCK_ENDPOINT_URL\"] = f\"https://bedrock-runtime.{my_region}.amazonaws.com\"  # E.g. \"https://...\"\n",
    "\n",
    "STACK_NAME = 'genai-workshop' # Cloudformation의 Stack Name을 입력합니다."
   ]
  },
  {
   "cell_type": "code",
   "execution_count": null,
   "id": "e4a4d752-5c74-4f54-b5f4-d8aaf964d933",
   "metadata": {
    "tags": []
   },
   "outputs": [],
   "source": [
    "# Redshift Serverless로 연결을 위한 Endpoint를 Cloudformation에서 읽어옵니다.\n",
    "\n",
    "cf_client = boto3.client('cloudformation')\n",
    "response = cf_client.describe_stacks()\n",
    "\n",
    "for output in response[\"Stacks\"]:\n",
    "    stackName = output[\"StackName\"]\n",
    "    if stackName.find('Redshift') > 0:\n",
    "        response = cf_client.describe_stacks(StackName=stackName)\n",
    "        for output in response[\"Stacks\"][0][\"Outputs\"]:\n",
    "            keyName = output[\"OutputKey\"]\n",
    "            if keyName == \"ServerlessWorkgroup\":\n",
    "                WORK_GROUP = output[\"OutputValue\"]\n",
    "            if keyName == \"ServerlessNamespace\":\n",
    "                NAME_SPACE = output[\"OutputValue\"]\n",
    "\n",
    "rs_client = boto3.client('redshift-serverless')\n",
    "response = rs_client.get_workgroup(\n",
    "    workgroupName=WORK_GROUP\n",
    ")\n",
    "\n",
    "redshift_endpoint = response['workgroup']['endpoint']['address']\n",
    "\n",
    "redshift_endpoint"
   ]
  },
  {
   "cell_type": "markdown",
   "id": "7228a434-1f78-451e-afde-2e1014e973a1",
   "metadata": {},
   "source": [
    "# Redshift Serverless 테이블 생성과 데이터 로딩\n",
    "\n",
    "### 본 노트북에서 사용되는 일반적인 리테일 회사에서 사용될 수 있는 가상의 데이터를 참고했습니다.\n",
    "- region (P: R_REGIONKEY): 지역 정보; 지역 이름과 설명\n",
    "- nation (P: N_NATIONKEY): 국가 정보; 국가 이름, 지역 키, 설명\n",
    "- customer (P: C_CUSTKEY): 고객 정보; 고객의 이름, 주소, 국가 키, 전화번호, 계정 잔액 \n",
    "- orders (P: O_ORDERKEY): 주문 정보; 주문 상태, 총 가격, 주문일자, 우선 순위; 주문키(distkey), 주문일자(sortkey)\n",
    "- part (P: P_PARTKEY): 제품 정보; 제품 이름, 제조사, 브랜드, 유형, 크기, 가격\n",
    "- supplier (P: S_SUPPKEY): 공급업체 정보; 업체 이름, 주소, 국가 키, 전화번호, 계정 잔액\n",
    "- lineitem (P: L_ORDERKEY): 주문 라인 항목 정보; 주문 제품, 공급업체, 라인 번호, 수량, 확장 가격, 할인, 세금; 주문키(distkey), 수령 일자(sortkey)\n",
    "- partsupp (P: PS_PARTKEY, PS_SUPPKEY): 제품-공급업체 관계 정보; 제품의 가용 수량, 공급 비용, 설명"
   ]
  },
  {
   "cell_type": "markdown",
   "id": "23485f95-057d-4aee-91c1-69565aef38cb",
   "metadata": {},
   "source": [
    "## 중요!: 본 실습에 필요한 Redshift Serverless 권한 적용을 위해서는 사용할 IAM Role을 Default Type으로 지정해야합니다.\n",
    "\n",
    "아래와 같이 Redshift Serverless의 Namespace에 \"Security and encryption\"에서 사용할 Role\n",
    "<img src=\"images/namespace.png\" width=\"800\"/>\n",
    "\n",
    "<img src=\"images/make-default.png\" width=\"800\"/>"
   ]
  },
  {
   "cell_type": "code",
   "execution_count": null,
   "id": "3d9873b2-1d4a-467e-a334-c5f88d7f4e47",
   "metadata": {
    "tags": []
   },
   "outputs": [],
   "source": [
    "import redshift_connector\n",
    "\n",
    "conn = redshift_connector.connect(\n",
    "     host=redshift_endpoint,\n",
    "     database='dev',\n",
    "     port=5439,\n",
    "     user=\"admin\",\n",
    "     password=\"Admin1234!\"\n",
    ")\n",
    "\n",
    "conn.autocommit = True\n",
    "cursor = conn.cursor()"
   ]
  },
  {
   "cell_type": "markdown",
   "id": "a7cd8cdd-9a08-4b7a-91ff-2613342a35e1",
   "metadata": {
    "tags": []
   },
   "source": [
    "## Redshift Serverless에 테이블 생성"
   ]
  },
  {
   "cell_type": "code",
   "execution_count": null,
   "id": "f4b2a219-fca3-4213-8da5-fae2b9916ca8",
   "metadata": {
    "tags": []
   },
   "outputs": [],
   "source": [
    "cursor.execute(\"DROP TABLE IF EXISTS region\")\n",
    "\n",
    "create_statement = \"\"\"\n",
    "CREATE TABLE region (\n",
    "  R_REGIONKEY bigint NOT NULL,\n",
    "  R_NAME varchar(25),\n",
    "  R_COMMENT varchar(152))\n",
    "diststyle all;\n",
    "\"\"\"\n",
    "cursor.execute(create_statement)\n"
   ]
  },
  {
   "cell_type": "code",
   "execution_count": null,
   "id": "29957b65-8ed7-4db4-adf3-7cd7e1edaaaf",
   "metadata": {
    "tags": []
   },
   "outputs": [],
   "source": [
    "cursor.execute(\"DROP TABLE IF EXISTS nation\")\n",
    "\n",
    "create_statement = \"\"\"\n",
    "CREATE TABLE nation (\n",
    "  N_NATIONKEY bigint NOT NULL,\n",
    "  N_NAME varchar(25),\n",
    "  N_REGIONKEY bigint,\n",
    "  N_COMMENT varchar(152))\n",
    "diststyle all;\n",
    "\"\"\"\n",
    "cursor.execute(create_statement)"
   ]
  },
  {
   "cell_type": "code",
   "execution_count": null,
   "id": "981fb907-48ea-4d5a-9443-f06f08f1f18c",
   "metadata": {
    "tags": []
   },
   "outputs": [],
   "source": [
    "cursor.execute(\"DROP TABLE IF EXISTS customer\")\n",
    "\n",
    "create_statement = \"\"\"\n",
    "create table customer (\n",
    "  C_CUSTKEY bigint NOT NULL,\n",
    "  C_NAME varchar(25),\n",
    "  C_ADDRESS varchar(40),\n",
    "  C_NATIONKEY bigint,\n",
    "  C_PHONE varchar(15),\n",
    "  C_ACCTBAL decimal(18,4),\n",
    "  C_MKTSEGMENT varchar(10),\n",
    "  C_COMMENT varchar(117))\n",
    "diststyle all;\n",
    "\"\"\"\n",
    "cursor.execute(create_statement)"
   ]
  },
  {
   "cell_type": "code",
   "execution_count": null,
   "id": "c37e90f0-bc42-4626-8931-1e00a2415caa",
   "metadata": {
    "tags": []
   },
   "outputs": [],
   "source": [
    "cursor.execute(\"DROP TABLE IF EXISTS orders\")\n",
    "\n",
    "create_statement = \"\"\"\n",
    "create table orders (\n",
    "  O_ORDERKEY bigint NOT NULL,\n",
    "  O_CUSTKEY bigint,\n",
    "  O_ORDERSTATUS varchar(1),\n",
    "  O_TOTALPRICE decimal(18,4),\n",
    "  O_ORDERDATE Date,\n",
    "  O_ORDERPRIORITY varchar(15),\n",
    "  O_CLERK varchar(15),\n",
    "  O_SHIPPRIORITY Integer,\n",
    "  O_COMMENT varchar(79))\n",
    "distkey (O_ORDERKEY)\n",
    "sortkey (O_ORDERDATE);\n",
    "\"\"\"\n",
    "cursor.execute(create_statement)"
   ]
  },
  {
   "cell_type": "code",
   "execution_count": null,
   "id": "27f82b1f-63d5-4d63-ac78-d957a8b9d78d",
   "metadata": {
    "tags": []
   },
   "outputs": [],
   "source": [
    "cursor.execute(\"DROP TABLE IF EXISTS part\")\n",
    "\n",
    "create_statement = \"\"\"\n",
    "create table part (\n",
    "  P_PARTKEY bigint NOT NULL,\n",
    "  P_NAME varchar(55),\n",
    "  P_MFGR  varchar(25),\n",
    "  P_BRAND varchar(10),\n",
    "  P_TYPE varchar(25),\n",
    "  P_SIZE integer,\n",
    "  P_CONTAINER varchar(10),\n",
    "  P_RETAILPRICE decimal(18,4),\n",
    "  P_COMMENT varchar(23))\n",
    "diststyle all;\n",
    "\"\"\"\n",
    "cursor.execute(create_statement)"
   ]
  },
  {
   "cell_type": "code",
   "execution_count": null,
   "id": "017611ef-9a55-483b-a92b-454964694b1c",
   "metadata": {
    "tags": []
   },
   "outputs": [],
   "source": [
    "cursor.execute(\"DROP TABLE IF EXISTS supplier\")\n",
    "\n",
    "create_statement = \"\"\"\n",
    "create table supplier (\n",
    "  S_SUPPKEY bigint NOT NULL,\n",
    "  S_NAME varchar(25),\n",
    "  S_ADDRESS varchar(40),\n",
    "  S_NATIONKEY bigint,\n",
    "  S_PHONE varchar(15),\n",
    "  S_ACCTBAL decimal(18,4),\n",
    "  S_COMMENT varchar(101))\n",
    "diststyle all;                                                              \n",
    "\"\"\"\n",
    "cursor.execute(create_statement)"
   ]
  },
  {
   "cell_type": "code",
   "execution_count": null,
   "id": "29abf3b3-4dd2-413e-a553-6bbb5bb7cd30",
   "metadata": {
    "tags": []
   },
   "outputs": [],
   "source": [
    "cursor.execute(\"DROP TABLE IF EXISTS lineitem\")\n",
    "\n",
    "create_statement = \"\"\"\n",
    "create table lineitem (\n",
    "  L_ORDERKEY bigint NOT NULL,\n",
    "  L_PARTKEY bigint,\n",
    "  L_SUPPKEY bigint,\n",
    "  L_LINENUMBER integer NOT NULL,\n",
    "  L_QUANTITY decimal(18,4),\n",
    "  L_EXTENDEDPRICE decimal(18,4),\n",
    "  L_DISCOUNT decimal(18,4),\n",
    "  L_TAX decimal(18,4),\n",
    "  L_RETURNFLAG varchar(1),\n",
    "  L_LINESTATUS varchar(1),\n",
    "  L_SHIPDATE date,\n",
    "  L_COMMITDATE date,\n",
    "  L_RECEIPTDATE date,\n",
    "  L_SHIPINSTRUCT varchar(25),\n",
    "  L_SHIPMODE varchar(10),\n",
    "  L_COMMENT varchar(44))\n",
    "distkey (L_ORDERKEY)\n",
    "sortkey (L_RECEIPTDATE);\n",
    "\"\"\"\n",
    "cursor.execute(create_statement)"
   ]
  },
  {
   "cell_type": "code",
   "execution_count": null,
   "id": "63a8ae9c-1d25-4583-a007-8ba00a3bb5b4",
   "metadata": {
    "tags": []
   },
   "outputs": [],
   "source": [
    "cursor.execute(\"DROP TABLE IF EXISTS partsupp\")\n",
    "\n",
    "create_statement = \"\"\"\n",
    "create table partsupp (\n",
    "  PS_PARTKEY bigint NOT NULL,\n",
    "  PS_SUPPKEY bigint NOT NULL,\n",
    "  PS_AVAILQTY integer,\n",
    "  PS_SUPPLYCOST decimal(18,4),\n",
    "  PS_COMMENT varchar(199))\n",
    "diststyle even;\n",
    "\"\"\"\n",
    "cursor.execute(create_statement)"
   ]
  },
  {
   "cell_type": "markdown",
   "id": "b4a387fe-4886-42a7-9493-788cca41e144",
   "metadata": {},
   "source": [
    "## Redshift Serverlessd에 데이터 로딩"
   ]
  },
  {
   "cell_type": "code",
   "execution_count": null,
   "id": "58d6a645-9329-41dc-8fa9-8f7103e65505",
   "metadata": {
    "tags": []
   },
   "outputs": [],
   "source": [
    "load_data_statement = \"\"\"\n",
    "COPY region FROM 's3://redshift-immersionday-labs/data/region/region.tbl.lzo'\n",
    "iam_role default\n",
    "region 'us-west-2' lzop delimiter '|' COMPUPDATE PRESET;\n",
    "\"\"\"\n",
    "cursor.execute(load_data_statement)"
   ]
  },
  {
   "cell_type": "markdown",
   "id": "848bc7a6-8a3e-4cec-a0bf-a0f50e8b2ee7",
   "metadata": {},
   "source": [
    "Note: S3부터 데이터 Copy를 위해서는 반드시 Set Default IAM Role in Redshift Serverless을 수행해야합니다."
   ]
  },
  {
   "cell_type": "code",
   "execution_count": null,
   "id": "6f20c289-17ef-4a01-a91c-e8dd5fe09852",
   "metadata": {
    "tags": []
   },
   "outputs": [],
   "source": [
    "load_data_statement = \"\"\"\n",
    "COPY nation FROM 's3://redshift-immersionday-labs/data/nation/nation.tbl.'\n",
    "iam_role default\n",
    "region 'us-west-2' lzop delimiter '|' COMPUPDATE PRESET;\n",
    "\"\"\"\n",
    "cursor.execute(load_data_statement)"
   ]
  },
  {
   "cell_type": "code",
   "execution_count": null,
   "id": "f1d2da10-d40d-4c51-8ddc-f2d5227930f9",
   "metadata": {
    "tags": []
   },
   "outputs": [],
   "source": [
    "load_data_statement = \"\"\"\n",
    "copy customer from 's3://redshift-immersionday-labs/data/customer/customer.tbl.'\n",
    "iam_role default\n",
    "region 'us-west-2' lzop delimiter '|' COMPUPDATE PRESET;\n",
    "\"\"\"\n",
    "cursor.execute(load_data_statement)"
   ]
  },
  {
   "cell_type": "code",
   "execution_count": null,
   "id": "46de3ec0-e546-4c08-b60e-7946feef42ef",
   "metadata": {
    "tags": []
   },
   "outputs": [],
   "source": [
    "load_data_statement = \"\"\"\n",
    "copy orders from 's3://redshift-immersionday-labs/data/orders/orders.tbl.'\n",
    "iam_role default\n",
    "region 'us-west-2' lzop delimiter '|' COMPUPDATE PRESET;\n",
    "\"\"\"\n",
    "cursor.execute(load_data_statement)"
   ]
  },
  {
   "cell_type": "code",
   "execution_count": null,
   "id": "ca37abc4-65c6-46a7-a2b9-a82a1ef5a568",
   "metadata": {
    "tags": []
   },
   "outputs": [],
   "source": [
    "load_data_statement = \"\"\"\n",
    "copy part from 's3://redshift-immersionday-labs/data/part/part.tbl.'\n",
    "iam_role default\n",
    "region 'us-west-2' lzop delimiter '|' COMPUPDATE PRESET;\n",
    "\"\"\"\n",
    "cursor.execute(load_data_statement)"
   ]
  },
  {
   "cell_type": "code",
   "execution_count": null,
   "id": "ff29fc5a-26c0-4798-a830-adf096e047b2",
   "metadata": {
    "tags": []
   },
   "outputs": [],
   "source": [
    "load_data_statement = \"\"\"\n",
    "copy supplier from 's3://redshift-immersionday-labs/data/supplier/supplier.json' manifest\n",
    "iam_role default\n",
    "region 'us-west-2' lzop delimiter '|' COMPUPDATE PRESET;\n",
    "\"\"\"\n",
    "cursor.execute(load_data_statement)"
   ]
  },
  {
   "cell_type": "code",
   "execution_count": null,
   "id": "922998c8-d598-4d6f-af82-395c894d2f96",
   "metadata": {
    "tags": []
   },
   "outputs": [],
   "source": [
    "load_data_statement = \"\"\"\n",
    "copy lineitem from 's3://redshift-immersionday-labs/data/lineitem-part/'\n",
    "iam_role default\n",
    "region 'us-west-2' gzip delimiter '|' COMPUPDATE PRESET;\n",
    "\"\"\"\n",
    "cursor.execute(load_data_statement)"
   ]
  },
  {
   "cell_type": "code",
   "execution_count": null,
   "id": "a32515f6-6f6e-4718-8d18-83bff70a8f29",
   "metadata": {
    "tags": []
   },
   "outputs": [],
   "source": [
    "load_data_statement = \"\"\"\n",
    "copy partsupp from 's3://redshift-immersionday-labs/data/partsupp/partsupp.tbl.'\n",
    "iam_role default\n",
    "region 'us-west-2' lzop delimiter '|' COMPUPDATE PRESET;\n",
    "\"\"\"\n",
    "cursor.execute(load_data_statement)"
   ]
  },
  {
   "cell_type": "markdown",
   "id": "a9db72bf-42b0-4a17-a4e1-36755f93e278",
   "metadata": {},
   "source": [
    "Redshift Serverless 데이터 로딩 확인"
   ]
  },
  {
   "cell_type": "code",
   "execution_count": null,
   "id": "bc7b227a-7fa8-471d-bd97-dc804ed7913c",
   "metadata": {
    "tags": []
   },
   "outputs": [],
   "source": [
    "%pip install --quiet ipython-sql\n",
    "%pip install --quiet --upgrade SQLAlchemy==1.*\n",
    "%pip install -qU psycopg2-binary\n",
    "\n",
    "import pandas as pd\n",
    "import sqlalchemy\n",
    "\n",
    "username = \"admin\" \n",
    "password = \"Admin1234!\" \n",
    "host = redshift_endpoint \n",
    "port = \"5439\"\n",
    "mydatabase = \"dev\"\n",
    "\n",
    "redshift_uri = f\"postgresql+psycopg2://{username}:{password}@{host}:{port}/{mydatabase}\"\n",
    "\n",
    "engine = sqlalchemy.create_engine(redshift_uri)\n",
    "df = pd.read_sql('select * from orders limit 10', engine)\n",
    "df.head()"
   ]
  },
  {
   "cell_type": "markdown",
   "id": "a182a758-cfeb-47e0-b405-12427b5c4c91",
   "metadata": {},
   "source": [
    "# LangChain SQLDatabase 설정"
   ]
  },
  {
   "cell_type": "code",
   "execution_count": null,
   "id": "868c6cef-dcd5-40b2-bda9-85876f4ab9bb",
   "metadata": {
    "tags": []
   },
   "outputs": [],
   "source": [
    "%pip install -qU langchain langchain-experimental"
   ]
  },
  {
   "cell_type": "code",
   "execution_count": null,
   "id": "89ec28e2-3f32-4ecd-a790-9b51319ee881",
   "metadata": {
    "tags": []
   },
   "outputs": [],
   "source": [
    "import os\n",
    "import sys\n",
    "import boto3\n",
    "\n",
    "from langchain.llms.bedrock import Bedrock\n",
    "\n",
    "BEDROCK_ENDPOINT_URL = os.environ[\"BEDROCK_ENDPOINT_URL\"] \n",
    "\n",
    "session = boto3.Session(\n",
    "    profile_name=os.environ.get(\"AWS_PROFILE\")\n",
    ") \n",
    "\n",
    "bedrock = session.client(\n",
    "    service_name='bedrock-runtime', \n",
    "    region_name=os.environ.get(\"AWS_DEFAULT_REGION\"),\n",
    "    endpoint_url=BEDROCK_ENDPOINT_URL\n",
    ") \n",
    "\n",
    "# - create the Anthropic Model\n",
    "llm = Bedrock(model_id=\"anthropic.claude-v2\", client=bedrock, model_kwargs={'max_tokens_to_sample':1000})"
   ]
  },
  {
   "cell_type": "code",
   "execution_count": null,
   "id": "55b9b089-7305-40f8-9508-5cb8ad0d3573",
   "metadata": {
    "tags": []
   },
   "outputs": [],
   "source": [
    "from langchain import SQLDatabase\n",
    "from langchain_experimental.sql import SQLDatabaseChain\n",
    "\n",
    "db = SQLDatabase.from_uri(redshift_uri)"
   ]
  },
  {
   "cell_type": "code",
   "execution_count": null,
   "id": "490dd9f7-14bf-4d1d-a9e0-0341b47bcddb",
   "metadata": {
    "tags": []
   },
   "outputs": [],
   "source": [
    "print(db.table_info)"
   ]
  },
  {
   "cell_type": "markdown",
   "id": "8b9c3dd6-ef58-453c-ac66-c4bfcaf3a5ad",
   "metadata": {},
   "source": [
    "## 프롬프트에 따라 사용자 질문을 기반으로 SQL 쿼리를 작성하고 실행하는 체인을 생성하는 코드 블록"
   ]
  },
  {
   "cell_type": "code",
   "execution_count": null,
   "id": "f68033f9-d08d-4a4a-ad05-531b4b7940b0",
   "metadata": {
    "tags": []
   },
   "outputs": [],
   "source": [
    "PROMPT = \"\"\" \n",
    "Human: Given an input question, create a syntactically correct postgresql query to run,\n",
    "then look at the results of the query execution and return only the answer.  \n",
    "The query: {question}\n",
    "\n",
    "Assistant:\"\"\"\n",
    "\n",
    "db_chain = SQLDatabaseChain.from_llm(llm=llm, db=db, verbose=True) # verbose=True로 실행되는 SQL을 상세하게 보여줍니다.\n",
    "\n",
    "question = \"공급업체의 평균 계정 잔액은 어떻게 돼?\"\n",
    "\n",
    "db_chain.run(PROMPT.format(question=question))"
   ]
  },
  {
   "cell_type": "markdown",
   "id": "64ae47c2-85ae-45cf-a56c-757e87573e25",
   "metadata": {},
   "source": [
    "#### 쿼리 실행없이 SQL문 확인"
   ]
  },
  {
   "cell_type": "code",
   "execution_count": null,
   "id": "888c1345-8bb2-47ce-9b60-66cb1134c7f0",
   "metadata": {
    "tags": []
   },
   "outputs": [],
   "source": [
    "from langchain.chains import create_sql_query_chain\n",
    "\n",
    "chain = create_sql_query_chain(llm, db)\n",
    "response = chain.invoke({\"question\":\"공급업체의 평균 계정 잔액은 어떻게 돼?\"})\n",
    "\n",
    "print(response)"
   ]
  },
  {
   "cell_type": "markdown",
   "id": "f07a876c-9cd1-4333-8a2a-e4b94ae7efdf",
   "metadata": {},
   "source": [
    "#### 데이터베이스에서 SQL문 실행"
   ]
  },
  {
   "cell_type": "code",
   "execution_count": null,
   "id": "ef7708fb-8374-4938-bf72-40b85612b577",
   "metadata": {
    "tags": []
   },
   "outputs": [],
   "source": [
    "sql_statement = \"SELECT AVG(s_acctbal) AS avg_acct_balance FROM supplier\"\n",
    "df = pd.read_sql(sql_statement, engine)\n",
    "df.head()"
   ]
  },
  {
   "cell_type": "code",
   "execution_count": null,
   "id": "76454e31-e3e4-41f7-bb5d-eb2b3ffc6bac",
   "metadata": {
    "tags": []
   },
   "outputs": [],
   "source": [
    "question = \"어떤 국가의 고객이 가장 많이 주문했나요?\"\n",
    "\n",
    "db_chain.run(PROMPT.format(question=question))"
   ]
  },
  {
   "cell_type": "code",
   "execution_count": null,
   "id": "2290406b-8428-43b1-bfbf-24f5d115b491",
   "metadata": {
    "tags": []
   },
   "outputs": [],
   "source": [
    "question = \"주문 수가 가장 많은 국가는 어디인가요?\"\n",
    "\n",
    "db_chain.run(PROMPT.format(question=question))"
   ]
  },
  {
   "cell_type": "code",
   "execution_count": null,
   "id": "d7015086-2a17-49f9-a0fe-a6896110ff55",
   "metadata": {
    "tags": []
   },
   "outputs": [],
   "source": [
    "question = \"고객의 평균 계정 잔액은 어떻게 되나요?\"\n",
    "\n",
    "db_chain.run(PROMPT.format(question=question))"
   ]
  },
  {
   "cell_type": "code",
   "execution_count": null,
   "id": "eaf781ba-8ab6-4dab-a632-f188df613fda",
   "metadata": {
    "tags": []
   },
   "outputs": [],
   "source": [
    "question = \"어떤 고객이 가장 많은 주문을 했나요?\"\n",
    "\n",
    "db_chain.run(PROMPT.format(question=question))"
   ]
  },
  {
   "cell_type": "code",
   "execution_count": null,
   "id": "92febc0e-4ff5-4b57-b643-bea7e2f4ec81",
   "metadata": {
    "tags": []
   },
   "outputs": [],
   "source": [
    "sql_statement = \"select * from customer  where c_name like 'Customer#009100001'\"\n",
    "df = pd.read_sql(sql_statement, engine)\n",
    "df.head()"
   ]
  },
  {
   "cell_type": "code",
   "execution_count": null,
   "id": "e5848579-3897-41d5-b0ca-b77b01894b09",
   "metadata": {
    "tags": []
   },
   "outputs": [],
   "source": [
    "query_statement = \"\"\"\n",
    "SELECT c_name \n",
    "FROM customer JOIN orders ON o_custkey = c_custkey\n",
    "GROUP BY c_name\n",
    "ORDER BY COUNT(*) DESC\n",
    "LIMIT 1\n",
    "\"\"\"\n",
    "df = pd.read_sql(query_statement, engine)\n",
    "df.head()"
   ]
  },
  {
   "cell_type": "code",
   "execution_count": null,
   "id": "de3c97de-bdac-4b86-a520-24219620e816",
   "metadata": {
    "tags": []
   },
   "outputs": [],
   "source": [
    "question = \"마케팅 세그먼트별 고객이 주문하는 양은 어떻게 다른가요? \"\n",
    "\n",
    "db_chain.run(PROMPT.format(question=question))"
   ]
  },
  {
   "cell_type": "code",
   "execution_count": null,
   "id": "43a34ab6-93e4-4830-9eb3-85d1a99cba64",
   "metadata": {
    "tags": []
   },
   "outputs": [],
   "source": [
    "question = \"마케팅 세그먼트별 고객이 주문하는 양을 알려주세요\"\n",
    "\n",
    "db_chain.run(PROMPT.format(question=question))"
   ]
  },
  {
   "cell_type": "code",
   "execution_count": null,
   "id": "a09b8dd5-376f-40ea-a0c3-ed211c4d2504",
   "metadata": {
    "tags": []
   },
   "outputs": [],
   "source": [
    "question = \"주문 상태별 주문 수와 총 매출은 어떻게 되나요?\"\n",
    "\n",
    "db_chain.run(PROMPT.format(question=question))"
   ]
  },
  {
   "cell_type": "code",
   "execution_count": null,
   "id": "a4000e67-bc5d-4b9d-98c5-84cc4ab4e865",
   "metadata": {
    "tags": []
   },
   "outputs": [],
   "source": [
    "query_statement = \"\"\"\n",
    "SELECT o_orderstatus, COUNT(*) AS order_count, SUM(o_totalprice) AS total_price\n",
    "FROM orders \n",
    "GROUP BY o_orderstatus;\n",
    "\"\"\"\n",
    "df = pd.read_sql(query_statement, engine)\n",
    "df.head()"
   ]
  },
  {
   "cell_type": "code",
   "execution_count": null,
   "id": "cfc2b4cd-d503-43f5-a54a-bf0db166ac45",
   "metadata": {
    "tags": []
   },
   "outputs": [],
   "source": [
    "question = \"주문 금액이 가장 큰 주문 금액과 주문 정보 알려주세요\"\n",
    "\n",
    "db_chain.run(PROMPT.format(question=question))"
   ]
  },
  {
   "cell_type": "code",
   "execution_count": null,
   "id": "f8fee027-fc2f-4344-aa89-b211d333ed7f",
   "metadata": {
    "tags": []
   },
   "outputs": [],
   "source": [
    "query_statement = \"\"\"\n",
    "SELECT o_orderkey, o_totalprice, o_orderdate, o_orderpriority \n",
    "FROM orders\n",
    "ORDER BY o_totalprice DESC\n",
    "LIMIT 1;\n",
    "\"\"\"\n",
    "df = pd.read_sql(query_statement, engine)\n",
    "df.head()"
   ]
  },
  {
   "cell_type": "code",
   "execution_count": null,
   "id": "9f1f6a35-d670-40fa-aae0-3fd0a10212ca",
   "metadata": {
    "tags": []
   },
   "outputs": [],
   "source": [
    "question = \"주문일자에 따른 주문량 및 매출의 월별 추이는 어떻게 되나요?\"\n",
    "\n",
    "db_chain.run(PROMPT.format(question=question))"
   ]
  },
  {
   "cell_type": "code",
   "execution_count": null,
   "id": "422e4695-ef48-4d98-91ab-1767f019cfdf",
   "metadata": {
    "tags": []
   },
   "outputs": [],
   "source": [
    "query_statement = \"\"\"\n",
    "SELECT\n",
    "  DATE_TRUNC('month', o_orderdate) AS month,\n",
    "  SUM(l_quantity) AS total_qty,\n",
    "  SUM(l_extendedprice * (1 - l_discount)) AS total_amount\n",
    "FROM orders o\n",
    "JOIN lineitem l ON o.o_orderkey = l.l_orderkey  \n",
    "GROUP BY 1\n",
    "ORDER BY 1;\n",
    "\"\"\"\n",
    "df = pd.read_sql(query_statement, engine)\n",
    "df.head(100)"
   ]
  },
  {
   "cell_type": "code",
   "execution_count": null,
   "id": "7a0d5ac7-5cb1-4ff7-b747-81b397422831",
   "metadata": {
    "tags": []
   },
   "outputs": [],
   "source": [
    "db_chain.run(PROMPT.format(question=\"주문일자에 따른 주문량 및 매출의 월별 추이는 어떻게 되나요?\"))"
   ]
  },
  {
   "cell_type": "code",
   "execution_count": null,
   "id": "a82440fb-4f74-42a4-9e1e-5cadc9b9016d",
   "metadata": {
    "tags": []
   },
   "outputs": [],
   "source": [
    "query_statement = \"\"\"\n",
    "SELECT EXTRACT(MONTH FROM o_orderdate) AS order_month, \n",
    "       SUM(l_extendedprice * (1 - l_discount)) AS revenue,\n",
    "       COUNT(o_orderkey) AS order_count\n",
    "FROM orders o\n",
    "JOIN lineitem l ON o.o_orderkey = l.l_orderkey\n",
    "GROUP BY order_month\n",
    "ORDER BY order_month;\n",
    "\"\"\"\n",
    "df = pd.read_sql(query_statement, engine)\n",
    "df.head(12)"
   ]
  },
  {
   "cell_type": "code",
   "execution_count": null,
   "id": "10d51766-584b-4458-8a89-96bf8bec2f01",
   "metadata": {
    "tags": []
   },
   "outputs": [],
   "source": [
    "db_chain.run(PROMPT.format(question=\"어떤 주문 우선 순위가 가장 일반적인가요?\"))"
   ]
  },
  {
   "cell_type": "code",
   "execution_count": null,
   "id": "63165393-9d65-4a0d-bfb8-b5b9618c9b18",
   "metadata": {
    "tags": []
   },
   "outputs": [],
   "source": [
    "db_chain.run(PROMPT.format(question=\"주문 수가 가장 많은 점원은 어떻게 되나요?\"))"
   ]
  },
  {
   "cell_type": "code",
   "execution_count": null,
   "id": "f07f6754-b5f8-475d-a408-8657d263eb20",
   "metadata": {
    "tags": []
   },
   "outputs": [],
   "source": [
    "db_chain.run(PROMPT.format(question=\"어떤 제품 카테고리가 가장 많이 주문되었나요?\"))"
   ]
  },
  {
   "cell_type": "code",
   "execution_count": null,
   "id": "cda45220-a71c-4b53-b1f6-ae9777392570",
   "metadata": {
    "tags": []
   },
   "outputs": [],
   "source": [
    "db_chain.run(PROMPT.format(question=\"가장 비싼 제품은 무엇이며, 어떤 주문에서 판매되었나요? \"))"
   ]
  },
  {
   "cell_type": "code",
   "execution_count": null,
   "id": "5943680d-16a5-4908-858b-8f8410e69522",
   "metadata": {
    "tags": []
   },
   "outputs": [],
   "source": [
    "db_chain.run(PROMPT.format(question=\"제품 크기에 따른 주문량은 어떻게 다른가요?\"))"
   ]
  },
  {
   "cell_type": "code",
   "execution_count": null,
   "id": "0cef9698-2195-45c5-a3b9-06656fa91f91",
   "metadata": {
    "tags": []
   },
   "outputs": [],
   "source": [
    "db_chain.run(PROMPT.format(question=\"가장 많이 재주문된 제품은?\"))"
   ]
  },
  {
   "cell_type": "code",
   "execution_count": null,
   "id": "4cf176cc-125f-473b-a8d8-705df3b579cf",
   "metadata": {
    "tags": []
   },
   "outputs": [],
   "source": [
    "db_chain.run(PROMPT.format(question=\"어떤 공급업체가 가장 많은 제품을 공급하였나요?\"))"
   ]
  },
  {
   "cell_type": "code",
   "execution_count": null,
   "id": "68f658cf-6f80-4da5-9e99-539e9f164c7f",
   "metadata": {
    "tags": []
   },
   "outputs": [],
   "source": [
    "db_chain.run(PROMPT.format(question=\"공급업체의 평균 계정 잔액은 어떻게 되나요?\"))"
   ]
  },
  {
   "cell_type": "code",
   "execution_count": null,
   "id": "b7d92f6b-5f85-4b33-8075-d48a41ce865f",
   "metadata": {
    "tags": []
   },
   "outputs": [],
   "source": [
    "db_chain.run(PROMPT.format(question=\"공급업체의 평균 공급 비용은 어떻게 되나요?\"))"
   ]
  },
  {
   "cell_type": "code",
   "execution_count": null,
   "id": "435789b0-e72d-4ff1-8de7-ff2c2b4c91ba",
   "metadata": {
    "tags": []
   },
   "outputs": [],
   "source": [
    "db_chain.run(PROMPT.format(question=\"어떤 주문 라인 항목이 가장 높은 할인을 받았나요?\"))"
   ]
  },
  {
   "cell_type": "code",
   "execution_count": null,
   "id": "326faf4c-53a0-4e96-8e79-15e012ef8b16",
   "metadata": {
    "tags": []
   },
   "outputs": [],
   "source": [
    "db_chain.run(PROMPT.format(question=\"주문 라인 항목의 평균 수량은 어떻게 되나요?\"))"
   ]
  },
  {
   "cell_type": "code",
   "execution_count": null,
   "id": "1341e33c-bd51-449b-a0b5-9deda9e68ff6",
   "metadata": {
    "tags": []
   },
   "outputs": [],
   "source": [
    "db_chain.run(PROMPT.format(question=\"어떤 배송 방법이 가장 많이 사용되었나요?\"))"
   ]
  },
  {
   "cell_type": "code",
   "execution_count": null,
   "id": "7df2c4b8-ce26-457d-9444-361426450094",
   "metadata": {
    "tags": []
   },
   "outputs": [],
   "source": [
    "PROMPT = \"\"\" \n",
    "Human: Given an input question, create a syntactically correct postgresql query to run,\n",
    "then look at the results of the query and return the detailed answer in Korean.  \n",
    "The query: {question}\n",
    "\n",
    "Assistant:\"\"\""
   ]
  },
  {
   "cell_type": "code",
   "execution_count": null,
   "id": "cb11af58-95f3-4a6d-a80b-569bffd99c23",
   "metadata": {
    "tags": []
   },
   "outputs": [],
   "source": [
    "db_chain.run(PROMPT.format(question=\"어떤 배송 방법이 가장 많이 사용되었나요?\"))"
   ]
  },
  {
   "cell_type": "code",
   "execution_count": null,
   "id": "8f1643cf-2bed-447d-a648-e2125076de0a",
   "metadata": {
    "tags": []
   },
   "outputs": [],
   "source": [
    "PROMPT = \"\"\" \n",
    "Human: Given an input question, create a syntactically correct postgresql query to run,\n",
    "then look at the results of the query and return the detailed answer as much as possible based on the result.  \n",
    "The query: {question}\n",
    "\n",
    "Assistant:\"\"\"\n",
    "\n",
    "db_chain.run(PROMPT.format(question=\"어떤 배송 방법이 가장 많이 사용되었나요?\"))"
   ]
  }
 ],
 "metadata": {
  "availableInstances": [
   {
    "_defaultOrder": 0,
    "_isFastLaunch": true,
    "category": "General purpose",
    "gpuNum": 0,
    "hideHardwareSpecs": false,
    "memoryGiB": 4,
    "name": "ml.t3.medium",
    "vcpuNum": 2
   },
   {
    "_defaultOrder": 1,
    "_isFastLaunch": false,
    "category": "General purpose",
    "gpuNum": 0,
    "hideHardwareSpecs": false,
    "memoryGiB": 8,
    "name": "ml.t3.large",
    "vcpuNum": 2
   },
   {
    "_defaultOrder": 2,
    "_isFastLaunch": false,
    "category": "General purpose",
    "gpuNum": 0,
    "hideHardwareSpecs": false,
    "memoryGiB": 16,
    "name": "ml.t3.xlarge",
    "vcpuNum": 4
   },
   {
    "_defaultOrder": 3,
    "_isFastLaunch": false,
    "category": "General purpose",
    "gpuNum": 0,
    "hideHardwareSpecs": false,
    "memoryGiB": 32,
    "name": "ml.t3.2xlarge",
    "vcpuNum": 8
   },
   {
    "_defaultOrder": 4,
    "_isFastLaunch": true,
    "category": "General purpose",
    "gpuNum": 0,
    "hideHardwareSpecs": false,
    "memoryGiB": 8,
    "name": "ml.m5.large",
    "vcpuNum": 2
   },
   {
    "_defaultOrder": 5,
    "_isFastLaunch": false,
    "category": "General purpose",
    "gpuNum": 0,
    "hideHardwareSpecs": false,
    "memoryGiB": 16,
    "name": "ml.m5.xlarge",
    "vcpuNum": 4
   },
   {
    "_defaultOrder": 6,
    "_isFastLaunch": false,
    "category": "General purpose",
    "gpuNum": 0,
    "hideHardwareSpecs": false,
    "memoryGiB": 32,
    "name": "ml.m5.2xlarge",
    "vcpuNum": 8
   },
   {
    "_defaultOrder": 7,
    "_isFastLaunch": false,
    "category": "General purpose",
    "gpuNum": 0,
    "hideHardwareSpecs": false,
    "memoryGiB": 64,
    "name": "ml.m5.4xlarge",
    "vcpuNum": 16
   },
   {
    "_defaultOrder": 8,
    "_isFastLaunch": false,
    "category": "General purpose",
    "gpuNum": 0,
    "hideHardwareSpecs": false,
    "memoryGiB": 128,
    "name": "ml.m5.8xlarge",
    "vcpuNum": 32
   },
   {
    "_defaultOrder": 9,
    "_isFastLaunch": false,
    "category": "General purpose",
    "gpuNum": 0,
    "hideHardwareSpecs": false,
    "memoryGiB": 192,
    "name": "ml.m5.12xlarge",
    "vcpuNum": 48
   },
   {
    "_defaultOrder": 10,
    "_isFastLaunch": false,
    "category": "General purpose",
    "gpuNum": 0,
    "hideHardwareSpecs": false,
    "memoryGiB": 256,
    "name": "ml.m5.16xlarge",
    "vcpuNum": 64
   },
   {
    "_defaultOrder": 11,
    "_isFastLaunch": false,
    "category": "General purpose",
    "gpuNum": 0,
    "hideHardwareSpecs": false,
    "memoryGiB": 384,
    "name": "ml.m5.24xlarge",
    "vcpuNum": 96
   },
   {
    "_defaultOrder": 12,
    "_isFastLaunch": false,
    "category": "General purpose",
    "gpuNum": 0,
    "hideHardwareSpecs": false,
    "memoryGiB": 8,
    "name": "ml.m5d.large",
    "vcpuNum": 2
   },
   {
    "_defaultOrder": 13,
    "_isFastLaunch": false,
    "category": "General purpose",
    "gpuNum": 0,
    "hideHardwareSpecs": false,
    "memoryGiB": 16,
    "name": "ml.m5d.xlarge",
    "vcpuNum": 4
   },
   {
    "_defaultOrder": 14,
    "_isFastLaunch": false,
    "category": "General purpose",
    "gpuNum": 0,
    "hideHardwareSpecs": false,
    "memoryGiB": 32,
    "name": "ml.m5d.2xlarge",
    "vcpuNum": 8
   },
   {
    "_defaultOrder": 15,
    "_isFastLaunch": false,
    "category": "General purpose",
    "gpuNum": 0,
    "hideHardwareSpecs": false,
    "memoryGiB": 64,
    "name": "ml.m5d.4xlarge",
    "vcpuNum": 16
   },
   {
    "_defaultOrder": 16,
    "_isFastLaunch": false,
    "category": "General purpose",
    "gpuNum": 0,
    "hideHardwareSpecs": false,
    "memoryGiB": 128,
    "name": "ml.m5d.8xlarge",
    "vcpuNum": 32
   },
   {
    "_defaultOrder": 17,
    "_isFastLaunch": false,
    "category": "General purpose",
    "gpuNum": 0,
    "hideHardwareSpecs": false,
    "memoryGiB": 192,
    "name": "ml.m5d.12xlarge",
    "vcpuNum": 48
   },
   {
    "_defaultOrder": 18,
    "_isFastLaunch": false,
    "category": "General purpose",
    "gpuNum": 0,
    "hideHardwareSpecs": false,
    "memoryGiB": 256,
    "name": "ml.m5d.16xlarge",
    "vcpuNum": 64
   },
   {
    "_defaultOrder": 19,
    "_isFastLaunch": false,
    "category": "General purpose",
    "gpuNum": 0,
    "hideHardwareSpecs": false,
    "memoryGiB": 384,
    "name": "ml.m5d.24xlarge",
    "vcpuNum": 96
   },
   {
    "_defaultOrder": 20,
    "_isFastLaunch": false,
    "category": "General purpose",
    "gpuNum": 0,
    "hideHardwareSpecs": true,
    "memoryGiB": 0,
    "name": "ml.geospatial.interactive",
    "supportedImageNames": [
     "sagemaker-geospatial-v1-0"
    ],
    "vcpuNum": 0
   },
   {
    "_defaultOrder": 21,
    "_isFastLaunch": true,
    "category": "Compute optimized",
    "gpuNum": 0,
    "hideHardwareSpecs": false,
    "memoryGiB": 4,
    "name": "ml.c5.large",
    "vcpuNum": 2
   },
   {
    "_defaultOrder": 22,
    "_isFastLaunch": false,
    "category": "Compute optimized",
    "gpuNum": 0,
    "hideHardwareSpecs": false,
    "memoryGiB": 8,
    "name": "ml.c5.xlarge",
    "vcpuNum": 4
   },
   {
    "_defaultOrder": 23,
    "_isFastLaunch": false,
    "category": "Compute optimized",
    "gpuNum": 0,
    "hideHardwareSpecs": false,
    "memoryGiB": 16,
    "name": "ml.c5.2xlarge",
    "vcpuNum": 8
   },
   {
    "_defaultOrder": 24,
    "_isFastLaunch": false,
    "category": "Compute optimized",
    "gpuNum": 0,
    "hideHardwareSpecs": false,
    "memoryGiB": 32,
    "name": "ml.c5.4xlarge",
    "vcpuNum": 16
   },
   {
    "_defaultOrder": 25,
    "_isFastLaunch": false,
    "category": "Compute optimized",
    "gpuNum": 0,
    "hideHardwareSpecs": false,
    "memoryGiB": 72,
    "name": "ml.c5.9xlarge",
    "vcpuNum": 36
   },
   {
    "_defaultOrder": 26,
    "_isFastLaunch": false,
    "category": "Compute optimized",
    "gpuNum": 0,
    "hideHardwareSpecs": false,
    "memoryGiB": 96,
    "name": "ml.c5.12xlarge",
    "vcpuNum": 48
   },
   {
    "_defaultOrder": 27,
    "_isFastLaunch": false,
    "category": "Compute optimized",
    "gpuNum": 0,
    "hideHardwareSpecs": false,
    "memoryGiB": 144,
    "name": "ml.c5.18xlarge",
    "vcpuNum": 72
   },
   {
    "_defaultOrder": 28,
    "_isFastLaunch": false,
    "category": "Compute optimized",
    "gpuNum": 0,
    "hideHardwareSpecs": false,
    "memoryGiB": 192,
    "name": "ml.c5.24xlarge",
    "vcpuNum": 96
   },
   {
    "_defaultOrder": 29,
    "_isFastLaunch": true,
    "category": "Accelerated computing",
    "gpuNum": 1,
    "hideHardwareSpecs": false,
    "memoryGiB": 16,
    "name": "ml.g4dn.xlarge",
    "vcpuNum": 4
   },
   {
    "_defaultOrder": 30,
    "_isFastLaunch": false,
    "category": "Accelerated computing",
    "gpuNum": 1,
    "hideHardwareSpecs": false,
    "memoryGiB": 32,
    "name": "ml.g4dn.2xlarge",
    "vcpuNum": 8
   },
   {
    "_defaultOrder": 31,
    "_isFastLaunch": false,
    "category": "Accelerated computing",
    "gpuNum": 1,
    "hideHardwareSpecs": false,
    "memoryGiB": 64,
    "name": "ml.g4dn.4xlarge",
    "vcpuNum": 16
   },
   {
    "_defaultOrder": 32,
    "_isFastLaunch": false,
    "category": "Accelerated computing",
    "gpuNum": 1,
    "hideHardwareSpecs": false,
    "memoryGiB": 128,
    "name": "ml.g4dn.8xlarge",
    "vcpuNum": 32
   },
   {
    "_defaultOrder": 33,
    "_isFastLaunch": false,
    "category": "Accelerated computing",
    "gpuNum": 4,
    "hideHardwareSpecs": false,
    "memoryGiB": 192,
    "name": "ml.g4dn.12xlarge",
    "vcpuNum": 48
   },
   {
    "_defaultOrder": 34,
    "_isFastLaunch": false,
    "category": "Accelerated computing",
    "gpuNum": 1,
    "hideHardwareSpecs": false,
    "memoryGiB": 256,
    "name": "ml.g4dn.16xlarge",
    "vcpuNum": 64
   },
   {
    "_defaultOrder": 35,
    "_isFastLaunch": false,
    "category": "Accelerated computing",
    "gpuNum": 1,
    "hideHardwareSpecs": false,
    "memoryGiB": 61,
    "name": "ml.p3.2xlarge",
    "vcpuNum": 8
   },
   {
    "_defaultOrder": 36,
    "_isFastLaunch": false,
    "category": "Accelerated computing",
    "gpuNum": 4,
    "hideHardwareSpecs": false,
    "memoryGiB": 244,
    "name": "ml.p3.8xlarge",
    "vcpuNum": 32
   },
   {
    "_defaultOrder": 37,
    "_isFastLaunch": false,
    "category": "Accelerated computing",
    "gpuNum": 8,
    "hideHardwareSpecs": false,
    "memoryGiB": 488,
    "name": "ml.p3.16xlarge",
    "vcpuNum": 64
   },
   {
    "_defaultOrder": 38,
    "_isFastLaunch": false,
    "category": "Accelerated computing",
    "gpuNum": 8,
    "hideHardwareSpecs": false,
    "memoryGiB": 768,
    "name": "ml.p3dn.24xlarge",
    "vcpuNum": 96
   },
   {
    "_defaultOrder": 39,
    "_isFastLaunch": false,
    "category": "Memory Optimized",
    "gpuNum": 0,
    "hideHardwareSpecs": false,
    "memoryGiB": 16,
    "name": "ml.r5.large",
    "vcpuNum": 2
   },
   {
    "_defaultOrder": 40,
    "_isFastLaunch": false,
    "category": "Memory Optimized",
    "gpuNum": 0,
    "hideHardwareSpecs": false,
    "memoryGiB": 32,
    "name": "ml.r5.xlarge",
    "vcpuNum": 4
   },
   {
    "_defaultOrder": 41,
    "_isFastLaunch": false,
    "category": "Memory Optimized",
    "gpuNum": 0,
    "hideHardwareSpecs": false,
    "memoryGiB": 64,
    "name": "ml.r5.2xlarge",
    "vcpuNum": 8
   },
   {
    "_defaultOrder": 42,
    "_isFastLaunch": false,
    "category": "Memory Optimized",
    "gpuNum": 0,
    "hideHardwareSpecs": false,
    "memoryGiB": 128,
    "name": "ml.r5.4xlarge",
    "vcpuNum": 16
   },
   {
    "_defaultOrder": 43,
    "_isFastLaunch": false,
    "category": "Memory Optimized",
    "gpuNum": 0,
    "hideHardwareSpecs": false,
    "memoryGiB": 256,
    "name": "ml.r5.8xlarge",
    "vcpuNum": 32
   },
   {
    "_defaultOrder": 44,
    "_isFastLaunch": false,
    "category": "Memory Optimized",
    "gpuNum": 0,
    "hideHardwareSpecs": false,
    "memoryGiB": 384,
    "name": "ml.r5.12xlarge",
    "vcpuNum": 48
   },
   {
    "_defaultOrder": 45,
    "_isFastLaunch": false,
    "category": "Memory Optimized",
    "gpuNum": 0,
    "hideHardwareSpecs": false,
    "memoryGiB": 512,
    "name": "ml.r5.16xlarge",
    "vcpuNum": 64
   },
   {
    "_defaultOrder": 46,
    "_isFastLaunch": false,
    "category": "Memory Optimized",
    "gpuNum": 0,
    "hideHardwareSpecs": false,
    "memoryGiB": 768,
    "name": "ml.r5.24xlarge",
    "vcpuNum": 96
   },
   {
    "_defaultOrder": 47,
    "_isFastLaunch": false,
    "category": "Accelerated computing",
    "gpuNum": 1,
    "hideHardwareSpecs": false,
    "memoryGiB": 16,
    "name": "ml.g5.xlarge",
    "vcpuNum": 4
   },
   {
    "_defaultOrder": 48,
    "_isFastLaunch": false,
    "category": "Accelerated computing",
    "gpuNum": 1,
    "hideHardwareSpecs": false,
    "memoryGiB": 32,
    "name": "ml.g5.2xlarge",
    "vcpuNum": 8
   },
   {
    "_defaultOrder": 49,
    "_isFastLaunch": false,
    "category": "Accelerated computing",
    "gpuNum": 1,
    "hideHardwareSpecs": false,
    "memoryGiB": 64,
    "name": "ml.g5.4xlarge",
    "vcpuNum": 16
   },
   {
    "_defaultOrder": 50,
    "_isFastLaunch": false,
    "category": "Accelerated computing",
    "gpuNum": 1,
    "hideHardwareSpecs": false,
    "memoryGiB": 128,
    "name": "ml.g5.8xlarge",
    "vcpuNum": 32
   },
   {
    "_defaultOrder": 51,
    "_isFastLaunch": false,
    "category": "Accelerated computing",
    "gpuNum": 1,
    "hideHardwareSpecs": false,
    "memoryGiB": 256,
    "name": "ml.g5.16xlarge",
    "vcpuNum": 64
   },
   {
    "_defaultOrder": 52,
    "_isFastLaunch": false,
    "category": "Accelerated computing",
    "gpuNum": 4,
    "hideHardwareSpecs": false,
    "memoryGiB": 192,
    "name": "ml.g5.12xlarge",
    "vcpuNum": 48
   },
   {
    "_defaultOrder": 53,
    "_isFastLaunch": false,
    "category": "Accelerated computing",
    "gpuNum": 4,
    "hideHardwareSpecs": false,
    "memoryGiB": 384,
    "name": "ml.g5.24xlarge",
    "vcpuNum": 96
   },
   {
    "_defaultOrder": 54,
    "_isFastLaunch": false,
    "category": "Accelerated computing",
    "gpuNum": 8,
    "hideHardwareSpecs": false,
    "memoryGiB": 768,
    "name": "ml.g5.48xlarge",
    "vcpuNum": 192
   },
   {
    "_defaultOrder": 55,
    "_isFastLaunch": false,
    "category": "Accelerated computing",
    "gpuNum": 8,
    "hideHardwareSpecs": false,
    "memoryGiB": 1152,
    "name": "ml.p4d.24xlarge",
    "vcpuNum": 96
   },
   {
    "_defaultOrder": 56,
    "_isFastLaunch": false,
    "category": "Accelerated computing",
    "gpuNum": 8,
    "hideHardwareSpecs": false,
    "memoryGiB": 1152,
    "name": "ml.p4de.24xlarge",
    "vcpuNum": 96
   },
   {
    "_defaultOrder": 57,
    "_isFastLaunch": false,
    "category": "Accelerated computing",
    "gpuNum": 0,
    "hideHardwareSpecs": false,
    "memoryGiB": 32,
    "name": "ml.trn1.2xlarge",
    "vcpuNum": 8
   },
   {
    "_defaultOrder": 58,
    "_isFastLaunch": false,
    "category": "Accelerated computing",
    "gpuNum": 0,
    "hideHardwareSpecs": false,
    "memoryGiB": 512,
    "name": "ml.trn1.32xlarge",
    "vcpuNum": 128
   },
   {
    "_defaultOrder": 59,
    "_isFastLaunch": false,
    "category": "Accelerated computing",
    "gpuNum": 0,
    "hideHardwareSpecs": false,
    "memoryGiB": 512,
    "name": "ml.trn1n.32xlarge",
    "vcpuNum": 128
   }
  ],
  "instance_type": "ml.t3.medium",
  "kernelspec": {
   "display_name": "Python 3 (Data Science 3.0)",
   "language": "python",
   "name": "python3__SAGEMAKER_INTERNAL__arn:aws:sagemaker:us-east-1:081325390199:image/sagemaker-data-science-310-v1"
  },
  "language_info": {
   "codemirror_mode": {
    "name": "ipython",
    "version": 3
   },
   "file_extension": ".py",
   "mimetype": "text/x-python",
   "name": "python",
   "nbconvert_exporter": "python",
   "pygments_lexer": "ipython3",
   "version": "3.10.6"
  }
 },
 "nbformat": 4,
 "nbformat_minor": 5
}
