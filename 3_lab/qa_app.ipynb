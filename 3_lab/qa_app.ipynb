{
 "cells": [
  {
   "cell_type": "markdown",
   "id": "161ee7b5-a3c5-48ca-9499-f413a6a27994",
   "metadata": {},
   "source": [
    "# Amazon Kendra를 이용한 \"매장 현장 직원을 위한 Q&A 챗봇 \n",
    "\n",
    "---\n",
    "\n",
    "이 노트북에서는 매장 현장 직원을 위한 Q&A 챗봇을 구현하기 위한 생성형 AI 기반의 대화식 답변(Generative Conversational Answers) 기능을 위해 [Amazon Kendra](https://aws.amazon.com/kendra/)과 [Amazon Bedrock](https://aws.amazon.com/bedrock/)를 사용합니다.\n",
    "\n",
    "완전관리형 지능형 검색서비스인 Amazon Kendra의 기능을 LLM과 결합하여 RAG 워크플로를 구현한다면 엔터프라이즈 콘텐츠에 대한 대화 경험을 제공하는 GenAI 애플리케이션을 쉽게 만들 수 있습니다. \n",
    "\n",
    "노트북은 아래와 같은 구성으로 이루어져있습니다.\n",
    "1. RAG 사용 사례를 위한 문서 업로드\n",
    "2. Amazon Kendra 검색엔진 사용을 위한 LangChain의 Amazon Kendra Retrieve API\n",
    "3. 웹앱을 쉽게 만들 수 있는 오픈 소스 Python 라이브러리 Streamlit을 이용한 챗봇 서비스 구현 \n",
    "\n",
    "본 노트북에서 사용되는 일반적인 리테일 회사에서 사용될 수 있는 가상의 문서를 참고했습니다.\n",
    "- 고객 응대 및 서비스 원칙\n",
    "- 근무 시간과 스케줄\n",
    "- 매장 업무 메뉴얼 목차\n",
    "- 상품 진열과 정리 원칙\n",
    "- 일일 근무 시간 및 주간 근무 일정 규정\n",
    "- 근태 규정\n",
    "- 팀원과 상사와의 협력\n",
    "\n",
    "Amazon Kendra와 Amazon Bedrock을 이용한 RAG 사례는 아래 다이어그램을 참조하세요.\n",
    "\n",
    "<img src=\"images/rag-architecture.png\" width=\"800\"/>\n",
    "\n",
    "---"
   ]
  },
  {
   "cell_type": "markdown",
   "id": "1ed43b53-5576-4b94-919f-6d5c1f166d2f",
   "metadata": {},
   "source": [
    "## RAG 사례를 위한 Amazon S3 문서 업로드"
   ]
  },
  {
   "cell_type": "code",
   "execution_count": 2,
   "id": "9609ba3c-4743-49b4-acca-eab565df69a6",
   "metadata": {
    "tags": []
   },
   "outputs": [
    {
     "name": "stdout",
     "output_type": "stream",
     "text": [
      "Requirement already satisfied: pip in /opt/conda/lib/python3.10/site-packages (23.3.1)\n",
      "\u001b[33mWARNING: Running pip as the 'root' user can result in broken permissions and conflicting behaviour with the system package manager. It is recommended to use a virtual environment instead: https://pip.pypa.io/warnings/venv\u001b[0m\u001b[33m\n",
      "\u001b[0mNote: you may need to restart the kernel to use updated packages.\n",
      "\u001b[33mWARNING: Running pip as the 'root' user can result in broken permissions and conflicting behaviour with the system package manager. It is recommended to use a virtual environment instead: https://pip.pypa.io/warnings/venv\u001b[0m\u001b[33m\n",
      "\u001b[0mNote: you may need to restart the kernel to use updated packages.\n"
     ]
    }
   ],
   "source": [
    "# install Microsoft Word (.docx) python library\n",
    "%pip install --upgrade pip \n",
    "%pip install --quiet python-docx"
   ]
  },
  {
   "cell_type": "code",
   "execution_count": 3,
   "id": "daa3ef03-949d-42fd-9173-14b89af5b7c0",
   "metadata": {
    "tags": []
   },
   "outputs": [],
   "source": [
    "import glob\n",
    "import os\n",
    "import boto3"
   ]
  },
  {
   "cell_type": "code",
   "execution_count": 4,
   "id": "a21f3008-7ac6-488f-b67b-f076804a218d",
   "metadata": {
    "tags": []
   },
   "outputs": [
    {
     "name": "stdout",
     "output_type": "stream",
     "text": [
      "./data/product_display.docx\n",
      "./data/attendance_policy.docx\n",
      "./data/customer_service.docx\n",
      "./data/working_schedule.docx\n",
      "./data/store_manual_contents.docx\n",
      "./data/team_collaboration.docx\n",
      "./data/daily_weekly_schedule.docx\n"
     ]
    }
   ],
   "source": [
    "# RAG에 이용될 업로드 문서 확인\n",
    "office_files = glob.glob(\"./data/*\")\n",
    "for filename in office_files:\n",
    "    print(filename)"
   ]
  },
  {
   "cell_type": "markdown",
   "id": "6c072131-df3a-489e-b74c-d51f28706bab",
   "metadata": {},
   "source": [
    "## 문서 확인\n",
    "\n",
    "---\n",
    "\n",
    "- 문서는 아래와 같은 내용으로 구성되어있습니다.\n",
    "\n",
    "  예) 상품 진열과 정리 원칙 (product_display.docx) 파일 일부\n",
    "\n",
    "<img src=\"images/docx_example.png\" width=\"800\"/>\n"
   ]
  },
  {
   "cell_type": "code",
   "execution_count": 5,
   "id": "bf882e3e-2283-4c2d-a8a2-17eb504b61c2",
   "metadata": {
    "tags": []
   },
   "outputs": [
    {
     "name": "stdout",
     "output_type": "stream",
     "text": [
      "아래는 진열 및 정리 원칙에 대한 일반적인 내용입니다:\n",
      "1. 상품 진열 계획:\n",
      "상품 진열은 매장 레이아웃 및 계획에 따라 이루어져야 합니다. 매장 내 어떤 상품이 어디에 배치될지 계획이 필요합니다.\n",
      "2. 제품 분류:\n",
      "상품은 유형 또는 카테고리에 따라 분류되어야 합니다. 예를 들어, 식료품, 가정용품, 생활용품 등으로 구분될 수 있습니다.\n",
      "3. 유통기한 확인:\n",
      "상품 진열 시에는 유통기한을 확인하고 만기 상품은 배치하지 않아야 합니다.\n",
      "4. 인기 상품 우선:\n",
      "가장 인기 있는 상품은 눈에 잘 띄게 배치해야 합니다. 고객들이 쉽게 찾을 수 있도록 인기 상품을 전략적으로 배치하세요.\n",
      "5. 선반의 높이:\n",
      "다양한 선반 높이를 활용하여 고객이 편리하게 상품에 접근할 수 있도록 합니다. 무거운 상품은 허리 레벨에, 가벼운 상품은 높은 선반에 배치할 수 있습니다.\n",
      "6. 청결과 정돈:\n",
      "상품은 항상 청결하게 유지되어야 하며, 훼손된 제품은 정리되어야 합니다. 상품의 잔여량과 청결도를 주기적으로 확인하세요.\n",
      "7. 가격 표시:\n",
      "모든 상품에는 가격이 명확하게 표시되어야 합니다. 가격 표시가 눈에 잘 띄도록 하세요.\n",
      "8. 브랜드 및 판매 프로모션 고려:\n",
      "브랜드와 판매 프로모션에 따라 상품을 배치하세요. 고객이 할인 상품이나 특별 프로모션을 찾을 수 있도록 하세요.\n",
      "9. 무료 공간 유지:\n",
      "고객의 편의를 위해 통행로와 출입구 주변을 비우고, 화재 안전을 고려하여 비상구를 막지 마세요.\n",
      "10. 주기적인 재고 회전:\n",
      "상품은 FIFO (First-In, First-Out) 원칙에 따라 배치되어야 하며, 유통기한이 다가오거나 만료된 상품은 즉시 제거해야 합니다.\n",
      "11. 고객의 의견 수용:\n",
      "고객의 피드백을 듣고 상품 진열 및 정리를 개선하기 위해 활용하세요.\n",
      "12. 안전 규정 준수:\n",
      "상품을 진열할 때 안전 규정을 준수하며, 상품이 넘어지지 않도록 안전하게 고정하세요.\n",
      "상품 진열 및 정리는 고객 경험과 매장 운영에 큰 영향을 미치는 중요한 부분이므로, 이러한 원칙을 준수하여 효과적으로 관리해야 합니다.\n",
      "\n"
     ]
    }
   ],
   "source": [
    "import docx \n",
    "\n",
    "document = docx.Document('./data/product_display.docx')\n",
    "for line, p in enumerate(document.paragraphs):\n",
    "    print(p.text)"
   ]
  },
  {
   "cell_type": "markdown",
   "id": "6987815c-ace2-4d5f-a516-4f00610a4688",
   "metadata": {},
   "source": [
    "---\n",
    "\n",
    "## 문서 S3 업로드\n",
    "\n",
    "boto3 라이브러리를 이용해서 S3 버킷에 문서들을 모두 업로드힙니다."
   ]
  },
  {
   "cell_type": "code",
   "execution_count": 6,
   "id": "7e1fe81f-379c-406c-acb4-335fa426fe64",
   "metadata": {
    "tags": []
   },
   "outputs": [
    {
     "name": "stdout",
     "output_type": "stream",
     "text": [
      "S3 Bucket Name:  kendra-workshop-a66c8970-8438-11ee-88ac-0eca477fcc05\n",
      "Kendra Index ID:  144833d6-9661-4a8c-8748-7330a9b5430a\n"
     ]
    }
   ],
   "source": [
    "STACK_NAME = 'genai-workshop'\n",
    "\n",
    "cf_client = boto3.client('cloudformation')\n",
    "response = cf_client.describe_stacks()\n",
    "\n",
    "for output in response[\"Stacks\"]:\n",
    "    stackName = output[\"StackName\"]\n",
    "    if stackName.find('Kendra') > 0:\n",
    "        response = cf_client.describe_stacks(StackName=stackName)\n",
    "        for output in response[\"Stacks\"][0][\"Outputs\"]:\n",
    "            keyName = output[\"OutputKey\"]\n",
    "            if keyName == \"S3Bucket\":\n",
    "                BUCKET_NAME = output[\"OutputValue\"]\n",
    "            if keyName == \"KendraIndex\":\n",
    "                KENDRA_INDEX = output[\"OutputValue\"]\n",
    "\n",
    "print('S3 Bucket Name: ', BUCKET_NAME)\n",
    "print('Kendra Index ID: ', KENDRA_INDEX)"
   ]
  },
  {
   "cell_type": "code",
   "execution_count": 7,
   "id": "6aa66014-05c4-4155-a58f-a474e27b6536",
   "metadata": {
    "tags": []
   },
   "outputs": [
    {
     "name": "stdout",
     "output_type": "stream",
     "text": [
      "Putting  ./data/product_display.docx product_display.docx\n",
      "Putting  ./data/attendance_policy.docx attendance_policy.docx\n",
      "Putting  ./data/customer_service.docx customer_service.docx\n",
      "Putting  ./data/working_schedule.docx working_schedule.docx\n",
      "Putting  ./data/store_manual_contents.docx store_manual_contents.docx\n",
      "Putting  ./data/team_collaboration.docx team_collaboration.docx\n",
      "Putting  ./data/daily_weekly_schedule.docx daily_weekly_schedule.docx\n"
     ]
    }
   ],
   "source": [
    "s3 = boto3.client('s3')\n",
    "\n",
    "for filename in office_files:\n",
    "    key = os.path.basename(filename)\n",
    "    print(\"Putting \", filename,key)\n",
    "    s3.upload_file(filename, BUCKET_NAME, key)"
   ]
  },
  {
   "cell_type": "markdown",
   "id": "f091d822-4f56-44bd-a155-aa69e6a44fe6",
   "metadata": {
    "tags": []
   },
   "source": [
    "Note: S3에 파일을 업로드할 경우 Kendra Index 동기화 이벤트가 발생되어 자동으로 인덱싱이 진행됩니다."
   ]
  },
  {
   "cell_type": "markdown",
   "id": "b41bd3a2-cfbc-4b35-8e2e-efcaa7c6313b",
   "metadata": {},
   "source": [
    "---\n",
    "\n",
    "## 문서 동기화 \n",
    "\n",
    "Amazon Kendra가 업로드한 문서를 동기화할 동안 기다립니다."
   ]
  },
  {
   "cell_type": "code",
   "execution_count": 8,
   "id": "0cc42837-2896-445c-b314-5d2f0130c170",
   "metadata": {
    "tags": []
   },
   "outputs": [
    {
     "data": {
      "text/plain": [
       "{'ExecutionId': '714a70bb-cd6b-4e02-9fd3-013c4a3dc536',\n",
       " 'ResponseMetadata': {'RequestId': 'add11ea3-1bae-4219-a6df-2a14773b5834',\n",
       "  'HTTPStatusCode': 200,\n",
       "  'HTTPHeaders': {'x-amzn-requestid': 'add11ea3-1bae-4219-a6df-2a14773b5834',\n",
       "   'content-type': 'application/x-amz-json-1.1',\n",
       "   'content-length': '54',\n",
       "   'date': 'Thu, 16 Nov 2023 05:46:55 GMT'},\n",
       "  'RetryAttempts': 0}}"
      ]
     },
     "execution_count": 8,
     "metadata": {},
     "output_type": "execute_result"
    }
   ],
   "source": [
    "kendra_client = boto3.client('kendra')\n",
    "data_source = kendra_client.list_data_sources(IndexId = KENDRA_INDEX)\n",
    "response = kendra_client.start_data_source_sync_job(Id = data_source[\"SummaryItems\"][0][\"Id\"], IndexId = KENDRA_INDEX)\n",
    "\n",
    "response"
   ]
  },
  {
   "cell_type": "markdown",
   "id": "3353692d-9252-4200-9922-84a7e68f377b",
   "metadata": {},
   "source": [
    "## 아래와 같이 Amazon Kendra로 이동해서 KendraDataSource가 Sync 작업이 완료될 때까지 기다리고 작업 완료를 확인합니다.\n",
    "\n",
    "<img src=\"images/kendra-sync.png\" width=\"800\"/> "
   ]
  },
  {
   "cell_type": "markdown",
   "id": "c3d7436f-cffa-4962-ba01-024e7b93df1c",
   "metadata": {
    "tags": []
   },
   "source": [
    "---\n",
    "\n",
    "## LangChain의 RetrievalQA Chain을 이용\n",
    "\n",
    "LangChain이 Amazon Bedrock의 Claude-2 모델을 사용하도록 LLM 정의"
   ]
  },
  {
   "cell_type": "code",
   "execution_count": 9,
   "id": "b476d60c-7cc3-4c76-8cf2-c88937e955bd",
   "metadata": {
    "tags": []
   },
   "outputs": [
    {
     "name": "stdout",
     "output_type": "stream",
     "text": [
      "\u001b[33mWARNING: Running pip as the 'root' user can result in broken permissions and conflicting behaviour with the system package manager. It is recommended to use a virtual environment instead: https://pip.pypa.io/warnings/venv\u001b[0m\u001b[33m\n",
      "\u001b[0mNote: you may need to restart the kernel to use updated packages.\n"
     ]
    }
   ],
   "source": [
    "%pip install --quiet langchain==0.0.309"
   ]
  },
  {
   "cell_type": "code",
   "execution_count": 10,
   "id": "37d26151-3769-44d2-b943-7e09ae42604d",
   "metadata": {
    "tags": []
   },
   "outputs": [],
   "source": [
    "my_region = os.environ[\"AWS_DEFAULT_REGION\"]   # E.g. \"us-east-1\"\n",
    "os.environ[\"BEDROCK_ENDPOINT_URL\"] = f\"https://bedrock-runtime.{my_region}.amazonaws.com\"  # E.g. \"https://...\""
   ]
  },
  {
   "cell_type": "code",
   "execution_count": 11,
   "id": "620aff6b-9591-4587-b8e5-06886b21d403",
   "metadata": {
    "tags": []
   },
   "outputs": [],
   "source": [
    "from langchain.chains import RetrievalQA\n",
    "\n",
    "session = boto3.Session(\n",
    "    profile_name=os.environ.get(\"AWS_PROFILE\")\n",
    ") # sets the profile name to use for AWS credentials\n",
    "\n",
    "bedrock = session.client(\n",
    "    service_name='bedrock-runtime', # creates a Bedrock client\n",
    "    region_name=os.environ.get(\"AWS_DEFAULT_REGION\"),\n",
    "    endpoint_url=os.environ.get(\"BEDROCK_ENDPOINT_URL\")\n",
    ") \n",
    "\n",
    "from langchain.llms.bedrock import Bedrock\n",
    "\n",
    "# - create the Anthropic Model\n",
    "llm = Bedrock(model_id=\"anthropic.claude-v2\", client=bedrock, model_kwargs={'max_tokens_to_sample':1000, 'temperature': 0})"
   ]
  },
  {
   "cell_type": "markdown",
   "id": "6ad9e2ab-dc2e-4b7d-9d62-32f46247fdef",
   "metadata": {},
   "source": [
    "---\n",
    "\n",
    "## AmazonKendraRetriever 설정\n",
    "\n",
    "LangChain이 Kendra 검색 결과를 가져오기 위해 AmazonKendraRetriever 이용"
   ]
  },
  {
   "cell_type": "code",
   "execution_count": 12,
   "id": "b8c1b8a9-f4a7-45be-9dc2-c5338ff2cd67",
   "metadata": {
    "tags": []
   },
   "outputs": [],
   "source": [
    "from langchain.retrievers import AmazonKendraRetriever\n",
    "\n",
    "retriever = AmazonKendraRetriever(\n",
    "    index_id=KENDRA_INDEX,\n",
    "    region_name=os.environ.get(\"AWS_DEFAULT_REGION\", None),\n",
    "    top_k=3,\n",
    "    attribute_filter = {\n",
    "        \"EqualsTo\": {      \n",
    "            \"Key\": \"_language_code\",\n",
    "            \"Value\": {\n",
    "                \"StringValue\": \"ko\"\n",
    "            }\n",
    "        }\n",
    "    }\n",
    ")"
   ]
  },
  {
   "cell_type": "markdown",
   "id": "fcff69ae-35be-4234-ac67-43a006accc10",
   "metadata": {},
   "source": [
    "## Kendra Retriever로 문서 검색을 확인"
   ]
  },
  {
   "cell_type": "code",
   "execution_count": 13,
   "id": "31622d5a-865a-4434-9c61-4f38dcd3d23d",
   "metadata": {
    "tags": []
   },
   "outputs": [
    {
     "data": {
      "text/plain": [
       "[Document(page_content='Document Title: store_manual_contents\\nDocument Excerpt: \\n1. 소개 · 회사 소개 · 메뉴얼 목적 · 업무 환경 소개 2. 직무 소개 · 직무 개요 · 직무 명칭 및 설명 · 직무 유형 3. 업무 시간과 스케줄 · 근무 시간 및 스케줄 · 휴식 시간 · 휴가 신청 및 승인 절차 4. 업무 의무 · 기본 업무 의무 · 품질 기준 및 고객 서비스 · 안전 및 위생 규정 준수 5. 상품 배치 및 정리 · 상품 배치 방법 · 진열 및 정리 원칙 · 유통기한 및 상품 관리 6. 고객 서비스 · 고객 응대 및 서비스 원칙 · 고객 문의 처리 방법 · 불만사항 및 갈등 해결 7. 결제 및 레지스터 업무 · 레지스터 사용법 · 현금 및 카드 거래 처리 · 오류 처리 방법 8. 안전 및 위생 · 안전 규칙 및 절차 · 위생 규정 및 실천 · 비상 상황 대응 9. 팀 협력 · 팀 작업 및 소통 · 상사와의 협력 · 직원 간 협력 10. 교육 및 권리 · 교육 및 역량 개발 · 직원 권리 및 복리후생 혜택 11. 업무 메뉴얼 업데이트 · 메뉴얼 업데이트 절차 · 변경 사항 통보 12. 부록 · 관련 양식 및 절차서 · 응급 상황 연락처\\n', metadata={'result_id': '1581ef22-b10d-41d1-b19a-01be8ebd5979-620a99d3-bd29-47de-9296-73db74f7f24f', 'document_id': 's3://kendra-workshop-a66c8970-8438-11ee-88ac-0eca477fcc05/store_manual_contents.docx', 'source': 'https://s3.us-east-1.amazonaws.com/kendra-workshop-a66c8970-8438-11ee-88ac-0eca477fcc05/store_manual_contents.docx', 'title': 'store_manual_contents', 'excerpt': '1. 소개 · 회사 소개 · 메뉴얼 목적 · 업무 환경 소개 2. 직무 소개 · 직무 개요 · 직무 명칭 및 설명 · 직무 유형 3. 업무 시간과 스케줄 · 근무 시간 및 스케줄 · 휴식 시간 · 휴가 신청 및 승인 절차 4. 업무 의무 · 기본 업무 의무 · 품질 기준 및 고객 서비스 · 안전 및 위생 규정 준수 5. 상품 배치 및 정리 · 상품 배치 방법 · 진열 및 정리 원칙 · 유통기한 및 상품 관리 6. 고객 서비스 · 고객 응대 및 서비스 원칙 · 고객 문의 처리 방법 · 불만사항 및 갈등 해결 7. 결제 및 레지스터 업무 · 레지스터 사용법 · 현금 및 카드 거래 처리 · 오류 처리 방법 8. 안전 및 위생 · 안전 규칙 및 절차 · 위생 규정 및 실천 · 비상 상황 대응 9. 팀 협력 · 팀 작업 및 소통 · 상사와의 협력 · 직원 간 협력 10. 교육 및 권리 · 교육 및 역량 개발 · 직원 권리 및 복리후생 혜택 11. 업무 메뉴얼 업데이트 · 메뉴얼 업데이트 절차 · 변경 사항 통보 12. 부록 · 관련 양식 및 절차서 · 응급 상황 연락처', 'document_attributes': {'_source_uri': 'https://s3.us-east-1.amazonaws.com/kendra-workshop-a66c8970-8438-11ee-88ac-0eca477fcc05/store_manual_contents.docx'}}),\n",
       " Document(page_content='Document Title: store_manual_contents\\nDocument Excerpt: \\n1. 소개 · 회사 소개 · 메뉴얼 목적 · 업무 환경 소개 2. 직무 소개 · 직무 개요 · 직무 명칭 및 설명 · 직무 유형 3. 업무 시간과 스케줄 · 근무 시간 및 스케줄 · 휴식 시간 · 휴가 신청 및 승인 절차 4. 업무 의무 · 기본 업무 의무 · 품질 기준 및 고객 서비스 · 안전 및 위생 규정 준수 5. 상품 배치 및 정리 · 상품 배치 방법 · 진열 및 정리 원칙 · 유통기한 및 상품 관리 6. 고객 서비스 · 고객 응대 및 서비스 원칙 · 고객 문의 처리 방법 · 불만사항 및 갈등 해결 7. 결제 및 레지스터 업무 · 레지스터 사용법 · 현금 및 카드 거래 처리 · 오류 처리 방법 8. 안전 및 위생 · 안전 규칙 및 절차 · 위생 규정 및 실천 · 비상 상황 대응 9. 팀 협력 · 팀 작업 및 소통\\n', metadata={'result_id': '1581ef22-b10d-41d1-b19a-01be8ebd5979-b4608c41-a0ba-418d-88f1-aac24955f802', 'document_id': 's3://kendra-workshop-a66c8970-8438-11ee-88ac-0eca477fcc05/store_manual_contents.docx', 'source': 'https://s3.us-east-1.amazonaws.com/kendra-workshop-a66c8970-8438-11ee-88ac-0eca477fcc05/store_manual_contents.docx', 'title': 'store_manual_contents', 'excerpt': '1. 소개 · 회사 소개 · 메뉴얼 목적 · 업무 환경 소개 2. 직무 소개 · 직무 개요 · 직무 명칭 및 설명 · 직무 유형 3. 업무 시간과 스케줄 · 근무 시간 및 스케줄 · 휴식 시간 · 휴가 신청 및 승인 절차 4. 업무 의무 · 기본 업무 의무 · 품질 기준 및 고객 서비스 · 안전 및 위생 규정 준수 5. 상품 배치 및 정리 · 상품 배치 방법 · 진열 및 정리 원칙 · 유통기한 및 상품 관리 6. 고객 서비스 · 고객 응대 및 서비스 원칙 · 고객 문의 처리 방법 · 불만사항 및 갈등 해결 7. 결제 및 레지스터 업무 · 레지스터 사용법 · 현금 및 카드 거래 처리 · 오류 처리 방법 8. 안전 및 위생 · 안전 규칙 및 절차 · 위생 규정 및 실천 · 비상 상황 대응 9. 팀 협력 · 팀 작업 및 소통', 'document_attributes': {'_source_uri': 'https://s3.us-east-1.amazonaws.com/kendra-workshop-a66c8970-8438-11ee-88ac-0eca477fcc05/store_manual_contents.docx'}}),\n",
       " Document(page_content='Document Title: product_display\\nDocument Excerpt: \\n아래는 진열 및 정리 원칙에 대한 일반적인 내용입니다: 1. 상품 진열 계획: · 상품 진열은 매장 레이아웃 및 계획에 따라 이루어져야 합니다. 매장 내 어떤 상품이 어디에 배치될지 계획이 필요합니다. 2. 제품 분류: · 상품은 유형 또는 카테고리에 따라 분류되어야 합니다. 예를 들어, 식료품, 가정용품, 생활용품 등으로 구분될 수 있습니다. 3. 유통기한 확인: · 상품 진열 시에는 유통기한을 확인하고 만기 상품은 배치하지 않아야 합니다. 4. 인기 상품 우선: · 가장 인기 있는 상품은 눈에 잘 띄게 배치해야 합니다. 고객들이 쉽게 찾을 수 있도록 인기 상품을 전략적으로 배치하세요. 5. 선반의 높이: · 다양한 선반 높이를 활용하여 고객이 편리하게 상품에 접근할 수 있도록 합니다. 무거운 상품은 허리 레벨에, 가벼운 상품은 높은 선반에 배치할 수 있습니다. 6. 청결과 정돈: · 상품은 항상 청결하게 유지되어야 하며, 훼손된 제품은 정리되어야 합니다. 상품의 잔여량과 청결도를 주기적으로 확인하세요.\\n', metadata={'result_id': '1581ef22-b10d-41d1-b19a-01be8ebd5979-12f22f3f-f2a7-457d-9a54-dcc45092ec28', 'document_id': 's3://kendra-workshop-a66c8970-8438-11ee-88ac-0eca477fcc05/product_display.docx', 'source': 'https://s3.us-east-1.amazonaws.com/kendra-workshop-a66c8970-8438-11ee-88ac-0eca477fcc05/product_display.docx', 'title': 'product_display', 'excerpt': '아래는 진열 및 정리 원칙에 대한 일반적인 내용입니다: 1. 상품 진열 계획: · 상품 진열은 매장 레이아웃 및 계획에 따라 이루어져야 합니다. 매장 내 어떤 상품이 어디에 배치될지 계획이 필요합니다. 2. 제품 분류: · 상품은 유형 또는 카테고리에 따라 분류되어야 합니다. 예를 들어, 식료품, 가정용품, 생활용품 등으로 구분될 수 있습니다. 3. 유통기한 확인: · 상품 진열 시에는 유통기한을 확인하고 만기 상품은 배치하지 않아야 합니다. 4. 인기 상품 우선: · 가장 인기 있는 상품은 눈에 잘 띄게 배치해야 합니다. 고객들이 쉽게 찾을 수 있도록 인기 상품을 전략적으로 배치하세요. 5. 선반의 높이: · 다양한 선반 높이를 활용하여 고객이 편리하게 상품에 접근할 수 있도록 합니다. 무거운 상품은 허리 레벨에, 가벼운 상품은 높은 선반에 배치할 수 있습니다. 6. 청결과 정돈: · 상품은 항상 청결하게 유지되어야 하며, 훼손된 제품은 정리되어야 합니다. 상품의 잔여량과 청결도를 주기적으로 확인하세요.', 'document_attributes': {'_source_uri': 'https://s3.us-east-1.amazonaws.com/kendra-workshop-a66c8970-8438-11ee-88ac-0eca477fcc05/product_display.docx'}})]"
      ]
     },
     "execution_count": 13,
     "metadata": {},
     "output_type": "execute_result"
    }
   ],
   "source": [
    "# \"상품 진열 방법\"의 Kendra 검색 결과 확인\n",
    "retriever.get_relevant_documents(\"상품 진열 방법\")"
   ]
  },
  {
   "cell_type": "markdown",
   "id": "03c3e60f-50d0-4cf5-bbdc-dba1912f61ef",
   "metadata": {},
   "source": [
    "---\n",
    "\n",
    "## Prompt Template 설정\n",
    "\n",
    "질문와 답변 형태의 대화를 위한 Prompt를 Anthroipc Claude의 Prompt format에 맞도록 아래와 같이 정의\n",
    "\n",
    "<li> 영어\n",
    "\n",
    "Human: This is a friendly conversation between a human and an AI. \n",
    "The AI is talkative and provides specific details from its context but limits it to 240 tokens.\n",
    "If the AI does not know the answer to a question, it truthfully says it \n",
    "does not know.\n",
    "\n",
    "Assistant: OK, got it, I'll be a talkative truthful AI assistant.\n",
    "\n",
    "Human: Here are a few documents in <documents> tags:\n",
    "<documents>\n",
    "{context}\n",
    "</documents>\n",
    "Based on the above documents, provide a detailed answer for, {question} \n",
    "Answer **\"시스템에 관련된 정보가 없습니다.\"** if not present in the document. \n",
    "\n",
    "<li> 한글\n",
    "\n",
    "Assistant:\n",
    "    \n",
    "Human: 인간과 AI의 친근한 대화입니다.\n",
    "AI는 말이 많고 상황에 따른 구체적인 세부 정보를 제공하지만 토큰 수는 240개로 제한됩니다.\n",
    "AI가 질문에 대한 답을 모르면 알지 못한다고 사실대로 말합니다.\n",
    "\n",
    "Assistant: 알겠습니다. 저는 말이 많고 진실된 AI 어시스턴트가 되어 드리겠습니다.\n",
    "\n",
    "Human: 다음은 <documents> 태그에 있는 몇 가지 문서입니다.\n",
    "<문서>\n",
    "{문맥}\n",
    "</문서>\n",
    "위 문서를 바탕으로 {question}에 대한 자세한 답변을 제공해 주세요.\n",
    "문서에 관련된 내용이 없으면 \"시스템에 관련된 정보는 없습니다.\"라고 답변하세요.\n",
    "\n",
    "Assistant:"
   ]
  },
  {
   "cell_type": "code",
   "execution_count": 14,
   "id": "5633d2c5-78e2-4f58-a8a9-9f3a66cbd883",
   "metadata": {
    "tags": []
   },
   "outputs": [],
   "source": [
    "from langchain.prompts import PromptTemplate\n",
    "\n",
    "prompt_template = \"\"\"\n",
    "\n",
    "Human: This is a friendly conversation between a human and an AI. \n",
    "The AI is talkative and provides specific details from its context but limits it to 240 tokens.\n",
    "If the AI does not know the answer to a question, it truthfully says it \n",
    "does not know.\n",
    "\n",
    "Assistant: OK, got it, I'll be a talkative truthful AI assistant.\n",
    "\n",
    "Human: Here are a few documents in <documents> tags:\n",
    "<documents>\n",
    "{context}\n",
    "</documents>\n",
    "Based on the above documents, provide a detailed answer for, {question} \n",
    "Answer \"시스템에 관련된 정보가 없습니다.\" if not present in the document. \n",
    "\n",
    "Assistant:\"\"\"\n",
    "\n",
    "PROMPT = PromptTemplate(\n",
    "    template=prompt_template, input_variables=[\"context\", \"question\"]\n",
    ")"
   ]
  },
  {
   "cell_type": "code",
   "execution_count": 15,
   "id": "ca9a0505-fc08-455f-a98f-84ca2e29dfd5",
   "metadata": {
    "tags": []
   },
   "outputs": [],
   "source": [
    "from langchain.chains import RetrievalQA\n",
    "\n",
    "qa = RetrievalQA.from_chain_type(\n",
    "    llm=llm,\n",
    "    chain_type=\"stuff\", # inserts all documents into a prompt and passes that prompt to an LLM\n",
    "    retriever=retriever,\n",
    "    return_source_documents=True,\n",
    "    chain_type_kwargs={\"prompt\": PROMPT}\n",
    ")\n"
   ]
  },
  {
   "cell_type": "code",
   "execution_count": 16,
   "id": "a09e7744-1ab4-40b3-9834-6cd3ae82f058",
   "metadata": {
    "tags": []
   },
   "outputs": [],
   "source": [
    "# result = qa.run(question)\n",
    "query = \"상품 진열 방법 알려줘\"\n",
    "result = qa({\"query\": query})"
   ]
  },
  {
   "cell_type": "code",
   "execution_count": 17,
   "id": "62511b1c-1116-44ed-894d-1c64d251493c",
   "metadata": {
    "tags": []
   },
   "outputs": [
    {
     "name": "stdout",
     "output_type": "stream",
     "text": [
      " 상품 진열 방법에 대한 내용은 두번째 문서인 product_display에서 다루고 있습니다. \n",
      "\n",
      "product_display 문서에 따르면 상품 진열 방법의 주요 원칙은 다음과 같습니다:\n",
      "\n",
      "1. 상품 진열 계획 수립 \n",
      "2. 상품 카테고리별 분류\n",
      "3. 유통기한 확인\n",
      "4. 인기 상품 우선 진열\n",
      "5. 다양한 높이의 선반 활용\n",
      "6. 상품 청결 유지 및 정리\n",
      "\n",
      "구체적으로, 상품 진열 시 매장 레이아웃과 계획에 따라 진열 계획을 세워야 하며, 상품을 유형별로 분류하여 진열해야 합니다. 또한 유통기한을 확인하고 인기 상품을 전략적으로 배치하며, 선반 높이를 다양하게 활용할 것을 권장하고 있습니다. 상품은 항상 청결하게 관리하고 정기적으로 확인하여 정리해야 합니다.\n"
     ]
    },
    {
     "data": {
      "text/plain": [
       "[Document(page_content='Document Title: store_manual_contents\\nDocument Excerpt: \\n1. 소개 · 회사 소개 · 메뉴얼 목적 · 업무 환경 소개 2. 직무 소개 · 직무 개요 · 직무 명칭 및 설명 · 직무 유형 3. 업무 시간과 스케줄 · 근무 시간 및 스케줄 · 휴식 시간 · 휴가 신청 및 승인 절차 4. 업무 의무 · 기본 업무 의무 · 품질 기준 및 고객 서비스 · 안전 및 위생 규정 준수 5. 상품 배치 및 정리 · 상품 배치 방법 · 진열 및 정리 원칙 · 유통기한 및 상품 관리 6. 고객 서비스 · 고객 응대 및 서비스 원칙 · 고객 문의 처리 방법 · 불만사항 및 갈등 해결 7. 결제 및 레지스터 업무 · 레지스터 사용법 · 현금 및 카드 거래 처리 · 오류 처리 방법 8. 안전 및 위생 · 안전 규칙 및 절차 · 위생 규정 및 실천 · 비상 상황 대응 9. 팀 협력 · 팀 작업 및 소통 · 상사와의 협력 · 직원 간 협력 10. 교육 및 권리 · 교육 및 역량 개발 · 직원 권리 및 복리후생 혜택 11. 업무 메뉴얼 업데이트 · 메뉴얼 업데이트 절차 · 변경 사항 통보 12. 부록 · 관련 양식 및 절차서 · 응급 상황 연락처\\n', metadata={'result_id': '311dceaf-ebd6-4f39-94d6-505ad2806050-f0a31d8d-222d-412d-8667-c10a75f2480e', 'document_id': 's3://kendra-workshop-a66c8970-8438-11ee-88ac-0eca477fcc05/store_manual_contents.docx', 'source': 'https://s3.us-east-1.amazonaws.com/kendra-workshop-a66c8970-8438-11ee-88ac-0eca477fcc05/store_manual_contents.docx', 'title': 'store_manual_contents', 'excerpt': '1. 소개 · 회사 소개 · 메뉴얼 목적 · 업무 환경 소개 2. 직무 소개 · 직무 개요 · 직무 명칭 및 설명 · 직무 유형 3. 업무 시간과 스케줄 · 근무 시간 및 스케줄 · 휴식 시간 · 휴가 신청 및 승인 절차 4. 업무 의무 · 기본 업무 의무 · 품질 기준 및 고객 서비스 · 안전 및 위생 규정 준수 5. 상품 배치 및 정리 · 상품 배치 방법 · 진열 및 정리 원칙 · 유통기한 및 상품 관리 6. 고객 서비스 · 고객 응대 및 서비스 원칙 · 고객 문의 처리 방법 · 불만사항 및 갈등 해결 7. 결제 및 레지스터 업무 · 레지스터 사용법 · 현금 및 카드 거래 처리 · 오류 처리 방법 8. 안전 및 위생 · 안전 규칙 및 절차 · 위생 규정 및 실천 · 비상 상황 대응 9. 팀 협력 · 팀 작업 및 소통 · 상사와의 협력 · 직원 간 협력 10. 교육 및 권리 · 교육 및 역량 개발 · 직원 권리 및 복리후생 혜택 11. 업무 메뉴얼 업데이트 · 메뉴얼 업데이트 절차 · 변경 사항 통보 12. 부록 · 관련 양식 및 절차서 · 응급 상황 연락처', 'document_attributes': {'_source_uri': 'https://s3.us-east-1.amazonaws.com/kendra-workshop-a66c8970-8438-11ee-88ac-0eca477fcc05/store_manual_contents.docx'}}),\n",
       " Document(page_content='Document Title: store_manual_contents\\nDocument Excerpt: \\n1. 소개 · 회사 소개 · 메뉴얼 목적 · 업무 환경 소개 2. 직무 소개 · 직무 개요 · 직무 명칭 및 설명 · 직무 유형 3. 업무 시간과 스케줄 · 근무 시간 및 스케줄 · 휴식 시간 · 휴가 신청 및 승인 절차 4. 업무 의무 · 기본 업무 의무 · 품질 기준 및 고객 서비스 · 안전 및 위생 규정 준수 5. 상품 배치 및 정리 · 상품 배치 방법 · 진열 및 정리 원칙 · 유통기한 및 상품 관리 6. 고객 서비스 · 고객 응대 및 서비스 원칙 · 고객 문의 처리 방법 · 불만사항 및 갈등 해결 7. 결제 및 레지스터 업무 · 레지스터 사용법 · 현금 및 카드 거래 처리 · 오류 처리 방법 8. 안전 및 위생 · 안전 규칙 및 절차 · 위생 규정 및 실천 · 비상 상황 대응 9. 팀 협력 · 팀 작업 및 소통\\n', metadata={'result_id': '311dceaf-ebd6-4f39-94d6-505ad2806050-8102d9a2-334a-4955-a22a-93056704413e', 'document_id': 's3://kendra-workshop-a66c8970-8438-11ee-88ac-0eca477fcc05/store_manual_contents.docx', 'source': 'https://s3.us-east-1.amazonaws.com/kendra-workshop-a66c8970-8438-11ee-88ac-0eca477fcc05/store_manual_contents.docx', 'title': 'store_manual_contents', 'excerpt': '1. 소개 · 회사 소개 · 메뉴얼 목적 · 업무 환경 소개 2. 직무 소개 · 직무 개요 · 직무 명칭 및 설명 · 직무 유형 3. 업무 시간과 스케줄 · 근무 시간 및 스케줄 · 휴식 시간 · 휴가 신청 및 승인 절차 4. 업무 의무 · 기본 업무 의무 · 품질 기준 및 고객 서비스 · 안전 및 위생 규정 준수 5. 상품 배치 및 정리 · 상품 배치 방법 · 진열 및 정리 원칙 · 유통기한 및 상품 관리 6. 고객 서비스 · 고객 응대 및 서비스 원칙 · 고객 문의 처리 방법 · 불만사항 및 갈등 해결 7. 결제 및 레지스터 업무 · 레지스터 사용법 · 현금 및 카드 거래 처리 · 오류 처리 방법 8. 안전 및 위생 · 안전 규칙 및 절차 · 위생 규정 및 실천 · 비상 상황 대응 9. 팀 협력 · 팀 작업 및 소통', 'document_attributes': {'_source_uri': 'https://s3.us-east-1.amazonaws.com/kendra-workshop-a66c8970-8438-11ee-88ac-0eca477fcc05/store_manual_contents.docx'}}),\n",
       " Document(page_content='Document Title: product_display\\nDocument Excerpt: \\n아래는 진열 및 정리 원칙에 대한 일반적인 내용입니다: 1. 상품 진열 계획: · 상품 진열은 매장 레이아웃 및 계획에 따라 이루어져야 합니다. 매장 내 어떤 상품이 어디에 배치될지 계획이 필요합니다. 2. 제품 분류: · 상품은 유형 또는 카테고리에 따라 분류되어야 합니다. 예를 들어, 식료품, 가정용품, 생활용품 등으로 구분될 수 있습니다. 3. 유통기한 확인: · 상품 진열 시에는 유통기한을 확인하고 만기 상품은 배치하지 않아야 합니다. 4. 인기 상품 우선: · 가장 인기 있는 상품은 눈에 잘 띄게 배치해야 합니다. 고객들이 쉽게 찾을 수 있도록 인기 상품을 전략적으로 배치하세요. 5. 선반의 높이: · 다양한 선반 높이를 활용하여 고객이 편리하게 상품에 접근할 수 있도록 합니다. 무거운 상품은 허리 레벨에, 가벼운 상품은 높은 선반에 배치할 수 있습니다. 6. 청결과 정돈: · 상품은 항상 청결하게 유지되어야 하며, 훼손된 제품은 정리되어야 합니다. 상품의 잔여량과 청결도를 주기적으로 확인하세요.\\n', metadata={'result_id': '311dceaf-ebd6-4f39-94d6-505ad2806050-109acf5d-e444-4b59-a22e-04904c0b669e', 'document_id': 's3://kendra-workshop-a66c8970-8438-11ee-88ac-0eca477fcc05/product_display.docx', 'source': 'https://s3.us-east-1.amazonaws.com/kendra-workshop-a66c8970-8438-11ee-88ac-0eca477fcc05/product_display.docx', 'title': 'product_display', 'excerpt': '아래는 진열 및 정리 원칙에 대한 일반적인 내용입니다: 1. 상품 진열 계획: · 상품 진열은 매장 레이아웃 및 계획에 따라 이루어져야 합니다. 매장 내 어떤 상품이 어디에 배치될지 계획이 필요합니다. 2. 제품 분류: · 상품은 유형 또는 카테고리에 따라 분류되어야 합니다. 예를 들어, 식료품, 가정용품, 생활용품 등으로 구분될 수 있습니다. 3. 유통기한 확인: · 상품 진열 시에는 유통기한을 확인하고 만기 상품은 배치하지 않아야 합니다. 4. 인기 상품 우선: · 가장 인기 있는 상품은 눈에 잘 띄게 배치해야 합니다. 고객들이 쉽게 찾을 수 있도록 인기 상품을 전략적으로 배치하세요. 5. 선반의 높이: · 다양한 선반 높이를 활용하여 고객이 편리하게 상품에 접근할 수 있도록 합니다. 무거운 상품은 허리 레벨에, 가벼운 상품은 높은 선반에 배치할 수 있습니다. 6. 청결과 정돈: · 상품은 항상 청결하게 유지되어야 하며, 훼손된 제품은 정리되어야 합니다. 상품의 잔여량과 청결도를 주기적으로 확인하세요.', 'document_attributes': {'_source_uri': 'https://s3.us-east-1.amazonaws.com/kendra-workshop-a66c8970-8438-11ee-88ac-0eca477fcc05/product_display.docx'}})]"
      ]
     },
     "execution_count": 17,
     "metadata": {},
     "output_type": "execute_result"
    }
   ],
   "source": [
    "# print(result.strip())\n",
    "print(result['result'])\n",
    "result['source_documents']"
   ]
  },
  {
   "cell_type": "markdown",
   "id": "fe5cc8db-7f73-49f0-8f0b-04f72b7a02d7",
   "metadata": {},
   "source": [
    "## 빠른 응답을 위해 claude-instant-v1 모델을 사용"
   ]
  },
  {
   "cell_type": "code",
   "execution_count": 18,
   "id": "8c79ec44-fc13-4a82-9e14-dfc3d7e8cb13",
   "metadata": {
    "tags": []
   },
   "outputs": [],
   "source": [
    "llm = Bedrock(model_id=\"anthropic.claude-instant-v1\", client=bedrock, model_kwargs={'max_tokens_to_sample':1000, 'temperature': 0})\n",
    "qa = RetrievalQA.from_chain_type(\n",
    "    llm=llm,\n",
    "    chain_type=\"stuff\", # inserts all documents into a prompt and passes that prompt to an LLM\n",
    "    retriever=retriever,\n",
    "    return_source_documents=True,\n",
    "    chain_type_kwargs={\"prompt\": PROMPT}\n",
    ")"
   ]
  },
  {
   "cell_type": "code",
   "execution_count": 19,
   "id": "177740fb-a552-4393-b60a-0c9b1861e6f0",
   "metadata": {
    "tags": []
   },
   "outputs": [
    {
     "name": "stdout",
     "output_type": "stream",
     "text": [
      " 위 문서에서 FIFO(First-In, First-Out)는 상품을 배치할 때 가장 먼저 들어온 상품부터 순서대로 처리한다는 의미의 방식을 말합니다. 문서에서 \"상품은 FIFO(First-In, First-Out) 원칙에 따라 배치되어야 하며, 유통기한이 다가오거나 만료된 상품은 즉시 제거해야 합니다.\"라고 설명하고 있습니다.\n",
      "CPU times: user 12.4 ms, sys: 0 ns, total: 12.4 ms\n",
      "Wall time: 3.29 s\n"
     ]
    },
    {
     "data": {
      "text/plain": [
       "[Document(page_content='Document Title: product_display\\nDocument Excerpt: \\n5. 선반의 높이: · 다양한 선반 높이를 활용하여 고객이 편리하게 상품에 접근할 수 있도록 합니다. 무거운 상품은 허리 레벨에, 가벼운 상품은 높은 선반에 배치할 수 있습니다. 6. 청결과 정돈: · 상품은 항상 청결하게 유지되어야 하며, 훼손된 제품은 정리되어야 합니다. 상품의 잔여량과 청결도를 주기적으로 확인하세요. 7. 가격 표시: · 모든 상품에는 가격이 명확하게 표시되어야 합니다. 가격 표시가 눈에 잘 띄도록 하세요. 8. 브랜드 및 판매 프로모션 고려: · 브랜드와 판매 프로모션에 따라 상품을 배치하세요. 고객이 할인 상품이나 특별 프로모션을 찾을 수 있도록 하세요. 7. 가격 표시: · 모든 상품에는 가격이 명확하게 표시되어야 합니다. 가격 표시가 눈에 잘 띄도록 하세요. 8. 브랜드 및 판매 프로모션 고려: · 브랜드와 판매 프로모션에 따라 상품을 배치하세요. 고객이 할인 상품이나 특별 프로모션을 찾을 수 있도록 하세요. 9. 무료 공간 유지: · 고객의 편의를 위해 통행로와 출입구 주변을 비우고, 화재 안전을 고려하여 비상구를 막지 마세요. 10. 주기적인 재고 회전: · 상품은 FIFO (First-In, First-Out) 원칙에 따라 배치되어야 하며, 유통기한이 다가오거나 만료된 상품은 즉시 제거해야 합니다. 11. 고객의 의견 수용: · 고객의 피드백을 듣고 상품 진열 및 정리를 개선하기 위해 활용하세요. 12. 안전 규정 준수: · 상품을 진열할 때 안전 규정을 준수하며, 상품이 넘어지지 않도록 안전하게 고정하세요. 상품 진열 및 정리는 고객 경험과 매장 운영에 큰 영향을 미치는 중요한 부분이므로, 이러한 원칙을 준수하여 효과적으로 관리해야 합니다.\\n', metadata={'result_id': 'dfff1d1e-ab24-4b29-bb25-82c9b2b3bd28-51078da1-7185-4c79-9a29-8876c0f1b730', 'document_id': 's3://kendra-workshop-a66c8970-8438-11ee-88ac-0eca477fcc05/product_display.docx', 'source': 'https://s3.us-east-1.amazonaws.com/kendra-workshop-a66c8970-8438-11ee-88ac-0eca477fcc05/product_display.docx', 'title': 'product_display', 'excerpt': '5. 선반의 높이: · 다양한 선반 높이를 활용하여 고객이 편리하게 상품에 접근할 수 있도록 합니다. 무거운 상품은 허리 레벨에, 가벼운 상품은 높은 선반에 배치할 수 있습니다. 6. 청결과 정돈: · 상품은 항상 청결하게 유지되어야 하며, 훼손된 제품은 정리되어야 합니다. 상품의 잔여량과 청결도를 주기적으로 확인하세요. 7. 가격 표시: · 모든 상품에는 가격이 명확하게 표시되어야 합니다. 가격 표시가 눈에 잘 띄도록 하세요. 8. 브랜드 및 판매 프로모션 고려: · 브랜드와 판매 프로모션에 따라 상품을 배치하세요. 고객이 할인 상품이나 특별 프로모션을 찾을 수 있도록 하세요. 7. 가격 표시: · 모든 상품에는 가격이 명확하게 표시되어야 합니다. 가격 표시가 눈에 잘 띄도록 하세요. 8. 브랜드 및 판매 프로모션 고려: · 브랜드와 판매 프로모션에 따라 상품을 배치하세요. 고객이 할인 상품이나 특별 프로모션을 찾을 수 있도록 하세요. 9. 무료 공간 유지: · 고객의 편의를 위해 통행로와 출입구 주변을 비우고, 화재 안전을 고려하여 비상구를 막지 마세요. 10. 주기적인 재고 회전: · 상품은 FIFO (First-In, First-Out) 원칙에 따라 배치되어야 하며, 유통기한이 다가오거나 만료된 상품은 즉시 제거해야 합니다. 11. 고객의 의견 수용: · 고객의 피드백을 듣고 상품 진열 및 정리를 개선하기 위해 활용하세요. 12. 안전 규정 준수: · 상품을 진열할 때 안전 규정을 준수하며, 상품이 넘어지지 않도록 안전하게 고정하세요. 상품 진열 및 정리는 고객 경험과 매장 운영에 큰 영향을 미치는 중요한 부분이므로, 이러한 원칙을 준수하여 효과적으로 관리해야 합니다.', 'document_attributes': {'_source_uri': 'https://s3.us-east-1.amazonaws.com/kendra-workshop-a66c8970-8438-11ee-88ac-0eca477fcc05/product_display.docx'}}),\n",
       " Document(page_content='Document Title: product_display\\nDocument Excerpt: \\n7. 가격 표시: · 모든 상품에는 가격이 명확하게 표시되어야 합니다. 가격 표시가 눈에 잘 띄도록 하세요. 8. 브랜드 및 판매 프로모션 고려: · 브랜드와 판매 프로모션에 따라 상품을 배치하세요. 고객이 할인 상품이나 특별 프로모션을 찾을 수 있도록 하세요. 9. 무료 공간 유지: · 고객의 편의를 위해 통행로와 출입구 주변을 비우고, 화재 안전을 고려하여 비상구를 막지 마세요. 10. 주기적인 재고 회전: · 상품은 FIFO (First-In, First-Out) 원칙에 따라 배치되어야 하며, 유통기한이 다가오거나 만료된 상품은 즉시 제거해야 합니다. 11. 고객의 의견 수용: · 고객의 피드백을 듣고 상품 진열 및 정리를 개선하기 위해 활용하세요. 12. 안전 규정 준수: · 상품을 진열할 때 안전 규정을 준수하며, 상품이 넘어지지 않도록 안전하게 고정하세요. 상품 진열 및 정리는 고객 경험과 매장 운영에 큰 영향을 미치는 중요한 부분이므로, 이러한 원칙을 준수하여 효과적으로 관리해야 합니다.\\n', metadata={'result_id': 'dfff1d1e-ab24-4b29-bb25-82c9b2b3bd28-0c19cbcf-08ae-4118-878e-79cd58418b06', 'document_id': 's3://kendra-workshop-a66c8970-8438-11ee-88ac-0eca477fcc05/product_display.docx', 'source': 'https://s3.us-east-1.amazonaws.com/kendra-workshop-a66c8970-8438-11ee-88ac-0eca477fcc05/product_display.docx', 'title': 'product_display', 'excerpt': '7. 가격 표시: · 모든 상품에는 가격이 명확하게 표시되어야 합니다. 가격 표시가 눈에 잘 띄도록 하세요. 8. 브랜드 및 판매 프로모션 고려: · 브랜드와 판매 프로모션에 따라 상품을 배치하세요. 고객이 할인 상품이나 특별 프로모션을 찾을 수 있도록 하세요. 9. 무료 공간 유지: · 고객의 편의를 위해 통행로와 출입구 주변을 비우고, 화재 안전을 고려하여 비상구를 막지 마세요. 10. 주기적인 재고 회전: · 상품은 FIFO (First-In, First-Out) 원칙에 따라 배치되어야 하며, 유통기한이 다가오거나 만료된 상품은 즉시 제거해야 합니다. 11. 고객의 의견 수용: · 고객의 피드백을 듣고 상품 진열 및 정리를 개선하기 위해 활용하세요. 12. 안전 규정 준수: · 상품을 진열할 때 안전 규정을 준수하며, 상품이 넘어지지 않도록 안전하게 고정하세요. 상품 진열 및 정리는 고객 경험과 매장 운영에 큰 영향을 미치는 중요한 부분이므로, 이러한 원칙을 준수하여 효과적으로 관리해야 합니다.', 'document_attributes': {'_source_uri': 'https://s3.us-east-1.amazonaws.com/kendra-workshop-a66c8970-8438-11ee-88ac-0eca477fcc05/product_display.docx'}})]"
      ]
     },
     "execution_count": 19,
     "metadata": {},
     "output_type": "execute_result"
    }
   ],
   "source": [
    "%%time\n",
    "query = \"FIFO는 무슨 뜻이야?\"\n",
    "result = qa({\"query\": query})\n",
    "print(result['result'])\n",
    "result['source_documents']"
   ]
  },
  {
   "cell_type": "markdown",
   "id": "84bef7ac-e0e4-4ef3-bc10-35721ee20f5c",
   "metadata": {},
   "source": [
    "## 위의 코드를 kendra_claude.py로 저장"
   ]
  },
  {
   "cell_type": "code",
   "execution_count": 20,
   "id": "a6b043aa-8430-4c0f-8a00-94371de876f0",
   "metadata": {
    "tags": []
   },
   "outputs": [
    {
     "name": "stdout",
     "output_type": "stream",
     "text": [
      "Stored 'KENDRA_INDEX' (str)\n"
     ]
    }
   ],
   "source": [
    "%store KENDRA_INDEX"
   ]
  },
  {
   "cell_type": "code",
   "execution_count": 21,
   "id": "aa77db2d-87b2-47ea-b602-8aea46660757",
   "metadata": {
    "tags": []
   },
   "outputs": [
    {
     "name": "stdout",
     "output_type": "stream",
     "text": [
      "144833d6-9661-4a8c-8748-7330a9b5430a\n"
     ]
    }
   ],
   "source": [
    "print(KENDRA_INDEX)"
   ]
  },
  {
   "cell_type": "markdown",
   "id": "60a2ffab-28b7-4fca-b7f7-ec4e0759a56e",
   "metadata": {},
   "source": [
    "## LLM을 이용한 Q&A 챗봇 모듈을 kendra_claude.py로 저장"
   ]
  },
  {
   "cell_type": "code",
   "execution_count": 22,
   "id": "d67cd3dc-7aad-400d-a953-00b48466be5e",
   "metadata": {
    "tags": []
   },
   "outputs": [
    {
     "name": "stdout",
     "output_type": "stream",
     "text": [
      "Writing kendra_claude.py\n"
     ]
    }
   ],
   "source": [
    "%%writefile kendra_claude.py\n",
    "\n",
    "import sys\n",
    "import os\n",
    "\n",
    "import boto3\n",
    "from langchain.retrievers import AmazonKendraRetriever\n",
    "from langchain.prompts import PromptTemplate\n",
    "from langchain.chains import RetrievalQA\n",
    "from langchain.llms.bedrock import Bedrock\n",
    "\n",
    "def build_chain():\n",
    "\n",
    "  session = boto3.Session(\n",
    "      profile_name=os.environ.get(\"AWS_PROFILE\")\n",
    "  ) \n",
    "  boto3_bedrock = session.client(\n",
    "    service_name='bedrock-runtime', \n",
    "    region_name=os.environ.get(\"AWS_DEFAULT_REGION\"),\n",
    "    endpoint_url=os.environ.get(\"BEDROCK_ENDPOINT_URL\")\n",
    "  ) \n",
    "    \n",
    "  region = os.environ[\"AWS_REGION\"]\n",
    "  kendra_index_id = \"<YOUR_KENDRA_INDEX>\" # Example: 65702b79-XXXX-XXXX-XXXX-9702f17fb994\n",
    "\n",
    "  llm = Bedrock(model_id=\"anthropic.claude-v2\", client=boto3_bedrock, model_kwargs={'max_tokens_to_sample':1000})\n",
    "  \n",
    "  retriever = AmazonKendraRetriever(\n",
    "    index_id=kendra_index_id,\n",
    "    region_name=os.environ.get(\"AWS_DEFAULT_REGION\", None),\n",
    "    top_k=3,\n",
    "    attribute_filter = {\n",
    "        \"EqualsTo\": {      \n",
    "            \"Key\": \"_language_code\",\n",
    "            \"Value\": {\n",
    "                \"StringValue\": \"ko\"\n",
    "            }\n",
    "        }\n",
    "    }\n",
    "  )\n",
    "  # prompt_template = \"\"\"Human: Use the following pieces of context to provide a concise answer to the question at the end. If you don't know the answer, just say that you don't know, don't try to make up an answer.\n",
    "  prompt_template = \"\"\"Human: Use the following pieces of context to provide a concise answer to the question at the end. If the answer is not in the context, just say \"시스템에 관련 내용을 찾을 수 없습니다.\", don't try to make up an answer.\n",
    "\n",
    "  {context}\n",
    "\n",
    "  Question: {question}\n",
    "  Assistant:\"\"\"\n",
    "\n",
    "  PROMPT = PromptTemplate(\n",
    "      template=prompt_template, input_variables=[\"context\", \"question\"]\n",
    "  )\n",
    "\n",
    "\n",
    "  qa = RetrievalQA.from_chain_type(\n",
    "    llm=llm,\n",
    "    chain_type=\"stuff\",\n",
    "    retriever=retriever,\n",
    "    return_source_documents=True,\n",
    "    chain_type_kwargs={\"prompt\": PROMPT}\n",
    "  )\n",
    "\n",
    "  return qa\n",
    "\n",
    "def run_chain(chain, prompt: str):\n",
    "  return chain({\"query\": prompt})"
   ]
  },
  {
   "cell_type": "code",
   "execution_count": 23,
   "id": "b2374f4a-40c3-4ffb-a2b3-3ad5ea9d0f6e",
   "metadata": {
    "tags": []
   },
   "outputs": [],
   "source": [
    "# Kendra index 업데이트\n",
    "!sed -i 's/<YOUR_KENDRA_INDEX>/{KENDRA_INDEX}/g' kendra_claude.py"
   ]
  },
  {
   "cell_type": "markdown",
   "id": "2fa9b965-a83d-4848-a103-5510962257a4",
   "metadata": {},
   "source": [
    "## Streamlit 애플리케이션 실행을 위한 app.py 파일을 생성"
   ]
  },
  {
   "cell_type": "code",
   "execution_count": 24,
   "id": "b4dd7e7e-680b-4471-8b39-890b438ab706",
   "metadata": {
    "tags": []
   },
   "outputs": [
    {
     "name": "stdout",
     "output_type": "stream",
     "text": [
      "Writing app.py\n"
     ]
    }
   ],
   "source": [
    "%%writefile app.py\n",
    "\n",
    "import streamlit as st\n",
    "import sys\n",
    "\n",
    "import kendra_claude as claude\n",
    "\n",
    "USER_ICON = \"images/user-icon.png\"\n",
    "AI_ICON = \"images/ai-icon.png\"\n",
    "MAX_HISTORY_LENGTH = 5\n",
    "\n",
    "if 'llm_chain' not in st.session_state:\n",
    "    st.session_state['llm_app'] = claude\n",
    "    st.session_state['llm_chain'] = claude.build_chain()\n",
    "\n",
    "if 'chat_history' not in st.session_state:\n",
    "    st.session_state['chat_history'] = []\n",
    "    \n",
    "if \"chats\" not in st.session_state:\n",
    "    st.session_state.chats = [\n",
    "        {\n",
    "            'id': 0,\n",
    "            'question': '',\n",
    "            'answer': ''\n",
    "        }\n",
    "    ]\n",
    "\n",
    "if \"questions\" not in st.session_state:\n",
    "    st.session_state.questions = []\n",
    "\n",
    "if \"answers\" not in st.session_state:\n",
    "    st.session_state.answers = []\n",
    "\n",
    "if \"input\" not in st.session_state:\n",
    "    st.session_state.input = \"\"\n",
    "\n",
    "\n",
    "st.markdown(\"\"\"\n",
    "        <style>\n",
    "               .block-container {\n",
    "                    padding-top: 32px;\n",
    "                    padding-bottom: 32px;\n",
    "                    padding-left: 0;\n",
    "                    padding-right: 0;\n",
    "                }\n",
    "                .element-container img {\n",
    "                    background-color: #000000;\n",
    "                }\n",
    "\n",
    "                .main-header {\n",
    "                    font-size: 24px;\n",
    "                }\n",
    "        </style>\n",
    "        \"\"\", unsafe_allow_html=True)\n",
    "\n",
    "def write_logo():\n",
    "    col1, col2, col3 = st.columns([5, 1, 5])\n",
    "    with col2:\n",
    "        st.image(AI_ICON, use_column_width='always') \n",
    "\n",
    "\n",
    "def write_top_bar():\n",
    "    col1, col2, col3 = st.columns([1,10,2])\n",
    "    with col1:\n",
    "        st.image(AI_ICON, use_column_width='always')\n",
    "    with col2:\n",
    "        header = f\"Amazon Bedrock이 제공하는 AI 서비스!\"\n",
    "        st.write(f\"<h3 class='main-header'>{header}</h3>\", unsafe_allow_html=True)\n",
    "    with col3:\n",
    "        clear = st.button(\"Clear Chat\")\n",
    "    return clear\n",
    "\n",
    "clear = write_top_bar()\n",
    "\n",
    "if clear:\n",
    "    st.session_state.questions = []\n",
    "    st.session_state.answers = []\n",
    "    st.session_state.input = \"\"\n",
    "    st.session_state[\"chat_history\"] = []\n",
    "\n",
    "def handle_input():\n",
    "    input = st.session_state.input\n",
    "    question_with_id = {\n",
    "        'question': input,\n",
    "        'id': len(st.session_state.questions)\n",
    "    }\n",
    "    st.session_state.questions.append(question_with_id)\n",
    "\n",
    "    chat_history = st.session_state[\"chat_history\"]\n",
    "    if len(chat_history) == MAX_HISTORY_LENGTH:\n",
    "        chat_history = chat_history[:-1]\n",
    "\n",
    "    llm_chain = st.session_state['llm_chain']\n",
    "    chain = st.session_state['llm_app']\n",
    "    result = chain.run_chain(llm_chain, input)\n",
    "    answer = result['result']\n",
    "    chat_history.append((input, answer))\n",
    "    \n",
    "    document_list = []\n",
    "    if 'source_documents' in result:\n",
    "        for d in result['source_documents']:\n",
    "            if not (d.metadata['source'] in document_list):\n",
    "                document_list.append((d.metadata['source']))\n",
    "\n",
    "    st.session_state.answers.append({\n",
    "        'answer': result,\n",
    "        'sources': document_list,\n",
    "        'id': len(st.session_state.questions)\n",
    "    })\n",
    "    st.session_state.input = \"\"\n",
    "\n",
    "def write_user_message(md):\n",
    "    col1, col2 = st.columns([1,12])\n",
    "    \n",
    "    with col1:\n",
    "        st.image(USER_ICON, use_column_width='always')\n",
    "    with col2:\n",
    "        st.warning(md['question'])\n",
    "\n",
    "\n",
    "def render_result(result):\n",
    "    answer, sources = st.tabs(['Answer', 'Sources'])\n",
    "    with answer:\n",
    "        render_answer(result['answer'])\n",
    "    with sources:\n",
    "        if 'source_documents' in result:\n",
    "            render_sources(result['source_documents'])\n",
    "        else:\n",
    "            render_sources([])\n",
    "\n",
    "def render_answer(answer):\n",
    "    col1, col2 = st.columns([1,12])\n",
    "    with col1:\n",
    "        st.image(AI_ICON, use_column_width='always')\n",
    "    with col2:\n",
    "        st.info(answer['result'])\n",
    "\n",
    "def render_sources(sources):\n",
    "    col1, col2 = st.columns([1,12])\n",
    "    with col2:\n",
    "        with st.expander(\"Sources\"):\n",
    "            for s in sources:\n",
    "                st.write(s)\n",
    "\n",
    "    \n",
    "#Each answer will have context of the question asked in order to associate the provided feedback with the respective question\n",
    "def write_chat_message(md, q):\n",
    "    chat = st.container()\n",
    "    with chat:\n",
    "        render_answer(md['answer'])\n",
    "        render_sources(md['sources'])\n",
    "    \n",
    "        \n",
    "with st.container():\n",
    "  for (q, a) in zip(st.session_state.questions, st.session_state.answers):\n",
    "    write_user_message(q)\n",
    "    write_chat_message(a, q)\n",
    "\n",
    "st.markdown('---')\n",
    "input = st.text_input(\"질문을 해주세요!\", key=\"input\", on_change=handle_input)"
   ]
  },
  {
   "cell_type": "code",
   "execution_count": 25,
   "id": "18d5a5d6-a557-4e2a-a404-8f0f5efe2201",
   "metadata": {
    "tags": []
   },
   "outputs": [
    {
     "name": "stdout",
     "output_type": "stream",
     "text": [
      "Writing requirements.txt\n"
     ]
    }
   ],
   "source": [
    "%%writefile requirements.txt\n",
    "\n",
    "boto3==1.28.64\n",
    "streamlit==1.20.0\n",
    "langchain"
   ]
  },
  {
   "cell_type": "code",
   "execution_count": 26,
   "id": "70e8d804-f5d0-4fb5-80a5-93bd69a54da2",
   "metadata": {
    "tags": []
   },
   "outputs": [
    {
     "name": "stdout",
     "output_type": "stream",
     "text": [
      "Writing setup.sh\n"
     ]
    }
   ],
   "source": [
    "%%writefile setup.sh\n",
    "\n",
    "pip install --no-cache-dir -r requirements.txt\n",
    "sudo yum install -y iproute\n",
    "sudo yum install -y jq\n",
    "sudo yum install -y lsof"
   ]
  },
  {
   "cell_type": "code",
   "execution_count": 27,
   "id": "01a74374-6a63-404e-9501-c34dff704549",
   "metadata": {
    "tags": []
   },
   "outputs": [
    {
     "name": "stdout",
     "output_type": "stream",
     "text": [
      "Writing run.sh\n"
     ]
    }
   ],
   "source": [
    "%%writefile run.sh\n",
    "\n",
    "#!/bin/sh\n",
    "CURRENTDATE=`date +\"%Y-%m-%d %T\"`\n",
    "RED='\\033[0;31m'\n",
    "CYAN='\\033[1;36m'\n",
    "GREEN='\\033[1;32m'\n",
    "NC='\\033[0m'\n",
    "S3_PATH=$1\n",
    "\n",
    "# Run the Streamlit app and save the output to \"temp.txt\"\n",
    "streamlit run app.py > temp.txt & \n",
    "\n",
    "# Read the text file using cat\n",
    "echo \"Getting the URL to view your Streamlit app in the browser\"\n",
    "\n",
    "# Extract the last four digits of the port number from the Network URL\n",
    "sleep 5\n",
    "PORT=$(grep \"Network URL\" temp.txt | awk -F':' '{print $NF}' | awk '{print $1}' | tail -c 5)\n",
    "echo -e \"${CYAN}${CURRENTDATE}: [INFO]:${NC} Port Number ${PORT}\" \n",
    "\n",
    "\n",
    "\n",
    "# Get Studio domain information\n",
    "DOMAIN_ID=$(jq .DomainId /opt/ml/metadata/resource-metadata.json || exit 1)\n",
    "RESOURCE_NAME=$(jq .ResourceName /opt/ml/metadata/resource-metadata.json || exit 1)\n",
    "RESOURCE_ARN=$(jq .ResourceArn /opt/ml/metadata/resource-metadata.json || exit 1)\n",
    "\n",
    "# Remove quotes from string\n",
    "DOMAIN_ID=`sed -e 's/^\"//' -e 's/\"$//' <<< \"$DOMAIN_ID\"`\n",
    "RESOURCE_NAME=`sed -e 's/^\"//' -e 's/\"$//' <<< \"$RESOURCE_NAME\"`\n",
    "RESOURCE_ARN=`sed -e 's/^\"//' -e 's/\"$//' <<< \"$RESOURCE_ARN\"`\n",
    "RESOURCE_ARN_ARRAY=($(echo \"$RESOURCE_ARN\" | tr ':' '\\n'))\n",
    "\n",
    "# Get Studio domain region\n",
    "REGION=$(echo \"${RESOURCE_ARN_ARRAY[3]}\")\n",
    "\n",
    "# Check if it's Collaborative Space\n",
    "SPACE_NAME=$(jq .SpaceName /opt/ml/metadata/resource-metadata.json || exit 1)\n",
    "\n",
    "# if it's not a collaborative space \n",
    "if [ -z \"$SPACE_NAME\" ] || [ $SPACE_NAME == \"null\" ] ;\n",
    "then\n",
    "    # If it's a user-profile access\n",
    "    echo -e \"${CYAN}${CURRENTDATE}: [INFO]:${NC} Domain Id ${DOMAIN_ID}\"\n",
    "    STUDIO_URL=\"https://${DOMAIN_ID}.studio.${REGION}.sagemaker.aws\"\n",
    "    \n",
    "# It is a collaborative space\n",
    "else\n",
    "\n",
    "    SEM=true\n",
    "    SPACE_ID=\n",
    "\n",
    "    # Check if Space Id was previously configured\n",
    "    if [ -f /tmp/space-metadata.json ]; then\n",
    "        SAVED_SPACE_ID=$(jq .SpaceId /tmp/space-metadata.json || exit 1)\n",
    "        SAVED_SPACE_ID=`sed -e 's/^\"//' -e 's/\"$//' <<< \"$SAVED_SPACE_ID\"`\n",
    "\n",
    "        if [ -z \"$SAVED_SPACE_ID\" ] || [ $SAVED_SPACE_ID == \"null\" ]; then\n",
    "            ASK_INPUT=true\n",
    "        else\n",
    "            ASK_INPUT=false\n",
    "        fi\n",
    "    else\n",
    "        ASK_INPUT=true\n",
    "    fi\n",
    "\n",
    "    # If Space Id is not available, ask for it\n",
    "    while [[ $SPACE_ID = \"\" ]] ; do\n",
    "        # If Space Id already configured, skeep the ask\n",
    "        if [ \"$ASK_INPUT\" = true ]; then\n",
    "            echo -e \"${CYAN}${CURRENTDATE}: [INFO]:${NC} Please insert the Space Id from your url. e.g. https://${GREEN}<SPACE_ID>${NC}.studio.${REGION}.sagemaker.aws/jupyter/default/lab\"\n",
    "            read SPACE_ID\n",
    "            SEM=true\n",
    "        else\n",
    "            SPACE_ID=$SAVED_SPACE_ID\n",
    "        fi\n",
    "\n",
    "        if ! [ -z \"$SPACE_ID\" ] && ! [ $SPACE_ID == \"null\" ] ;\n",
    "        then\n",
    "            while $SEM; do\n",
    "                echo \"${SPACE_ID}\"\n",
    "                read -p \"Should this be used as Space Id? (y/N) \" yn\n",
    "                case $yn in\n",
    "                    [Yy]* )\n",
    "                        echo -e \"${CYAN}${CURRENTDATE}: [INFO]:${NC} Domain Id ${DOMAIN_ID}\"\n",
    "                        echo -e \"${CYAN}${CURRENTDATE}: [INFO]:${NC} Space Id ${SPACE_ID}\"\n",
    "\n",
    "                        jq -n --arg space_id $SPACE_ID '{\"SpaceId\":$space_id}' > /tmp/space-metadata.json\n",
    "\n",
    "                        STUDIO_URL=\"https://${SPACE_ID}.studio.${REGION}.sagemaker.aws\"\n",
    "\n",
    "                        SEM=false\n",
    "                        ;;\n",
    "                    [Nn]* ) \n",
    "                        SPACE_ID=\n",
    "                        ASK_INPUT=true\n",
    "                        SEM=false\n",
    "                        ;;\n",
    "                    * ) echo \"Please answer yes or no.\";;\n",
    "                esac\n",
    "            done\n",
    "        fi\n",
    "    done\n",
    "fi\n",
    "\n",
    "echo -e \"${CYAN}${CURRENTDATE}: [INFO]:${NC} Studio Url ${STUDIO_URL}\"\n",
    "\n",
    "\n",
    "link=\"${STUDIO_URL}/jupyter/${RESOURCE_NAME}/proxy/${PORT}/\"\n",
    "\n",
    "echo -e \"${CYAN}${CURRENTDATE}: [INFO]:${NC} Starting Streamlit App\"\n",
    "echo -e \"${CYAN}${CURRENTDATE}: [INFO]: ${GREEN}${link}${NC}\"\n",
    "\n",
    "exit 0\n",
    "fi"
   ]
  },
  {
   "cell_type": "markdown",
   "id": "a58a2090-21cb-4bb8-9141-e2704ea491e9",
   "metadata": {},
   "source": [
    "# Streamlit 애플리케이션 실행"
   ]
  },
  {
   "cell_type": "markdown",
   "id": "9a24a961-8722-43e1-9ec5-1305c9c8521b",
   "metadata": {},
   "source": [
    "- 아래와 같이 Streamlit을 위한 Python 라이브러리 설치 및 실행 스크립트를 실행합니다.\n",
    "<img src=\"images/streamlit-env.png\" width=\"600\"/>\n",
    "\n",
    "```bash\n",
    "cd aws-genai-for-retail/3_lab/\n",
    "```\n",
    "```bash\n",
    "sh setup.sh\n",
    "```"
   ]
  },
  {
   "cell_type": "markdown",
   "id": "531469ff-a953-4e1c-9cc7-46e9cca5a711",
   "metadata": {},
   "source": [
    "- 아래와 같이 Streamlit 애플리케이션 실행을 위한 스크립트를 실행합니다.\n",
    "<img src=\"images/streamlit-exe.png\" width=\"1000\"/>\n",
    "\n",
    "```bash\n",
    "sh run.sh\n",
    "```"
   ]
  },
  {
   "cell_type": "markdown",
   "id": "13deac32-d69f-4500-9289-998ed9b66eec",
   "metadata": {
    "tags": []
   },
   "source": [
    "- 위 스크립트 실행 결과 중 마지막 Streamlit 실행 링크를 클릭하면 새로운 브라우저 탭에 아래와 같이 QA 서비스에 접속할 수 있습니다.\n",
    "<img src=\"images/streamlit-init.png\" width=\"1000\"/>"
   ]
  },
  {
   "cell_type": "markdown",
   "id": "3fc6f435-a2d3-4569-bc0d-fcffb3c98400",
   "metadata": {
    "tags": []
   },
   "source": [
    "- 질문을 입력하면 아래와 같이 LLM을 통해서 원하는 답을 얻을 수 있습니다.\n",
    "<img src=\"images/streamlit-chat.png\" width=\"800\"/>"
   ]
  },
  {
   "cell_type": "markdown",
   "id": "ae293170-dade-4182-bfeb-b7fc63f3f9f3",
   "metadata": {
    "tags": []
   },
   "source": [
    "***\n",
    "#Clean Up\n",
    "***\n",
    "## Option 1\n",
    "\n",
    "### 문서가 업로드되어있는 Amazon S3 버킷의 오브젝트를 삭제합니다. "
   ]
  },
  {
   "cell_type": "code",
   "execution_count": 28,
   "id": "7ac03864-ff1a-49be-aab5-7e13d62107f8",
   "metadata": {},
   "outputs": [
    {
     "name": "stdout",
     "output_type": "stream",
     "text": [
      "deleting file attendance_policy.docx\n",
      "deleting file customer_service.docx\n",
      "deleting file daily_weekly_schedule.docx\n",
      "deleting file product_display.docx\n",
      "deleting file store_manual_contents.docx\n",
      "deleting file team_collaboration.docx\n",
      "deleting file working_schedule.docx\n"
     ]
    }
   ],
   "source": [
    "def empty_s3_bucket():\n",
    "  client = boto3.client('s3')\n",
    "  response = client.list_objects_v2(Bucket=BUCKET_NAME)\n",
    "  if 'Contents' in response:\n",
    "    for item in response['Contents']:\n",
    "      print('deleting file', item['Key'])\n",
    "      client.delete_object(Bucket=BUCKET_NAME, Key=item['Key'])\n",
    "      while response['KeyCount'] == 1000:\n",
    "        response = client.list_objects_v2(\n",
    "          Bucket=BUCKET_NAME,\n",
    "          StartAfter=response['Contents'][0]['Key'],\n",
    "        )\n",
    "        for item in response['Contents']:\n",
    "          print('deleting file', item['Key'])\n",
    "          client.delete_object(Bucket=S3_BUCKET, Key=item['Key'])\n",
    "\n",
    "empty_s3_bucket()"
   ]
  },
  {
   "cell_type": "markdown",
   "id": "5149f33d-86f3-4105-9c0c-33820b67c0af",
   "metadata": {},
   "source": [
    "### Cloudformation에서 genai-workshop-Kendra-*** 스택을 삭제합니다. "
   ]
  },
  {
   "cell_type": "code",
   "execution_count": 29,
   "id": "8d457209-6970-44ba-b819-242e6533c151",
   "metadata": {},
   "outputs": [
    {
     "data": {
      "text/plain": [
       "{'ResponseMetadata': {'RequestId': '5fe7c842-7398-49df-b9da-f331a2d4d54d',\n",
       "  'HTTPStatusCode': 200,\n",
       "  'HTTPHeaders': {'x-amzn-requestid': '5fe7c842-7398-49df-b9da-f331a2d4d54d',\n",
       "   'date': 'Thu, 16 Nov 2023 05:47:27 GMT',\n",
       "   'content-type': 'text/xml',\n",
       "   'content-length': '212',\n",
       "   'connection': 'keep-alive'},\n",
       "  'RetryAttempts': 0}}"
      ]
     },
     "execution_count": 29,
     "metadata": {},
     "output_type": "execute_result"
    }
   ],
   "source": [
    "cf_client = boto3.client('cloudformation')\n",
    "response = cf_client.describe_stacks()\n",
    "\n",
    "for output in response[\"Stacks\"]:\n",
    "    stackName = output[\"StackName\"]\n",
    "    if stackName.find('Kendra') > 0:\n",
    "        response = cf_client.delete_stack(StackName=stackName)\n",
    "\n",
    "response"
   ]
  },
  {
   "cell_type": "code",
   "execution_count": 30,
   "id": "7a634f0c-32f8-4d30-ba15-ca22de43f75a",
   "metadata": {
    "tags": []
   },
   "outputs": [
    {
     "ename": "SyntaxError",
     "evalue": "invalid syntax (2221373223.py, line 1)",
     "output_type": "error",
     "traceback": [
      "\u001b[0;36m  Cell \u001b[0;32mIn[30], line 1\u001b[0;36m\u001b[0m\n\u001b[0;31m    ***\u001b[0m\n\u001b[0m    ^\u001b[0m\n\u001b[0;31mSyntaxError\u001b[0m\u001b[0;31m:\u001b[0m invalid syntax\n"
     ]
    }
   ],
   "source": [
    "***\n",
    "### 아래와 같이 Amazon S3로 이동하여 업로드한 문서가 저장되어있는 kendra-workshop-*** Bucket을 선택하고 우측의 Empty를 선택하여 Bucket을 비웁니다.   \n",
    "<img src=\"images/cf-d-3.png\" width=\"800\"/> \n",
    "\n",
    "### Bucket이 비워졌다면 아래와 같이 Cloudformation에서 상단의 \"View nested\"를 선택하고 삭제할 genai-workshop-Kendra-*** 스택을 선택합니다. 그리고 우측 스택 상세화면에서 \"Delete\"를 선택합니다.   \n",
    "<img src=\"images/cf-d-4.png\" width=\"800\"/>\n",
    "\n",
    "### 아래와 같이 \"Delete nested stack\"을 선택하고 아래에 \"delete\"를 입력해서 삭제를 확인 후에 \"Delete\" 버튼을 클릭합니다.   \n",
    "<img src=\"images/cf-d-2.png\" width=\"600\"/>"
   ]
  }
 ],
 "metadata": {
  "availableInstances": [
   {
    "_defaultOrder": 0,
    "_isFastLaunch": true,
    "category": "General purpose",
    "gpuNum": 0,
    "hideHardwareSpecs": false,
    "memoryGiB": 4,
    "name": "ml.t3.medium",
    "vcpuNum": 2
   },
   {
    "_defaultOrder": 1,
    "_isFastLaunch": false,
    "category": "General purpose",
    "gpuNum": 0,
    "hideHardwareSpecs": false,
    "memoryGiB": 8,
    "name": "ml.t3.large",
    "vcpuNum": 2
   },
   {
    "_defaultOrder": 2,
    "_isFastLaunch": false,
    "category": "General purpose",
    "gpuNum": 0,
    "hideHardwareSpecs": false,
    "memoryGiB": 16,
    "name": "ml.t3.xlarge",
    "vcpuNum": 4
   },
   {
    "_defaultOrder": 3,
    "_isFastLaunch": false,
    "category": "General purpose",
    "gpuNum": 0,
    "hideHardwareSpecs": false,
    "memoryGiB": 32,
    "name": "ml.t3.2xlarge",
    "vcpuNum": 8
   },
   {
    "_defaultOrder": 4,
    "_isFastLaunch": true,
    "category": "General purpose",
    "gpuNum": 0,
    "hideHardwareSpecs": false,
    "memoryGiB": 8,
    "name": "ml.m5.large",
    "vcpuNum": 2
   },
   {
    "_defaultOrder": 5,
    "_isFastLaunch": false,
    "category": "General purpose",
    "gpuNum": 0,
    "hideHardwareSpecs": false,
    "memoryGiB": 16,
    "name": "ml.m5.xlarge",
    "vcpuNum": 4
   },
   {
    "_defaultOrder": 6,
    "_isFastLaunch": false,
    "category": "General purpose",
    "gpuNum": 0,
    "hideHardwareSpecs": false,
    "memoryGiB": 32,
    "name": "ml.m5.2xlarge",
    "vcpuNum": 8
   },
   {
    "_defaultOrder": 7,
    "_isFastLaunch": false,
    "category": "General purpose",
    "gpuNum": 0,
    "hideHardwareSpecs": false,
    "memoryGiB": 64,
    "name": "ml.m5.4xlarge",
    "vcpuNum": 16
   },
   {
    "_defaultOrder": 8,
    "_isFastLaunch": false,
    "category": "General purpose",
    "gpuNum": 0,
    "hideHardwareSpecs": false,
    "memoryGiB": 128,
    "name": "ml.m5.8xlarge",
    "vcpuNum": 32
   },
   {
    "_defaultOrder": 9,
    "_isFastLaunch": false,
    "category": "General purpose",
    "gpuNum": 0,
    "hideHardwareSpecs": false,
    "memoryGiB": 192,
    "name": "ml.m5.12xlarge",
    "vcpuNum": 48
   },
   {
    "_defaultOrder": 10,
    "_isFastLaunch": false,
    "category": "General purpose",
    "gpuNum": 0,
    "hideHardwareSpecs": false,
    "memoryGiB": 256,
    "name": "ml.m5.16xlarge",
    "vcpuNum": 64
   },
   {
    "_defaultOrder": 11,
    "_isFastLaunch": false,
    "category": "General purpose",
    "gpuNum": 0,
    "hideHardwareSpecs": false,
    "memoryGiB": 384,
    "name": "ml.m5.24xlarge",
    "vcpuNum": 96
   },
   {
    "_defaultOrder": 12,
    "_isFastLaunch": false,
    "category": "General purpose",
    "gpuNum": 0,
    "hideHardwareSpecs": false,
    "memoryGiB": 8,
    "name": "ml.m5d.large",
    "vcpuNum": 2
   },
   {
    "_defaultOrder": 13,
    "_isFastLaunch": false,
    "category": "General purpose",
    "gpuNum": 0,
    "hideHardwareSpecs": false,
    "memoryGiB": 16,
    "name": "ml.m5d.xlarge",
    "vcpuNum": 4
   },
   {
    "_defaultOrder": 14,
    "_isFastLaunch": false,
    "category": "General purpose",
    "gpuNum": 0,
    "hideHardwareSpecs": false,
    "memoryGiB": 32,
    "name": "ml.m5d.2xlarge",
    "vcpuNum": 8
   },
   {
    "_defaultOrder": 15,
    "_isFastLaunch": false,
    "category": "General purpose",
    "gpuNum": 0,
    "hideHardwareSpecs": false,
    "memoryGiB": 64,
    "name": "ml.m5d.4xlarge",
    "vcpuNum": 16
   },
   {
    "_defaultOrder": 16,
    "_isFastLaunch": false,
    "category": "General purpose",
    "gpuNum": 0,
    "hideHardwareSpecs": false,
    "memoryGiB": 128,
    "name": "ml.m5d.8xlarge",
    "vcpuNum": 32
   },
   {
    "_defaultOrder": 17,
    "_isFastLaunch": false,
    "category": "General purpose",
    "gpuNum": 0,
    "hideHardwareSpecs": false,
    "memoryGiB": 192,
    "name": "ml.m5d.12xlarge",
    "vcpuNum": 48
   },
   {
    "_defaultOrder": 18,
    "_isFastLaunch": false,
    "category": "General purpose",
    "gpuNum": 0,
    "hideHardwareSpecs": false,
    "memoryGiB": 256,
    "name": "ml.m5d.16xlarge",
    "vcpuNum": 64
   },
   {
    "_defaultOrder": 19,
    "_isFastLaunch": false,
    "category": "General purpose",
    "gpuNum": 0,
    "hideHardwareSpecs": false,
    "memoryGiB": 384,
    "name": "ml.m5d.24xlarge",
    "vcpuNum": 96
   },
   {
    "_defaultOrder": 20,
    "_isFastLaunch": false,
    "category": "General purpose",
    "gpuNum": 0,
    "hideHardwareSpecs": true,
    "memoryGiB": 0,
    "name": "ml.geospatial.interactive",
    "supportedImageNames": [
     "sagemaker-geospatial-v1-0"
    ],
    "vcpuNum": 0
   },
   {
    "_defaultOrder": 21,
    "_isFastLaunch": true,
    "category": "Compute optimized",
    "gpuNum": 0,
    "hideHardwareSpecs": false,
    "memoryGiB": 4,
    "name": "ml.c5.large",
    "vcpuNum": 2
   },
   {
    "_defaultOrder": 22,
    "_isFastLaunch": false,
    "category": "Compute optimized",
    "gpuNum": 0,
    "hideHardwareSpecs": false,
    "memoryGiB": 8,
    "name": "ml.c5.xlarge",
    "vcpuNum": 4
   },
   {
    "_defaultOrder": 23,
    "_isFastLaunch": false,
    "category": "Compute optimized",
    "gpuNum": 0,
    "hideHardwareSpecs": false,
    "memoryGiB": 16,
    "name": "ml.c5.2xlarge",
    "vcpuNum": 8
   },
   {
    "_defaultOrder": 24,
    "_isFastLaunch": false,
    "category": "Compute optimized",
    "gpuNum": 0,
    "hideHardwareSpecs": false,
    "memoryGiB": 32,
    "name": "ml.c5.4xlarge",
    "vcpuNum": 16
   },
   {
    "_defaultOrder": 25,
    "_isFastLaunch": false,
    "category": "Compute optimized",
    "gpuNum": 0,
    "hideHardwareSpecs": false,
    "memoryGiB": 72,
    "name": "ml.c5.9xlarge",
    "vcpuNum": 36
   },
   {
    "_defaultOrder": 26,
    "_isFastLaunch": false,
    "category": "Compute optimized",
    "gpuNum": 0,
    "hideHardwareSpecs": false,
    "memoryGiB": 96,
    "name": "ml.c5.12xlarge",
    "vcpuNum": 48
   },
   {
    "_defaultOrder": 27,
    "_isFastLaunch": false,
    "category": "Compute optimized",
    "gpuNum": 0,
    "hideHardwareSpecs": false,
    "memoryGiB": 144,
    "name": "ml.c5.18xlarge",
    "vcpuNum": 72
   },
   {
    "_defaultOrder": 28,
    "_isFastLaunch": false,
    "category": "Compute optimized",
    "gpuNum": 0,
    "hideHardwareSpecs": false,
    "memoryGiB": 192,
    "name": "ml.c5.24xlarge",
    "vcpuNum": 96
   },
   {
    "_defaultOrder": 29,
    "_isFastLaunch": true,
    "category": "Accelerated computing",
    "gpuNum": 1,
    "hideHardwareSpecs": false,
    "memoryGiB": 16,
    "name": "ml.g4dn.xlarge",
    "vcpuNum": 4
   },
   {
    "_defaultOrder": 30,
    "_isFastLaunch": false,
    "category": "Accelerated computing",
    "gpuNum": 1,
    "hideHardwareSpecs": false,
    "memoryGiB": 32,
    "name": "ml.g4dn.2xlarge",
    "vcpuNum": 8
   },
   {
    "_defaultOrder": 31,
    "_isFastLaunch": false,
    "category": "Accelerated computing",
    "gpuNum": 1,
    "hideHardwareSpecs": false,
    "memoryGiB": 64,
    "name": "ml.g4dn.4xlarge",
    "vcpuNum": 16
   },
   {
    "_defaultOrder": 32,
    "_isFastLaunch": false,
    "category": "Accelerated computing",
    "gpuNum": 1,
    "hideHardwareSpecs": false,
    "memoryGiB": 128,
    "name": "ml.g4dn.8xlarge",
    "vcpuNum": 32
   },
   {
    "_defaultOrder": 33,
    "_isFastLaunch": false,
    "category": "Accelerated computing",
    "gpuNum": 4,
    "hideHardwareSpecs": false,
    "memoryGiB": 192,
    "name": "ml.g4dn.12xlarge",
    "vcpuNum": 48
   },
   {
    "_defaultOrder": 34,
    "_isFastLaunch": false,
    "category": "Accelerated computing",
    "gpuNum": 1,
    "hideHardwareSpecs": false,
    "memoryGiB": 256,
    "name": "ml.g4dn.16xlarge",
    "vcpuNum": 64
   },
   {
    "_defaultOrder": 35,
    "_isFastLaunch": false,
    "category": "Accelerated computing",
    "gpuNum": 1,
    "hideHardwareSpecs": false,
    "memoryGiB": 61,
    "name": "ml.p3.2xlarge",
    "vcpuNum": 8
   },
   {
    "_defaultOrder": 36,
    "_isFastLaunch": false,
    "category": "Accelerated computing",
    "gpuNum": 4,
    "hideHardwareSpecs": false,
    "memoryGiB": 244,
    "name": "ml.p3.8xlarge",
    "vcpuNum": 32
   },
   {
    "_defaultOrder": 37,
    "_isFastLaunch": false,
    "category": "Accelerated computing",
    "gpuNum": 8,
    "hideHardwareSpecs": false,
    "memoryGiB": 488,
    "name": "ml.p3.16xlarge",
    "vcpuNum": 64
   },
   {
    "_defaultOrder": 38,
    "_isFastLaunch": false,
    "category": "Accelerated computing",
    "gpuNum": 8,
    "hideHardwareSpecs": false,
    "memoryGiB": 768,
    "name": "ml.p3dn.24xlarge",
    "vcpuNum": 96
   },
   {
    "_defaultOrder": 39,
    "_isFastLaunch": false,
    "category": "Memory Optimized",
    "gpuNum": 0,
    "hideHardwareSpecs": false,
    "memoryGiB": 16,
    "name": "ml.r5.large",
    "vcpuNum": 2
   },
   {
    "_defaultOrder": 40,
    "_isFastLaunch": false,
    "category": "Memory Optimized",
    "gpuNum": 0,
    "hideHardwareSpecs": false,
    "memoryGiB": 32,
    "name": "ml.r5.xlarge",
    "vcpuNum": 4
   },
   {
    "_defaultOrder": 41,
    "_isFastLaunch": false,
    "category": "Memory Optimized",
    "gpuNum": 0,
    "hideHardwareSpecs": false,
    "memoryGiB": 64,
    "name": "ml.r5.2xlarge",
    "vcpuNum": 8
   },
   {
    "_defaultOrder": 42,
    "_isFastLaunch": false,
    "category": "Memory Optimized",
    "gpuNum": 0,
    "hideHardwareSpecs": false,
    "memoryGiB": 128,
    "name": "ml.r5.4xlarge",
    "vcpuNum": 16
   },
   {
    "_defaultOrder": 43,
    "_isFastLaunch": false,
    "category": "Memory Optimized",
    "gpuNum": 0,
    "hideHardwareSpecs": false,
    "memoryGiB": 256,
    "name": "ml.r5.8xlarge",
    "vcpuNum": 32
   },
   {
    "_defaultOrder": 44,
    "_isFastLaunch": false,
    "category": "Memory Optimized",
    "gpuNum": 0,
    "hideHardwareSpecs": false,
    "memoryGiB": 384,
    "name": "ml.r5.12xlarge",
    "vcpuNum": 48
   },
   {
    "_defaultOrder": 45,
    "_isFastLaunch": false,
    "category": "Memory Optimized",
    "gpuNum": 0,
    "hideHardwareSpecs": false,
    "memoryGiB": 512,
    "name": "ml.r5.16xlarge",
    "vcpuNum": 64
   },
   {
    "_defaultOrder": 46,
    "_isFastLaunch": false,
    "category": "Memory Optimized",
    "gpuNum": 0,
    "hideHardwareSpecs": false,
    "memoryGiB": 768,
    "name": "ml.r5.24xlarge",
    "vcpuNum": 96
   },
   {
    "_defaultOrder": 47,
    "_isFastLaunch": false,
    "category": "Accelerated computing",
    "gpuNum": 1,
    "hideHardwareSpecs": false,
    "memoryGiB": 16,
    "name": "ml.g5.xlarge",
    "vcpuNum": 4
   },
   {
    "_defaultOrder": 48,
    "_isFastLaunch": false,
    "category": "Accelerated computing",
    "gpuNum": 1,
    "hideHardwareSpecs": false,
    "memoryGiB": 32,
    "name": "ml.g5.2xlarge",
    "vcpuNum": 8
   },
   {
    "_defaultOrder": 49,
    "_isFastLaunch": false,
    "category": "Accelerated computing",
    "gpuNum": 1,
    "hideHardwareSpecs": false,
    "memoryGiB": 64,
    "name": "ml.g5.4xlarge",
    "vcpuNum": 16
   },
   {
    "_defaultOrder": 50,
    "_isFastLaunch": false,
    "category": "Accelerated computing",
    "gpuNum": 1,
    "hideHardwareSpecs": false,
    "memoryGiB": 128,
    "name": "ml.g5.8xlarge",
    "vcpuNum": 32
   },
   {
    "_defaultOrder": 51,
    "_isFastLaunch": false,
    "category": "Accelerated computing",
    "gpuNum": 1,
    "hideHardwareSpecs": false,
    "memoryGiB": 256,
    "name": "ml.g5.16xlarge",
    "vcpuNum": 64
   },
   {
    "_defaultOrder": 52,
    "_isFastLaunch": false,
    "category": "Accelerated computing",
    "gpuNum": 4,
    "hideHardwareSpecs": false,
    "memoryGiB": 192,
    "name": "ml.g5.12xlarge",
    "vcpuNum": 48
   },
   {
    "_defaultOrder": 53,
    "_isFastLaunch": false,
    "category": "Accelerated computing",
    "gpuNum": 4,
    "hideHardwareSpecs": false,
    "memoryGiB": 384,
    "name": "ml.g5.24xlarge",
    "vcpuNum": 96
   },
   {
    "_defaultOrder": 54,
    "_isFastLaunch": false,
    "category": "Accelerated computing",
    "gpuNum": 8,
    "hideHardwareSpecs": false,
    "memoryGiB": 768,
    "name": "ml.g5.48xlarge",
    "vcpuNum": 192
   },
   {
    "_defaultOrder": 55,
    "_isFastLaunch": false,
    "category": "Accelerated computing",
    "gpuNum": 8,
    "hideHardwareSpecs": false,
    "memoryGiB": 1152,
    "name": "ml.p4d.24xlarge",
    "vcpuNum": 96
   },
   {
    "_defaultOrder": 56,
    "_isFastLaunch": false,
    "category": "Accelerated computing",
    "gpuNum": 8,
    "hideHardwareSpecs": false,
    "memoryGiB": 1152,
    "name": "ml.p4de.24xlarge",
    "vcpuNum": 96
   },
   {
    "_defaultOrder": 57,
    "_isFastLaunch": false,
    "category": "Accelerated computing",
    "gpuNum": 0,
    "hideHardwareSpecs": false,
    "memoryGiB": 32,
    "name": "ml.trn1.2xlarge",
    "vcpuNum": 8
   },
   {
    "_defaultOrder": 58,
    "_isFastLaunch": false,
    "category": "Accelerated computing",
    "gpuNum": 0,
    "hideHardwareSpecs": false,
    "memoryGiB": 512,
    "name": "ml.trn1.32xlarge",
    "vcpuNum": 128
   },
   {
    "_defaultOrder": 59,
    "_isFastLaunch": false,
    "category": "Accelerated computing",
    "gpuNum": 0,
    "hideHardwareSpecs": false,
    "memoryGiB": 512,
    "name": "ml.trn1n.32xlarge",
    "vcpuNum": 128
   }
  ],
  "instance_type": "ml.t3.medium",
  "kernelspec": {
   "display_name": "Python 3 (Data Science 3.0)",
   "language": "python",
   "name": "python3__SAGEMAKER_INTERNAL__arn:aws:sagemaker:us-east-1:081325390199:image/sagemaker-data-science-310-v1"
  },
  "language_info": {
   "codemirror_mode": {
    "name": "ipython",
    "version": 3
   },
   "file_extension": ".py",
   "mimetype": "text/x-python",
   "name": "python",
   "nbconvert_exporter": "python",
   "pygments_lexer": "ipython3",
   "version": "3.10.6"
  }
 },
 "nbformat": 4,
 "nbformat_minor": 5
}
