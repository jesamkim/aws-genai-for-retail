{
 "cells": [
  {
   "cell_type": "markdown",
   "id": "c5c68c23-8349-4f16-bd49-d06f153629ea",
   "metadata": {
    "tags": []
   },
   "source": [
    "# 베드락을 이용해서 리테일 제품 설명문구 만들기\n",
    "\n",
    "> *이 노트북은 SageMaker Studio*의 `Data Science 3.0` 커널과 잘 작동해야 합니다.\n",
    "\n",
    "## 소개\n",
    "\n",
    "이 노트북에서는 리테일 고객이 홈페이지에 제품에 대한 설명을 생상하는 방법을 보여드립니다. 다른 제품에 대한 설명을 예시로 포함하여 모델에 추가 컨텍스트를 제공합니다. 이로 인해 제로 샷 프롬프트를 통해 생성된 컨텐츠보다 품질과 관련성이 훨씬 더 우수합니다. \n",
    "\n",
    "[LangChain](https://python.langchain.com/docs/get_started/introduction.html)은 언어 모델로 구동되는 애플리케이션을 개발하기 위한 프레임워크입니다. 이 프레임워크의 핵심 측면을 통해 다양한 구성 요소를 연결하여 고급 사용 사례를 만들어 대규모 언어 모델을 보강할 수 있습니다.\n",
    "\n",
    "이 노트북에서는 LangChain에서 제공하는 Bedrock API를 사용하겠습니다. 이 예제에서 사용된 프롬프트는 텍스트 생성 요청에 컨텍스트를 추가하기 위한 사용자 정의 LangChain 프롬프트 템플릿을 생성합니다.\n",
    "\n",
    "**참고:** *이 노트북은 AWS 환경 내부 또는 외부에서 실행할 수 있습니다*.\n",
    "\n",
    "#### 컨텍스트\n",
    "\n",
    "이 노트북에서는 LangChain 프레임워크 내에서 Amazon Bedrock과 통합하여 사용는 방법과 PromptTemplate의 도움으로 텍스트를 생성하는 데 어떻게 사용될 수 있는지 살펴보겠습니다.\n",
    "\n",
    "#### 패턴\n",
    "\n",
    "작업, 명령어로 구성된 입력과 모델 내부에서 출력을 생성하기 위한 입력, 두가지로 구성된 Amazon Bedrock API의 LangChain 구현을 간단히 제공하겠습니다. 이 패턴의 목적은 강력한 LLM이 어떻게 당면한 작업을 쉽게 이해하고 매력적인 출력을 생성하는지 보여주기 위함입니다.\n",
    "\n",
    "![bedrock_langchian_image](./image/bedrock_langchain.jpg)\n",
    "\n",
    "#### 사용사례\n",
    "Amazon Bedrock에서 모델의 텍스트 생성 기능을 설명하기 위해 리테일 제품의 설명 생성의 사용 사례를 살펴보겠습니다.\n",
    "\n",
    "#### 페르소나\n",
    "\n",
    "리테일 회사인 애니컴퍼니의 제품 담당 매니저인 \"김소매\"는 하루에도 수십개 이상 신규로 등록되는 제품을 홈페이지에 등록해야 합니다. 제품이 어떤 특징을 가지고 있는지는 납품 업체를 통해 전달받았지만, 이를 고객이 이해하기 쉽게 문장으로 작성하는데는 많은 시간이 소요되었습니다. 이에, 제품의 특징은 다 포함하면서 고객들이 이해하기 쉬운 대량의 제품 설명을 생성하려면 LLM의 도움이 필요합니다.\n",
    "\n",
    "#### 구현 방법\n",
    "\n",
    "이 사용 사례를 보여주기 위해 이 노트북에서는 고객의 이전 제품 설명을 기반으로 신규 제품 설명을 생성하는 방법을 보여드리며, Boto3 클라이언트와 함께 Amazon Bedrock API를 사용하는 Anthropic Claude 모델을 사용하겠습니다.\n"
   ]
  },
  {
   "cell_type": "markdown",
   "id": "850a0aa0-8c1d-4760-bbaf-166cac0e829d",
   "metadata": {},
   "source": [
    "## Setup\n",
    "\n",
    "이 노트북의 나머지 부분을 실행하기 전에 아래 셀을 실행하여 (필요한 라이브러리가 설치되어 있는지 확인하고) 베드락에 연결해야 합니다.\n",
    "\n",
    "우선 사전에 설치가 필요한 패키지들을 설치하세요. 그 이후에 셋업에 필요한 라이브러리들을 설치합니다. "
   ]
  },
  {
   "cell_type": "code",
   "execution_count": 3,
   "id": "4d44c096-e4c4-4b91-a44f-ba7d960698a3",
   "metadata": {},
   "outputs": [
    {
     "name": "stdout",
     "output_type": "stream",
     "text": [
      "Note: you may need to restart the kernel to use updated packages.\n"
     ]
    }
   ],
   "source": [
    "%pip install -r ./dependencies/requirements.txt > /dev/null 2>&1"
   ]
  },
  {
   "cell_type": "code",
   "execution_count": 4,
   "id": "72c755e1-2b30-4626-bec2-dd87ae13ad5e",
   "metadata": {
    "tags": []
   },
   "outputs": [],
   "source": [
    "import os\n",
    "import boto3\n",
    "\n",
    "my_region = os.environ[\"AWS_DEFAULT_REGION\"]\n",
    "#os.environ[\"AWS_DEFAULT_REGION\"] = \"us-east-1\"  # E.g. \"us-east-1\"\n",
    "os.environ[\"BEDROCK_ENDPOINT_URL\"] = f\"https://bedrock-runtime.{my_region}.amazonaws.com\"  # E.g. \"https://...\"\n",
    "\n",
    "session = boto3.Session(\n",
    "    profile_name=os.environ.get(\"AWS_PROFILE\")\n",
    ") # sets the profile name to use for AWS credentials\n",
    "\n",
    "bedrock = session.client(\n",
    "    service_name='bedrock-runtime', # creates a Bedrock client\n",
    "    region_name=os.environ.get(\"AWS_DEFAULT_REGION\"),\n",
    "    endpoint_url=os.environ.get(\"BEDROCK_ENDPOINT_URL\")\n",
    ") "
   ]
  },
  {
   "cell_type": "markdown",
   "id": "609eeb67-bae0-4b9b-830c-aa45bd1ca520",
   "metadata": {},
   "source": [
    "## 베드락 LLM 모델 호출하기\n",
    "\n",
    "LLM에서 Bedrock 클래스의 인스턴스를 생성하는 것으로 시작하겠습니다. 여기에는 Amazon Bedrock에서 사용할 수 있는 모델의 ARN인 model_id가 필요합니다.\n",
    "\n",
    "선택적으로 이전에 생성한 boto3 클라이언트를 전달할 수 있으며, `temperature`, `topP`, `maxTokenCount` 또는 `stopSequences`와 같은 매개 변수를 보유할 수 있는 일부 `model_kwargs`도 전달할 수 있습니다(매개 변수에 대한 자세한 내용은 Amazon Bedrock 콘솔에서 살펴볼 수 있습니다).\n",
    "\n",
    "Amazon Bedrock에서 사용 가능한 텍스트 생성 모델 ID에 대한 [설명서](https://docs.aws.amazon.com/ko_kr/bedrock/latest/userguide/model-ids-arns.html)를 확인하세요.\n",
    "\n",
    "모델마다 지원하는 `model_kwargs`가 다르다는 점에 유의하세요."
   ]
  },
  {
   "cell_type": "code",
   "execution_count": 5,
   "id": "08fca04c-bb43-4ece-a245-862901657850",
   "metadata": {
    "tags": []
   },
   "outputs": [],
   "source": [
    "from langchain.llms.bedrock import Bedrock\n",
    "\n",
    "\n",
    "model_kwargs = {'max_tokens_to_sample':1024, \n",
    "                \"temperature\":0,\n",
    "                \"top_k\":250,\n",
    "                \"top_p\":1,\n",
    "                \"stop_sequences\": [\"\\n\\nHuman:\"]\n",
    "                }\n",
    "\n",
    "llm = Bedrock(model_id = \"anthropic.claude-v2\",\n",
    "                    client = bedrock, \n",
    "                    model_kwargs = model_kwargs \n",
    "                    )"
   ]
  },
  {
   "cell_type": "markdown",
   "id": "d51be749-05db-433e-a450-bf85a4feae81",
   "metadata": {},
   "source": [
    "## LangChain 사용자 지정 프롬프트 템플릿 생성\n",
    "\n",
    "프롬프트에 대한 템플릿을 생성하면 실행할 때마다 다른 입력 변수를 전달할 수 있습니다. 이는 데이터베이스에서 가져올 수 있는 다양한 입력 변수를 사용하여 콘텐츠를 생성해야 할 때 유용합니다. 다음 셀에서는 PromptTemplate을 만드는 방법을 살펴봅니다."
   ]
  },
  {
   "cell_type": "code",
   "execution_count": 6,
   "id": "a48fed66-26f1-493f-acd8-a26b13b65a51",
   "metadata": {},
   "outputs": [],
   "source": [
    "from langchain.prompts import PromptTemplate\n",
    "\n",
    "# Create a prompt template that has multiple input variables\n",
    "multi_var_prompt = PromptTemplate(\n",
    "    input_variables = [\"keyword\", \"productType\"],\n",
    "    template=\"\"\"\n",
    "    \\n\\nHuman: \n",
    "    <keywords> 뚜껑이 달린 퇴비화 가능한 컵, 아이스 커피 컵, 빨대없는 뚜껑, \\\n",
    "    뚜껑이 달린 생분해성 컵, 생분해 성 컵, 커피, 스무디, 음료, 이동 중, 일회용 컵, 친환경, 식물 기반</keywords>\n",
    "    <command> 위에 나열된 keywords를 사용하여 일회용 컵에 대한 설명을 작성하세요.</command>\n",
    "    \\n\\nAssistant: 편리함과 친환경이 드디어 만났습니다! \\\n",
    "    뚜껑이 있는 일회용 스무디 컵은 100% 식물로 만들어집니다. \\\n",
    "    산업 퇴비 시설로 가져가세요.이 퇴비화 가능한 차가운 컵은 모든 종류의 음료에 적합합니다.\\\n",
    "    재사용 가능한 빨대는 훌륭하지만 휴대하기에는 번거롭습니다. \\\n",
    "    스냅 오픈 뚜껑이 있는 빨대 없는 컵은 적당한 크기의 빨대 구멍이 있습니다. \\\n",
    "    새지 않는 텀블러는 아침에 스무디를 마실 때 사용하면 지구에도 좋을지 모르지만 \\\n",
    "    세척하는 데 시간이 더 걸립니다. 저희도 이해합니다, \\\n",
    "    저희도 여기 지구에 살고 있으니까요.\\\n",
    "    대신에 컴포저블 컵을 사용해보시는 건 어떨까요? \\\n",
    "    회사, 학교, 운전할 때 식물성 컵을 가지고 다니세요.\n",
    "\n",
    "    \\n\\nHuman:\n",
    "    <keywords> ${keyword}</keywords>\n",
    "    <command> 위에 나열된 ${keyword}를 사용하여 ${productType}에 대한 설명을 작성하세요 $는 빼고 작성하세요.</command>\n",
    "    \\n\\nAssistant:\n",
    "    \"\"\"\n",
    ")"
   ]
  },
  {
   "cell_type": "markdown",
   "id": "597f2bba-a70b-4f1f-9828-f07a1c49e6e1",
   "metadata": {},
   "source": [
    "## 다시 호출\n",
    "프롬프트 템플릿을 사용하여 호출하면 선별된 응답을 기대할 수 있습니다."
   ]
  },
  {
   "cell_type": "code",
   "execution_count": 7,
   "id": "f62199fc-89a3-47d2-ba46-ffa9e386a4b9",
   "metadata": {
    "tags": []
   },
   "outputs": [
    {
     "name": "stdout",
     "output_type": "stream",
     "text": [
      " 편안함과 스타일이 만나다!\n",
      "\n",
      "이 디자이너 선글라스는 최고의 편안함과 자외선 차단을 제공합니다. 편광 렌즈는 반사광을 줄여 시야를 선명하게 만들어줍니다. \n",
      "\n",
      "에비에이터 스타일 프레임은 클래식하면서도 세련된 느낌을 연출합니다. 얼굴 모양에 맞춰진 컴퍼터블한 디자인이 편안함을 선사합니다. \n",
      "\n",
      "일상 생활에서 눈을 보호하고 패션을 즐기세요. 이 선글라스는 실내외 활동 모두에 적합합니다. 자외선 차단, 선명한 시야, 스타일리시한 디자인을 한 번에 즐겨보세요!\n"
     ]
    }
   ],
   "source": [
    "# Pass in values to the input variables\n",
    "\n",
    "prompt = multi_var_prompt.format(keyword=\"편광, 디자이너, 컴포터블, 자외선 차단, 에비에이터\", productType=\"썬글라스\")\n",
    "\n",
    "prompt_outcome = llm.predict(prompt)\n",
    "\n",
    "print(prompt_outcome)"
   ]
  },
  {
   "cell_type": "markdown",
   "id": "e4f32918-176f-4382-8ab7-00bca0354cbc",
   "metadata": {
    "tags": []
   },
   "source": [
    "## Streamlit 어플리케이션 수행하기\n",
    "\n",
    "#### (1) 어플리케이션 수행을 위한 스크립트 준비하기\n"
   ]
  },
  {
   "cell_type": "code",
   "execution_count": 8,
   "id": "b938c50c-97c2-4ff7-876c-718c2e718767",
   "metadata": {
    "tags": []
   },
   "outputs": [
    {
     "name": "stdout",
     "output_type": "stream",
     "text": [
      "Overwriting listing_app.py\n"
     ]
    }
   ],
   "source": [
    "%%writefile listing_app.py\n",
    "import os\n",
    "from langchain.llms.bedrock import Bedrock\n",
    "#from langchain import PromptTemplate\n",
    "from langchain.prompts import PromptTemplate\n",
    "\n",
    "def get_llm():\n",
    "    \n",
    "    model_kwargs = { #Claude\n",
    "        \"max_tokens_to_sample\": 1024,\n",
    "        \"temperature\": 0,\n",
    "        \"top_k\": 250, \n",
    "        \"top_p\": 1,\n",
    "        \"stop_sequences\":[\"\\n\\nHuman:\"]\n",
    "    }\n",
    "    \n",
    "    \n",
    "    llm = Bedrock(\n",
    "        credentials_profile_name=os.environ.get(\"AWS_PROFILE\"), #AWS 자격 증명에 사용할 프로필 이름을 설정합니다(기본값이 아닌 경우)\n",
    "        region_name=os.environ.get(\"AWS_DEFAULT_REGION\"), #리전 이름을 설정합니다(기본값이 아닌 경우)\n",
    "        endpoint_url=os.environ.get(\"BEDROCK_ENDPOINT_URL\"), #엔드포인트 URL 설정(필요한 경우)\n",
    "        model_id=\"anthropic.claude-v2\", #파운데이션 모델 설정하기\n",
    "        #model_id=\"anthropic.claude-instant-v1\", #파운데이션 모델 설정하기\n",
    "        model_kwargs=model_kwargs) #Claude의 속성을 구성합니다.\n",
    "    \n",
    "    return llm\n",
    "    \n",
    "def get_prompt(keyword, productType):\n",
    "    template = \"\"\"\n",
    "    \\n\\nHuman: \n",
    "    <keywords> 뚜껑이 달린 퇴비화 가능한 컵, 아이스 커피 컵, 빨대없는 뚜껑, \\\n",
    "    뚜껑이 달린 생분해성 컵, 생분해 성 컵, 커피, 스무디, 음료, 이동 중, 일회용 컵, 친환경, 식물 기반</keywords>\n",
    "    <command> 위에 나열된 keywords를 사용하여 일회용 컵에 대한 설명을 작성하세요.</command>\n",
    "    \\n\\nAssistant: 편리함과 친환경이 드디어 만났습니다! \\\n",
    "    뚜껑이 있는 일회용 스무디 컵은 100% 식물로 만들어집니다. \\\n",
    "    산업 퇴비 시설로 가져가세요.이 퇴비화 가능한 차가운 컵은 모든 종류의 음료에 적합합니다.\\\n",
    "    재사용 가능한 빨대는 훌륭하지만 휴대하기에는 번거롭습니다. \\\n",
    "    스냅 오픈 뚜껑이 있는 빨대 없는 컵은 적당한 크기의 빨대 구멍이 있습니다. \\\n",
    "    새지 않는 텀블러는 아침에 스무디를 마실 때 사용하면 지구에도 좋을지 모르지만 \\\n",
    "    세척하는 데 시간이 더 걸립니다. 저희도 이해합니다, \\\n",
    "    저희도 여기 지구에 살고 있으니까요.\\\n",
    "    대신에 컴포저블 컵을 사용해보시는 건 어떨까요? \\\n",
    "    회사, 학교, 운전할 때 식물성 컵을 가지고 다니세요.\n",
    "    \n",
    "    \\n\\nHuman:\n",
    "    <keywords> ${keyword}</keywords>\n",
    "    <command> 위에 나열된 ${keyword}를 사용하여 ${productType}에 대한 설명을 작성하세요 $는 빼고 작성하세요.</command>\n",
    "    \\n\\nAssistant:\n",
    "    \"\"\"\n",
    "    prompt_template = PromptTemplate.from_template(template)\n",
    "    prompt = prompt_template.format(keyword=keyword, productType=productType)\n",
    "    return prompt\n",
    "\n",
    "def get_text_response(keyword, productType):\n",
    "    llm = get_llm()\n",
    "    prompt = get_prompt(keyword, productType)\n",
    "    return llm.predict(prompt)\n",
    "    \n",
    "    \n",
    "#import quicklist_lib_kr as glib\n",
    "import streamlit as st\n",
    "\n",
    "st.set_page_config(page_title=\"Amazon.com 셀러를 위한 Product Listing Tool\")\n",
    "st.title(\"Amazon.com 셀러를 위한 Product Listing Tool\")\n",
    "\n",
    "keyword = st.text_input(\"키워드\")\n",
    "productType = st.text_input(\"프로덕트 타입\")\n",
    "go_button = st.button(\"Go\", type=\"primary\")\n",
    "\n",
    "if go_button:\n",
    "\n",
    "    with st.spinner(\"Working\"):\n",
    "        response_content = get_text_response(keyword=keyword, productType=productType)\n",
    "        st.write(response_content)\n"
   ]
  },
  {
   "cell_type": "code",
   "execution_count": 9,
   "id": "49dbbfd3-007d-40d2-b544-c44d335764a9",
   "metadata": {
    "tags": []
   },
   "outputs": [
    {
     "name": "stdout",
     "output_type": "stream",
     "text": [
      "Overwriting listing-setup.sh\n"
     ]
    }
   ],
   "source": [
    "%%writefile listing-setup.sh\n",
    "pip install --no-cache-dir -r ./dependencies/requirements.txt"
   ]
  },
  {
   "cell_type": "code",
   "execution_count": 10,
   "id": "4279c5ce-199e-4e86-a5f2-d10e8e170fa8",
   "metadata": {
    "tags": []
   },
   "outputs": [
    {
     "name": "stdout",
     "output_type": "stream",
     "text": [
      "Overwriting listing-run.sh\n"
     ]
    }
   ],
   "source": [
    "%%writefile listing-run.sh\n",
    "\n",
    "#!/bin/sh\n",
    "CURRENTDATE=`date +\"%Y-%m-%d %T\"`\n",
    "RED='\\033[0;31m'\n",
    "CYAN='\\033[1;36m'\n",
    "GREEN='\\033[1;32m'\n",
    "NC='\\033[0m'\n",
    "S3_PATH=$1\n",
    "\n",
    "# Run the Streamlit app and save the output to \"temp.txt\"\n",
    "streamlit run summarize_app.py > temp.txt & \n",
    "\n",
    "# Read the text file using cat\n",
    "echo \"Getting the URL to view your Streamlit app in the browser\"\n",
    "\n",
    "# Extract the last four digits of the port number from the Network URL\n",
    "sleep 5\n",
    "PORT=$(grep \"Network URL\" temp.txt | awk -F':' '{print $NF}' | awk '{print $1}' | tail -c 5)\n",
    "echo -e \"${CYAN}${CURRENTDATE}: [INFO]:${NC} Port Number ${PORT}\" \n",
    "\n",
    "\n",
    "# Get Studio domain information\n",
    "DOMAIN_ID=$(jq .DomainId /opt/ml/metadata/resource-metadata.json || exit 1)\n",
    "RESOURCE_NAME=$(jq .ResourceName /opt/ml/metadata/resource-metadata.json || exit 1)\n",
    "RESOURCE_ARN=$(jq .ResourceArn /opt/ml/metadata/resource-metadata.json || exit 1)\n",
    "\n",
    "# Remove quotes from string\n",
    "DOMAIN_ID=`sed -e 's/^\"//' -e 's/\"$//' <<< \"$DOMAIN_ID\"`\n",
    "RESOURCE_NAME=`sed -e 's/^\"//' -e 's/\"$//' <<< \"$RESOURCE_NAME\"`\n",
    "RESOURCE_ARN=`sed -e 's/^\"//' -e 's/\"$//' <<< \"$RESOURCE_ARN\"`\n",
    "RESOURCE_ARN_ARRAY=($(echo \"$RESOURCE_ARN\" | tr ':' '\\n'))\n",
    "\n",
    "# Get Studio domain region\n",
    "REGION=$(echo \"${RESOURCE_ARN_ARRAY[3]}\")\n",
    "\n",
    "# Check if it's Collaborative Space\n",
    "SPACE_NAME=$(jq .SpaceName /opt/ml/metadata/resource-metadata.json || exit 1)\n",
    "\n",
    "# if it's not a collaborative space \n",
    "if [ -z \"$SPACE_NAME\" ] || [ $SPACE_NAME == \"null\" ] ;\n",
    "then\n",
    "    # If it's a user-profile access\n",
    "    echo -e \"${CYAN}${CURRENTDATE}: [INFO]:${NC} Domain Id ${DOMAIN_ID}\"\n",
    "    STUDIO_URL=\"https://${DOMAIN_ID}.studio.${REGION}.sagemaker.aws\"\n",
    "    \n",
    "# It is a collaborative space\n",
    "else\n",
    "\n",
    "    SEM=true\n",
    "    SPACE_ID=\n",
    "\n",
    "    # Check if Space Id was previously configured\n",
    "    if [ -f /tmp/space-metadata.json ]; then\n",
    "        SAVED_SPACE_ID=$(jq .SpaceId /tmp/space-metadata.json || exit 1)\n",
    "        SAVED_SPACE_ID=`sed -e 's/^\"//' -e 's/\"$//' <<< \"$SAVED_SPACE_ID\"`\n",
    "\n",
    "        if [ -z \"$SAVED_SPACE_ID\" ] || [ $SAVED_SPACE_ID == \"null\" ]; then\n",
    "            ASK_INPUT=true\n",
    "        else\n",
    "            ASK_INPUT=false\n",
    "        fi\n",
    "    else\n",
    "        ASK_INPUT=true\n",
    "    fi\n",
    "\n",
    "    # If Space Id is not available, ask for it\n",
    "    while [[ $SPACE_ID = \"\" ]] ; do\n",
    "        # If Space Id already configured, skeep the ask\n",
    "        if [ \"$ASK_INPUT\" = true ]; then\n",
    "            echo -e \"${CYAN}${CURRENTDATE}: [INFO]:${NC} Please insert the Space Id from your url. e.g. https://${GREEN}<SPACE_ID>${NC}.studio.${REGION}.sagemaker.aws/jupyter/default/lab\"\n",
    "            read SPACE_ID\n",
    "            SEM=true\n",
    "        else\n",
    "            SPACE_ID=$SAVED_SPACE_ID\n",
    "        fi\n",
    "\n",
    "        if ! [ -z \"$SPACE_ID\" ] && ! [ $SPACE_ID == \"null\" ] ;\n",
    "        then\n",
    "            while $SEM; do\n",
    "                echo \"${SPACE_ID}\"\n",
    "                read -p \"Should this be used as Space Id? (y/N) \" yn\n",
    "                case $yn in\n",
    "                    [Yy]* )\n",
    "                        echo -e \"${CYAN}${CURRENTDATE}: [INFO]:${NC} Domain Id ${DOMAIN_ID}\"\n",
    "                        echo -e \"${CYAN}${CURRENTDATE}: [INFO]:${NC} Space Id ${SPACE_ID}\"\n",
    "\n",
    "                        jq -n --arg space_id $SPACE_ID '{\"SpaceId\":$space_id}' > /tmp/space-metadata.json\n",
    "\n",
    "                        STUDIO_URL=\"https://${SPACE_ID}.studio.${REGION}.sagemaker.aws\"\n",
    "\n",
    "                        SEM=false\n",
    "                        ;;\n",
    "                    [Nn]* ) \n",
    "                        SPACE_ID=\n",
    "                        ASK_INPUT=true\n",
    "                        SEM=false\n",
    "                        ;;\n",
    "                    * ) echo \"Please answer yes or no.\";;\n",
    "                esac\n",
    "            done\n",
    "        fi\n",
    "    done\n",
    "fi\n",
    "\n",
    "echo -e \"${CYAN}${CURRENTDATE}: [INFO]:${NC} Studio Url ${STUDIO_URL}\"\n",
    "\n",
    "\n",
    "link=\"${STUDIO_URL}/jupyter/${RESOURCE_NAME}/proxy/${PORT}/\"\n",
    "\n",
    "echo -e \"${CYAN}${CURRENTDATE}: [INFO]:${NC} Starting Streamlit App\"\n",
    "echo -e \"${CYAN}${CURRENTDATE}: [INFO]: ${GREEN}${link}${NC}\"\n",
    "\n",
    "exit 0\n",
    "fi\n"
   ]
  },
  {
   "cell_type": "markdown",
   "id": "d8ca9d84-5a6f-44a0-a2ef-99673ad1986e",
   "metadata": {
    "tags": []
   },
   "source": [
    "## (2) Streamlit 어플리케이션 실행하기\n",
    "\n",
    "1. listing 어플리케이션 수행을 위한 디렉토리 경로로 이동합니다.\n",
    "    \n",
    "    cd /aws-gen-for-retail/l_lab\n",
    "\n",
    "2. Streamlit 수행을 위한 라이브러리를 설치합니다. \n",
    "\n",
    "    . listing-setup.sh\n",
    "\n",
    "3. Streamlit 실행을 위한 스크립트를 수행합니다. \n",
    "\n",
    "    . listing-run.sh \n",
    "\n",
    "4. 스크립트 수행 결과 생성되는 링크를 클릭하면 Streamlit 어플리케이션을 시작할 수 있습니다. \n",
    "\n",
    "5. **Amazon Seller를 위한 Product Listing Tool** 어플리케이션을 확인합니다. \n",
    "\n",
    "![bedrock_langchian_image](./image/streamlitoutcome.png)\n",
    "\n",
    "\n",
    "6. 키워드와 프로덕트 타입에 적절한 내용을 넣고 제품에 대한 설명이 생성되는 것을 확인합니다.\n",
    "\n",
    " * 키워드 : 편광, 디자이너, 컴포터블, 자외선 차단, 에비에이터\n",
    " * 프로덕트 타입 : 썬글라스\n",
    "\n",
    "![bedrock_langchian_image](./image/streamlitoutput.png)\n",
    "\n",
    "\n",
    "\n"
   ]
  }
 ],
 "metadata": {
  "availableInstances": [
   {
    "_defaultOrder": 0,
    "_isFastLaunch": true,
    "category": "General purpose",
    "gpuNum": 0,
    "hideHardwareSpecs": false,
    "memoryGiB": 4,
    "name": "ml.t3.medium",
    "vcpuNum": 2
   },
   {
    "_defaultOrder": 1,
    "_isFastLaunch": false,
    "category": "General purpose",
    "gpuNum": 0,
    "hideHardwareSpecs": false,
    "memoryGiB": 8,
    "name": "ml.t3.large",
    "vcpuNum": 2
   },
   {
    "_defaultOrder": 2,
    "_isFastLaunch": false,
    "category": "General purpose",
    "gpuNum": 0,
    "hideHardwareSpecs": false,
    "memoryGiB": 16,
    "name": "ml.t3.xlarge",
    "vcpuNum": 4
   },
   {
    "_defaultOrder": 3,
    "_isFastLaunch": false,
    "category": "General purpose",
    "gpuNum": 0,
    "hideHardwareSpecs": false,
    "memoryGiB": 32,
    "name": "ml.t3.2xlarge",
    "vcpuNum": 8
   },
   {
    "_defaultOrder": 4,
    "_isFastLaunch": true,
    "category": "General purpose",
    "gpuNum": 0,
    "hideHardwareSpecs": false,
    "memoryGiB": 8,
    "name": "ml.m5.large",
    "vcpuNum": 2
   },
   {
    "_defaultOrder": 5,
    "_isFastLaunch": false,
    "category": "General purpose",
    "gpuNum": 0,
    "hideHardwareSpecs": false,
    "memoryGiB": 16,
    "name": "ml.m5.xlarge",
    "vcpuNum": 4
   },
   {
    "_defaultOrder": 6,
    "_isFastLaunch": false,
    "category": "General purpose",
    "gpuNum": 0,
    "hideHardwareSpecs": false,
    "memoryGiB": 32,
    "name": "ml.m5.2xlarge",
    "vcpuNum": 8
   },
   {
    "_defaultOrder": 7,
    "_isFastLaunch": false,
    "category": "General purpose",
    "gpuNum": 0,
    "hideHardwareSpecs": false,
    "memoryGiB": 64,
    "name": "ml.m5.4xlarge",
    "vcpuNum": 16
   },
   {
    "_defaultOrder": 8,
    "_isFastLaunch": false,
    "category": "General purpose",
    "gpuNum": 0,
    "hideHardwareSpecs": false,
    "memoryGiB": 128,
    "name": "ml.m5.8xlarge",
    "vcpuNum": 32
   },
   {
    "_defaultOrder": 9,
    "_isFastLaunch": false,
    "category": "General purpose",
    "gpuNum": 0,
    "hideHardwareSpecs": false,
    "memoryGiB": 192,
    "name": "ml.m5.12xlarge",
    "vcpuNum": 48
   },
   {
    "_defaultOrder": 10,
    "_isFastLaunch": false,
    "category": "General purpose",
    "gpuNum": 0,
    "hideHardwareSpecs": false,
    "memoryGiB": 256,
    "name": "ml.m5.16xlarge",
    "vcpuNum": 64
   },
   {
    "_defaultOrder": 11,
    "_isFastLaunch": false,
    "category": "General purpose",
    "gpuNum": 0,
    "hideHardwareSpecs": false,
    "memoryGiB": 384,
    "name": "ml.m5.24xlarge",
    "vcpuNum": 96
   },
   {
    "_defaultOrder": 12,
    "_isFastLaunch": false,
    "category": "General purpose",
    "gpuNum": 0,
    "hideHardwareSpecs": false,
    "memoryGiB": 8,
    "name": "ml.m5d.large",
    "vcpuNum": 2
   },
   {
    "_defaultOrder": 13,
    "_isFastLaunch": false,
    "category": "General purpose",
    "gpuNum": 0,
    "hideHardwareSpecs": false,
    "memoryGiB": 16,
    "name": "ml.m5d.xlarge",
    "vcpuNum": 4
   },
   {
    "_defaultOrder": 14,
    "_isFastLaunch": false,
    "category": "General purpose",
    "gpuNum": 0,
    "hideHardwareSpecs": false,
    "memoryGiB": 32,
    "name": "ml.m5d.2xlarge",
    "vcpuNum": 8
   },
   {
    "_defaultOrder": 15,
    "_isFastLaunch": false,
    "category": "General purpose",
    "gpuNum": 0,
    "hideHardwareSpecs": false,
    "memoryGiB": 64,
    "name": "ml.m5d.4xlarge",
    "vcpuNum": 16
   },
   {
    "_defaultOrder": 16,
    "_isFastLaunch": false,
    "category": "General purpose",
    "gpuNum": 0,
    "hideHardwareSpecs": false,
    "memoryGiB": 128,
    "name": "ml.m5d.8xlarge",
    "vcpuNum": 32
   },
   {
    "_defaultOrder": 17,
    "_isFastLaunch": false,
    "category": "General purpose",
    "gpuNum": 0,
    "hideHardwareSpecs": false,
    "memoryGiB": 192,
    "name": "ml.m5d.12xlarge",
    "vcpuNum": 48
   },
   {
    "_defaultOrder": 18,
    "_isFastLaunch": false,
    "category": "General purpose",
    "gpuNum": 0,
    "hideHardwareSpecs": false,
    "memoryGiB": 256,
    "name": "ml.m5d.16xlarge",
    "vcpuNum": 64
   },
   {
    "_defaultOrder": 19,
    "_isFastLaunch": false,
    "category": "General purpose",
    "gpuNum": 0,
    "hideHardwareSpecs": false,
    "memoryGiB": 384,
    "name": "ml.m5d.24xlarge",
    "vcpuNum": 96
   },
   {
    "_defaultOrder": 20,
    "_isFastLaunch": false,
    "category": "General purpose",
    "gpuNum": 0,
    "hideHardwareSpecs": true,
    "memoryGiB": 0,
    "name": "ml.geospatial.interactive",
    "supportedImageNames": [
     "sagemaker-geospatial-v1-0"
    ],
    "vcpuNum": 0
   },
   {
    "_defaultOrder": 21,
    "_isFastLaunch": true,
    "category": "Compute optimized",
    "gpuNum": 0,
    "hideHardwareSpecs": false,
    "memoryGiB": 4,
    "name": "ml.c5.large",
    "vcpuNum": 2
   },
   {
    "_defaultOrder": 22,
    "_isFastLaunch": false,
    "category": "Compute optimized",
    "gpuNum": 0,
    "hideHardwareSpecs": false,
    "memoryGiB": 8,
    "name": "ml.c5.xlarge",
    "vcpuNum": 4
   },
   {
    "_defaultOrder": 23,
    "_isFastLaunch": false,
    "category": "Compute optimized",
    "gpuNum": 0,
    "hideHardwareSpecs": false,
    "memoryGiB": 16,
    "name": "ml.c5.2xlarge",
    "vcpuNum": 8
   },
   {
    "_defaultOrder": 24,
    "_isFastLaunch": false,
    "category": "Compute optimized",
    "gpuNum": 0,
    "hideHardwareSpecs": false,
    "memoryGiB": 32,
    "name": "ml.c5.4xlarge",
    "vcpuNum": 16
   },
   {
    "_defaultOrder": 25,
    "_isFastLaunch": false,
    "category": "Compute optimized",
    "gpuNum": 0,
    "hideHardwareSpecs": false,
    "memoryGiB": 72,
    "name": "ml.c5.9xlarge",
    "vcpuNum": 36
   },
   {
    "_defaultOrder": 26,
    "_isFastLaunch": false,
    "category": "Compute optimized",
    "gpuNum": 0,
    "hideHardwareSpecs": false,
    "memoryGiB": 96,
    "name": "ml.c5.12xlarge",
    "vcpuNum": 48
   },
   {
    "_defaultOrder": 27,
    "_isFastLaunch": false,
    "category": "Compute optimized",
    "gpuNum": 0,
    "hideHardwareSpecs": false,
    "memoryGiB": 144,
    "name": "ml.c5.18xlarge",
    "vcpuNum": 72
   },
   {
    "_defaultOrder": 28,
    "_isFastLaunch": false,
    "category": "Compute optimized",
    "gpuNum": 0,
    "hideHardwareSpecs": false,
    "memoryGiB": 192,
    "name": "ml.c5.24xlarge",
    "vcpuNum": 96
   },
   {
    "_defaultOrder": 29,
    "_isFastLaunch": true,
    "category": "Accelerated computing",
    "gpuNum": 1,
    "hideHardwareSpecs": false,
    "memoryGiB": 16,
    "name": "ml.g4dn.xlarge",
    "vcpuNum": 4
   },
   {
    "_defaultOrder": 30,
    "_isFastLaunch": false,
    "category": "Accelerated computing",
    "gpuNum": 1,
    "hideHardwareSpecs": false,
    "memoryGiB": 32,
    "name": "ml.g4dn.2xlarge",
    "vcpuNum": 8
   },
   {
    "_defaultOrder": 31,
    "_isFastLaunch": false,
    "category": "Accelerated computing",
    "gpuNum": 1,
    "hideHardwareSpecs": false,
    "memoryGiB": 64,
    "name": "ml.g4dn.4xlarge",
    "vcpuNum": 16
   },
   {
    "_defaultOrder": 32,
    "_isFastLaunch": false,
    "category": "Accelerated computing",
    "gpuNum": 1,
    "hideHardwareSpecs": false,
    "memoryGiB": 128,
    "name": "ml.g4dn.8xlarge",
    "vcpuNum": 32
   },
   {
    "_defaultOrder": 33,
    "_isFastLaunch": false,
    "category": "Accelerated computing",
    "gpuNum": 4,
    "hideHardwareSpecs": false,
    "memoryGiB": 192,
    "name": "ml.g4dn.12xlarge",
    "vcpuNum": 48
   },
   {
    "_defaultOrder": 34,
    "_isFastLaunch": false,
    "category": "Accelerated computing",
    "gpuNum": 1,
    "hideHardwareSpecs": false,
    "memoryGiB": 256,
    "name": "ml.g4dn.16xlarge",
    "vcpuNum": 64
   },
   {
    "_defaultOrder": 35,
    "_isFastLaunch": false,
    "category": "Accelerated computing",
    "gpuNum": 1,
    "hideHardwareSpecs": false,
    "memoryGiB": 61,
    "name": "ml.p3.2xlarge",
    "vcpuNum": 8
   },
   {
    "_defaultOrder": 36,
    "_isFastLaunch": false,
    "category": "Accelerated computing",
    "gpuNum": 4,
    "hideHardwareSpecs": false,
    "memoryGiB": 244,
    "name": "ml.p3.8xlarge",
    "vcpuNum": 32
   },
   {
    "_defaultOrder": 37,
    "_isFastLaunch": false,
    "category": "Accelerated computing",
    "gpuNum": 8,
    "hideHardwareSpecs": false,
    "memoryGiB": 488,
    "name": "ml.p3.16xlarge",
    "vcpuNum": 64
   },
   {
    "_defaultOrder": 38,
    "_isFastLaunch": false,
    "category": "Accelerated computing",
    "gpuNum": 8,
    "hideHardwareSpecs": false,
    "memoryGiB": 768,
    "name": "ml.p3dn.24xlarge",
    "vcpuNum": 96
   },
   {
    "_defaultOrder": 39,
    "_isFastLaunch": false,
    "category": "Memory Optimized",
    "gpuNum": 0,
    "hideHardwareSpecs": false,
    "memoryGiB": 16,
    "name": "ml.r5.large",
    "vcpuNum": 2
   },
   {
    "_defaultOrder": 40,
    "_isFastLaunch": false,
    "category": "Memory Optimized",
    "gpuNum": 0,
    "hideHardwareSpecs": false,
    "memoryGiB": 32,
    "name": "ml.r5.xlarge",
    "vcpuNum": 4
   },
   {
    "_defaultOrder": 41,
    "_isFastLaunch": false,
    "category": "Memory Optimized",
    "gpuNum": 0,
    "hideHardwareSpecs": false,
    "memoryGiB": 64,
    "name": "ml.r5.2xlarge",
    "vcpuNum": 8
   },
   {
    "_defaultOrder": 42,
    "_isFastLaunch": false,
    "category": "Memory Optimized",
    "gpuNum": 0,
    "hideHardwareSpecs": false,
    "memoryGiB": 128,
    "name": "ml.r5.4xlarge",
    "vcpuNum": 16
   },
   {
    "_defaultOrder": 43,
    "_isFastLaunch": false,
    "category": "Memory Optimized",
    "gpuNum": 0,
    "hideHardwareSpecs": false,
    "memoryGiB": 256,
    "name": "ml.r5.8xlarge",
    "vcpuNum": 32
   },
   {
    "_defaultOrder": 44,
    "_isFastLaunch": false,
    "category": "Memory Optimized",
    "gpuNum": 0,
    "hideHardwareSpecs": false,
    "memoryGiB": 384,
    "name": "ml.r5.12xlarge",
    "vcpuNum": 48
   },
   {
    "_defaultOrder": 45,
    "_isFastLaunch": false,
    "category": "Memory Optimized",
    "gpuNum": 0,
    "hideHardwareSpecs": false,
    "memoryGiB": 512,
    "name": "ml.r5.16xlarge",
    "vcpuNum": 64
   },
   {
    "_defaultOrder": 46,
    "_isFastLaunch": false,
    "category": "Memory Optimized",
    "gpuNum": 0,
    "hideHardwareSpecs": false,
    "memoryGiB": 768,
    "name": "ml.r5.24xlarge",
    "vcpuNum": 96
   },
   {
    "_defaultOrder": 47,
    "_isFastLaunch": false,
    "category": "Accelerated computing",
    "gpuNum": 1,
    "hideHardwareSpecs": false,
    "memoryGiB": 16,
    "name": "ml.g5.xlarge",
    "vcpuNum": 4
   },
   {
    "_defaultOrder": 48,
    "_isFastLaunch": false,
    "category": "Accelerated computing",
    "gpuNum": 1,
    "hideHardwareSpecs": false,
    "memoryGiB": 32,
    "name": "ml.g5.2xlarge",
    "vcpuNum": 8
   },
   {
    "_defaultOrder": 49,
    "_isFastLaunch": false,
    "category": "Accelerated computing",
    "gpuNum": 1,
    "hideHardwareSpecs": false,
    "memoryGiB": 64,
    "name": "ml.g5.4xlarge",
    "vcpuNum": 16
   },
   {
    "_defaultOrder": 50,
    "_isFastLaunch": false,
    "category": "Accelerated computing",
    "gpuNum": 1,
    "hideHardwareSpecs": false,
    "memoryGiB": 128,
    "name": "ml.g5.8xlarge",
    "vcpuNum": 32
   },
   {
    "_defaultOrder": 51,
    "_isFastLaunch": false,
    "category": "Accelerated computing",
    "gpuNum": 1,
    "hideHardwareSpecs": false,
    "memoryGiB": 256,
    "name": "ml.g5.16xlarge",
    "vcpuNum": 64
   },
   {
    "_defaultOrder": 52,
    "_isFastLaunch": false,
    "category": "Accelerated computing",
    "gpuNum": 4,
    "hideHardwareSpecs": false,
    "memoryGiB": 192,
    "name": "ml.g5.12xlarge",
    "vcpuNum": 48
   },
   {
    "_defaultOrder": 53,
    "_isFastLaunch": false,
    "category": "Accelerated computing",
    "gpuNum": 4,
    "hideHardwareSpecs": false,
    "memoryGiB": 384,
    "name": "ml.g5.24xlarge",
    "vcpuNum": 96
   },
   {
    "_defaultOrder": 54,
    "_isFastLaunch": false,
    "category": "Accelerated computing",
    "gpuNum": 8,
    "hideHardwareSpecs": false,
    "memoryGiB": 768,
    "name": "ml.g5.48xlarge",
    "vcpuNum": 192
   },
   {
    "_defaultOrder": 55,
    "_isFastLaunch": false,
    "category": "Accelerated computing",
    "gpuNum": 8,
    "hideHardwareSpecs": false,
    "memoryGiB": 1152,
    "name": "ml.p4d.24xlarge",
    "vcpuNum": 96
   },
   {
    "_defaultOrder": 56,
    "_isFastLaunch": false,
    "category": "Accelerated computing",
    "gpuNum": 8,
    "hideHardwareSpecs": false,
    "memoryGiB": 1152,
    "name": "ml.p4de.24xlarge",
    "vcpuNum": 96
   },
   {
    "_defaultOrder": 57,
    "_isFastLaunch": false,
    "category": "Accelerated computing",
    "gpuNum": 0,
    "hideHardwareSpecs": false,
    "memoryGiB": 32,
    "name": "ml.trn1.2xlarge",
    "vcpuNum": 8
   },
   {
    "_defaultOrder": 58,
    "_isFastLaunch": false,
    "category": "Accelerated computing",
    "gpuNum": 0,
    "hideHardwareSpecs": false,
    "memoryGiB": 512,
    "name": "ml.trn1.32xlarge",
    "vcpuNum": 128
   },
   {
    "_defaultOrder": 59,
    "_isFastLaunch": false,
    "category": "Accelerated computing",
    "gpuNum": 0,
    "hideHardwareSpecs": false,
    "memoryGiB": 512,
    "name": "ml.trn1n.32xlarge",
    "vcpuNum": 128
   }
  ],
  "instance_type": "ml.t3.medium",
  "kernelspec": {
   "display_name": "Python 3 (Data Science 3.0)",
   "language": "python",
   "name": "python3__SAGEMAKER_INTERNAL__arn:aws:sagemaker:us-east-1:081325390199:image/sagemaker-data-science-310-v1"
  },
  "language_info": {
   "codemirror_mode": {
    "name": "ipython",
    "version": 3
   },
   "file_extension": ".py",
   "mimetype": "text/x-python",
   "name": "python",
   "nbconvert_exporter": "python",
   "pygments_lexer": "ipython3",
   "version": "3.10.6"
  }
 },
 "nbformat": 4,
 "nbformat_minor": 5
}
